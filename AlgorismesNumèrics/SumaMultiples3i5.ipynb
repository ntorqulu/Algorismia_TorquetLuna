{
 "cells": [
  {
   "cell_type": "markdown",
   "metadata": {},
   "source": [
    "<p style=\"text-align:right;font-size:0.9em\">\n",
    "Grau d'Enginyeria Informàtica. Algorísmica\n",
    "</p>"
   ]
  },
  {
   "cell_type": "markdown",
   "metadata": {},
   "source": [
    "<h1 style=\"padding:0.5em 0;font:Garamond;font-size:1-5em;color:#F90;background-color:#005\">\n",
    "Problema: Múltiples de 3 i 5\n",
    "</h1>"
   ]
  },
  {
   "cell_type": "markdown",
   "metadata": {},
   "source": [
    "Els nombre naturals menors que 10 que són múltiples de 3 o 5 són 3,5,6, i 9. La suma d'aquests múltiples és 23. Calcula la suma de tots els naturals que són múltiples de 3 o 5 i que són menors que 1000.\n",
    "\n",
    "Indicacions:\n",
    "+ Usar list comprehensions\n",
    "\n",
    "Pots usar l'operació sum(llista) que suma tots els elements d'una llista. Ex. sum(3,7,1) donarà 11"
   ]
  },
  {
   "cell_type": "code",
   "execution_count": 19,
   "metadata": {},
   "outputs": [
    {
     "name": "stdout",
     "output_type": "stream",
     "text": [
      "23688\n"
     ]
    }
   ],
   "source": [
    "def multiples():\n",
    "    num1 = 3\n",
    "    num2 = 7\n",
    "    mult3 = [num1*x for x in range(0, 400) if num1*x < 1000]\n",
    "    mult7 = [num2*x for x in range(0, 200) if num2*x < 1000]\n",
    "    lst3 = [value for value in mult3 if value in mult7] \n",
    "    print(sum(lst3))\n",
    "\n",
    "multiples()"
   ]
  },
  {
   "cell_type": "code",
   "execution_count": 24,
   "metadata": {},
   "outputs": [
    {
     "data": {
      "text/plain": [
       "23688"
      ]
     },
     "execution_count": 24,
     "metadata": {},
     "output_type": "execute_result"
    }
   ],
   "source": [
    "def multiples2():\n",
    "    mult3 = []\n",
    "    mult7 = []\n",
    "    for x in range(0, 1000):\n",
    "        if (x%3 == 0):\n",
    "            mult3.append(x)\n",
    "        if (x%7 == 0):\n",
    "            mult7.append(x)\n",
    "    lst3 = [value for value in mult3 if value in mult7]\n",
    "    return sum(lst3)\n",
    "\n",
    "multiples2()            "
   ]
  },
  {
   "cell_type": "markdown",
   "metadata": {},
   "source": [
    "## Pregunta 1: Quina complexitat té aquesta funció?"
   ]
  },
  {
   "cell_type": "code",
   "execution_count": null,
   "metadata": {},
   "outputs": [],
   "source": [
    "O(n^2) perque realitzem dos for"
   ]
  },
  {
   "cell_type": "markdown",
   "metadata": {},
   "source": [
    "<p style=\"text-align:right;font-size:0.9em\">\n",
    "&copy;Jordi Vitrià i Mireia Ribera\n",
    "</p>"
   ]
  }
 ],
 "metadata": {
  "kernelspec": {
   "display_name": "Python 3",
   "language": "python",
   "name": "python3"
  },
  "language_info": {
   "codemirror_mode": {
    "name": "ipython",
    "version": 3
   },
   "file_extension": ".py",
   "mimetype": "text/x-python",
   "name": "python",
   "nbconvert_exporter": "python",
   "pygments_lexer": "ipython3",
   "version": "3.6.5"
  }
 },
 "nbformat": 4,
 "nbformat_minor": 2
}
