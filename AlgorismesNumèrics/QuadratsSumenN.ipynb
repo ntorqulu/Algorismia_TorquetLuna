{
 "cells": [
  {
   "cell_type": "markdown",
   "metadata": {},
   "source": [
    "<p style=\"text-align:right;font-size:0.9em\">\n",
    "Grau d'Enginyeria Informàtica. Algorísmica\n",
    "</p>"
   ]
  },
  {
   "cell_type": "markdown",
   "metadata": {},
   "source": [
    "<h1 style=\"padding:0.5em 0;font:Garamond;font-size:1-5em;color:#F90;background-color:#005\">\n",
    "Problema: 2 quadrats que sumin N\n",
    "</h1>"
   ]
  },
  {
   "cell_type": "markdown",
   "metadata": {},
   "source": [
    "<p style=\"font-family:Arial;font-size:1em\">\n",
    "Donat un nombre n, troba dos nombres positius tals que la suma dels seus quadrats sigui n, o si no n'hi ha que retorni -1,-1\n",
    "</p>"
   ]
  },
  {
   "cell_type": "code",
   "execution_count": null,
   "metadata": {},
   "outputs": [],
   "source": [
    "# Inserir aquí el codi de la solució\n",
    "def quadrats(n):\n",
    "    pass\n",
    "\n",
    "print(quadrats(125)) # hauria de retornar (2,11)\n",
    "print(quadrats(106)) # hauria de retornar (5,9)\n",
    "print(quadrats(81))  # hauria de retornar (-1,-1)"
   ]
  },
  {
   "cell_type": "code",
   "execution_count": null,
   "metadata": {},
   "outputs": [],
   "source": [
    "Binary Search Approach :\n",
    "Another method to check if  c - a^2 is a perfect square, \n",
    "is by making use of Binary Search. The method remains same \n",
    "as that of a typical Binary Search to find a number. \n",
    "The only difference lies in that we need to find an integer,\n",
    "mid in the range [0, c - a^2] such that this number is the square root of  c - a^2\n",
    "Or in other words, we need to find an integer, mid, in the range [0, c - a^2], such that midxmid = c - a^2\n",
    "\n",
    "Below is the implementation of above approach :"
   ]
  },
  {
   "cell_type": "code",
   "execution_count": 1,
   "metadata": {},
   "outputs": [
    {
     "name": "stdout",
     "output_type": "stream",
     "text": [
      "[(11, 2), (10, 5), (5, 10), (2, 11)]\n",
      "[(9, 5), (5, 9)]\n",
      "[(9, 0)]\n"
     ]
    }
   ],
   "source": [
    "def squareSum(c):\n",
    "    llist = []\n",
    "    a = 0\n",
    "    while(a*a < c):\n",
    "        b = c - (int)(a*a)\n",
    "        if((binarySearch(0, b, b)!=0)):\n",
    "            llist.append((binarySearch(0, b, b), a))\n",
    "           \n",
    "        \n",
    "        \n",
    "        a+=1\n",
    "    if llist:\n",
    "        return llist\n",
    "    if not llist:\n",
    "        return -1\n",
    "\n",
    "def binarySearch(s,  e, n):\n",
    "    if(s > e):\n",
    "        return 0\n",
    "    mid = (e+s)//2\n",
    "    if (int(mid * mid) == n): \n",
    "        return mid\n",
    "    if(int(mid*mid)> n):\n",
    "        return binarySearch(s, mid - 1, n)\n",
    "    return binarySearch(mid + 1, e, n)\n",
    "print(squareSum(125)) # hauria de retornar (2,11)\n",
    "print(squareSum(106)) # hauria de retornar (5,9)\n",
    "print(squareSum(81))  # hauria de retornar (-1,-1)"
   ]
  },
  {
   "cell_type": "markdown",
   "metadata": {},
   "source": [
    "<p style=\"text-align:right;font-size:0.9em\">\n",
    "&copy;Jordi Vitrià i Mireia Ribera\n",
    "</p>"
   ]
  }
 ],
 "metadata": {
  "kernelspec": {
   "display_name": "Python 3",
   "language": "python",
   "name": "python3"
  },
  "language_info": {
   "codemirror_mode": {
    "name": "ipython",
    "version": 3
   },
   "file_extension": ".py",
   "mimetype": "text/x-python",
   "name": "python",
   "nbconvert_exporter": "python",
   "pygments_lexer": "ipython3",
   "version": "3.6.5"
  }
 },
 "nbformat": 4,
 "nbformat_minor": 2
}
