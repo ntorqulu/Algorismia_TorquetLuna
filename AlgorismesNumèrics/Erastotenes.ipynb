{
 "cells": [
  {
   "cell_type": "markdown",
   "metadata": {},
   "source": [
    "<p style=\"text-align:right;font-size:0.9em\">\n",
    "Grau d'Enginyeria Informàtica. Algorísmica\n",
    "</p>"
   ]
  },
  {
   "cell_type": "markdown",
   "metadata": {},
   "source": [
    "<h1 style=\"padding:0.5em 0;font:Garamond;font-size:1-5em;color:#F90;background-color:#005\">\n",
    "Problema: El sedàs d'Erastòtenes\n",
    "</h1>"
   ]
  },
  {
   "cell_type": "markdown",
   "metadata": {},
   "source": [
    "El sedàs d'Eratòstenes és un algorisme antic per cercar tots els nombres primers fins a un determinat enter. Va ser creat per Eratòstenes (276-194 aC), un matemàtic de l'Antiga Grècia. Referència: http://ca.wikipedia.org/wiki/Sedàs_d'Eratòstenes.\n",
    "\n",
    "Algorisme:\n",
    "\n",
    "1. Escriu una llista $llista1$ amb els números del $2$ fins a l'enter més gran $N$ que vulguis calcular.\n",
    "2. El primer nombre de la llista és un nombre primer. Anota'l en una llista de nombres primers, $B$.\n",
    "3. Esborra de la llista $llista1$ el primer nombre i els seus múltiples.\n",
    "4. Si el primer nombre de la llista $llista1$ és més petit que l’arrel quadrada de $N$, torna al punt 2.\n",
    "5. Els nombres de la llista $llista2$ i els que queden a la llista $llista1$ són tots els nombres primers cercats.\n",
    "\n",
    "\n",
    "+ Escriu una funció, ``era1`` que, donat un nombre $n$ usi aquest algorisme per retornar tots els nombres primers menors o iguals que $n$ en una llista."
   ]
  },
  {
   "cell_type": "code",
   "execution_count": null,
   "metadata": {
    "collapsed": true
   },
   "outputs": [],
   "source": [
    "# Substitueix la comanda pass pel teu codi\n",
    "def era1(n):\n",
    "    import math\n",
    "    pass"
   ]
  },
  {
   "cell_type": "code",
   "execution_count": null,
   "metadata": {},
   "outputs": [],
   "source": [
    "# Test de la funció\n",
    "era1(11) #aquest exemple hauria de retornar [2, 3, 5, 7, 11] "
   ]
  },
  {
   "cell_type": "markdown",
   "metadata": {},
   "source": [
    "## Pregunta 1\n",
    "Escriu una funció, ``era2``, que imprimeixi el temps que es triga a calcular mitjançant el sedàs d’Eratòstenes els nombres primers menors que $500.000$ i quants nombres primers hi ha. era2 ha d'aconseguir fer aquest càlcul en menys de 5 segons, i per fer-ho hauràs d'optimitzar el càlcul del sedàs. L'optimització pot suposar introduir petits canvis en l'algorisme sense alterar-ne l'essència però potser sí els passos i la manera de fer-los.\n",
    "\n",
    "*Comentari 1*: Comença per un nombre màxim més petit que 500.000 i ves pujant de mica en mica\n",
    "\n",
    "*Comentari 2*: Si el càlcul fins a 500.000 tarda més de 5 segons, digues fins a quin nombre arribes en 5 segons\n",
    "\n",
    "*Comentari 3*: Revisa les list comprehensions per fer l'algorisme més eficient"
   ]
  },
  {
   "cell_type": "code",
   "execution_count": 4,
   "metadata": {},
   "outputs": [
    {
     "data": {
      "text/plain": [
       "[2, 3, 5, 7, 11]"
      ]
     },
     "execution_count": 4,
     "metadata": {},
     "output_type": "execute_result"
    }
   ],
   "source": [
    "'''\n",
    "Sieve of Erastothenes code.\n",
    "Programa que introduïnt un nombre et cerca tots els nombres primers anteriors a ell.\n",
    "La funció es basa en crear dues llistes, una formada únicament per booleans i una altra inicialment buida on s'aniran\n",
    "afegint els nombres primers. \n",
    "'''\n",
    "\n",
    "def erastothenes(n):\n",
    "    import math\n",
    "    l = [True]*(n+1)\n",
    "    primers = []\n",
    "    start = 2\n",
    "    end = int(math.sqrt(n))\n",
    "    while (start <= end):\n",
    "        if l[start] == True:\n",
    "            primers.append(start)\n",
    "            for i in range(start*start, n+1, start):\n",
    "                if l[i] == True:\n",
    "                    l[i] = False\n",
    "        start +=1\n",
    "  \n",
    "    for j in range(end+1, n+1):\n",
    "        if l[j] == True:\n",
    "            primers.append(j)\n",
    " \n",
    " \n",
    "    return(primers)\n",
    "erastothenes(11)"
   ]
  },
  {
   "cell_type": "markdown",
   "metadata": {},
   "source": [
    "<p style=\"text-align:right;font-size:0.9em\">\n",
    "&copy;Jordi Vitrià i Mireia Ribera\n",
    "</p>"
   ]
  }
 ],
 "metadata": {
  "kernelspec": {
   "display_name": "Python 3",
   "language": "python",
   "name": "python3"
  },
  "language_info": {
   "codemirror_mode": {
    "name": "ipython",
    "version": 3
   },
   "file_extension": ".py",
   "mimetype": "text/x-python",
   "name": "python",
   "nbconvert_exporter": "python",
   "pygments_lexer": "ipython3",
   "version": "3.6.5"
  }
 },
 "nbformat": 4,
 "nbformat_minor": 2
}
