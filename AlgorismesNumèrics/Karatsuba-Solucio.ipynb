{
 "cells": [
  {
   "cell_type": "markdown",
   "metadata": {},
   "source": [
    "<p style=\"text-align:right;font-size:0.9em\">\n",
    "Grau d'Enginyeria Informàtica. Algorísmica\n",
    "</p>"
   ]
  },
  {
   "cell_type": "markdown",
   "metadata": {},
   "source": [
    "<h1 style=\"padding:0.5em 0;font:Garamond;font-size:1-5em;color:#F90;background-color:#005\">\n",
    "Solució al problema: Karatsuba\n",
    "</h1>"
   ]
  },
  {
   "cell_type": "markdown",
   "metadata": {},
   "source": [
    "Escriu un algorisme de dividir i conquerir, en la seva versió recursiva, ``karatsuba``, que calculi la multiplicació pel mètode de Karatsuba (https://es.wikipedia.org/wiki/Algoritmo_de_Karatsuba) en base 10. **Calcula'n la complexitat**. En què es basa aquest algorisme per dividir cada nombre en dos termes? "
   ]
  },
  {
   "cell_type": "code",
   "execution_count": 1,
   "metadata": {},
   "outputs": [],
   "source": [
    "def karatsuba(x,y):\n",
    "    #Algorisme de Karatsuba en base 10\n",
    "\n",
    "    if x < 10 or y < 10:\n",
    "        return x*y  \n",
    "    else:\n",
    "        n = max(len(str(x)),len(str(y)))\n",
    "        m = n // 2\n",
    "\n",
    "        a = x // 10**m     # partim x en dos nombres més petits x = a*10^m + b        \n",
    "        b = x % 10**m\n",
    "        c = y // 10**m     # partim y en dos nombres més petits y = c*10^m + d  \n",
    "        d = y % 10**m\n",
    "        \n",
    "        #Ara x*y = (a*10^m + b)(c*10^m + d) = (a*c)*10^(2*m)+(a*d+b*c)*10^m +b*d\n",
    "        \n",
    "        #Podem calcular el terme (a*d+b*c) amb nomes una multiplicacio en lloc de 2 ja que \n",
    "        #ens adonem que (a*d+b*c) = (a + b)*(c + d)− b*d − a*c , i els termes b*d y a*c els hem de calcular igualment\n",
    "        \n",
    "        #Apliquem la recursio fins a arribar a la condicio d'aturada de la recursio (x < 10 or y < 10)\n",
    "        ac = karatsuba(a,c)\n",
    "        bd = karatsuba(b,d)\n",
    "        ad_bc = karatsuba(b+a,d+c) - ac - bd\n",
    "        \n",
    "        #Finalment nomes fa falta unir les solucions\n",
    "        prod = ac * 10**(2*m) + (ad_bc*10**m) + bd  \n",
    "        return prod"
   ]
  },
  {
   "cell_type": "code",
   "execution_count": 2,
   "metadata": {},
   "outputs": [
    {
     "data": {
      "text/plain": [
       "5139971"
      ]
     },
     "execution_count": 2,
     "metadata": {},
     "output_type": "execute_result"
    }
   ],
   "source": [
    "# Test de la funció\n",
    "karatsuba(1123,4577)\n",
    "\n",
    "#Aquest exemple ha de retornar:\n",
    "#    5139971"
   ]
  },
  {
   "cell_type": "markdown",
   "metadata": {},
   "source": [
    "### Càlcul de la complexitat"
   ]
  },
  {
   "cell_type": "markdown",
   "metadata": {},
   "source": [
    "- A cada crida dividim el problema en 3 subproblemes que son les crides de la funcio karatsuba, per tant a=3. \n",
    "- D'altra banda la mida del nombres es divideix per la meitat (m = n/2) per tant b=2. \n",
    "- log_b a = 1.58\n",
    "- El cost d'ajuntar les solucions consisteix en algunes multiplicacions i sumes però sempre de nombres petits, per tant podem suposar O(1), d=0\n",
    "- Estem en el cas 3 del teorema de Master, el cost més gran és el de les crides recursives  T(n) = O(n^log_b a)\n",
    "\n",
    "La complexitat de l'algorisme de Karatsuba és O(n^1.58)"
   ]
  },
  {
   "cell_type": "code",
   "execution_count": null,
   "metadata": {},
   "outputs": [],
   "source": [
    "## Versió amb xivatos"
   ]
  },
  {
   "cell_type": "code",
   "execution_count": 1,
   "metadata": {},
   "outputs": [],
   "source": [
    "def karatsubax(x,y):\n",
    "    #Algorisme de Karatsuba en base 10\n",
    "\n",
    "    if x < 10 or y < 10:\n",
    "        return x*y  \n",
    "    else:\n",
    "        n = max(len(str(x)),len(str(y)))\n",
    "        m = n // 2\n",
    "\n",
    "        a = x // 10**m     # partim x en dos nombres més petits x = a*10^m + b        \n",
    "        b = x % 10**m\n",
    "        c = y // 10**m     # partim y en dos nombres més petits y = c*10^m + d  \n",
    "        d = y % 10**m\n",
    "        \n",
    "        #Ara x*y = (a*10^m + b)(c*10^m + d) = (a*c)*10^(2*m)+(a*d+b*c)*10^m +b*d\n",
    "        \n",
    "        #Podem calcular el terme (a*d+b*c) amb nomes una multiplicacio en lloc de 2 ja que \n",
    "        #ens adonem que (a*d+b*c) = (a + b)*(c + d)− b*d − a*c , i els termes b*d y a*c els hem de calcular igualment\n",
    "        \n",
    "        #Apliquem la recursio fins a arribar a la condicio de aturada de la recursio (x < 10 or y < 10)\n",
    "        ac = karatsubax(a,c)\n",
    "        print(\"xivato0:a\",a,\"c\",c,\"ac\",ac)\n",
    "        bd = karatsubax(b,d)\n",
    "        print(\"xivato1:b\",b,\"d\",d,\"bd\",bd)\n",
    "        ad_bc = karatsubax(b+a,d+c) - ac - bd\n",
    "        print(\"xivato2:b+a\",b+a,\"d+c\",d+c,\"b+a*d+c\",(b+a)*(d+c),\"ad_bc\",ad_bc)\n",
    "        \n",
    "        #Finalment nomes fa falta unir les solucions\n",
    "        prod = ac * 10**(2*m) + (ad_bc*10**m) + bd  \n",
    "        print(\"xivato3: x\",x,\"y\",y,\"prod\",prod)\n",
    "        return prod"
   ]
  },
  {
   "cell_type": "code",
   "execution_count": 2,
   "metadata": {},
   "outputs": [
    {
     "name": "stdout",
     "output_type": "stream",
     "text": [
      "xivato0:a 1 c 4 ac 4\n",
      "xivato1:b 1 d 5 bd 5\n",
      "xivato2:b+a 2 d+c 9 b+a*d+c 18 ad_bc 9\n",
      "xivato3: x 11 y 45 prod 495\n",
      "xivato0:a 11 c 45 ac 495\n",
      "xivato0:a 2 c 7 ac 14\n",
      "xivato1:b 3 d 7 bd 21\n",
      "xivato2:b+a 5 d+c 14 b+a*d+c 70 ad_bc 35\n",
      "xivato3: x 23 y 77 prod 1771\n",
      "xivato1:b 23 d 77 bd 1771\n",
      "xivato0:a 3 c 12 ac 36\n",
      "xivato1:b 4 d 2 bd 8\n",
      "xivato2:b+a 7 d+c 14 b+a*d+c 98 ad_bc 54\n",
      "xivato3: x 34 y 122 prod 4148\n",
      "xivato2:b+a 34 d+c 122 b+a*d+c 4148 ad_bc 1882\n",
      "xivato3: x 1123 y 4577 prod 5139971\n"
     ]
    },
    {
     "data": {
      "text/plain": [
       "5139971"
      ]
     },
     "execution_count": 2,
     "metadata": {},
     "output_type": "execute_result"
    }
   ],
   "source": [
    "# Test de la funció\n",
    "karatsubax(1123,4577)\n",
    "\n",
    "#Aquest exemple ha de retornar:\n",
    "#    5139971\n",
    "# a = 11, b = 23, c = 45, d = 77, b+a = 34, c+d = 122\n",
    "# Les línies 1 a 5 corresponen a la multiplicació ac\n",
    "# Les línies 6 a 10 corresponen a la multiplicació bd\n",
    "# Les línies 11 a 15 corresponen a la multiplicació b+a * c+d"
   ]
  },
  {
   "cell_type": "code",
   "execution_count": 6,
   "metadata": {},
   "outputs": [
    {
     "name": "stdout",
     "output_type": "stream",
     "text": [
      "5139971\n"
     ]
    }
   ],
   "source": [
    "print(1123*4577)"
   ]
  },
  {
   "cell_type": "markdown",
   "metadata": {},
   "source": [
    "<p style=\"text-align:right;font-size:0.9em\">\n",
    "&copy;Jordi Vitrià i Mireia Ribera\n",
    "</p>"
   ]
  }
 ],
 "metadata": {
  "kernelspec": {
   "display_name": "Python 3",
   "language": "python",
   "name": "python3"
  },
  "language_info": {
   "codemirror_mode": {
    "name": "ipython",
    "version": 3
   },
   "file_extension": ".py",
   "mimetype": "text/x-python",
   "name": "python",
   "nbconvert_exporter": "python",
   "pygments_lexer": "ipython3",
   "version": "3.6.5"
  }
 },
 "nbformat": 4,
 "nbformat_minor": 2
}
