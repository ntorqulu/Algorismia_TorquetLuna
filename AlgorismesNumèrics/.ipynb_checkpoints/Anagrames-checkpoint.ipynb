{
 "cells": [
  {
   "cell_type": "markdown",
   "metadata": {},
   "source": [
    "<p style=\"text-align:right;font-size:0.9em\">\n",
    "Grau d'Enginyeria Informàtica. Algorísmica\n",
    "</p>"
   ]
  },
  {
   "cell_type": "markdown",
   "metadata": {},
   "source": [
    "<h1 style=\"padding:0.5em 0;font:Garamond;font-size:1-5em;color:#F90;background-color:#005\">\n",
    "Problema: Anagrames\n",
    "</h1>"
   ]
  },
  {
   "cell_type": "markdown",
   "metadata": {},
   "source": [
    "Implementa el següent algorisme per saber si dues paraules formades per lletres del conjunt ``abcdefghijklmnopqrstuvyz`` són anagrames (tenen les mateixes lletres):\n",
    "\n",
    "+ Associa cada una de les lletres de l'alfabet a un nombre primer.\n",
    "+ Multiplica els caràcters de cada paraula per obtenir un enter. \n",
    "\n",
    "Com que cada enter és un primer o un producte únic de primers, aquest enter només es repetirà per les paraules que tenen les mateixes lletres (anagrames). "
   ]
  },
  {
   "cell_type": "code",
   "execution_count": 2,
   "metadata": {},
   "outputs": [
    {
     "name": "stdout",
     "output_type": "stream",
     "text": [
      "True\n",
      "False\n",
      "False\n"
     ]
    }
   ],
   "source": [
    "# Resposta\n",
    "import math\n",
    "def isPrime (llistaPrimers, candidat):\n",
    "    upperLimit = math.sqrt(candidat)\n",
    "    for p in llistaPrimers:\n",
    "        if candidat % p == 0:\n",
    "            return False\n",
    "        if p >= upperLimit:\n",
    "            break\n",
    "\n",
    "    return True\n",
    "\n",
    "def primeList(llargadaLlista):\n",
    "    if llargadaLlista < 1 :\n",
    "        return []\n",
    "    primers = [2]\n",
    "\n",
    "    candidat = 3\n",
    "    while llargadaLlista > len(primers):\n",
    "        if isPrime(primers, candidat):\n",
    "            primers.append(candidat)\n",
    "        candidat +=2\n",
    "\n",
    "    return primers\n",
    "\n",
    "primeList(5)\n",
    "\n",
    "\n",
    "\n",
    "\"\"\" Aquesta funció retorna True si a i b són anagrames. False altrament\"\"\"\n",
    "\n",
    "def anagrama(a,b):\n",
    "    if len(a) != len(b):\n",
    "        return False\n",
    "    Dicc = {}\n",
    "    alphabet = [\n",
    "           \"a\",\"b\",\"c\",\"d\",\"e\",\"f\",\"g\",\"h\",\"i\",\"k\",\n",
    "           \"l\",\"m\",\"n\",\"o\",\"p\",\"q\",\"r\",\"s\",\"t\",\"u\",\n",
    "           \"v\",\"w\",\"x\",\"y\",\"z\"]\n",
    "    llistaPrimers = primeList(len(alphabet))\n",
    "    \n",
    "    for (letter, primer) in zip(alphabet, llistaPrimers):\n",
    "        Dicc[letter] = primer\n",
    "    productA = 1\n",
    "    productB = 1\n",
    "    for charA in a:\n",
    "        productA *= Dicc[charA]\n",
    "        \n",
    "    for charB in b:\n",
    "        productB *= Dicc[charB]\n",
    "    if productA == productB:\n",
    "        return True\n",
    "    else: \n",
    "        return False\n",
    "\n",
    "\n",
    "print(anagrama('ana', 'naa')) # Hauria de retornar True\n",
    "print(anagrama('ana', 'nat')) # Hauria de retornar False\n",
    "print(anagrama('ana', 'anna')) # Hauria de retornar False"
   ]
  },
  {
   "cell_type": "markdown",
   "metadata": {},
   "source": [
    "<p style=\"text-align:right;font-size:0.9em\">\n",
    "&copy;Jordi Vitrià i Mireia Ribera\n",
    "</p>"
   ]
  }
 ],
 "metadata": {
  "kernelspec": {
   "display_name": "Python 3",
   "language": "python",
   "name": "python3"
  },
  "language_info": {
   "codemirror_mode": {
    "name": "ipython",
    "version": 3
   },
   "file_extension": ".py",
   "mimetype": "text/x-python",
   "name": "python",
   "nbconvert_exporter": "python",
   "pygments_lexer": "ipython3",
   "version": "3.6.5"
  }
 },
 "nbformat": 4,
 "nbformat_minor": 2
}
