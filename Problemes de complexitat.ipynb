{
 "cells": [
  {
   "cell_type": "markdown",
   "metadata": {},
   "source": [
    "# Problemes de Complexitat\n",
    "\n",
    "## Algorísmica I\n",
    "\n",
    "### Universitat de Barcelona - Grau d'enginyeria informàtica"
   ]
  },
  {
   "cell_type": "markdown",
   "metadata": {},
   "source": [
    "Les solucions d'aquest notebook poden no ser òptimes, s'han triat només per criteris pedagògics i de demostració del càlcul de la complexitat. Les solucions no són doncs les dels algorismes, que es donen des de l'inici sinó la solució al càlcul de complexitat.\n",
    "S'anima a intentar fer el càlcul, i només després mirar les solucions."
   ]
  },
  {
   "cell_type": "markdown",
   "metadata": {},
   "source": [
    "**Ordre invers** Tenim una llista ordenada (no necessàriament amb un ordre natural) de mida $n$. El que volem ara és donar-li la volta, és a dir, tenir l'ordre invers. "
   ]
  },
  {
   "cell_type": "code",
   "execution_count": 25,
   "metadata": {},
   "outputs": [],
   "source": [
    "def reverse_order(arr):\n",
    "    size = len(arr)\n",
    "    if(size==1):\n",
    "        return arr\n",
    "    elif(size==2):\n",
    "        listAux = [arr[1], arr[0]]\n",
    "        return listAux\n",
    "    else:\n",
    "        leftArr = arr[:size//2]\n",
    "        rightArr = arr[size//2:]\n",
    "        revLeftArr = reverse_order(leftArr)\n",
    "        revRightArr = reverse_order(rightArr)\n",
    "        return revRightArr + revLeftArr"
   ]
  },
  {
   "cell_type": "code",
   "execution_count": 26,
   "metadata": {},
   "outputs": [
    {
     "data": {
      "text/plain": [
       "[8, 7, 6, 5, 4, 3, 2, 1]"
      ]
     },
     "execution_count": 26,
     "metadata": {},
     "output_type": "execute_result"
    }
   ],
   "source": [
    "reverse_order([1,2,3,4,5,6,7,8])"
   ]
  },
  {
   "cell_type": "code",
   "execution_count": 27,
   "metadata": {},
   "outputs": [
    {
     "data": {
      "text/plain": [
       "[65, 45, 15, 12, 7, 6, 4, 3, 1]"
      ]
     },
     "execution_count": 27,
     "metadata": {},
     "output_type": "execute_result"
    }
   ],
   "source": [
    "reverse_order([1,3,4,6,7,12,15,45,65])"
   ]
  },
  {
   "cell_type": "code",
   "execution_count": 28,
   "metadata": {},
   "outputs": [
    {
     "data": {
      "text/plain": [
       "['fish', 'dog', 'cat']"
      ]
     },
     "execution_count": 28,
     "metadata": {},
     "output_type": "execute_result"
    }
   ],
   "source": [
    "reverse_order([\"cat\", \"dog\", \"fish\"])"
   ]
  },
  {
   "cell_type": "markdown",
   "metadata": {},
   "source": [
    "Sol·lució (dóna dos clics aquí per veure-la)\n",
    "\n",
    "<!--\n",
    "Per a cada recursió agafem dues llistes de n/2 elements. => a = 2; b = 2\n",
    "En sumar la llista a l'últim return gastem O(len(invRightArr+invLeftArr))=O(n) en crear la nova llista. => d = 1\n",
    "Aplicant el teorema master que log_b(a)=log_2(2)=1 i d=1, per tant estem en el cas 2\n",
    "Complexitat = =(n^1*logn)=O(nlogn) \n",
    "-->"
   ]
  },
  {
   "cell_type": "markdown",
   "metadata": {
    "collapsed": true
   },
   "source": [
    "Suposem algorismes la complexitat dels quals podem escriure com:\n",
    "\n",
    "1. $T(n)=3T(n/3)+\\sqrt{n}$\n",
    "2. $T(n)=3T(n/2)+n^2$\n",
    "3. $T(n)=4T(n/2)+n^2$\n",
    "\n",
    "Calcula la seva complexitat mitjançant el teorema Master"
   ]
  },
  {
   "cell_type": "markdown",
   "metadata": {},
   "source": [
    "Sol·lució (dóna dos clics aquí per veure-la)\n",
    "\n",
    "<!--\n",
    " 1. log_3(3)=1 > d=1/2  => Cas 1 => O(n^1) = O(n)\n",
    " 2. log_2(3) < d=2      => Cas 3 => O(n^2)\n",
    " 3. log_2(4) = 2 == d=2 => Cas 2 = O(n^2log(n))\n",
    " -->"
   ]
  },
  {
   "cell_type": "markdown",
   "metadata": {
    "collapsed": true
   },
   "source": [
    "**Norma en el infinit** Definim la norma a l'infinit d'una matriu $A$ quadrada $nxn$ com: \n",
    "\n",
    "$$\\Vert{A}\\Vert_{\\infty}=max_{1\\leq{j}\\leq{n}}{\\sum_{k=1}^n}{|A_{j,k}|}$$"
   ]
  },
  {
   "cell_type": "code",
   "execution_count": 29,
   "metadata": {},
   "outputs": [],
   "source": [
    "import math\n",
    "def infinity_norm(A):\n",
    "    inf_norm=0\n",
    "    for j in range(len(A)):\n",
    "        row_sum = 0\n",
    "        for k in range(len(A[j])):\n",
    "            row_sum += abs(A[j][k])\n",
    "        if(inf_norm < row_sum):\n",
    "            inf_norm = row_sum\n",
    "    return inf_norm"
   ]
  },
  {
   "cell_type": "code",
   "execution_count": 30,
   "metadata": {},
   "outputs": [
    {
     "data": {
      "text/plain": [
       "9"
      ]
     },
     "execution_count": 30,
     "metadata": {},
     "output_type": "execute_result"
    }
   ],
   "source": [
    "infinity_norm([[3,2,1],\n",
    "               [1,4,-4],\n",
    "               [-2,-4,-1]])"
   ]
  },
  {
   "cell_type": "code",
   "execution_count": 31,
   "metadata": {},
   "outputs": [
    {
     "data": {
      "text/plain": [
       "0"
      ]
     },
     "execution_count": 31,
     "metadata": {},
     "output_type": "execute_result"
    }
   ],
   "source": [
    "infinity_norm([[0,0,0],\n",
    "                [0,0,0],\n",
    "                [0,0,0]])"
   ]
  },
  {
   "cell_type": "markdown",
   "metadata": {},
   "source": [
    "Sol·lució (dóna dos clics aquí per veure-la)\n",
    "\n",
    "<!--\n",
    "import math\n",
    "def infinity_norm(A):\n",
    "    inf_norm=0\n",
    "    for j in range(len(A)):-------------------------------------------- el de dintre del bucle x n   n x (n+3) O(n^2)\n",
    "        row_sum = 0 --------------------------------------------------- O(1)\n",
    "        for k in range(len(A[j])):------------------------------------- el de dintre del bucle x n   n\n",
    "            row_sum += abs(A[j][k])------------------------------------ O(1)\n",
    "        if(inf_norm < row_sum):---------------------------------------- O(1)\n",
    "            inf_norm = row_sum----------------------------------------- O(1)\n",
    "    return inf_norm---------------------------------------------------- O(1)\n",
    " La complexitat de l'algorisme és O(n^2). Si suposem una matrix nxm llavors la complexitat seria O(nxm)\n",
    " -->"
   ]
  },
  {
   "cell_type": "markdown",
   "metadata": {},
   "source": [
    "**La jugada de Bernoulli** En aquest problema tirarem una moneda $n$ cops. Suposarem que una moneda només pot treure cara (C) o creu (X). Volem saber totes les situacions possibles quan tirem la moneda els $n$ cops. Per exemple, per a $n=2$ les possibilitats són $(C,C), (C,X), (X,C), (X,X)$"
   ]
  },
  {
   "cell_type": "code",
   "execution_count": 32,
   "metadata": {},
   "outputs": [],
   "source": [
    "def bernoulli_possibilities(n):\n",
    "    import itertools\n",
    "    a=lst = list(set(itertools.product((\"X\",\"C\"),repeat=n)))\n",
    "    return(a)\n"
   ]
  },
  {
   "cell_type": "code",
   "execution_count": 33,
   "metadata": {},
   "outputs": [
    {
     "data": {
      "text/plain": [
       "[('C', 'X', 'C'),\n",
       " ('C', 'C', 'C'),\n",
       " ('X', 'X', 'X'),\n",
       " ('C', 'C', 'X'),\n",
       " ('X', 'C', 'X'),\n",
       " ('X', 'C', 'C'),\n",
       " ('C', 'X', 'X'),\n",
       " ('X', 'X', 'C')]"
      ]
     },
     "execution_count": 33,
     "metadata": {},
     "output_type": "execute_result"
    }
   ],
   "source": [
    "bernoulli_possibilities(3)"
   ]
  },
  {
   "cell_type": "code",
   "execution_count": 34,
   "metadata": {},
   "outputs": [
    {
     "data": {
      "text/plain": [
       "[('X', 'X', 'X', 'C'),\n",
       " ('X', 'C', 'C', 'C'),\n",
       " ('C', 'C', 'C', 'C'),\n",
       " ('X', 'X', 'X', 'X'),\n",
       " ('X', 'C', 'C', 'X'),\n",
       " ('C', 'C', 'X', 'X'),\n",
       " ('X', 'C', 'X', 'C'),\n",
       " ('X', 'X', 'C', 'X'),\n",
       " ('X', 'C', 'X', 'X'),\n",
       " ('C', 'X', 'C', 'C'),\n",
       " ('C', 'C', 'X', 'C'),\n",
       " ('C', 'C', 'C', 'X'),\n",
       " ('C', 'X', 'C', 'X'),\n",
       " ('C', 'X', 'X', 'X'),\n",
       " ('X', 'X', 'C', 'C'),\n",
       " ('C', 'X', 'X', 'C')]"
      ]
     },
     "execution_count": 34,
     "metadata": {},
     "output_type": "execute_result"
    }
   ],
   "source": [
    "bernoulli_possibilities(4)"
   ]
  },
  {
   "cell_type": "markdown",
   "metadata": {},
   "source": [
    "Sol·lució (dóna dos clics aquí per veure-la)\n",
    "\n",
    "<!--\n",
    "Estem bàsicament creant variacions amb repetició de n elements sobre un conjunt de 2 elements('x','c'), per tant, exactament fem  (2^n) llistes. Cada llista té n elements i la creem de zero.\n",
    "La complexitat és d'ordre n*2^n => O(n 2^n)\n",
    " -->"
   ]
  },
  {
   "cell_type": "markdown",
   "metadata": {},
   "source": [
    "**Residus quadràtics** Volem trobar els elements $r$ tal que $x^2 = r \\ (mod \\ m)$"
   ]
  },
  {
   "cell_type": "code",
   "execution_count": 35,
   "metadata": {},
   "outputs": [],
   "source": [
    "def quadratic_residue(m):\n",
    "    q_residues = set()\n",
    "    for x in range(m):\n",
    "        r = (x**2)%m\n",
    "        if(r!=0):\n",
    "            q_residues.add(r)\n",
    "    return q_residues"
   ]
  },
  {
   "cell_type": "code",
   "execution_count": 36,
   "metadata": {},
   "outputs": [
    {
     "data": {
      "text/plain": [
       "{1, 4, 6, 9, 10}"
      ]
     },
     "execution_count": 36,
     "metadata": {},
     "output_type": "execute_result"
    }
   ],
   "source": [
    "quadratic_residue(15)"
   ]
  },
  {
   "cell_type": "markdown",
   "metadata": {},
   "source": [
    "perque 1 mod 15 = 1 i 1 = 1^2; perque 25 mod 15 = 10 i 25 = 5^2; perque 64 mod 15 = 4 i 64 = 8^2 etc  "
   ]
  },
  {
   "cell_type": "markdown",
   "metadata": {},
   "source": [
    "Considerem que treballem amb nombres petits, i per tant les operacions de comparació i aritmètiques tenen un cost de $\\mathcal{O}(1)$\n",
    "\n",
    "Sol·lució (dóna dos clics aquí per veure-la)\n",
    "\n",
    "<!--\n",
    "def quadratic_residue(n):\n",
    "    q_residues = set() ------------------------------------- O(1)\n",
    "    for x in range(n): ------------------------------------- el de dintre del bucle x n   n x (3) O(n)\n",
    "        r = (x**2)%n --------------------------------------- O(1), considerem que els nombres són petits\n",
    "        if(r!=0):------------------------------------- O(1)\n",
    "            q_residues.add(r)------------------------------- O(1)\n",
    "    return q_residues\n",
    "La complexitat és O(n), essent n el mòdul considerat.\n",
    "-->\n",
    " \n",
    " "
   ]
  },
  {
   "cell_type": "markdown",
   "metadata": {},
   "source": [
    "**Fusió de llistes** Donades dues llistes $A, B$ de mida $n$ i $m$ respectivament llistes volem fusionar-les sense alterar la llista inicial. Una manera de fer-ho és la següent:"
   ]
  },
  {
   "cell_type": "code",
   "execution_count": 37,
   "metadata": {},
   "outputs": [],
   "source": [
    "def fusio(A, B):\n",
    "    novaA=A[:]\n",
    "    for i in range(len(B)):\n",
    "        novaA.append(B[i])\n",
    "    return novaA"
   ]
  },
  {
   "cell_type": "code",
   "execution_count": 38,
   "metadata": {},
   "outputs": [
    {
     "name": "stdout",
     "output_type": "stream",
     "text": [
      "[1, 3, 5, 4, 3, 2, 1, 1]\n",
      "[1, 3, 5, 4]\n",
      "[3, 2, 1, 1]\n"
     ]
    }
   ],
   "source": [
    "A = [1,3,5,4]\n",
    "B = [3,2,1,1]\n",
    "print(fusio(A,B))\n",
    "print(A)\n",
    "print(B)"
   ]
  },
  {
   "cell_type": "markdown",
   "metadata": {},
   "source": [
    "Sol·lució (dóna dos clics aquí per veure-la)\n",
    "\n",
    "<!--\n",
    "def fusio(A, B):\n",
    "    novaA=A[:]------------------------------------------  O(n) on n és la longitud d'A\n",
    "    for i in range(len(B)):-----------------------------  el de dintre el bucle x m, on m és la longitud de B   O(m)\n",
    "        novaA.append(B[i])------------------------------- O(1)\n",
    "    return novaA\n",
    " La complexitat és O(n+m), on n és la longitud d'A i m la longitud de B\n",
    " --> "
   ]
  },
  {
   "cell_type": "markdown",
   "metadata": {},
   "source": [
    "**Eliminar duplicats** Suposem que tenim una llista amb $n$ elements $[a_1,a_2,...,a_n]$. Volem generar una nova llista amb el mateix ordre però amb només una còpia de cada element: la primera que surt a la llista. Un algorisme per fer açò és:"
   ]
  },
  {
   "cell_type": "code",
   "execution_count": 39,
   "metadata": {},
   "outputs": [],
   "source": [
    "def delete_duplicates(A):\n",
    "    newList = []\n",
    "    for i in range(0,len(A)):\n",
    "        actual_elem = A[i]       \n",
    "        if(actual_elem != 'repetit'):\n",
    "            newList.append(actual_elem)\n",
    "            for j in range(i, len(A)):\n",
    "                if(A[j] == actual_elem):\n",
    "                    A[j] = 'repetit'\n",
    "    return newList"
   ]
  },
  {
   "cell_type": "code",
   "execution_count": 40,
   "metadata": {},
   "outputs": [
    {
     "data": {
      "text/plain": [
       "[1, 2, 3, 4, 5, 6, 7, 9]"
      ]
     },
     "execution_count": 40,
     "metadata": {},
     "output_type": "execute_result"
    }
   ],
   "source": [
    "delete_duplicates([1,1,2,3,4,5,6,7,5,2,9])"
   ]
  },
  {
   "cell_type": "markdown",
   "metadata": {},
   "source": [
    "Sol·lució (dóna dos clics aquí per veure-la)\n",
    "\n",
    "<!--\n",
    "def delete_duplicates(A):\n",
    "    newList = []-------------------------------------------------- O(1)\n",
    "    for i in range(0,len(A)):------------------------------------- el de dintre el bucle per n, on n és la longitud d'A                                                                                 O(n*n*n/2) \n",
    "        actual_elem = A[i] --------------------------------------- O(1)      \n",
    "        if(actual_elem != 'repetit'):----------------------------- O(1)  en el pitjor cas l'if es compliria n-1 vegades O(n*n/2)\n",
    "            newList.append(actual_elem)--------------------------- O(1)\n",
    "            for j in range(i, len(A)):---------------------------- O(n-1, n-2, n-3...) el de dintre * en terme mig O(n/2) O(n/2)\n",
    "                if(A[j] == actual_elem):-------------------------- O(1)\n",
    "                    A[j] = 'repetit'------------------------------ O(1)\n",
    "    return newList ----------------------------------------------- O(1)\n",
    "-->\n",
    "O(n3)"
   ]
  },
  {
   "cell_type": "markdown",
   "metadata": {
    "collapsed": true
   },
   "source": [
    "**Producte dels $log(n)$ primers nombres** Donat un n enter volem saber quin és el producte dels enters des d'1 fins a l'enter més gran menor que $log(n)$"
   ]
  },
  {
   "cell_type": "code",
   "execution_count": 41,
   "metadata": {},
   "outputs": [],
   "source": [
    "from math import log\n",
    "def multiplication(n):\n",
    "    i=1\n",
    "    product = 1\n",
    "    while(i<=log(n)):\n",
    "        product *= i\n",
    "        i+=1\n",
    "    return product"
   ]
  },
  {
   "cell_type": "code",
   "execution_count": 42,
   "metadata": {},
   "outputs": [
    {
     "data": {
      "text/plain": [
       "24"
      ]
     },
     "execution_count": 42,
     "metadata": {},
     "output_type": "execute_result"
    }
   ],
   "source": [
    "multiplication(120)"
   ]
  },
  {
   "cell_type": "markdown",
   "metadata": {},
   "source": [
    "Sol·lució (dóna dos clics aquí per veure-la)\n",
    "\n",
    "<!--\n",
    "\n",
    "def multiplication(n):\n",
    "    i=1 ------------------------------------------------- O(1)\n",
    "    product = 1 ----------------------------------------- O(1)\n",
    "    while(i<=log(n)): ----------------------------------- el de dins x log(n), O(logn)\n",
    "        product *= i ------------------------------------ O(1)  considerem que els valors són molt petits\n",
    "        i+=1 -------------------------------------------- O(1)\n",
    "    return producte ------------------------------------- O(1)\n",
    "\n",
    "Per tant la complexitat és O(logn)\n",
    "-->\n",
    " \n",
    " "
   ]
  },
  {
   "cell_type": "markdown",
   "metadata": {},
   "source": [
    "**Comprovar si un nombre és primer** Sigui $n$ un nombre, volem saber si és primer o no. Per fer-ho només necessitem saber si te algún divisor menor que $\\sqrt{n}$. Si no en té no serà primer."
   ]
  },
  {
   "cell_type": "code",
   "execution_count": 43,
   "metadata": {},
   "outputs": [],
   "source": [
    "from math import sqrt\n",
    "def check_prime_number(n):\n",
    "    prime = True\n",
    "    sqrtn = int(sqrt(n))\n",
    "    i=2\n",
    "    while i<=sqrtn and prime:\n",
    "        if(n%i==0):\n",
    "            prime = False\n",
    "        i+=1\n",
    "    return prime"
   ]
  },
  {
   "cell_type": "code",
   "execution_count": 44,
   "metadata": {},
   "outputs": [
    {
     "data": {
      "text/plain": [
       "False"
      ]
     },
     "execution_count": 44,
     "metadata": {},
     "output_type": "execute_result"
    }
   ],
   "source": [
    "check_prime_number(9)"
   ]
  },
  {
   "cell_type": "markdown",
   "metadata": {},
   "source": [
    "Sol·lució (dóna dos clics aquí per veure-la)\n",
    "\n",
    "<!--\n",
    "\n",
    "def check_prime_number(n):\n",
    "    prime = True ------------------------------------- O(1)\n",
    "    sqrtn = int(sqrt(n)) ----------------------------- O(1)\n",
    "    i=2 ---------------------------------------------- O(1)\n",
    "    while i<=sqrtn and prime: ------------------------ O(sqrt(n)). En el cas pitjor(primer) sqrt(n)*complexitat del de dins\n",
    "        if(n%i==0): ---------------------------------- O(1)\n",
    "            prime = False ---------------------------- O(1)\n",
    "        i+=1 ----------------------------------------- O(1)\n",
    "    return prime ------------------------------------- O(1)\n",
    "\n",
    "Per tant la complexitat és O(sqrt(n))\n",
    "-->"
   ]
  },
  {
   "cell_type": "markdown",
   "metadata": {},
   "source": [
    "**Llista de repeticions** Volem saber quants cops surt cada nombre si fem totes les multiplicacions possibles d'1 fins a $n$ tres cops, és a dir, el següent algorisme:"
   ]
  },
  {
   "cell_type": "code",
   "execution_count": 45,
   "metadata": {},
   "outputs": [],
   "source": [
    "def count_repetitions(n):\n",
    "    dict_of_reps = {}\n",
    "    for i in range(1,n+1):\n",
    "        for j in range(1,n+1):\n",
    "            for k in range(1,n+1):\n",
    "                if (i*j*k) not in dict_of_reps:\n",
    "                    dict_of_reps[(i*j*k)] = 1\n",
    "                else:\n",
    "                    dict_of_reps[(i*j*k)] +=1\n",
    "    return dict_of_reps"
   ]
  },
  {
   "cell_type": "markdown",
   "metadata": {},
   "source": [
    "Retorna només els nombres que surten com a key i el nombre de cops com a value."
   ]
  },
  {
   "cell_type": "code",
   "execution_count": 46,
   "metadata": {},
   "outputs": [
    {
     "data": {
      "text/plain": [
       "{1: 1,\n",
       " 2: 3,\n",
       " 3: 3,\n",
       " 4: 6,\n",
       " 6: 6,\n",
       " 8: 7,\n",
       " 9: 3,\n",
       " 12: 9,\n",
       " 16: 6,\n",
       " 18: 3,\n",
       " 24: 6,\n",
       " 32: 3,\n",
       " 27: 1,\n",
       " 36: 3,\n",
       " 48: 3,\n",
       " 64: 1}"
      ]
     },
     "execution_count": 46,
     "metadata": {},
     "output_type": "execute_result"
    }
   ],
   "source": [
    "count_repetitions(4)"
   ]
  },
  {
   "cell_type": "markdown",
   "metadata": {},
   "source": [
    "Sol·lució (dóna dos clics aquí per veure-la)\n",
    "\n",
    "<!--\n",
    "\n",
    "def count_repetitions(n):\n",
    "    dict_of_reps = {} ------------------------------------------ O(1)\n",
    "    for i in range(1,n+1): ------------------------------------- n per el de dins\n",
    "        for j in range(1,n+1): --------------------------------- n per el de dins\n",
    "            for k in range(1,n+1): ----------------------------- n per el de dins\n",
    "                if (i*j*k) not in dict_of_reps: ---------------- O(1)\n",
    "                    dict_of_reps[(i*j*k)] = 1 ------------------ O(1)\n",
    "                else:\n",
    "                    dict_of_reps[(i*j*k)] +=1 ------------------ O(1)\n",
    "    return dict_of_reps\n",
    "\n",
    "Per tant la complexitat és O(n^3)\n",
    "-->"
   ]
  },
  {
   "cell_type": "markdown",
   "metadata": {},
   "source": [
    "(c) Ruben Ballester, auxiliar docent curs 2018-2019"
   ]
  }
 ],
 "metadata": {
  "kernelspec": {
   "display_name": "Python 3",
   "language": "python",
   "name": "python3"
  },
  "language_info": {
   "codemirror_mode": {
    "name": "ipython",
    "version": 3
   },
   "file_extension": ".py",
   "mimetype": "text/x-python",
   "name": "python",
   "nbconvert_exporter": "python",
   "pygments_lexer": "ipython3",
   "version": "3.6.5"
  }
 },
 "nbformat": 4,
 "nbformat_minor": 1
}
