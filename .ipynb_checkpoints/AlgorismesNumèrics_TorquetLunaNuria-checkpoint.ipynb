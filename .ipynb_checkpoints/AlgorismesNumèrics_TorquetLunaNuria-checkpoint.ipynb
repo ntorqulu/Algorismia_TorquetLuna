{
 "cells": [
  {
   "cell_type": "markdown",
   "metadata": {},
   "source": [
    "Algorismes numèrics"
   ]
  },
  {
   "cell_type": "markdown",
   "metadata": {},
   "source": [
    "1.ANAGRAMES:\n",
    "    Dues paraules són anagrames si el producte del valor de les seves lletres(cadascuna associada a un primer) dona\n",
    "    el mateix resultat.\n",
    "    Idea = generar tres funcions, dues que s'encarreguin de crear la llista de primers de la longitud de l'alfabet i\n",
    "    una última per calcular el producte de les lletres de cada string"
   ]
  },
  {
   "cell_type": "code",
   "execution_count": 1,
   "metadata": {},
   "outputs": [
    {
     "data": {
      "text/plain": [
       "False"
      ]
     },
     "execution_count": 1,
     "metadata": {},
     "output_type": "execute_result"
    }
   ],
   "source": [
    "import math\n",
    "def primeList(long):\n",
    "    llstPrimes = [2]\n",
    "    candidat = 3\n",
    "    while len(llstPrimes)<= long:\n",
    "        if(checkPrime(candidat, llstPrimes)):\n",
    "            llstPrimes.append(candidat)\n",
    "        candidat += 2\n",
    "            \n",
    "    return llstPrimes\n",
    "\n",
    "def checkPrime(candidat, llstPrimes):\n",
    "    upperBound = math.sqrt(candidat)\n",
    "    for p in llstPrimes:\n",
    "        if (candidat%p)== 0:\n",
    "            return False\n",
    "        if p > upperBound:\n",
    "            return True\n",
    "    return True\n",
    "\n",
    "def anagrames(s1, s2):\n",
    "    if len(s1) != len(s2):\n",
    "        return False\n",
    "    Dicc = {}\n",
    "    alphabet = ['a', 'b', 'c', 'd', 'e', 'f', 'g', 'h', 'i', 'j', 'k', 'l', 'm', 'n', 'o', 'p', 'q', 'r', 's', 't',\n",
    "               'u', 'v', 'w', 'x', 'y', 'z']\n",
    "    llstPrimes = primeList(len(alphabet))\n",
    "    for(letter, prime) in zip(alphabet, llstPrimes):\n",
    "        Dicc[letter] = prime\n",
    "    prodA = 1\n",
    "    prodB = 1\n",
    "    for char in s1:\n",
    "        prodA *= Dicc[char]\n",
    "        \n",
    "    for char in s2:\n",
    "        prodB *= Dicc[char]\n",
    "    if prodA == prodB:\n",
    "        return True\n",
    "    else:\n",
    "        return False\n",
    "anagrames(\"hola\", \"allo\")\n"
   ]
  },
  {
   "cell_type": "markdown",
   "metadata": {},
   "source": [
    "2. COLUMNES EXCEL:\n",
    "    Funció que retorna les lletres associades a un num excel, en base 26. Per convertir un num a lletre maj, hem de\n",
    "    sumar 64 al num (corresponent a ord(\"a\")).\n",
    "    Emprem la funció divmod que retorna el quocient i residu de la divisió\n"
   ]
  },
  {
   "cell_type": "code",
   "execution_count": 2,
   "metadata": {},
   "outputs": [
    {
     "data": {
      "text/plain": [
       "'OV'"
      ]
     },
     "execution_count": 2,
     "metadata": {},
     "output_type": "execute_result"
    }
   ],
   "source": [
    "def excelColumns(num):\n",
    "    string = \"\"\n",
    "    while(num):\n",
    "        num, residu = divmod(num, 26)\n",
    "        string = chr(residu+64) + string\n",
    "    return string\n",
    "excelColumns(412)"
   ]
  },
  {
   "cell_type": "code",
   "execution_count": 3,
   "metadata": {},
   "outputs": [
    {
     "data": {
      "text/plain": [
       "65"
      ]
     },
     "execution_count": 3,
     "metadata": {},
     "output_type": "execute_result"
    }
   ],
   "source": [
    "ord(\"A\")"
   ]
  },
  {
   "cell_type": "markdown",
   "metadata": {},
   "source": [
    "3. ENCRIPTACIO:\n",
    "    Necessitarem generar:\n",
    "        - 2 nombres primers suficientment alts == > generatePrimes(erastotenes)\n",
    "        - ed % m == 1 ==> modulusOne\n",
    "        - funció per ajuntar-ho tot"
   ]
  },
  {
   "cell_type": "code",
   "execution_count": 4,
   "metadata": {},
   "outputs": [],
   "source": [
    "import math\n",
    "import random\n",
    "# sieve of erasthotenes\n",
    "def generateRandomPrimes(n):\n",
    "    l = [True] * (n+1)\n",
    "    start = 2\n",
    "    end = int(math.sqrt(n))\n",
    "    primes = []\n",
    "    while start*start <= end:\n",
    "        if l[start] == True:\n",
    "            primes.append(start)\n",
    "            for i in range(start*start, n+1, start):\n",
    "                if l[start] == True:\n",
    "                    l[start] == False\n",
    "        start += 1\n",
    "    for i in range(end +1, n+1):\n",
    "        if l[i] == True:\n",
    "            primes.append(i)\n",
    "    return random.sample(primes, 2)  "
   ]
  },
  {
   "cell_type": "code",
   "execution_count": 5,
   "metadata": {},
   "outputs": [],
   "source": [
    "#generate divisors of m +1\n",
    "import math\n",
    "def modulusOne(m):\n",
    "    m = m+1\n",
    "    upperBound = math.sqrt(m)\n",
    "    i= 2\n",
    "    divisors = []\n",
    "    while i*i <= m:\n",
    "        while m%i == 0:\n",
    "            divisors.append(i)\n",
    "            m = m//i\n",
    "        i+= 1\n",
    "    if m > 1:\n",
    "        divisors.append(m)\n",
    "        \n",
    "    if len(divisors) == 0:\n",
    "        return None\n",
    "    if len(divisors) == 1:\n",
    "        return(divisors[0], 1)\n",
    "    if len(divisors) == 2:\n",
    "        return(divisors[0], divisors[1])\n",
    "    else:\n",
    "        firstPart = divisors[0]*divisors[1]\n",
    "        secondPart = 1\n",
    "        for x in divisors[2:]:\n",
    "            secondPart *= x\n",
    "        return(firstPart, secondPart)"
   ]
  },
  {
   "cell_type": "code",
   "execution_count": 6,
   "metadata": {},
   "outputs": [
    {
     "name": "stdout",
     "output_type": "stream",
     "text": [
      "19\n",
      "19\n"
     ]
    }
   ],
   "source": [
    "def cipher(M):\n",
    "    p, q = generateRandomPrimes(20)\n",
    "    n = p*q\n",
    "    m = (p-1)*(q-1)\n",
    "    e, d = modulusOne(m)\n",
    "    cipher = pow(M, e, n)\n",
    "    print(cipher)\n",
    "    decipher = pow(cipher, d, n)\n",
    "    print(decipher)\n",
    "cipher(19)"
   ]
  },
  {
   "cell_type": "markdown",
   "metadata": {},
   "source": [
    "4. ERASTHOTENES"
   ]
  },
  {
   "cell_type": "code",
   "execution_count": 7,
   "metadata": {},
   "outputs": [
    {
     "data": {
      "text/plain": [
       "[2, 3, 5, 7]"
      ]
     },
     "execution_count": 7,
     "metadata": {},
     "output_type": "execute_result"
    }
   ],
   "source": [
    "import math\n",
    "def sieve(n):\n",
    "    l = [True]*(n+1)\n",
    "    start = 2\n",
    "    end = int(math.sqrt(n))\n",
    "    primers = []\n",
    "    while start  <= end:\n",
    "        if l[start] == True:\n",
    "            primers.append(start)\n",
    "            for i in range(start*start, n+1, start):\n",
    "                if l[i] == True:\n",
    "                    l[i] = False\n",
    "        start +=1\n",
    "    for j in range(end+1, n+1):\n",
    "        if l[j] == True:\n",
    "            primers.append(j)\n",
    "    return primers\n",
    "sieve(8)"
   ]
  },
  {
   "cell_type": "markdown",
   "metadata": {},
   "source": [
    "5. FIBONACCI ENÈSSIM:\n",
    "    Xuleta de problemes"
   ]
  },
  {
   "cell_type": "markdown",
   "metadata": {},
   "source": [
    "6. KARATSUBA"
   ]
  },
  {
   "cell_type": "code",
   "execution_count": 8,
   "metadata": {},
   "outputs": [
    {
     "data": {
      "text/plain": [
       "720"
      ]
     },
     "execution_count": 8,
     "metadata": {},
     "output_type": "execute_result"
    }
   ],
   "source": [
    "def karatsuba(n1, n2):\n",
    "    if n1 < 10 or n2 < 10:\n",
    "        return n1*n2\n",
    "    n = max(len(str(n1)), len(str(n2)))\n",
    "    m = n//2\n",
    "    \n",
    "    a = n1//10**m\n",
    "    b = n1%10**m\n",
    "    c = n2//10**m\n",
    "    d = n2%10**m\n",
    "    \n",
    "    ac = karatsuba(a, c)\n",
    "    bd = karatsuba(b, d)\n",
    "    ad_bc = karatsuba(a+b, c+d)-ac-bd\n",
    "    \n",
    "    return ac*10**(2*m) + ad_bc*10**m + bd*10\n",
    "\n",
    "karatsuba(30, 24)\n",
    "        "
   ]
  },
  {
   "cell_type": "markdown",
   "metadata": {},
   "source": [
    "7. MCD:"
   ]
  },
  {
   "cell_type": "code",
   "execution_count": 9,
   "metadata": {},
   "outputs": [
    {
     "data": {
      "text/plain": [
       "2"
      ]
     },
     "execution_count": 9,
     "metadata": {},
     "output_type": "execute_result"
    }
   ],
   "source": [
    "def MCD(n,m):\n",
    "    while(m):\n",
    "        n, m = m, n%m\n",
    "    return n\n",
    "MCD(4, 14)\n",
    "        \n",
    "        "
   ]
  },
  {
   "cell_type": "markdown",
   "metadata": {},
   "source": [
    "8. MULTIPLE MES PETIT"
   ]
  },
  {
   "cell_type": "code",
   "execution_count": 10,
   "metadata": {},
   "outputs": [
    {
     "data": {
      "text/plain": [
       "232792560"
      ]
     },
     "execution_count": 10,
     "metadata": {},
     "output_type": "execute_result"
    }
   ],
   "source": [
    "def multiplePetit(x):\n",
    "    trobat = False\n",
    "    if x == 1:\n",
    "        return 1\n",
    "    else:\n",
    "        z = multiplePetit(x-1)\n",
    "        t = 0\n",
    "        while not trobat:\n",
    "            t+= z\n",
    "            trobat = (t%x==0)\n",
    "    return t\n",
    "multiplePetit(22)"
   ]
  },
  {
   "cell_type": "markdown",
   "metadata": {},
   "source": [
    "9.MULTIPLE PRIMER 1001:"
   ]
  },
  {
   "cell_type": "code",
   "execution_count": 11,
   "metadata": {},
   "outputs": [
    {
     "data": {
      "text/plain": [
       "7933"
      ]
     },
     "execution_count": 11,
     "metadata": {},
     "output_type": "execute_result"
    }
   ],
   "source": [
    "import math\n",
    "def multiplePrimer1001():\n",
    "    nPrimer = 1001\n",
    "    llista = llistaPrimers(nPrimer)\n",
    "    return llista[-1]\n",
    "    \n",
    "def llistaPrimers(long):\n",
    "    candidat = 3\n",
    "    llistaPrimers = [2]\n",
    "    while len(llistaPrimers) <= long:\n",
    "        if(checkPrimer(candidat, llistaPrimers)):\n",
    "            llistaPrimers.append(candidat)\n",
    "        candidat += 1\n",
    "    return llistaPrimers\n",
    "\n",
    "def checkPrimer(candidat, llistaPrimers):\n",
    "    upperBound = math.sqrt(candidat)\n",
    "    for p in llistaPrimers:\n",
    "        if candidat%p == 0:\n",
    "            return False\n",
    "        if p > upperBound:\n",
    "            return True\n",
    "    return True\n",
    "multiplePrimer1001()    "
   ]
  },
  {
   "cell_type": "markdown",
   "metadata": {},
   "source": [
    "10. NUMERO 3 CONDICIONS"
   ]
  },
  {
   "cell_type": "code",
   "execution_count": 12,
   "metadata": {},
   "outputs": [
    {
     "data": {
      "text/plain": [
       "121"
      ]
     },
     "execution_count": 12,
     "metadata": {},
     "output_type": "execute_result"
    }
   ],
   "source": [
    "import math\n",
    "def numero3Condicions():\n",
    "    factorial = [math.factorial(x) + 1 for x in range(10)]\n",
    "    product = [i*i for i in range(100)if i*i < 1000]\n",
    "    result=[value for value in product if value in factorial]\n",
    "    return result[-1]\n",
    "numero3Condicions()"
   ]
  },
  {
   "cell_type": "markdown",
   "metadata": {},
   "source": [
    "11. PRIMER WIEFERICH:\n",
    "    generar tots els nombres primers menors que 5000 i trobar aquell que compleixi 2^p-1 - 1% p^2 == 0\n"
   ]
  },
  {
   "cell_type": "code",
   "execution_count": 13,
   "metadata": {},
   "outputs": [
    {
     "data": {
      "text/plain": [
       "[1093, 3511]"
      ]
     },
     "execution_count": 13,
     "metadata": {},
     "output_type": "execute_result"
    }
   ],
   "source": [
    "import math\n",
    "def sieve(n):\n",
    "    l = [True]*(n+1)\n",
    "    start = 2\n",
    "    end = int(math.sqrt(n))\n",
    "    primers = []\n",
    "    while(start <= end):\n",
    "        if l[start] == True:\n",
    "            primers.append(start)\n",
    "            for i in range(start*start, n+1, start):\n",
    "                if l[i] == True:\n",
    "                    l[i] = False\n",
    "        start += 1\n",
    "    for j in range(end+1, n+1):\n",
    "        if l[j] == True:\n",
    "            primers.append(j)\n",
    "    return primers\n",
    "\n",
    "def wieferich():\n",
    "    primers = sieve(5000)\n",
    "    wieferich = []\n",
    "    for p in primers:\n",
    "        if pow(2, p-1, p**2) == 1:\n",
    "            wieferich.append(p)\n",
    "    return wieferich\n",
    "wieferich()\n",
    "                "
   ]
  },
  {
   "cell_type": "markdown",
   "metadata": {},
   "source": [
    "12. QUADRATS SUMEN N:"
   ]
  },
  {
   "cell_type": "code",
   "execution_count": 14,
   "metadata": {},
   "outputs": [
    {
     "data": {
      "text/plain": [
       "[(0, 2)]"
      ]
     },
     "execution_count": 14,
     "metadata": {},
     "output_type": "execute_result"
    }
   ],
   "source": [
    "def quadratsN(c):\n",
    "    a = 0\n",
    "    llista = []\n",
    "    while(a*a <c):\n",
    "        b = c - int(a*a)\n",
    "        if binarySearch(0, b, b):\n",
    "            llista.append((a, binarySearch(0, b, b)))\n",
    "        a+=1\n",
    "    return llista\n",
    "def binarySearch(low, high, x):\n",
    "    if low > high:\n",
    "        return 0\n",
    "    mid = (low+high)//2\n",
    "    if (int(mid*mid)==x):\n",
    "        return mid\n",
    "    else:\n",
    "        if int(mid*mid) > x:\n",
    "            return binarySearch(low, mid-1, x)\n",
    "        else:\n",
    "            return binarySearch(mid+1, high, x)\n",
    "        \n",
    "quadratsN(4)\n",
    "                        "
   ]
  },
  {
   "cell_type": "markdown",
   "metadata": {},
   "source": [
    "13.SETMANES I SEGONS"
   ]
  },
  {
   "cell_type": "code",
   "execution_count": 15,
   "metadata": {},
   "outputs": [
    {
     "name": "stdout",
     "output_type": "stream",
     "text": [
      "6.0\n",
      "66.0\n",
      "792.0\n",
      "10296.0\n"
     ]
    }
   ],
   "source": [
    "def setmanesSegons():\n",
    "    segons = [math.factorial(x) for x in range(14)]\n",
    "    for segon in segons:\n",
    "        dia = (segon/3600)/24\n",
    "        setmana = dia/7\n",
    "        if((setmana).is_integer()):\n",
    "            print(setmana)\n",
    "            \n",
    "setmanesSegons()  "
   ]
  },
  {
   "cell_type": "markdown",
   "metadata": {},
   "source": [
    "14.SUMA MULTIPLES 3 I 5"
   ]
  },
  {
   "cell_type": "code",
   "execution_count": 16,
   "metadata": {},
   "outputs": [
    {
     "name": "stdout",
     "output_type": "stream",
     "text": [
      "[0, 15]\n"
     ]
    }
   ],
   "source": [
    "def mult3Mult5():\n",
    "    mult3 = [3*x for x in range(10)]\n",
    "    mult5 = [5*x for x in range(10)]\n",
    "    total = [value for value in mult5 if value in mult3]\n",
    "    print(total)\n",
    "mult3Mult5()"
   ]
  },
  {
   "cell_type": "markdown",
   "metadata": {},
   "source": [
    "15. SUMA TERMES PARELLS FIBONACCI:\n",
    "    Copiar xuleta\n"
   ]
  },
  {
   "cell_type": "code",
   "execution_count": 17,
   "metadata": {},
   "outputs": [
    {
     "data": {
      "text/plain": [
       "798"
      ]
     },
     "execution_count": 17,
     "metadata": {},
     "output_type": "execute_result"
    }
   ],
   "source": [
    "def fibonacciParell():\n",
    "    a, b = 0, 1\n",
    "    total = 0\n",
    "    while a < 1000:\n",
    "        if a%2==0:\n",
    "            total += a\n",
    "        a,b = b, a+b\n",
    "    return total\n",
    "fibonacciParell()"
   ]
  },
  {
   "cell_type": "markdown",
   "metadata": {},
   "source": [
    "16.SUMA TERMES MULTIPLES 3"
   ]
  },
  {
   "cell_type": "code",
   "execution_count": 18,
   "metadata": {},
   "outputs": [
    {
     "data": {
      "text/plain": [
       "798"
      ]
     },
     "execution_count": 18,
     "metadata": {},
     "output_type": "execute_result"
    }
   ],
   "source": [
    "def fibonacci3():\n",
    "    a, b = 0, 1\n",
    "    total = 0\n",
    "    while a < 1000:\n",
    "        if a%3==0:\n",
    "            total += a\n",
    "        a,b = b, a+b\n",
    "    return total\n",
    "fibonacciParell()"
   ]
  },
  {
   "cell_type": "markdown",
   "metadata": {},
   "source": [
    "17. TEST PRIMERITAT"
   ]
  },
  {
   "cell_type": "code",
   "execution_count": 19,
   "metadata": {},
   "outputs": [
    {
     "data": {
      "text/plain": [
       "True"
      ]
     },
     "execution_count": 19,
     "metadata": {},
     "output_type": "execute_result"
    }
   ],
   "source": [
    "import random\n",
    "def teoremaFermat(n):\n",
    "    for i in range(20):\n",
    "        val = random.randint(1, n-1)\n",
    "        if pow(val, n-1, n) != 1:\n",
    "            return False\n",
    "    return True\n",
    "teoremaFermat(23)\n",
    "        "
   ]
  },
  {
   "cell_type": "code",
   "execution_count": 20,
   "metadata": {},
   "outputs": [
    {
     "name": "stdout",
     "output_type": "stream",
     "text": [
      "[3, 61]\n"
     ]
    },
    {
     "data": {
      "text/plain": [
       "False"
      ]
     },
     "execution_count": 20,
     "metadata": {},
     "output_type": "execute_result"
    }
   ],
   "source": [
    "def factoritzar(n):\n",
    "    d = 2\n",
    "    factors = []\n",
    "    while d*d < n:\n",
    "        while n%d==0:\n",
    "            factors.append(d)\n",
    "            n= n//2\n",
    "        d+= 1\n",
    "    if n>1:\n",
    "        factors.append(n)\n",
    "    print(factors)\n",
    "    if len(factors)>1:\n",
    "        return False\n",
    "    return True\n",
    "factoritzar(123)"
   ]
  }
 ],
 "metadata": {
  "kernelspec": {
   "display_name": "Python 3",
   "language": "python",
   "name": "python3"
  },
  "language_info": {
   "codemirror_mode": {
    "name": "ipython",
    "version": 3
   },
   "file_extension": ".py",
   "mimetype": "text/x-python",
   "name": "python",
   "nbconvert_exporter": "python",
   "pygments_lexer": "ipython3",
   "version": "3.6.5"
  }
 },
 "nbformat": 4,
 "nbformat_minor": 2
}
