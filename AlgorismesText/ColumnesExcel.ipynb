{
 "cells": [
  {
   "cell_type": "markdown",
   "metadata": {},
   "source": [
    "<p style=\"text-align:right;font-size:0.9em\">\n",
    "Grau d'Enginyeria Informàtica. Algorísmica\n",
    "</p>"
   ]
  },
  {
   "cell_type": "markdown",
   "metadata": {},
   "source": [
    "<h1 style=\"padding:0.5em 0;font:Garamond;font-size:1-5em;color:#F90;background-color:#005\">\n",
    "Problema: Columnes Excel\n",
    "</h1>"
   ]
  },
  {
   "cell_type": "markdown",
   "metadata": {},
   "source": [
    "<p style=\"font-family:Arial;font-size:1em\">\n",
    "Convertir un nombre en el nom de la columna Excel corresponent.\n",
    "</p>"
   ]
  },
  {
   "cell_type": "markdown",
   "metadata": {},
   "source": [
    "Fixeu-vos en el següents patrons:\n",
    "    \n",
    "\n",
    "| A | B | C | D | E | F | G | \n",
    "|---|---|---|---|---|---|---|\n",
    "| 1 | 2 | 3 | 4 | 5 | 6 | 7 |\n",
    "\n",
    "| W | X  | Y | Z | AA | AB | AC | \n",
    "|---|---|---|---|---|---|---|\n",
    "| 23 | 24 | 25 | 26 | 27 | 28 | 29 |\n",
    "\n",
    "| OP | OQ | OR | OS | OT | OU | OV | \n",
    "|---|---|---|---|---|---|---|\n",
    "| 406 | 407 | 408 | 409 | 410 | 411 | 412 |\n",
    "\n",
    "| ZZ | AAA | AAB | AAD | AAE | AAF | \n",
    "|---|---|---|---|---|---|---|\n",
    "| 702 | 703 | 704 | 705 | 706 | 707 | "
   ]
  },
  {
   "cell_type": "code",
   "execution_count": 10,
   "metadata": {},
   "outputs": [
    {
     "data": {
      "text/plain": [
       "'AAB'"
      ]
     },
     "execution_count": 10,
     "metadata": {},
     "output_type": "execute_result"
    }
   ],
   "source": [
    "'''\n",
    "The divmod() takes two parameters:\n",
    "\n",
    "x - a non-complex number (numerator)\n",
    "y - a non-complex number (denominator)\n",
    "\n",
    "The divmod() returns\n",
    "\n",
    "(q, r) - a pair of numbers (a tuple) consisting of quotient q and remainder r\n",
    "\n",
    "'''\n",
    "\n",
    "\n",
    "def columnesExcel(num):\n",
    "    string = \"\"\n",
    "    #Anar dividint el numero successivament entre 26 i quedar-se amb quocient i residu.\n",
    "    # El quocient el tornarem a dividir i el residu el sumarem a la base 64 per obtenir lletra\n",
    "    while num > 0:\n",
    "        num, remainder = divmod(num , 26)\n",
    "        string = chr(64 + remainder) + string\n",
    "    return string\n",
    "            \n",
    "    \n",
    "    \n",
    "columnesExcel(704)"
   ]
  },
  {
   "cell_type": "code",
   "execution_count": 1,
   "metadata": {
    "collapsed": true
   },
   "outputs": [],
   "source": [
    "# 1 == chr(65)\n",
    "# dues lletres s'han de descomposar\n",
    "# base 26, 26 caracter, codificar com a base 10"
   ]
  },
  {
   "cell_type": "markdown",
   "metadata": {},
   "source": [
    "<h2 style=\"padding:0.5em 0;font:Garamond;font-size:1.2em;color:#FA0;background-color:#005\">\n",
    "Pregunta 1: Quines lletres s'usen per les columnes Excel?\n",
    "</h2>"
   ]
  },
  {
   "cell_type": "code",
   "execution_count": 1,
   "metadata": {
    "collapsed": true
   },
   "outputs": [],
   "source": [
    "A-Z"
   ]
  },
  {
   "cell_type": "markdown",
   "metadata": {},
   "source": [
    "<h2 style=\"padding:0.5em 0;font:Garamond;font-size:1.2em;color:#FA0;background-color:#005\">\n",
    "Pregunta 2: Cada quant s'afegeix una nova lletra al nom de la columna?\n",
    "</h2>"
   ]
  },
  {
   "cell_type": "code",
   "execution_count": 2,
   "metadata": {
    "collapsed": true
   },
   "outputs": [],
   "source": [
    "Base 26"
   ]
  },
  {
   "cell_type": "markdown",
   "metadata": {},
   "source": [
    "<h2 style=\"padding:0.5em 0;font:Garamond;font-size:1.2em;color:#FA0;background-color:#005\">\n",
    "Pregunta 3: A quina columna corresponen els nombres:\n",
    "</h2>"
   ]
  },
  {
   "cell_type": "markdown",
   "metadata": {},
   "source": [
    "- 107\n",
    "- 1000\n",
    "- 1100\n",
    "\n",
    "Raona la teva resposta"
   ]
  },
  {
   "cell_type": "code",
   "execution_count": 14,
   "metadata": {},
   "outputs": [
    {
     "data": {
      "text/plain": [
       "'DC'"
      ]
     },
     "execution_count": 14,
     "metadata": {},
     "output_type": "execute_result"
    }
   ],
   "source": [
    "columnesExcel(107)"
   ]
  },
  {
   "cell_type": "code",
   "execution_count": 15,
   "metadata": {},
   "outputs": [
    {
     "data": {
      "text/plain": [
       "'ALL'"
      ]
     },
     "execution_count": 15,
     "metadata": {},
     "output_type": "execute_result"
    }
   ],
   "source": [
    "columnesExcel(1000)"
   ]
  },
  {
   "cell_type": "code",
   "execution_count": 16,
   "metadata": {},
   "outputs": [
    {
     "data": {
      "text/plain": [
       "'APH'"
      ]
     },
     "execution_count": 16,
     "metadata": {},
     "output_type": "execute_result"
    }
   ],
   "source": [
    "columnesExcel(1100)"
   ]
  },
  {
   "cell_type": "markdown",
   "metadata": {},
   "source": [
    "<p style=\"text-align:right;font-size:0.9em\">\n",
    "&copy;Jordi Vitrià i Mireia Ribera\n",
    "</p>"
   ]
  }
 ],
 "metadata": {
  "kernelspec": {
   "display_name": "Python 3",
   "language": "python",
   "name": "python3"
  },
  "language_info": {
   "codemirror_mode": {
    "name": "ipython",
    "version": 3
   },
   "file_extension": ".py",
   "mimetype": "text/x-python",
   "name": "python",
   "nbconvert_exporter": "python",
   "pygments_lexer": "ipython3",
   "version": "3.6.5"
  }
 },
 "nbformat": 4,
 "nbformat_minor": 2
}
