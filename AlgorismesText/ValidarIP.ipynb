{
 "cells": [
  {
   "cell_type": "markdown",
   "metadata": {},
   "source": [
    "<p style=\"text-align:right;font-size:0.9em\">\n",
    "Grau d'Enginyeria Informàtica. Algorísmica. Curs 2017-2018\n",
    "</p>"
   ]
  },
  {
   "cell_type": "markdown",
   "metadata": {},
   "source": [
    "<h1 style=\"padding:0.5em 0;font:Garamond;font-size:1-5em;color:#F90;background-color:#005\">\n",
    "Problema: Validar adreça IP\n",
    "</h1>"
   ]
  },
  {
   "cell_type": "markdown",
   "metadata": {},
   "source": [
    "<p style=\"font-family:Arial;font-size:1em\">\n",
    "Validar una adreça IPv4. Una adreça IPv4 vàlida ha de tenir la forma XXX.XXX.XXX.XXX en la que cada seqüència XXX pot prendre valors entre 0 i 255.</p>"
   ]
  },
  {
   "cell_type": "markdown",
   "metadata": {},
   "source": [
    "<div style=\"font-style:italic\">\n",
    "Per exemple:\n",
    "<ul>\n",
    "<li>IP=1.0.0.9</li>\n",
    "<li>Solució:\n",
    "   <ul>\n",
    "   <li>L’adreça IP 1.0.0.9 és vàlida</li>\n",
    "   </ul>\n",
    "</li>\n",
    "<li>IP=255.8.255.120</li>\n",
    "<li>Solució:\n",
    "   <ul>\n",
    "   <li>L’adreça IP 255.8.255.120 és vàlida</li>\n",
    "   </ul>\n",
    "</li>\n",
    "<li>IP=100.xyz.1.15</li>\n",
    "<li>Solució:\n",
    "   <ul>\n",
    "   <li>L’adreça IP 100.xyz.1.15 no és vàlida</li>\n",
    "   </ul>\n",
    "</li>\n",
    "<li>IP=50.35.6</li>\n",
    "<li>Solució:\n",
    "   <ul>\n",
    "   <li>L’adreça IP 50.35.6 no és vàlida</li>\n",
    "   </ul>\n",
    "</li>\n",
    "</ul>\n",
    "</div>"
   ]
  },
  {
   "cell_type": "code",
   "execution_count": 3,
   "metadata": {},
   "outputs": [
    {
     "name": "stdout",
     "output_type": "stream",
     "text": [
      "False\n",
      "True\n",
      "True\n",
      "False\n"
     ]
    }
   ],
   "source": [
    "def validate_ip(s):\n",
    "    a = s.split('.')\n",
    "    if len(a) != 4:\n",
    "        return False\n",
    "    for x in a:\n",
    "        if not x.isdigit():\n",
    "            return False\n",
    "        i = int(x)\n",
    "        if i < 0 or i > 255:\n",
    "            return False\n",
    "    return True\n",
    "print(validate_ip(\"100.xyz.1.15\"))\n",
    "print(validate_ip(\"1.0.0.9\"))\n",
    "print(validate_ip(\"255.8.255.120\"))\n",
    "print(validate_ip(\"50.35.6\"))"
   ]
  },
  {
   "cell_type": "markdown",
   "metadata": {},
   "source": [
    "<h2 style=\"height:2.5em;padding:0.5em 0;font:Garamond;font-size:1.2em;color:#FA0;background-color:#005\">\n",
    "Pregunta 1: Quina solució hauria de donar per als següents valors:\n",
    "</h2>"
   ]
  },
  {
   "cell_type": "markdown",
   "metadata": {},
   "source": [
    "- IP:115.300.10.60\n",
    "- IP:255.255.255.255\n",
    "- IP:0000\n",
    "- IP:1.0.0.0009       "
   ]
  },
  {
   "cell_type": "code",
   "execution_count": null,
   "metadata": {},
   "outputs": [],
   "source": [
    "# Inserir aquí les respostes"
   ]
  },
  {
   "cell_type": "markdown",
   "metadata": {},
   "source": [
    "## Pregunta 2: Reescriu el codi de la solució usant expressions regulars\n",
    "\n",
    "Abans de fer el programa, quines IPs són vàlides i quines no?"
   ]
  },
  {
   "cell_type": "code",
   "execution_count": 5,
   "metadata": {},
   "outputs": [
    {
     "name": "stdout",
     "output_type": "stream",
     "text": [
      "Vàlida\n",
      "No vàlida\n",
      "No vàlida\n"
     ]
    }
   ],
   "source": [
    "import re\n",
    "patro = r\"^(([0-9]|[1-9][0-9]|1[0-9]{2}|2[0-4][0-9]|25[0-5])\\.){3}([0-9]|[1-9][0-9]|1[0-9]{2}|2[0-4][0-9]|25[0-5])$\"\n",
    "\n",
    "ip = re.compile(patro)\n",
    "\n",
    "if ip.search(\"73.60.124.136\"):\n",
    "    print(\"Vàlida\")\n",
    "else:\n",
    "    print(\"No vàlida\")\n",
    "\n",
    "if ip.search(\"256.60.124.136\"):\n",
    "    print(\"Vàlida\")\n",
    "else:\n",
    "    print(\"No vàlida\")\n",
    "    \n",
    "if ip.search(\"30.168.1.255.1\"):\n",
    "    print(\"Vàlida\")\n",
    "else:\n",
    "    print(\"No vàlida\")"
   ]
  },
  {
   "cell_type": "markdown",
   "metadata": {},
   "source": [
    "<p style=\"text-align:right;font-size:0.9em\">\n",
    "&copy;Jordi Vitrià i Mireia Ribera\n",
    "</p>"
   ]
  }
 ],
 "metadata": {
  "kernelspec": {
   "display_name": "Python 3",
   "language": "python",
   "name": "python3"
  },
  "language_info": {
   "codemirror_mode": {
    "name": "ipython",
    "version": 3
   },
   "file_extension": ".py",
   "mimetype": "text/x-python",
   "name": "python",
   "nbconvert_exporter": "python",
   "pygments_lexer": "ipython3",
   "version": "3.6.5"
  }
 },
 "nbformat": 4,
 "nbformat_minor": 2
}
