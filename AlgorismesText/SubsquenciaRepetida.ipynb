{
 "cells": [
  {
   "cell_type": "markdown",
   "metadata": {},
   "source": [
    "<p style=\"text-align:right;font-size:0.9em\">\n",
    "Grau d'Enginyeria Informàtica. Algorísmica. Curs 2017-2018\n",
    "</p>"
   ]
  },
  {
   "cell_type": "markdown",
   "metadata": {},
   "source": [
    "<h1 style=\"padding:0.5em 0;font:Garamond;font-size:1-5em;color:#F90;background-color:#005\">\n",
    "Problema: Subseqüència repetida\n",
    "</h1>"
   ]
  },
  {
   "cell_type": "markdown",
   "metadata": {},
   "source": [
    "<p style=\"font-family:Arial;font-size:1em\">\n",
    "Donada una cadena de caràcters verificar si conté una seqüència de caràcters repetida. La seqüència ha de contenir com a mínim 2 caràcters.\n",
    "</p>"
   ]
  },
  {
   "cell_type": "markdown",
   "metadata": {},
   "source": [
    "<div style=\"font-style:italic\">\n",
    "Per exemple:\n",
    "<ul>\n",
    "<li>XYBAXB conté XB com a seqüència repetida, ja que  X-B-XB</li>\n",
    "<li>XBXXAXB conté XX com a seqüència repetida, ja que X-XX-X-</li>\n",
    "<li>ABCA no conté cap seqüència repetida</li>\n",
    "<li>ABBA no conté cap seqüència repetida</li>\n",
    "<li>XYBYAXBY conté XB, XY, YY, YB i YBY com a seqüències repetides, ja que X-B--XB-, XY---X-Y, -Y-Y--Y, -YBY--B-, -YBY--BY</li>\n",
    "</ul>\n",
    "</div>"
   ]
  },
  {
   "cell_type": "code",
   "execution_count": null,
   "metadata": {},
   "outputs": [],
   "source": [
    "The idea is to remove all the non-repeated characters from the string and check if \n",
    "the resultant string is palindrome or not. If the remaining string is palindrome \n",
    "then it is not repeated, else there is a repetition. One special case we need to \n",
    "handle for inputs like “AAA”, which are palindrome but their repeated subsequence exists. \n",
    "Repeated subsequence exists for a \n",
    "palindrome string if it is of odd length and its middle letter is same as left(or right) character."
   ]
  },
  {
   "cell_type": "code",
   "execution_count": 33,
   "metadata": {},
   "outputs": [
    {
     "name": "stdout",
     "output_type": "stream",
     "text": [
      "(True, ['X', 'B', 'X', 'B'])\n",
      "(True, ['X', 'B', 'X', 'X', 'X', 'B'])\n",
      "False\n",
      "False\n",
      "(True, ['X', 'Y', 'B', 'Y', 'X', 'B', 'Y'])\n"
     ]
    }
   ],
   "source": [
    "def repeatedSeq(string):\n",
    "    llistNonRepeat = []\n",
    "    llistRepeat = [char for char in string]\n",
    "    sette = set(string)\n",
    "    Dicc = {key:0 for key in sette}\n",
    "    for char in string:\n",
    "        if char in Dicc.keys():\n",
    "            Dicc[char] += 1\n",
    "    for keys in Dicc.keys():\n",
    "        if Dicc[keys]<=1:\n",
    "            llistNonRepeat.append(keys)\n",
    "    llistRepeat = [value for value in llistRepeat if not value in llistNonRepeat]\n",
    "    if not llistRepeat:\n",
    "        return False\n",
    "    else:\n",
    "        string = \"\".join(llistRepeat)\n",
    "        mid = len(string)//2\n",
    "        if (string[::1] == string[::-1]):\n",
    "            if len(string)%2 != 0:\n",
    "                if (string[mid] == string[mid-1]) or (string[mid] == string[mid+1]):\n",
    "                    return True\n",
    "            return False\n",
    "        return True, llistRepeat\n",
    "        \n",
    "        \n",
    "    \n",
    "            \n",
    "print(repeatedSeq(\"XYBAXB\"))\n",
    "print(repeatedSeq(\"XBXXAXB\"))\n",
    "print(repeatedSeq(\"ABCA\"))\n",
    "print(repeatedSeq(\"ABBA\"))\n",
    "print(repeatedSeq(\"XYBYAXBY\"))"
   ]
  },
  {
   "cell_type": "markdown",
   "metadata": {},
   "source": [
    "<h2 style=\"padding:0.5em 0;font:Garamond;font-size:1.2em;color:#FA0;background-color:#005\">\n",
    "Pregunta 1: Abans de programar penseu en 3 exemples que posin a prova l'algorisme i en la seva solució.\n",
    "</h2>"
   ]
  },
  {
   "cell_type": "code",
   "execution_count": 18,
   "metadata": {},
   "outputs": [
    {
     "name": "stdout",
     "output_type": "stream",
     "text": [
      "(True, ['X', 'B', 'X', 'B'])\n",
      "(True, ['X', 'B', 'X', 'X', 'X', 'B'])\n",
      "False\n",
      "False\n",
      "(True, ['X', 'Y', 'B', 'Y', 'X', 'B', 'Y'])\n"
     ]
    }
   ],
   "source": [
    "def repeatedSeq(s):\n",
    "    lstRepeat = []\n",
    "    lstChar = [char for char in s]\n",
    "    Dicc = {key:s.count(key) for key in s}\n",
    "    for keys in Dicc.keys():\n",
    "        if Dicc[keys] > 1:\n",
    "            lstRepeat.append(keys)\n",
    "    llistRepeat = [value for value in lstChar if value in lstRepeat]\n",
    "    if not llistRepeat:\n",
    "        return False\n",
    "    else:\n",
    "        string = \"\".join(llistRepeat)\n",
    "        mid = len(string)//2\n",
    "        if (string[::1] == string[::-1]):\n",
    "            if len(string)%2 != 0:\n",
    "                if (string[mid] == string[mid-1]) or (string[mid] == string[mid+1]):\n",
    "                    return True\n",
    "            return False\n",
    "        return True, llistRepeat\n",
    "    \n",
    "print(repeatedSeq(\"XYBAXB\"))\n",
    "print(repeatedSeq(\"XBXXAXB\"))\n",
    "print(repeatedSeq(\"ABCA\"))\n",
    "print(repeatedSeq(\"ABBA\"))\n",
    "print(repeatedSeq(\"XYBYAXBY\"))"
   ]
  },
  {
   "cell_type": "markdown",
   "metadata": {},
   "source": [
    "<h2 style=\"padding:0.5em 0;font:Garamond;font-size:1.2em;color:#FA0;background-color:#005\">\n",
    "Pregunta 2: Quines col.leccions has usat? Perquè?\n",
    "</h2>"
   ]
  },
  {
   "cell_type": "code",
   "execution_count": 16,
   "metadata": {},
   "outputs": [
    {
     "name": "stdout",
     "output_type": "stream",
     "text": [
      "['X', 'B', 'X', 'B']\n",
      "None\n",
      "['X', 'B', 'X', 'X', 'X', 'B']\n",
      "None\n",
      "['A', 'A']\n",
      "None\n",
      "['A', 'B', 'B', 'A']\n",
      "None\n",
      "['X', 'Y', 'B', 'Y', 'X', 'B', 'Y']\n",
      "None\n"
     ]
    }
   ],
   "source": [
    "def repeatSe(string):\n",
    "    llistNonRepeat = []\n",
    "    llistRepeat = [char for char in string]\n",
    "    sette = set(string)\n",
    "    Dicc = {key:0 for key in sette}\n",
    "    for char in string:\n",
    "        if char in Dicc.keys():\n",
    "            Dicc[char] += 1\n",
    "    for keys in Dicc.keys():\n",
    "        if Dicc[keys]<=1:\n",
    "            llistNonRepeat.append(keys)\n",
    "    llistRepeat = [value for value in llistRepeat if not value in llistNonRepeat]\n",
    "    print(llistRepeat)\n",
    "\n",
    "print(repeatSe(\"XYBAXB\"))\n",
    "print(repeatSe(\"XBXXAXB\"))\n",
    "print(repeatSe(\"ABCA\"))\n",
    "print(repeatSe(\"ABBA\"))\n",
    "print(repeatSe(\"XYBYAXBY\"))    "
   ]
  },
  {
   "cell_type": "markdown",
   "metadata": {},
   "source": [
    "<h2 style=\"padding:0.5em 0;font:Garamond;font-size:1.2em;color:#FA0;background-color:#005\">\n",
    "Pregunta 3: Enumera les operacions que has fet amb aquestes col.leccions i busca la seva complexitat. Calcula la complexitat de tot l'algorisme\n",
    "</h2>"
   ]
  },
  {
   "cell_type": "code",
   "execution_count": 4,
   "metadata": {
    "collapsed": true
   },
   "outputs": [],
   "source": [
    "# Inserir aquí les respostes"
   ]
  },
  {
   "cell_type": "markdown",
   "metadata": {},
   "source": [
    "<p style=\"text-align:right;font-size:0.9em\">\n",
    "&copy;Jordi Vitrià i Mireia Ribera\n",
    "</p>"
   ]
  }
 ],
 "metadata": {
  "kernelspec": {
   "display_name": "Python 3",
   "language": "python",
   "name": "python3"
  },
  "language_info": {
   "codemirror_mode": {
    "name": "ipython",
    "version": 3
   },
   "file_extension": ".py",
   "mimetype": "text/x-python",
   "name": "python",
   "nbconvert_exporter": "python",
   "pygments_lexer": "ipython3",
   "version": "3.6.5"
  }
 },
 "nbformat": 4,
 "nbformat_minor": 2
}
