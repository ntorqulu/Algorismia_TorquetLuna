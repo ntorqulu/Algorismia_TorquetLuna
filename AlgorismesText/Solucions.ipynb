{
 "cells": [
  {
   "cell_type": "markdown",
   "metadata": {},
   "source": [
    "1. ACRONIM"
   ]
  },
  {
   "cell_type": "code",
   "execution_count": 1,
   "metadata": {},
   "outputs": [
    {
     "data": {
      "text/plain": [
       "'LNELM'"
      ]
     },
     "execution_count": 1,
     "metadata": {},
     "output_type": "execute_result"
    }
   ],
   "source": [
    "def acronim(s):\n",
    "    return \"\".join([e[0].upper() for e in s.split()])\n",
    "acronim(\"La nuria es la millor\")"
   ]
  },
  {
   "cell_type": "markdown",
   "metadata": {},
   "source": [
    "2. ALFABET FONÈTIC"
   ]
  },
  {
   "cell_type": "code",
   "execution_count": 9,
   "metadata": {},
   "outputs": [
    {
     "data": {
      "text/plain": [
       "'November Uniform Romeo India Alpha'"
      ]
     },
     "execution_count": 9,
     "metadata": {},
     "output_type": "execute_result"
    }
   ],
   "source": [
    "def phonetic(s):\n",
    "    \n",
    "\n",
    "    phoneticDictinary = {'A':'Alpha', 'B':'Bravo','C':'Charlie', 'D':'Delta', 'E':'Echo', \n",
    "                         'F':'Foxtrot', 'G':'Golf', 'I':'India', 'J':'Juliet', 'K':'Kilo', \n",
    "                         'L':'Lima', 'M':'Mike', 'N':'November', 'O':'Oscar', 'P':'Papa', \n",
    "                         'Q':'Quebec', 'R':'Romeo', 'S':'Sierra', 'T':'Tango', 'U':'Uniform',\n",
    "                         'V':'Victor', 'W':'Whiskey', 'X':'Xray', 'Y':'Yankee', 'Z':'Zulu'}\n",
    "    phon  = [phoneticDictinary[w.upper()] for w in s]\n",
    "    return \" \".join(phon)\n",
    "\n",
    "phonetic(\"nuria\")"
   ]
  },
  {
   "cell_type": "markdown",
   "metadata": {},
   "source": [
    "3. CODIS POSTALS"
   ]
  },
  {
   "cell_type": "code",
   "execution_count": 16,
   "metadata": {},
   "outputs": [
    {
     "name": "stdout",
     "output_type": "stream",
     "text": [
      "SW1A 0AA\n",
      "SW1A 1AA\n",
      "SW1A 2AA\n",
      "BX3 2BB\n",
      "DH98 1BT\n",
      "N1 9GU\n",
      "E98 1TT\n",
      "\n",
      "\n",
      "EC2N 2DB\n",
      "SE9 2UG\n",
      "N1 0UY\n",
      "EC1V 8DS\n",
      "WC1X 9DT\n",
      "B42 1LG\n",
      "B28 9AD\n",
      "W12 7RJ\n",
      "\n"
     ]
    }
   ],
   "source": [
    "def postcards():\n",
    "    import re\n",
    "    codes = [\"SW1A 0AA\", # House of Commons\n",
    "                 \"SW1A 1AA\", # Buckingham Palace\n",
    "                 \"SW1A 2AA\", # Downing Street\n",
    "                 \"BX3 2BB\", # Barclays Bank\n",
    "                 \"DH98 1BT\", # British Telecom\n",
    "                 \"N1 9GU\", # Guardian Newspaper\n",
    "                 \"E98 1TT\", # The Times\n",
    "                 \"TIM E22\", # a fake postcode\n",
    "                 \"A B1 A22\", # not a valid postcode\n",
    "                 \"EC2N 2DB\", # Deutsche Bank\n",
    "                 \"SE9 2UG\", # University of Greenwhich\n",
    "                 \"N1 0UY\", # Islington, London\n",
    "                 \"EC1V 8DS\", # Clerkenwell, London\n",
    "                 \"WC1X 9DT\", # WC1X 9DT\n",
    "                 \"B42 1LG\", # Birmingham\n",
    "                 \"B28 9AD\", # British Radio \n",
    "                 \"W12 7RJ\", # London, BBC News Centre\n",
    "                 \"BBC 007\" # not a valid postcode\n",
    "                ]\n",
    "    re_pattern = r\"[A-Z]{1,2}[\\d|R][A-Z|\\d]? [\\d][A-Z^CIKMOV]{2}\"\n",
    "    for postcard in codes:\n",
    "        re_search = re.search(re_pattern, postcard)\n",
    "        if re_search:\n",
    "            print(postcard) \n",
    "        else:\n",
    "            print() \n",
    "\n",
    "    \n",
    "postcards()            "
   ]
  },
  {
   "cell_type": "markdown",
   "metadata": {},
   "source": [
    "4. LEVENSHTEIN"
   ]
  },
  {
   "cell_type": "code",
   "execution_count": null,
   "metadata": {},
   "outputs": [],
   "source": [
    "import time\n",
    "def levenshtein(text, pattern):\n",
    "    col = len(text) + 1\n",
    "    row = len(pattern) + 1\n",
    "    distance_matrix = [[0] * col for x in range(row)]\n",
    "    for i in range(row):\n",
    "        distance_matrix[i][0] = i\n",
    "    for i in range(row):\n",
    "        for j in range(col):\n",
    "            deletion = distance_matrix[i][j-1] + 2 \n",
    "            insertion = distance_matrix[i-1][j] + 2\n",
    "            substitution = distance_matrix[i-1][j-1]\n",
    "            if text[j-1] != pattern[i-1]:\n",
    "                substitution += 1\n",
    "            distance_matrix[i][j] = min(deletion, insertion, substitution)\n",
    "    return distance_matrix\n",
    "\n",
    "def dna(arr_patterns):\n",
    "    file = open(\"HUMAN-DNA.txt\", \"r\")\n",
    "    txt = file.readlines()\n",
    "    for pattern in arr_patterns:\n",
    "        t1 = time.clock()\n",
    "        minCost = len(pattern)\n",
    "        inLine = 0\n",
    "        numLine = 0\n",
    "        for line in txt:\n",
    "            distance = levenshtein(line, pattern)\n",
    "            newMinCost = min(distance[-1])\n",
    "            if newMinCost < minCost:\n",
    "                minCost = newMinCost\n",
    "                inLine = numLine\n",
    "                if not minCost:\n",
    "                    break\n",
    "            numLine += 1\n",
    "        t2 = time.clock()\n",
    "        print(\"El patro\", pattern, \"es troba a la linia\", inLine, \"i la seva distancia edicio es\",\n",
    "             minCost, \"amb un temps\", (t2-t1))\n",
    "dna(['AGATACATTAGACAATAGAGATGTGGTC','GTCAGTCTGGCCTTGCCATTGGTGCCACCA','TACCGAGAAGCTGGATTACAGCATGTACCATCAT'])   "
   ]
  },
  {
   "cell_type": "markdown",
   "metadata": {},
   "source": [
    "5. LEVENSHTEIN BACKTRACKING"
   ]
  },
  {
   "cell_type": "code",
   "execution_count": null,
   "metadata": {},
   "outputs": [],
   "source": [
    "def dna2():\n",
    "    pattern = \"GGCCTTGCCATTGG\"\n",
    "    file = open(\"HUMAN-DNA.txt\", \"r\")\n",
    "    txt = file.readlines()\n",
    "    for i in range(10):\n",
    "        line = txt[i]\n",
    "        distance = levenshtein(line, pattern)\n",
    "        lastLine = distance[-1]\n",
    "        minCost = min(distance[-1])\n",
    "        arrPos = []\n",
    "        pos = 0\n",
    "        for column in lastLine:\n",
    "            if column == minCost:\n",
    "                arrPos.append(pos)\n",
    "            pos += 1\n",
    "    print(\"En l'última columna tenim\", len(arrPos), \"substrings que podrien aspirar a ser el\" + \n",
    "          \"substring de min distancia amb un cost\", minCost)\n",
    "    for item in arrPos:\n",
    "        endSubstring = item\n",
    "        col = endSubstring\n",
    "        row = len(pattern)\n",
    "        while row > 1:\n",
    "            deletion = distance[row][col-1]\n",
    "            insertion = distance[row-1][col]\n",
    "            substitution = distance[row-1][col-1]\n",
    "            if pattern[row-1] != line[col-1]:\n",
    "                substitution -= 1\n",
    "            minValue = min(deletion, insertion, substitution)\n",
    "            if minValue == deletion:\n",
    "                col -=1\n",
    "            elif minValue == insertion:\n",
    "                row -=1\n",
    "            else:\n",
    "                row, col = row-1, col-1\n",
    "        startSubstring = col - 1\n",
    "        finalSubstring = line[startSubstring:endSubstring]\n",
    "        print(finalSubstring)\n",
    "dna2()"
   ]
  },
  {
   "cell_type": "markdown",
   "metadata": {},
   "source": [
    "7. RUN LENGTH ENCODING:"
   ]
  },
  {
   "cell_type": "code",
   "execution_count": 1,
   "metadata": {},
   "outputs": [
    {
     "data": {
      "text/plain": [
       "[('B', 4), ('C', 4), ('R', 4), ('N', 3), ('A', 3), ('B', 3)]"
      ]
     },
     "execution_count": 1,
     "metadata": {},
     "output_type": "execute_result"
    }
   ],
   "source": [
    "def runLengthEncoding(string):\n",
    "    prev = ''\n",
    "    count = 1\n",
    "    lst = []\n",
    "    string+= \"_\"\n",
    "    for char in string:\n",
    "        if char != prev:\n",
    "            if prev:\n",
    "                entry = (prev, count)\n",
    "                lst.append(entry)\n",
    "            count = 1\n",
    "            prev = char\n",
    "        else:\n",
    "            count += 1\n",
    "    return lst\n",
    "\n",
    "runLengthEncoding(\"BBBBCCCCRRRRNNNAAABBB\")"
   ]
  },
  {
   "cell_type": "markdown",
   "metadata": {},
   "source": [
    "8. LONGEST SUBSTRING"
   ]
  },
  {
   "cell_type": "code",
   "execution_count": 28,
   "metadata": {},
   "outputs": [
    {
     "data": {
      "text/plain": [
       "'namesl'"
      ]
     },
     "execution_count": 28,
     "metadata": {},
     "output_type": "execute_result"
    }
   ],
   "source": [
    "def LS(s):\n",
    "    start, end = 0, 0\n",
    "    longest = ''\n",
    "    char_set = set()\n",
    "    while end + 1 < len(s):\n",
    "        end += 1\n",
    "        cur_char = s[end-1]\n",
    "        if cur_char not in char_set:\n",
    "            char_set.add(cur_char)\n",
    "            if end-start > len(longest):\n",
    "                longest = s[start:end]\n",
    "            continue\n",
    "        else:\n",
    "            while start < end-1:\n",
    "                if s[start] != cur_char:\n",
    "                    char_set.remove(s[start])\n",
    "                    start += 1\n",
    "                else:\n",
    "                    start+= 1\n",
    "                    break\n",
    "    return longest\n",
    "            \n",
    "\n",
    "        \n",
    "LS(\"lacadenamesllarga\")   "
   ]
  },
  {
   "cell_type": "markdown",
   "metadata": {},
   "source": [
    "9. Subseqüencia comuna més llarga"
   ]
  },
  {
   "cell_type": "code",
   "execution_count": 12,
   "metadata": {},
   "outputs": [
    {
     "ename": "SyntaxError",
     "evalue": "invalid syntax (<ipython-input-12-cd99d49638ca>, line 1)",
     "output_type": "error",
     "traceback": [
      "\u001b[0;36m  File \u001b[0;32m\"<ipython-input-12-cd99d49638ca>\"\u001b[0;36m, line \u001b[0;32m1\u001b[0m\n\u001b[0;31m    1. AMB DICCIONARIS:\u001b[0m\n\u001b[0m         ^\u001b[0m\n\u001b[0;31mSyntaxError\u001b[0m\u001b[0;31m:\u001b[0m invalid syntax\n"
     ]
    }
   ],
   "source": [
    "1. AMB DICCIONARIS:\n",
    "\n",
    "def subSComuOpt(cadena1, cadena2,diccSolucions):\n",
    "    len1 = len(cadena1)\n",
    "    len2 = len(cadena2)\n",
    "    diccSolucions = {}\n",
    "    \n",
    "    if not(cadena1 +\"|\" + cadena2 in diccSolucions):\n",
    "        \n",
    "        if len1 == 0 or len2 == 0:\n",
    "            diccSolucions[cadena1 +\"|\" + cadena2] = 0\n",
    "        \n",
    "        elif cadena1[len1-1] == cadena2[len2-1]:\n",
    "            diccSolucions[cadena1 +\"|\" + cadena2] = \\\n",
    "            subSComuOpt(cadena1[0:len1-1], cadena2[0:len2-1], diccSolucions) + 1\n",
    "        else:\n",
    "            solucio1 = subSComuOpt(cadena1[0:len1-1], cadena2, diccSolucions)\n",
    "            solucio2 = subSComuOpt(cadena1, cadena2[0:len2-1], diccSolucions)\n",
    "            diccSolucions[cadena1 +\"|\" + cadena2] = max(solucio1, solucio2)\n",
    "    return diccSolucions[cadena1 +\"|\" + cadena2]\n",
    "\n",
    "    \n",
    "subSComuOpt('XMJYAUZ','MZJAWU',{})"
   ]
  },
  {
   "cell_type": "code",
   "execution_count": 45,
   "metadata": {},
   "outputs": [
    {
     "data": {
      "text/plain": [
       "4"
      ]
     },
     "execution_count": 45,
     "metadata": {},
     "output_type": "execute_result"
    }
   ],
   "source": [
    "'''\n",
    "2. AMB TAULA\n",
    "'''\n",
    "\n",
    "def subSComuTaula(s1, s2):\n",
    "    len1 = len(s1)\n",
    "    len2 = len(s2)\n",
    "    taulaSolucions = []\n",
    "    for j in range(0, len2 + 1):\n",
    "        fila = [0]* (len1 + 1)\n",
    "        taulaSolucions.append(fila)\n",
    "    for j in range(1, len1+1):\n",
    "        for i in range(1, len2 +1):\n",
    "            temp = max(taulaSolucions[i-1][j], taulaSolucions[i][j-1])\n",
    "            if s1[j-1] == s2[i-1]:\n",
    "                taulaSolucions[i][j] = taulaSolucions[i-1][j-1] +1\n",
    "            else:\n",
    "                taulaSolucions[i][j] = temp\n",
    "    return (taulaSolucions[len2][len1])\n",
    "subSComuTaula('XMJYAUZ','MZJAWU')"
   ]
  },
  {
   "cell_type": "markdown",
   "metadata": {},
   "source": [
    "10. Subsequencia palindrom més llarga"
   ]
  },
  {
   "cell_type": "code",
   "execution_count": 64,
   "metadata": {},
   "outputs": [
    {
     "name": "stdout",
     "output_type": "stream",
     "text": [
      "[[1, 1, 1, 3, 3, 5, 5, 5, 5, 7, 9], [0, 1, 1, 3, 3, 3, 3, 3, 5, 7, 9], [0, 0, 1, 1, 1, 1, 1, 3, 5, 7, 7], [0, 0, 0, 1, 1, 1, 1, 3, 5, 5, 7], [0, 0, 0, 0, 1, 1, 1, 3, 5, 5, 5], [0, 0, 0, 0, 0, 1, 1, 3, 3, 3, 3], [0, 0, 0, 0, 0, 0, 1, 1, 1, 1, 1], [0, 0, 0, 0, 0, 0, 0, 1, 1, 1, 1], [0, 0, 0, 0, 0, 0, 0, 0, 1, 1, 1], [0, 0, 0, 0, 0, 0, 0, 0, 0, 1, 1], [0, 0, 0, 0, 0, 0, 0, 0, 0, 0, 1]]\n",
      "The length of the LPS is 9\n"
     ]
    }
   ],
   "source": [
    "# A Dynamic Programming based Python  \n",
    "# program for LPS problem Returns the length \n",
    "# of the longest palindromic subsequence in seq \n",
    "def lps(str): \n",
    "    n = len(str) \n",
    "  \n",
    "    # Create a table to store results of subproblems \n",
    "    L = [[0 for x in range(n)] for x in range(n)] \n",
    "  \n",
    "    # Strings of length 1 are palindrome of length 1 \n",
    "    for i in range(n): \n",
    "        L[i][i] = 1\n",
    "  \n",
    "    # Build the table. Note that the lower  \n",
    "    # diagonal values of table are \n",
    "    # useless and not filled in the process.  \n",
    "    # The values are filled in a \n",
    "    # manner similar to Matrix Chain  \n",
    "    # Multiplication DP solution (See \n",
    "    # https://www.geeksforgeeks.org/ \n",
    "    # dynamic-programming-set-8-matrix-chain-multiplication/ \n",
    "    # cl is length of substring \n",
    "    for cl in range(2, n + 1): \n",
    "        for i in range(n-cl + 1): \n",
    "            j = i + cl-1\n",
    "            if str[i] == str[j] and cl == 2: \n",
    "                L[i][j] = 2\n",
    "            elif str[i] == str[j]: \n",
    "                L[i][j] = L[i + 1][j-1] + 2\n",
    "            else: \n",
    "                L[i][j] = max(L[i][j-1], L[i + 1][j])\n",
    "    print(L)\n",
    "  \n",
    "    return L[0][n-1] \n",
    "  \n",
    "# Driver program to test above functions \n",
    "seq = \"APXPRABARXP\"\n",
    "n = len(seq) \n",
    "print(\"The length of the LPS is \" + str(lps(seq))) \n",
    "  \n",
    "# This code is contributed by Bhavya Jain "
   ]
  },
  {
   "cell_type": "code",
   "execution_count": 54,
   "metadata": {},
   "outputs": [
    {
     "data": {
      "text/plain": [
       "9"
      ]
     },
     "execution_count": 54,
     "metadata": {},
     "output_type": "execute_result"
    }
   ],
   "source": [
    "def LPS(s):\n",
    "    n = len(s)\n",
    "    L = [[0 for x in range(n)] for x in range(n)]\n",
    "    \n",
    "    for i in range(n):\n",
    "        L[i][i] = 1\n",
    "    for cl in range(2, n+1):\n",
    "        for i in range(n - cl + 1):\n",
    "            j = i + cl -1\n",
    "            \n",
    "            if s[i] == s[j] and cl == 2:\n",
    "                L[i][j] = 2\n",
    "            elif s[i] == s[j]:\n",
    "                L[i][j] = L[i+1][j-1] + 2\n",
    "            else:\n",
    "                L[i][j] = max(L[i+1][j], L[i][j-1])\n",
    "    return L[0][n-1]\n",
    "\n",
    "LPS(\"APXPRABARXP\")"
   ]
  },
  {
   "cell_type": "markdown",
   "metadata": {},
   "source": [
    "10.Subseqüència repetida més llarga"
   ]
  },
  {
   "cell_type": "code",
   "execution_count": 1,
   "metadata": {},
   "outputs": [
    {
     "name": "stdout",
     "output_type": "stream",
     "text": [
      "['X', 'B', 'X', 'B']\n",
      "(True, ['X', 'B', 'X', 'B'])\n",
      "['X', 'B', 'X', 'X', 'X', 'B']\n",
      "(True, ['X', 'B', 'X', 'X', 'X', 'B'])\n",
      "['A', 'A']\n",
      "False\n",
      "['A', 'B', 'B', 'A']\n",
      "False\n",
      "['X', 'Y', 'B', 'Y', 'X', 'B', 'Y']\n",
      "(True, ['X', 'Y', 'B', 'Y', 'X', 'B', 'Y'])\n"
     ]
    }
   ],
   "source": [
    "def RLS(s):\n",
    "    llstRepeat = []\n",
    "    llstChar = [char for char in s]\n",
    "    Dicc = {key: s.count(key) for key in s}\n",
    "    for key in Dicc.keys():\n",
    "        if Dicc[key] > 1:\n",
    "            llstRepeat.append(key)\n",
    "    llstFinal = [value for value in llstChar if value in llstRepeat]\n",
    "    print(llstFinal)\n",
    "    if not llstFinal:\n",
    "        return False\n",
    "    else:\n",
    "        string = \"\".join(llstFinal)\n",
    "        mid = len(string)//2\n",
    "        if(string[::] == string[::-1]):\n",
    "            if len(string)%2 != 0:\n",
    "                if string[mid] == string[mid+1] or string[mid] == string[mid-1]:\n",
    "                    return True\n",
    "            return False\n",
    "        return True, llstFinal\n",
    "print(RLS(\"XYBAXB\"))\n",
    "print(RLS(\"XBXXAXB\"))\n",
    "print(RLS(\"ABCA\"))\n",
    "print(RLS(\"ABBA\"))\n",
    "print(RLS(\"XYBYAXBY\"))"
   ]
  },
  {
   "cell_type": "markdown",
   "metadata": {},
   "source": [
    "11. Validar adreça IP"
   ]
  },
  {
   "cell_type": "code",
   "execution_count": null,
   "metadata": {},
   "outputs": [],
   "source": [
    "re_expression = (r\"^([0-9]|[1-9][0-9]|[1-9][0-9][0-9]|2[0-4][0-9]|25[0-5]\\.){3}([0-9]|[1-9][0-9]|[1-9][0-9][0-9]|2[0-4][0-9]|25[0-5]^$)"
   ]
  },
  {
   "cell_type": "code",
   "execution_count": null,
   "metadata": {},
   "outputs": [],
   "source": [
    "def IP(s):\n",
    "    a = s.split(\".\")\n",
    "    if len(a) != 4:\n",
    "        return False\n",
    "    for x in a:\n",
    "        if not x.isdigit():\n",
    "            return False\n",
    "        i = int(x)\n",
    "        if i < 0 or i > 255:\n",
    "            return False\n",
    "    return True"
   ]
  },
  {
   "cell_type": "markdown",
   "metadata": {},
   "source": [
    "12. Cifratge cesar"
   ]
  },
  {
   "cell_type": "code",
   "execution_count": 65,
   "metadata": {},
   "outputs": [
    {
     "name": "stdout",
     "output_type": "stream",
     "text": [
      "Introdueix un codi5\n",
      "Introdueix una frasegchgvhghjg\n",
      "LHMLAMLMOL\n"
     ]
    }
   ],
   "source": [
    "    L2I = dict(zip(\"ABCDEFGHIJKLMNOPQRSTUVWXYZ\",range(26)))\n",
    "    I2L = dict(zip(range(26),\"ABCDEFGHIJKLMNOPQRSTUVWXYZ\"))\n",
    "    \n",
    "    key = eval(input(\"Introdueix un codi\"))\n",
    "    plaintext = input(\"Introdueix una frase\")\n",
    "\n",
    "    # encipher\n",
    "    ciphertext = \"\"\n",
    "    for c in plaintext.upper():\n",
    "        if c.isalpha(): \n",
    "            ciphertext += I2L[ (L2I[c] + key) %26 ]\n",
    "        else: \n",
    "            ciphertext += c\n",
    "print(ciphertext)"
   ]
  },
  {
   "cell_type": "code",
   "execution_count": null,
   "metadata": {},
   "outputs": [],
   "source": []
  },
  {
   "cell_type": "code",
   "execution_count": 5,
   "metadata": {},
   "outputs": [
    {
     "data": {
      "text/plain": [
       "'namesl'"
      ]
     },
     "execution_count": 5,
     "metadata": {},
     "output_type": "execute_result"
    }
   ],
   "source": [
    "def SCR(s):\n",
    "    start, end = 0, 0\n",
    "    char_set = set()\n",
    "    longest = \"\"\n",
    "    while end < len(s):\n",
    "        end += 1\n",
    "        cur_char = s[end-1]\n",
    "        if cur_char not in char_set:\n",
    "            char_set.add(cur_char)\n",
    "            if end-start > len(longest):\n",
    "                longest = s[start:end]\n",
    "            continue\n",
    "        while start < end-1:\n",
    "            if s[start] != cur_char:\n",
    "                char_set.remove(s[start])\n",
    "                start+= 1\n",
    "            else:\n",
    "                start+=1\n",
    "                break\n",
    "    return longest\n",
    "SCR(\"lacadenamesllarga\") "
   ]
  },
  {
   "cell_type": "code",
   "execution_count": 11,
   "metadata": {},
   "outputs": [
    {
     "ename": "TypeError",
     "evalue": "'>' not supported between instances of 'str' and 'int'",
     "output_type": "error",
     "traceback": [
      "\u001b[0;31m---------------------------------------------------------------------------\u001b[0m",
      "\u001b[0;31mTypeError\u001b[0m                                 Traceback (most recent call last)",
      "\u001b[0;32m<ipython-input-11-5cdd00e1bca1>\u001b[0m in \u001b[0;36m<module>\u001b[0;34m()\u001b[0m\n\u001b[1;32m     14\u001b[0m     \u001b[0;32mreturn\u001b[0m \u001b[0mDiccSol\u001b[0m\u001b[0;34m[\u001b[0m\u001b[0ms1\u001b[0m\u001b[0;34m+\u001b[0m\u001b[0;34m\"|\"\u001b[0m\u001b[0;34m+\u001b[0m\u001b[0ms2\u001b[0m\u001b[0;34m]\u001b[0m\u001b[0;34m\u001b[0m\u001b[0m\n\u001b[1;32m     15\u001b[0m \u001b[0;34m\u001b[0m\u001b[0m\n\u001b[0;32m---> 16\u001b[0;31m \u001b[0mLCS\u001b[0m\u001b[0;34m(\u001b[0m\u001b[0;34m'XMJYAUZ'\u001b[0m\u001b[0;34m,\u001b[0m\u001b[0;34m'MZJAWU'\u001b[0m\u001b[0;34m,\u001b[0m\u001b[0;34m{\u001b[0m\u001b[0;34m}\u001b[0m\u001b[0;34m)\u001b[0m\u001b[0;34m\u001b[0m\u001b[0m\n\u001b[0m",
      "\u001b[0;32m<ipython-input-11-5cdd00e1bca1>\u001b[0m in \u001b[0;36mLCS\u001b[0;34m(s1, s2, DiccSol)\u001b[0m\n\u001b[1;32m      9\u001b[0m             \u001b[0mLCS\u001b[0m\u001b[0;34m(\u001b[0m\u001b[0ms1\u001b[0m\u001b[0;34m[\u001b[0m\u001b[0;36m0\u001b[0m\u001b[0;34m:\u001b[0m\u001b[0mm\u001b[0m\u001b[0;34m-\u001b[0m\u001b[0;36m1\u001b[0m\u001b[0;34m]\u001b[0m\u001b[0;34m,\u001b[0m \u001b[0ms2\u001b[0m\u001b[0;34m[\u001b[0m\u001b[0;36m0\u001b[0m\u001b[0;34m:\u001b[0m\u001b[0mn\u001b[0m\u001b[0;34m-\u001b[0m\u001b[0;36m1\u001b[0m\u001b[0;34m]\u001b[0m\u001b[0;34m,\u001b[0m \u001b[0mDiccSol\u001b[0m\u001b[0;34m)\u001b[0m\u001b[0;34m+\u001b[0m\u001b[0;36m1\u001b[0m\u001b[0;34m\u001b[0m\u001b[0m\n\u001b[1;32m     10\u001b[0m         \u001b[0;32melse\u001b[0m\u001b[0;34m:\u001b[0m\u001b[0;34m\u001b[0m\u001b[0m\n\u001b[0;32m---> 11\u001b[0;31m             \u001b[0msol1\u001b[0m \u001b[0;34m=\u001b[0m \u001b[0mLCS\u001b[0m\u001b[0;34m(\u001b[0m\u001b[0ms1\u001b[0m\u001b[0;34m[\u001b[0m\u001b[0;36m0\u001b[0m\u001b[0;34m:\u001b[0m\u001b[0mm\u001b[0m\u001b[0;34m-\u001b[0m\u001b[0;36m1\u001b[0m\u001b[0;34m]\u001b[0m\u001b[0;34m,\u001b[0m \u001b[0ms2\u001b[0m\u001b[0;34m,\u001b[0m \u001b[0mDiccSol\u001b[0m\u001b[0;34m)\u001b[0m\u001b[0;34m\u001b[0m\u001b[0m\n\u001b[0m\u001b[1;32m     12\u001b[0m             \u001b[0msol2\u001b[0m \u001b[0;34m=\u001b[0m \u001b[0mLCS\u001b[0m\u001b[0;34m(\u001b[0m\u001b[0ms1\u001b[0m\u001b[0;34m,\u001b[0m \u001b[0ms2\u001b[0m\u001b[0;34m[\u001b[0m\u001b[0;36m0\u001b[0m\u001b[0;34m:\u001b[0m\u001b[0mn\u001b[0m\u001b[0;34m-\u001b[0m\u001b[0;36m1\u001b[0m\u001b[0;34m]\u001b[0m\u001b[0;34m,\u001b[0m \u001b[0mDiccSol\u001b[0m\u001b[0;34m)\u001b[0m\u001b[0;34m\u001b[0m\u001b[0m\n\u001b[1;32m     13\u001b[0m             \u001b[0mDiccSol\u001b[0m\u001b[0;34m[\u001b[0m\u001b[0ms1\u001b[0m\u001b[0;34m+\u001b[0m\u001b[0;34m\"|\"\u001b[0m\u001b[0;34m+\u001b[0m\u001b[0ms2\u001b[0m\u001b[0;34m]\u001b[0m \u001b[0;34m=\u001b[0m \u001b[0mmax\u001b[0m\u001b[0;34m(\u001b[0m\u001b[0msol1\u001b[0m\u001b[0;34m,\u001b[0m \u001b[0msol2\u001b[0m\u001b[0;34m)\u001b[0m\u001b[0;34m\u001b[0m\u001b[0m\n",
      "\u001b[0;32m<ipython-input-11-5cdd00e1bca1>\u001b[0m in \u001b[0;36mLCS\u001b[0;34m(s1, s2, DiccSol)\u001b[0m\n\u001b[1;32m      7\u001b[0m         \u001b[0;32melif\u001b[0m \u001b[0ms1\u001b[0m\u001b[0;34m[\u001b[0m\u001b[0mm\u001b[0m\u001b[0;34m-\u001b[0m\u001b[0;36m1\u001b[0m\u001b[0;34m]\u001b[0m \u001b[0;34m==\u001b[0m \u001b[0ms2\u001b[0m\u001b[0;34m[\u001b[0m\u001b[0mn\u001b[0m\u001b[0;34m-\u001b[0m\u001b[0;36m1\u001b[0m\u001b[0;34m]\u001b[0m\u001b[0;34m:\u001b[0m\u001b[0;34m\u001b[0m\u001b[0m\n\u001b[1;32m      8\u001b[0m             \u001b[0mDiccSol\u001b[0m\u001b[0;34m[\u001b[0m\u001b[0ms1\u001b[0m\u001b[0;34m+\u001b[0m\u001b[0;34m\"|\"\u001b[0m\u001b[0;34m+\u001b[0m\u001b[0ms2\u001b[0m\u001b[0;34m]\u001b[0m \u001b[0;34m=\u001b[0m \u001b[0;34m\"|\"\u001b[0m\u001b[0;34m\u001b[0m\u001b[0m\n\u001b[0;32m----> 9\u001b[0;31m             \u001b[0mLCS\u001b[0m\u001b[0;34m(\u001b[0m\u001b[0ms1\u001b[0m\u001b[0;34m[\u001b[0m\u001b[0;36m0\u001b[0m\u001b[0;34m:\u001b[0m\u001b[0mm\u001b[0m\u001b[0;34m-\u001b[0m\u001b[0;36m1\u001b[0m\u001b[0;34m]\u001b[0m\u001b[0;34m,\u001b[0m \u001b[0ms2\u001b[0m\u001b[0;34m[\u001b[0m\u001b[0;36m0\u001b[0m\u001b[0;34m:\u001b[0m\u001b[0mn\u001b[0m\u001b[0;34m-\u001b[0m\u001b[0;36m1\u001b[0m\u001b[0;34m]\u001b[0m\u001b[0;34m,\u001b[0m \u001b[0mDiccSol\u001b[0m\u001b[0;34m)\u001b[0m\u001b[0;34m+\u001b[0m\u001b[0;36m1\u001b[0m\u001b[0;34m\u001b[0m\u001b[0m\n\u001b[0m\u001b[1;32m     10\u001b[0m         \u001b[0;32melse\u001b[0m\u001b[0;34m:\u001b[0m\u001b[0;34m\u001b[0m\u001b[0m\n\u001b[1;32m     11\u001b[0m             \u001b[0msol1\u001b[0m \u001b[0;34m=\u001b[0m \u001b[0mLCS\u001b[0m\u001b[0;34m(\u001b[0m\u001b[0ms1\u001b[0m\u001b[0;34m[\u001b[0m\u001b[0;36m0\u001b[0m\u001b[0;34m:\u001b[0m\u001b[0mm\u001b[0m\u001b[0;34m-\u001b[0m\u001b[0;36m1\u001b[0m\u001b[0;34m]\u001b[0m\u001b[0;34m,\u001b[0m \u001b[0ms2\u001b[0m\u001b[0;34m,\u001b[0m \u001b[0mDiccSol\u001b[0m\u001b[0;34m)\u001b[0m\u001b[0;34m\u001b[0m\u001b[0m\n",
      "\u001b[0;32m<ipython-input-11-5cdd00e1bca1>\u001b[0m in \u001b[0;36mLCS\u001b[0;34m(s1, s2, DiccSol)\u001b[0m\n\u001b[1;32m      9\u001b[0m             \u001b[0mLCS\u001b[0m\u001b[0;34m(\u001b[0m\u001b[0ms1\u001b[0m\u001b[0;34m[\u001b[0m\u001b[0;36m0\u001b[0m\u001b[0;34m:\u001b[0m\u001b[0mm\u001b[0m\u001b[0;34m-\u001b[0m\u001b[0;36m1\u001b[0m\u001b[0;34m]\u001b[0m\u001b[0;34m,\u001b[0m \u001b[0ms2\u001b[0m\u001b[0;34m[\u001b[0m\u001b[0;36m0\u001b[0m\u001b[0;34m:\u001b[0m\u001b[0mn\u001b[0m\u001b[0;34m-\u001b[0m\u001b[0;36m1\u001b[0m\u001b[0;34m]\u001b[0m\u001b[0;34m,\u001b[0m \u001b[0mDiccSol\u001b[0m\u001b[0;34m)\u001b[0m\u001b[0;34m+\u001b[0m\u001b[0;36m1\u001b[0m\u001b[0;34m\u001b[0m\u001b[0m\n\u001b[1;32m     10\u001b[0m         \u001b[0;32melse\u001b[0m\u001b[0;34m:\u001b[0m\u001b[0;34m\u001b[0m\u001b[0m\n\u001b[0;32m---> 11\u001b[0;31m             \u001b[0msol1\u001b[0m \u001b[0;34m=\u001b[0m \u001b[0mLCS\u001b[0m\u001b[0;34m(\u001b[0m\u001b[0ms1\u001b[0m\u001b[0;34m[\u001b[0m\u001b[0;36m0\u001b[0m\u001b[0;34m:\u001b[0m\u001b[0mm\u001b[0m\u001b[0;34m-\u001b[0m\u001b[0;36m1\u001b[0m\u001b[0;34m]\u001b[0m\u001b[0;34m,\u001b[0m \u001b[0ms2\u001b[0m\u001b[0;34m,\u001b[0m \u001b[0mDiccSol\u001b[0m\u001b[0;34m)\u001b[0m\u001b[0;34m\u001b[0m\u001b[0m\n\u001b[0m\u001b[1;32m     12\u001b[0m             \u001b[0msol2\u001b[0m \u001b[0;34m=\u001b[0m \u001b[0mLCS\u001b[0m\u001b[0;34m(\u001b[0m\u001b[0ms1\u001b[0m\u001b[0;34m,\u001b[0m \u001b[0ms2\u001b[0m\u001b[0;34m[\u001b[0m\u001b[0;36m0\u001b[0m\u001b[0;34m:\u001b[0m\u001b[0mn\u001b[0m\u001b[0;34m-\u001b[0m\u001b[0;36m1\u001b[0m\u001b[0;34m]\u001b[0m\u001b[0;34m,\u001b[0m \u001b[0mDiccSol\u001b[0m\u001b[0;34m)\u001b[0m\u001b[0;34m\u001b[0m\u001b[0m\n\u001b[1;32m     13\u001b[0m             \u001b[0mDiccSol\u001b[0m\u001b[0;34m[\u001b[0m\u001b[0ms1\u001b[0m\u001b[0;34m+\u001b[0m\u001b[0;34m\"|\"\u001b[0m\u001b[0;34m+\u001b[0m\u001b[0ms2\u001b[0m\u001b[0;34m]\u001b[0m \u001b[0;34m=\u001b[0m \u001b[0mmax\u001b[0m\u001b[0;34m(\u001b[0m\u001b[0msol1\u001b[0m\u001b[0;34m,\u001b[0m \u001b[0msol2\u001b[0m\u001b[0;34m)\u001b[0m\u001b[0;34m\u001b[0m\u001b[0m\n",
      "\u001b[0;32m<ipython-input-11-5cdd00e1bca1>\u001b[0m in \u001b[0;36mLCS\u001b[0;34m(s1, s2, DiccSol)\u001b[0m\n\u001b[1;32m      9\u001b[0m             \u001b[0mLCS\u001b[0m\u001b[0;34m(\u001b[0m\u001b[0ms1\u001b[0m\u001b[0;34m[\u001b[0m\u001b[0;36m0\u001b[0m\u001b[0;34m:\u001b[0m\u001b[0mm\u001b[0m\u001b[0;34m-\u001b[0m\u001b[0;36m1\u001b[0m\u001b[0;34m]\u001b[0m\u001b[0;34m,\u001b[0m \u001b[0ms2\u001b[0m\u001b[0;34m[\u001b[0m\u001b[0;36m0\u001b[0m\u001b[0;34m:\u001b[0m\u001b[0mn\u001b[0m\u001b[0;34m-\u001b[0m\u001b[0;36m1\u001b[0m\u001b[0;34m]\u001b[0m\u001b[0;34m,\u001b[0m \u001b[0mDiccSol\u001b[0m\u001b[0;34m)\u001b[0m\u001b[0;34m+\u001b[0m\u001b[0;36m1\u001b[0m\u001b[0;34m\u001b[0m\u001b[0m\n\u001b[1;32m     10\u001b[0m         \u001b[0;32melse\u001b[0m\u001b[0;34m:\u001b[0m\u001b[0;34m\u001b[0m\u001b[0m\n\u001b[0;32m---> 11\u001b[0;31m             \u001b[0msol1\u001b[0m \u001b[0;34m=\u001b[0m \u001b[0mLCS\u001b[0m\u001b[0;34m(\u001b[0m\u001b[0ms1\u001b[0m\u001b[0;34m[\u001b[0m\u001b[0;36m0\u001b[0m\u001b[0;34m:\u001b[0m\u001b[0mm\u001b[0m\u001b[0;34m-\u001b[0m\u001b[0;36m1\u001b[0m\u001b[0;34m]\u001b[0m\u001b[0;34m,\u001b[0m \u001b[0ms2\u001b[0m\u001b[0;34m,\u001b[0m \u001b[0mDiccSol\u001b[0m\u001b[0;34m)\u001b[0m\u001b[0;34m\u001b[0m\u001b[0m\n\u001b[0m\u001b[1;32m     12\u001b[0m             \u001b[0msol2\u001b[0m \u001b[0;34m=\u001b[0m \u001b[0mLCS\u001b[0m\u001b[0;34m(\u001b[0m\u001b[0ms1\u001b[0m\u001b[0;34m,\u001b[0m \u001b[0ms2\u001b[0m\u001b[0;34m[\u001b[0m\u001b[0;36m0\u001b[0m\u001b[0;34m:\u001b[0m\u001b[0mn\u001b[0m\u001b[0;34m-\u001b[0m\u001b[0;36m1\u001b[0m\u001b[0;34m]\u001b[0m\u001b[0;34m,\u001b[0m \u001b[0mDiccSol\u001b[0m\u001b[0;34m)\u001b[0m\u001b[0;34m\u001b[0m\u001b[0m\n\u001b[1;32m     13\u001b[0m             \u001b[0mDiccSol\u001b[0m\u001b[0;34m[\u001b[0m\u001b[0ms1\u001b[0m\u001b[0;34m+\u001b[0m\u001b[0;34m\"|\"\u001b[0m\u001b[0;34m+\u001b[0m\u001b[0ms2\u001b[0m\u001b[0;34m]\u001b[0m \u001b[0;34m=\u001b[0m \u001b[0mmax\u001b[0m\u001b[0;34m(\u001b[0m\u001b[0msol1\u001b[0m\u001b[0;34m,\u001b[0m \u001b[0msol2\u001b[0m\u001b[0;34m)\u001b[0m\u001b[0;34m\u001b[0m\u001b[0m\n",
      "\u001b[0;32m<ipython-input-11-5cdd00e1bca1>\u001b[0m in \u001b[0;36mLCS\u001b[0;34m(s1, s2, DiccSol)\u001b[0m\n\u001b[1;32m      9\u001b[0m             \u001b[0mLCS\u001b[0m\u001b[0;34m(\u001b[0m\u001b[0ms1\u001b[0m\u001b[0;34m[\u001b[0m\u001b[0;36m0\u001b[0m\u001b[0;34m:\u001b[0m\u001b[0mm\u001b[0m\u001b[0;34m-\u001b[0m\u001b[0;36m1\u001b[0m\u001b[0;34m]\u001b[0m\u001b[0;34m,\u001b[0m \u001b[0ms2\u001b[0m\u001b[0;34m[\u001b[0m\u001b[0;36m0\u001b[0m\u001b[0;34m:\u001b[0m\u001b[0mn\u001b[0m\u001b[0;34m-\u001b[0m\u001b[0;36m1\u001b[0m\u001b[0;34m]\u001b[0m\u001b[0;34m,\u001b[0m \u001b[0mDiccSol\u001b[0m\u001b[0;34m)\u001b[0m\u001b[0;34m+\u001b[0m\u001b[0;36m1\u001b[0m\u001b[0;34m\u001b[0m\u001b[0m\n\u001b[1;32m     10\u001b[0m         \u001b[0;32melse\u001b[0m\u001b[0;34m:\u001b[0m\u001b[0;34m\u001b[0m\u001b[0m\n\u001b[0;32m---> 11\u001b[0;31m             \u001b[0msol1\u001b[0m \u001b[0;34m=\u001b[0m \u001b[0mLCS\u001b[0m\u001b[0;34m(\u001b[0m\u001b[0ms1\u001b[0m\u001b[0;34m[\u001b[0m\u001b[0;36m0\u001b[0m\u001b[0;34m:\u001b[0m\u001b[0mm\u001b[0m\u001b[0;34m-\u001b[0m\u001b[0;36m1\u001b[0m\u001b[0;34m]\u001b[0m\u001b[0;34m,\u001b[0m \u001b[0ms2\u001b[0m\u001b[0;34m,\u001b[0m \u001b[0mDiccSol\u001b[0m\u001b[0;34m)\u001b[0m\u001b[0;34m\u001b[0m\u001b[0m\n\u001b[0m\u001b[1;32m     12\u001b[0m             \u001b[0msol2\u001b[0m \u001b[0;34m=\u001b[0m \u001b[0mLCS\u001b[0m\u001b[0;34m(\u001b[0m\u001b[0ms1\u001b[0m\u001b[0;34m,\u001b[0m \u001b[0ms2\u001b[0m\u001b[0;34m[\u001b[0m\u001b[0;36m0\u001b[0m\u001b[0;34m:\u001b[0m\u001b[0mn\u001b[0m\u001b[0;34m-\u001b[0m\u001b[0;36m1\u001b[0m\u001b[0;34m]\u001b[0m\u001b[0;34m,\u001b[0m \u001b[0mDiccSol\u001b[0m\u001b[0;34m)\u001b[0m\u001b[0;34m\u001b[0m\u001b[0m\n\u001b[1;32m     13\u001b[0m             \u001b[0mDiccSol\u001b[0m\u001b[0;34m[\u001b[0m\u001b[0ms1\u001b[0m\u001b[0;34m+\u001b[0m\u001b[0;34m\"|\"\u001b[0m\u001b[0;34m+\u001b[0m\u001b[0ms2\u001b[0m\u001b[0;34m]\u001b[0m \u001b[0;34m=\u001b[0m \u001b[0mmax\u001b[0m\u001b[0;34m(\u001b[0m\u001b[0msol1\u001b[0m\u001b[0;34m,\u001b[0m \u001b[0msol2\u001b[0m\u001b[0;34m)\u001b[0m\u001b[0;34m\u001b[0m\u001b[0m\n",
      "\u001b[0;32m<ipython-input-11-5cdd00e1bca1>\u001b[0m in \u001b[0;36mLCS\u001b[0;34m(s1, s2, DiccSol)\u001b[0m\n\u001b[1;32m     10\u001b[0m         \u001b[0;32melse\u001b[0m\u001b[0;34m:\u001b[0m\u001b[0;34m\u001b[0m\u001b[0m\n\u001b[1;32m     11\u001b[0m             \u001b[0msol1\u001b[0m \u001b[0;34m=\u001b[0m \u001b[0mLCS\u001b[0m\u001b[0;34m(\u001b[0m\u001b[0ms1\u001b[0m\u001b[0;34m[\u001b[0m\u001b[0;36m0\u001b[0m\u001b[0;34m:\u001b[0m\u001b[0mm\u001b[0m\u001b[0;34m-\u001b[0m\u001b[0;36m1\u001b[0m\u001b[0;34m]\u001b[0m\u001b[0;34m,\u001b[0m \u001b[0ms2\u001b[0m\u001b[0;34m,\u001b[0m \u001b[0mDiccSol\u001b[0m\u001b[0;34m)\u001b[0m\u001b[0;34m\u001b[0m\u001b[0m\n\u001b[0;32m---> 12\u001b[0;31m             \u001b[0msol2\u001b[0m \u001b[0;34m=\u001b[0m \u001b[0mLCS\u001b[0m\u001b[0;34m(\u001b[0m\u001b[0ms1\u001b[0m\u001b[0;34m,\u001b[0m \u001b[0ms2\u001b[0m\u001b[0;34m[\u001b[0m\u001b[0;36m0\u001b[0m\u001b[0;34m:\u001b[0m\u001b[0mn\u001b[0m\u001b[0;34m-\u001b[0m\u001b[0;36m1\u001b[0m\u001b[0;34m]\u001b[0m\u001b[0;34m,\u001b[0m \u001b[0mDiccSol\u001b[0m\u001b[0;34m)\u001b[0m\u001b[0;34m\u001b[0m\u001b[0m\n\u001b[0m\u001b[1;32m     13\u001b[0m             \u001b[0mDiccSol\u001b[0m\u001b[0;34m[\u001b[0m\u001b[0ms1\u001b[0m\u001b[0;34m+\u001b[0m\u001b[0;34m\"|\"\u001b[0m\u001b[0;34m+\u001b[0m\u001b[0ms2\u001b[0m\u001b[0;34m]\u001b[0m \u001b[0;34m=\u001b[0m \u001b[0mmax\u001b[0m\u001b[0;34m(\u001b[0m\u001b[0msol1\u001b[0m\u001b[0;34m,\u001b[0m \u001b[0msol2\u001b[0m\u001b[0;34m)\u001b[0m\u001b[0;34m\u001b[0m\u001b[0m\n\u001b[1;32m     14\u001b[0m     \u001b[0;32mreturn\u001b[0m \u001b[0mDiccSol\u001b[0m\u001b[0;34m[\u001b[0m\u001b[0ms1\u001b[0m\u001b[0;34m+\u001b[0m\u001b[0;34m\"|\"\u001b[0m\u001b[0;34m+\u001b[0m\u001b[0ms2\u001b[0m\u001b[0;34m]\u001b[0m\u001b[0;34m\u001b[0m\u001b[0m\n",
      "\u001b[0;32m<ipython-input-11-5cdd00e1bca1>\u001b[0m in \u001b[0;36mLCS\u001b[0;34m(s1, s2, DiccSol)\u001b[0m\n\u001b[1;32m     10\u001b[0m         \u001b[0;32melse\u001b[0m\u001b[0;34m:\u001b[0m\u001b[0;34m\u001b[0m\u001b[0m\n\u001b[1;32m     11\u001b[0m             \u001b[0msol1\u001b[0m \u001b[0;34m=\u001b[0m \u001b[0mLCS\u001b[0m\u001b[0;34m(\u001b[0m\u001b[0ms1\u001b[0m\u001b[0;34m[\u001b[0m\u001b[0;36m0\u001b[0m\u001b[0;34m:\u001b[0m\u001b[0mm\u001b[0m\u001b[0;34m-\u001b[0m\u001b[0;36m1\u001b[0m\u001b[0;34m]\u001b[0m\u001b[0;34m,\u001b[0m \u001b[0ms2\u001b[0m\u001b[0;34m,\u001b[0m \u001b[0mDiccSol\u001b[0m\u001b[0;34m)\u001b[0m\u001b[0;34m\u001b[0m\u001b[0m\n\u001b[0;32m---> 12\u001b[0;31m             \u001b[0msol2\u001b[0m \u001b[0;34m=\u001b[0m \u001b[0mLCS\u001b[0m\u001b[0;34m(\u001b[0m\u001b[0ms1\u001b[0m\u001b[0;34m,\u001b[0m \u001b[0ms2\u001b[0m\u001b[0;34m[\u001b[0m\u001b[0;36m0\u001b[0m\u001b[0;34m:\u001b[0m\u001b[0mn\u001b[0m\u001b[0;34m-\u001b[0m\u001b[0;36m1\u001b[0m\u001b[0;34m]\u001b[0m\u001b[0;34m,\u001b[0m \u001b[0mDiccSol\u001b[0m\u001b[0;34m)\u001b[0m\u001b[0;34m\u001b[0m\u001b[0m\n\u001b[0m\u001b[1;32m     13\u001b[0m             \u001b[0mDiccSol\u001b[0m\u001b[0;34m[\u001b[0m\u001b[0ms1\u001b[0m\u001b[0;34m+\u001b[0m\u001b[0;34m\"|\"\u001b[0m\u001b[0;34m+\u001b[0m\u001b[0ms2\u001b[0m\u001b[0;34m]\u001b[0m \u001b[0;34m=\u001b[0m \u001b[0mmax\u001b[0m\u001b[0;34m(\u001b[0m\u001b[0msol1\u001b[0m\u001b[0;34m,\u001b[0m \u001b[0msol2\u001b[0m\u001b[0;34m)\u001b[0m\u001b[0;34m\u001b[0m\u001b[0m\n\u001b[1;32m     14\u001b[0m     \u001b[0;32mreturn\u001b[0m \u001b[0mDiccSol\u001b[0m\u001b[0;34m[\u001b[0m\u001b[0ms1\u001b[0m\u001b[0;34m+\u001b[0m\u001b[0;34m\"|\"\u001b[0m\u001b[0;34m+\u001b[0m\u001b[0ms2\u001b[0m\u001b[0;34m]\u001b[0m\u001b[0;34m\u001b[0m\u001b[0m\n",
      "\u001b[0;32m<ipython-input-11-5cdd00e1bca1>\u001b[0m in \u001b[0;36mLCS\u001b[0;34m(s1, s2, DiccSol)\u001b[0m\n\u001b[1;32m     10\u001b[0m         \u001b[0;32melse\u001b[0m\u001b[0;34m:\u001b[0m\u001b[0;34m\u001b[0m\u001b[0m\n\u001b[1;32m     11\u001b[0m             \u001b[0msol1\u001b[0m \u001b[0;34m=\u001b[0m \u001b[0mLCS\u001b[0m\u001b[0;34m(\u001b[0m\u001b[0ms1\u001b[0m\u001b[0;34m[\u001b[0m\u001b[0;36m0\u001b[0m\u001b[0;34m:\u001b[0m\u001b[0mm\u001b[0m\u001b[0;34m-\u001b[0m\u001b[0;36m1\u001b[0m\u001b[0;34m]\u001b[0m\u001b[0;34m,\u001b[0m \u001b[0ms2\u001b[0m\u001b[0;34m,\u001b[0m \u001b[0mDiccSol\u001b[0m\u001b[0;34m)\u001b[0m\u001b[0;34m\u001b[0m\u001b[0m\n\u001b[0;32m---> 12\u001b[0;31m             \u001b[0msol2\u001b[0m \u001b[0;34m=\u001b[0m \u001b[0mLCS\u001b[0m\u001b[0;34m(\u001b[0m\u001b[0ms1\u001b[0m\u001b[0;34m,\u001b[0m \u001b[0ms2\u001b[0m\u001b[0;34m[\u001b[0m\u001b[0;36m0\u001b[0m\u001b[0;34m:\u001b[0m\u001b[0mn\u001b[0m\u001b[0;34m-\u001b[0m\u001b[0;36m1\u001b[0m\u001b[0;34m]\u001b[0m\u001b[0;34m,\u001b[0m \u001b[0mDiccSol\u001b[0m\u001b[0;34m)\u001b[0m\u001b[0;34m\u001b[0m\u001b[0m\n\u001b[0m\u001b[1;32m     13\u001b[0m             \u001b[0mDiccSol\u001b[0m\u001b[0;34m[\u001b[0m\u001b[0ms1\u001b[0m\u001b[0;34m+\u001b[0m\u001b[0;34m\"|\"\u001b[0m\u001b[0;34m+\u001b[0m\u001b[0ms2\u001b[0m\u001b[0;34m]\u001b[0m \u001b[0;34m=\u001b[0m \u001b[0mmax\u001b[0m\u001b[0;34m(\u001b[0m\u001b[0msol1\u001b[0m\u001b[0;34m,\u001b[0m \u001b[0msol2\u001b[0m\u001b[0;34m)\u001b[0m\u001b[0;34m\u001b[0m\u001b[0m\n\u001b[1;32m     14\u001b[0m     \u001b[0;32mreturn\u001b[0m \u001b[0mDiccSol\u001b[0m\u001b[0;34m[\u001b[0m\u001b[0ms1\u001b[0m\u001b[0;34m+\u001b[0m\u001b[0;34m\"|\"\u001b[0m\u001b[0;34m+\u001b[0m\u001b[0ms2\u001b[0m\u001b[0;34m]\u001b[0m\u001b[0;34m\u001b[0m\u001b[0m\n",
      "\u001b[0;32m<ipython-input-11-5cdd00e1bca1>\u001b[0m in \u001b[0;36mLCS\u001b[0;34m(s1, s2, DiccSol)\u001b[0m\n\u001b[1;32m     11\u001b[0m             \u001b[0msol1\u001b[0m \u001b[0;34m=\u001b[0m \u001b[0mLCS\u001b[0m\u001b[0;34m(\u001b[0m\u001b[0ms1\u001b[0m\u001b[0;34m[\u001b[0m\u001b[0;36m0\u001b[0m\u001b[0;34m:\u001b[0m\u001b[0mm\u001b[0m\u001b[0;34m-\u001b[0m\u001b[0;36m1\u001b[0m\u001b[0;34m]\u001b[0m\u001b[0;34m,\u001b[0m \u001b[0ms2\u001b[0m\u001b[0;34m,\u001b[0m \u001b[0mDiccSol\u001b[0m\u001b[0;34m)\u001b[0m\u001b[0;34m\u001b[0m\u001b[0m\n\u001b[1;32m     12\u001b[0m             \u001b[0msol2\u001b[0m \u001b[0;34m=\u001b[0m \u001b[0mLCS\u001b[0m\u001b[0;34m(\u001b[0m\u001b[0ms1\u001b[0m\u001b[0;34m,\u001b[0m \u001b[0ms2\u001b[0m\u001b[0;34m[\u001b[0m\u001b[0;36m0\u001b[0m\u001b[0;34m:\u001b[0m\u001b[0mn\u001b[0m\u001b[0;34m-\u001b[0m\u001b[0;36m1\u001b[0m\u001b[0;34m]\u001b[0m\u001b[0;34m,\u001b[0m \u001b[0mDiccSol\u001b[0m\u001b[0;34m)\u001b[0m\u001b[0;34m\u001b[0m\u001b[0m\n\u001b[0;32m---> 13\u001b[0;31m             \u001b[0mDiccSol\u001b[0m\u001b[0;34m[\u001b[0m\u001b[0ms1\u001b[0m\u001b[0;34m+\u001b[0m\u001b[0;34m\"|\"\u001b[0m\u001b[0;34m+\u001b[0m\u001b[0ms2\u001b[0m\u001b[0;34m]\u001b[0m \u001b[0;34m=\u001b[0m \u001b[0mmax\u001b[0m\u001b[0;34m(\u001b[0m\u001b[0msol1\u001b[0m\u001b[0;34m,\u001b[0m \u001b[0msol2\u001b[0m\u001b[0;34m)\u001b[0m\u001b[0;34m\u001b[0m\u001b[0m\n\u001b[0m\u001b[1;32m     14\u001b[0m     \u001b[0;32mreturn\u001b[0m \u001b[0mDiccSol\u001b[0m\u001b[0;34m[\u001b[0m\u001b[0ms1\u001b[0m\u001b[0;34m+\u001b[0m\u001b[0;34m\"|\"\u001b[0m\u001b[0;34m+\u001b[0m\u001b[0ms2\u001b[0m\u001b[0;34m]\u001b[0m\u001b[0;34m\u001b[0m\u001b[0m\n\u001b[1;32m     15\u001b[0m \u001b[0;34m\u001b[0m\u001b[0m\n",
      "\u001b[0;31mTypeError\u001b[0m: '>' not supported between instances of 'str' and 'int'"
     ]
    }
   ],
   "source": [
    "def LCS(s1, s2, DiccSol):\n",
    "    m = len(s1)\n",
    "    n = len(s2)\n",
    "    if not (s1+\"|\"+s2 in DiccSol):\n",
    "        if m==0 or n == 0:\n",
    "            DiccSol[s1+\"|\"+s2] = 0\n",
    "        elif s1[m-1] == s2[n-1]:\n",
    "            DiccSol[s1+\"|\"+s2] = \"|\"\n",
    "            LCS(s1[0:m-1], s2[0:n-1], DiccSol)+1\n",
    "        else:\n",
    "            sol1 = LCS(s1[0:m-1], s2, DiccSol)\n",
    "            sol2 = LCS(s1, s2[0:n-1], DiccSol)\n",
    "            DiccSol[s1+\"|\"+s2] = max(sol1, sol2)\n",
    "    return DiccSol[s1+\"|\"+s2]\n",
    "\n",
    "LCS('XMJYAUZ','MZJAWU',{})            "
   ]
  },
  {
   "cell_type": "code",
   "execution_count": null,
   "metadata": {},
   "outputs": [],
   "source": []
  }
 ],
 "metadata": {
  "kernelspec": {
   "display_name": "Python 3",
   "language": "python",
   "name": "python3"
  },
  "language_info": {
   "codemirror_mode": {
    "name": "ipython",
    "version": 3
   },
   "file_extension": ".py",
   "mimetype": "text/x-python",
   "name": "python",
   "nbconvert_exporter": "python",
   "pygments_lexer": "ipython3",
   "version": "3.6.5"
  }
 },
 "nbformat": 4,
 "nbformat_minor": 2
}
