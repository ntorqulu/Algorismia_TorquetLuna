{
 "cells": [
  {
   "cell_type": "markdown",
   "metadata": {},
   "source": [
    "<p style=\"text-align:right;font-size:0.9em\">\n",
    "Grau d'Enginyeria Informàtica. Algorísmica. Curs 2017-2018\n",
    "</p>"
   ]
  },
  {
   "cell_type": "markdown",
   "metadata": {},
   "source": [
    "<h1 style=\"padding:0.5em 0;font:Garamond;font-size:1-5em;color:#005;background-color:#F90\">Solució problema: Trobar la subseqüència comú més llarga\n",
    "</h1>"
   ]
  },
  {
   "cell_type": "markdown",
   "metadata": {},
   "source": [
    "<p style=\"font-family:Arial;font-size:1em\">\n",
    "Donades dues cadenes de caràcters identificar la longitud de la subseqüència compartida més llarga. Una subseqüència és una seqüència de caràcters en el mateix ordre que a la cadena original però no necessàriament consecutius.</p>\n",
    "<p style=\"font-family:Arial;font-size:1em\"> Per exemple de la paraula ACBA, podem treure'n les subseqüències AC,AB,AA, ACB, ACA, ABA, ACBA, CB, CA, CBA, BA, A, C, B <p>"
   ]
  },
  {
   "cell_type": "code",
   "execution_count": 1,
   "metadata": {},
   "outputs": [],
   "source": [
    "\"\"\"\n",
    "Donades dues cadenes de caràcters identificar la longitud de la subseqüència\n",
    "compartida més llarga. Una subseqüència és una seqüència de caràcters\n",
    "en el mateix ordre que a la cadena original però no necessàriament\n",
    "consecutius.\n",
    ":param cadena1, cadena2 les dues cadenes en les que buscar la subseqüència\n",
    ":return la longitud de la subseqüència més llarga\n",
    "\"\"\"\n",
    "\n",
    "\n",
    "def subSComu(cadena1, cadena2):\n",
    "    longcad1 = len(cadena1)\n",
    "    longcad2 = len(cadena2)\n",
    "    if longcad1 == 0 or longcad2 == 0:\n",
    "        return 1\n",
    "    if cadena1[longcad1-1] == cadena2[longcad2-1]:\n",
    "        return subSComu(cadena1[0:longcad1-1], cadena2[0:longcad2-1])+1\n",
    "        # la subseqüència segur que inclou el darrer caràcter, l'eliminem\n",
    "    else:\n",
    "        solucio1 = subSComu(cadena1[0:longcad1-1], cadena2)\n",
    "        solucio2 = subSComu(cadena1, cadena2[0:longcad2-1])\n",
    "        # hi ha dues possibles solucions, sense un caràcter de cadena1\n",
    "        # o sense un caràcter de cadena2\n",
    "        return max(solucio1, solucio2)\n",
    "subSComu('XMJYAUZ','MZJAWU')\n",
    "\n",
    "\"\"\"\n",
    "Donades dues cadenes de caràcters identificar la longitud de la subseqüència\n",
    "compartida més llarga. Una subseqüència és una seqüència de caràcters\n",
    "en el mateix ordre que a la cadena original però no necessàriament\n",
    "consecutius.\n",
    "En aquest algorisme s'optimitzen els càlculs amb programació dinàmica\n",
    ":param cadena1, cadena2 les dues cadenes en les que buscar la subseqüència, \n",
    ":param diccSolucions, una estructura per anar guardant resultats\n",
    ":return la longitud de la subseqüència més llarga\n",
    "\"\"\"\n",
    "\n",
    "\n",
    "def subSComuOpt(cadena1, cadena2,diccSolucions):\n",
    "    longcad1 = len(cadena1)\n",
    "    longcad2 = len(cadena2)\n",
    "    # amb una clau formada per les dues cadenes guardarem els resultats\n",
    "    # parcials\n",
    "    if not(cadena1+'|'+cadena2 in diccSolucions):\n",
    "        if longcad1 == 0 or longcad2 == 0:\n",
    "            diccSolucions[cadena1+'|'+cadena2] = 0\n",
    "        elif cadena1[longcad1-1] == cadena2[longcad2-1]:\n",
    "            diccSolucions[cadena1+'|'+cadena2] = \\\n",
    "                subSComuOpt(cadena1[0:longcad1-1], cadena2[0:longcad2-1],diccSolucions)+1\n",
    "        else:\n",
    "            solucio1 = subSComuOpt(cadena1[0:longcad1-1], cadena2,diccSolucions)\n",
    "            solucio2 = subSComuOpt(cadena1, cadena2[0:longcad2-1],diccSolucions)\n",
    "            diccSolucions[cadena1+'|'+cadena2] = max(solucio1, solucio2)\n",
    "    # print(diccSolucions) #xivato\n",
    "    print(diccSolucions[cadena1+'|'+cadena2]) "
   ]
  },
  {
   "cell_type": "code",
   "execution_count": 2,
   "metadata": {},
   "outputs": [
    {
     "name": "stdout",
     "output_type": "stream",
     "text": [
      "0\n",
      "0\n",
      "0\n",
      "0\n",
      "0\n",
      "0\n"
     ]
    },
    {
     "ename": "TypeError",
     "evalue": "'>' not supported between instances of 'NoneType' and 'NoneType'",
     "output_type": "error",
     "traceback": [
      "\u001b[0;31m---------------------------------------------------------------------------\u001b[0m",
      "\u001b[0;31mTypeError\u001b[0m                                 Traceback (most recent call last)",
      "\u001b[0;32m<ipython-input-2-e15eceeba13c>\u001b[0m in \u001b[0;36m<module>\u001b[0;34m()\u001b[0m\n\u001b[0;32m----> 1\u001b[0;31m \u001b[0msubSComuOpt\u001b[0m\u001b[0;34m(\u001b[0m\u001b[0;34m'XMJYAUZ'\u001b[0m\u001b[0;34m,\u001b[0m\u001b[0;34m'MZJAWU'\u001b[0m\u001b[0;34m,\u001b[0m\u001b[0;34m{\u001b[0m\u001b[0;34m}\u001b[0m\u001b[0;34m)\u001b[0m\u001b[0;34m\u001b[0m\u001b[0m\n\u001b[0m",
      "\u001b[0;32m<ipython-input-1-afa273161121>\u001b[0m in \u001b[0;36msubSComuOpt\u001b[0;34m(cadena1, cadena2, diccSolucions)\u001b[0m\n\u001b[1;32m     48\u001b[0m             \u001b[0mdiccSolucions\u001b[0m\u001b[0;34m[\u001b[0m\u001b[0mcadena1\u001b[0m\u001b[0;34m+\u001b[0m\u001b[0;34m'|'\u001b[0m\u001b[0;34m+\u001b[0m\u001b[0mcadena2\u001b[0m\u001b[0;34m]\u001b[0m \u001b[0;34m=\u001b[0m                 \u001b[0msubSComuOpt\u001b[0m\u001b[0;34m(\u001b[0m\u001b[0mcadena1\u001b[0m\u001b[0;34m[\u001b[0m\u001b[0;36m0\u001b[0m\u001b[0;34m:\u001b[0m\u001b[0mlongcad1\u001b[0m\u001b[0;34m-\u001b[0m\u001b[0;36m1\u001b[0m\u001b[0;34m]\u001b[0m\u001b[0;34m,\u001b[0m \u001b[0mcadena2\u001b[0m\u001b[0;34m[\u001b[0m\u001b[0;36m0\u001b[0m\u001b[0;34m:\u001b[0m\u001b[0mlongcad2\u001b[0m\u001b[0;34m-\u001b[0m\u001b[0;36m1\u001b[0m\u001b[0;34m]\u001b[0m\u001b[0;34m,\u001b[0m\u001b[0mdiccSolucions\u001b[0m\u001b[0;34m)\u001b[0m\u001b[0;34m+\u001b[0m\u001b[0;36m1\u001b[0m\u001b[0;34m\u001b[0m\u001b[0m\n\u001b[1;32m     49\u001b[0m         \u001b[0;32melse\u001b[0m\u001b[0;34m:\u001b[0m\u001b[0;34m\u001b[0m\u001b[0m\n\u001b[0;32m---> 50\u001b[0;31m             \u001b[0msolucio1\u001b[0m \u001b[0;34m=\u001b[0m \u001b[0msubSComuOpt\u001b[0m\u001b[0;34m(\u001b[0m\u001b[0mcadena1\u001b[0m\u001b[0;34m[\u001b[0m\u001b[0;36m0\u001b[0m\u001b[0;34m:\u001b[0m\u001b[0mlongcad1\u001b[0m\u001b[0;34m-\u001b[0m\u001b[0;36m1\u001b[0m\u001b[0;34m]\u001b[0m\u001b[0;34m,\u001b[0m \u001b[0mcadena2\u001b[0m\u001b[0;34m,\u001b[0m\u001b[0mdiccSolucions\u001b[0m\u001b[0;34m)\u001b[0m\u001b[0;34m\u001b[0m\u001b[0m\n\u001b[0m\u001b[1;32m     51\u001b[0m             \u001b[0msolucio2\u001b[0m \u001b[0;34m=\u001b[0m \u001b[0msubSComuOpt\u001b[0m\u001b[0;34m(\u001b[0m\u001b[0mcadena1\u001b[0m\u001b[0;34m,\u001b[0m \u001b[0mcadena2\u001b[0m\u001b[0;34m[\u001b[0m\u001b[0;36m0\u001b[0m\u001b[0;34m:\u001b[0m\u001b[0mlongcad2\u001b[0m\u001b[0;34m-\u001b[0m\u001b[0;36m1\u001b[0m\u001b[0;34m]\u001b[0m\u001b[0;34m,\u001b[0m\u001b[0mdiccSolucions\u001b[0m\u001b[0;34m)\u001b[0m\u001b[0;34m\u001b[0m\u001b[0m\n\u001b[1;32m     52\u001b[0m             \u001b[0mdiccSolucions\u001b[0m\u001b[0;34m[\u001b[0m\u001b[0mcadena1\u001b[0m\u001b[0;34m+\u001b[0m\u001b[0;34m'|'\u001b[0m\u001b[0;34m+\u001b[0m\u001b[0mcadena2\u001b[0m\u001b[0;34m]\u001b[0m \u001b[0;34m=\u001b[0m \u001b[0mmax\u001b[0m\u001b[0;34m(\u001b[0m\u001b[0msolucio1\u001b[0m\u001b[0;34m,\u001b[0m \u001b[0msolucio2\u001b[0m\u001b[0;34m)\u001b[0m\u001b[0;34m\u001b[0m\u001b[0m\n",
      "\u001b[0;32m<ipython-input-1-afa273161121>\u001b[0m in \u001b[0;36msubSComuOpt\u001b[0;34m(cadena1, cadena2, diccSolucions)\u001b[0m\n\u001b[1;32m     46\u001b[0m             \u001b[0mdiccSolucions\u001b[0m\u001b[0;34m[\u001b[0m\u001b[0mcadena1\u001b[0m\u001b[0;34m+\u001b[0m\u001b[0;34m'|'\u001b[0m\u001b[0;34m+\u001b[0m\u001b[0mcadena2\u001b[0m\u001b[0;34m]\u001b[0m \u001b[0;34m=\u001b[0m \u001b[0;36m0\u001b[0m\u001b[0;34m\u001b[0m\u001b[0m\n\u001b[1;32m     47\u001b[0m         \u001b[0;32melif\u001b[0m \u001b[0mcadena1\u001b[0m\u001b[0;34m[\u001b[0m\u001b[0mlongcad1\u001b[0m\u001b[0;34m-\u001b[0m\u001b[0;36m1\u001b[0m\u001b[0;34m]\u001b[0m \u001b[0;34m==\u001b[0m \u001b[0mcadena2\u001b[0m\u001b[0;34m[\u001b[0m\u001b[0mlongcad2\u001b[0m\u001b[0;34m-\u001b[0m\u001b[0;36m1\u001b[0m\u001b[0;34m]\u001b[0m\u001b[0;34m:\u001b[0m\u001b[0;34m\u001b[0m\u001b[0m\n\u001b[0;32m---> 48\u001b[0;31m             \u001b[0mdiccSolucions\u001b[0m\u001b[0;34m[\u001b[0m\u001b[0mcadena1\u001b[0m\u001b[0;34m+\u001b[0m\u001b[0;34m'|'\u001b[0m\u001b[0;34m+\u001b[0m\u001b[0mcadena2\u001b[0m\u001b[0;34m]\u001b[0m \u001b[0;34m=\u001b[0m                 \u001b[0msubSComuOpt\u001b[0m\u001b[0;34m(\u001b[0m\u001b[0mcadena1\u001b[0m\u001b[0;34m[\u001b[0m\u001b[0;36m0\u001b[0m\u001b[0;34m:\u001b[0m\u001b[0mlongcad1\u001b[0m\u001b[0;34m-\u001b[0m\u001b[0;36m1\u001b[0m\u001b[0;34m]\u001b[0m\u001b[0;34m,\u001b[0m \u001b[0mcadena2\u001b[0m\u001b[0;34m[\u001b[0m\u001b[0;36m0\u001b[0m\u001b[0;34m:\u001b[0m\u001b[0mlongcad2\u001b[0m\u001b[0;34m-\u001b[0m\u001b[0;36m1\u001b[0m\u001b[0;34m]\u001b[0m\u001b[0;34m,\u001b[0m\u001b[0mdiccSolucions\u001b[0m\u001b[0;34m)\u001b[0m\u001b[0;34m+\u001b[0m\u001b[0;36m1\u001b[0m\u001b[0;34m\u001b[0m\u001b[0m\n\u001b[0m\u001b[1;32m     49\u001b[0m         \u001b[0;32melse\u001b[0m\u001b[0;34m:\u001b[0m\u001b[0;34m\u001b[0m\u001b[0m\n\u001b[1;32m     50\u001b[0m             \u001b[0msolucio1\u001b[0m \u001b[0;34m=\u001b[0m \u001b[0msubSComuOpt\u001b[0m\u001b[0;34m(\u001b[0m\u001b[0mcadena1\u001b[0m\u001b[0;34m[\u001b[0m\u001b[0;36m0\u001b[0m\u001b[0;34m:\u001b[0m\u001b[0mlongcad1\u001b[0m\u001b[0;34m-\u001b[0m\u001b[0;36m1\u001b[0m\u001b[0;34m]\u001b[0m\u001b[0;34m,\u001b[0m \u001b[0mcadena2\u001b[0m\u001b[0;34m,\u001b[0m\u001b[0mdiccSolucions\u001b[0m\u001b[0;34m)\u001b[0m\u001b[0;34m\u001b[0m\u001b[0m\n",
      "\u001b[0;32m<ipython-input-1-afa273161121>\u001b[0m in \u001b[0;36msubSComuOpt\u001b[0;34m(cadena1, cadena2, diccSolucions)\u001b[0m\n\u001b[1;32m     48\u001b[0m             \u001b[0mdiccSolucions\u001b[0m\u001b[0;34m[\u001b[0m\u001b[0mcadena1\u001b[0m\u001b[0;34m+\u001b[0m\u001b[0;34m'|'\u001b[0m\u001b[0;34m+\u001b[0m\u001b[0mcadena2\u001b[0m\u001b[0;34m]\u001b[0m \u001b[0;34m=\u001b[0m                 \u001b[0msubSComuOpt\u001b[0m\u001b[0;34m(\u001b[0m\u001b[0mcadena1\u001b[0m\u001b[0;34m[\u001b[0m\u001b[0;36m0\u001b[0m\u001b[0;34m:\u001b[0m\u001b[0mlongcad1\u001b[0m\u001b[0;34m-\u001b[0m\u001b[0;36m1\u001b[0m\u001b[0;34m]\u001b[0m\u001b[0;34m,\u001b[0m \u001b[0mcadena2\u001b[0m\u001b[0;34m[\u001b[0m\u001b[0;36m0\u001b[0m\u001b[0;34m:\u001b[0m\u001b[0mlongcad2\u001b[0m\u001b[0;34m-\u001b[0m\u001b[0;36m1\u001b[0m\u001b[0;34m]\u001b[0m\u001b[0;34m,\u001b[0m\u001b[0mdiccSolucions\u001b[0m\u001b[0;34m)\u001b[0m\u001b[0;34m+\u001b[0m\u001b[0;36m1\u001b[0m\u001b[0;34m\u001b[0m\u001b[0m\n\u001b[1;32m     49\u001b[0m         \u001b[0;32melse\u001b[0m\u001b[0;34m:\u001b[0m\u001b[0;34m\u001b[0m\u001b[0m\n\u001b[0;32m---> 50\u001b[0;31m             \u001b[0msolucio1\u001b[0m \u001b[0;34m=\u001b[0m \u001b[0msubSComuOpt\u001b[0m\u001b[0;34m(\u001b[0m\u001b[0mcadena1\u001b[0m\u001b[0;34m[\u001b[0m\u001b[0;36m0\u001b[0m\u001b[0;34m:\u001b[0m\u001b[0mlongcad1\u001b[0m\u001b[0;34m-\u001b[0m\u001b[0;36m1\u001b[0m\u001b[0;34m]\u001b[0m\u001b[0;34m,\u001b[0m \u001b[0mcadena2\u001b[0m\u001b[0;34m,\u001b[0m\u001b[0mdiccSolucions\u001b[0m\u001b[0;34m)\u001b[0m\u001b[0;34m\u001b[0m\u001b[0m\n\u001b[0m\u001b[1;32m     51\u001b[0m             \u001b[0msolucio2\u001b[0m \u001b[0;34m=\u001b[0m \u001b[0msubSComuOpt\u001b[0m\u001b[0;34m(\u001b[0m\u001b[0mcadena1\u001b[0m\u001b[0;34m,\u001b[0m \u001b[0mcadena2\u001b[0m\u001b[0;34m[\u001b[0m\u001b[0;36m0\u001b[0m\u001b[0;34m:\u001b[0m\u001b[0mlongcad2\u001b[0m\u001b[0;34m-\u001b[0m\u001b[0;36m1\u001b[0m\u001b[0;34m]\u001b[0m\u001b[0;34m,\u001b[0m\u001b[0mdiccSolucions\u001b[0m\u001b[0;34m)\u001b[0m\u001b[0;34m\u001b[0m\u001b[0m\n\u001b[1;32m     52\u001b[0m             \u001b[0mdiccSolucions\u001b[0m\u001b[0;34m[\u001b[0m\u001b[0mcadena1\u001b[0m\u001b[0;34m+\u001b[0m\u001b[0;34m'|'\u001b[0m\u001b[0;34m+\u001b[0m\u001b[0mcadena2\u001b[0m\u001b[0;34m]\u001b[0m \u001b[0;34m=\u001b[0m \u001b[0mmax\u001b[0m\u001b[0;34m(\u001b[0m\u001b[0msolucio1\u001b[0m\u001b[0;34m,\u001b[0m \u001b[0msolucio2\u001b[0m\u001b[0;34m)\u001b[0m\u001b[0;34m\u001b[0m\u001b[0m\n",
      "\u001b[0;32m<ipython-input-1-afa273161121>\u001b[0m in \u001b[0;36msubSComuOpt\u001b[0;34m(cadena1, cadena2, diccSolucions)\u001b[0m\n\u001b[1;32m     48\u001b[0m             \u001b[0mdiccSolucions\u001b[0m\u001b[0;34m[\u001b[0m\u001b[0mcadena1\u001b[0m\u001b[0;34m+\u001b[0m\u001b[0;34m'|'\u001b[0m\u001b[0;34m+\u001b[0m\u001b[0mcadena2\u001b[0m\u001b[0;34m]\u001b[0m \u001b[0;34m=\u001b[0m                 \u001b[0msubSComuOpt\u001b[0m\u001b[0;34m(\u001b[0m\u001b[0mcadena1\u001b[0m\u001b[0;34m[\u001b[0m\u001b[0;36m0\u001b[0m\u001b[0;34m:\u001b[0m\u001b[0mlongcad1\u001b[0m\u001b[0;34m-\u001b[0m\u001b[0;36m1\u001b[0m\u001b[0;34m]\u001b[0m\u001b[0;34m,\u001b[0m \u001b[0mcadena2\u001b[0m\u001b[0;34m[\u001b[0m\u001b[0;36m0\u001b[0m\u001b[0;34m:\u001b[0m\u001b[0mlongcad2\u001b[0m\u001b[0;34m-\u001b[0m\u001b[0;36m1\u001b[0m\u001b[0;34m]\u001b[0m\u001b[0;34m,\u001b[0m\u001b[0mdiccSolucions\u001b[0m\u001b[0;34m)\u001b[0m\u001b[0;34m+\u001b[0m\u001b[0;36m1\u001b[0m\u001b[0;34m\u001b[0m\u001b[0m\n\u001b[1;32m     49\u001b[0m         \u001b[0;32melse\u001b[0m\u001b[0;34m:\u001b[0m\u001b[0;34m\u001b[0m\u001b[0m\n\u001b[0;32m---> 50\u001b[0;31m             \u001b[0msolucio1\u001b[0m \u001b[0;34m=\u001b[0m \u001b[0msubSComuOpt\u001b[0m\u001b[0;34m(\u001b[0m\u001b[0mcadena1\u001b[0m\u001b[0;34m[\u001b[0m\u001b[0;36m0\u001b[0m\u001b[0;34m:\u001b[0m\u001b[0mlongcad1\u001b[0m\u001b[0;34m-\u001b[0m\u001b[0;36m1\u001b[0m\u001b[0;34m]\u001b[0m\u001b[0;34m,\u001b[0m \u001b[0mcadena2\u001b[0m\u001b[0;34m,\u001b[0m\u001b[0mdiccSolucions\u001b[0m\u001b[0;34m)\u001b[0m\u001b[0;34m\u001b[0m\u001b[0m\n\u001b[0m\u001b[1;32m     51\u001b[0m             \u001b[0msolucio2\u001b[0m \u001b[0;34m=\u001b[0m \u001b[0msubSComuOpt\u001b[0m\u001b[0;34m(\u001b[0m\u001b[0mcadena1\u001b[0m\u001b[0;34m,\u001b[0m \u001b[0mcadena2\u001b[0m\u001b[0;34m[\u001b[0m\u001b[0;36m0\u001b[0m\u001b[0;34m:\u001b[0m\u001b[0mlongcad2\u001b[0m\u001b[0;34m-\u001b[0m\u001b[0;36m1\u001b[0m\u001b[0;34m]\u001b[0m\u001b[0;34m,\u001b[0m\u001b[0mdiccSolucions\u001b[0m\u001b[0;34m)\u001b[0m\u001b[0;34m\u001b[0m\u001b[0m\n\u001b[1;32m     52\u001b[0m             \u001b[0mdiccSolucions\u001b[0m\u001b[0;34m[\u001b[0m\u001b[0mcadena1\u001b[0m\u001b[0;34m+\u001b[0m\u001b[0;34m'|'\u001b[0m\u001b[0;34m+\u001b[0m\u001b[0mcadena2\u001b[0m\u001b[0;34m]\u001b[0m \u001b[0;34m=\u001b[0m \u001b[0mmax\u001b[0m\u001b[0;34m(\u001b[0m\u001b[0msolucio1\u001b[0m\u001b[0;34m,\u001b[0m \u001b[0msolucio2\u001b[0m\u001b[0;34m)\u001b[0m\u001b[0;34m\u001b[0m\u001b[0m\n",
      "\u001b[0;32m<ipython-input-1-afa273161121>\u001b[0m in \u001b[0;36msubSComuOpt\u001b[0;34m(cadena1, cadena2, diccSolucions)\u001b[0m\n\u001b[1;32m     48\u001b[0m             \u001b[0mdiccSolucions\u001b[0m\u001b[0;34m[\u001b[0m\u001b[0mcadena1\u001b[0m\u001b[0;34m+\u001b[0m\u001b[0;34m'|'\u001b[0m\u001b[0;34m+\u001b[0m\u001b[0mcadena2\u001b[0m\u001b[0;34m]\u001b[0m \u001b[0;34m=\u001b[0m                 \u001b[0msubSComuOpt\u001b[0m\u001b[0;34m(\u001b[0m\u001b[0mcadena1\u001b[0m\u001b[0;34m[\u001b[0m\u001b[0;36m0\u001b[0m\u001b[0;34m:\u001b[0m\u001b[0mlongcad1\u001b[0m\u001b[0;34m-\u001b[0m\u001b[0;36m1\u001b[0m\u001b[0;34m]\u001b[0m\u001b[0;34m,\u001b[0m \u001b[0mcadena2\u001b[0m\u001b[0;34m[\u001b[0m\u001b[0;36m0\u001b[0m\u001b[0;34m:\u001b[0m\u001b[0mlongcad2\u001b[0m\u001b[0;34m-\u001b[0m\u001b[0;36m1\u001b[0m\u001b[0;34m]\u001b[0m\u001b[0;34m,\u001b[0m\u001b[0mdiccSolucions\u001b[0m\u001b[0;34m)\u001b[0m\u001b[0;34m+\u001b[0m\u001b[0;36m1\u001b[0m\u001b[0;34m\u001b[0m\u001b[0m\n\u001b[1;32m     49\u001b[0m         \u001b[0;32melse\u001b[0m\u001b[0;34m:\u001b[0m\u001b[0;34m\u001b[0m\u001b[0m\n\u001b[0;32m---> 50\u001b[0;31m             \u001b[0msolucio1\u001b[0m \u001b[0;34m=\u001b[0m \u001b[0msubSComuOpt\u001b[0m\u001b[0;34m(\u001b[0m\u001b[0mcadena1\u001b[0m\u001b[0;34m[\u001b[0m\u001b[0;36m0\u001b[0m\u001b[0;34m:\u001b[0m\u001b[0mlongcad1\u001b[0m\u001b[0;34m-\u001b[0m\u001b[0;36m1\u001b[0m\u001b[0;34m]\u001b[0m\u001b[0;34m,\u001b[0m \u001b[0mcadena2\u001b[0m\u001b[0;34m,\u001b[0m\u001b[0mdiccSolucions\u001b[0m\u001b[0;34m)\u001b[0m\u001b[0;34m\u001b[0m\u001b[0m\n\u001b[0m\u001b[1;32m     51\u001b[0m             \u001b[0msolucio2\u001b[0m \u001b[0;34m=\u001b[0m \u001b[0msubSComuOpt\u001b[0m\u001b[0;34m(\u001b[0m\u001b[0mcadena1\u001b[0m\u001b[0;34m,\u001b[0m \u001b[0mcadena2\u001b[0m\u001b[0;34m[\u001b[0m\u001b[0;36m0\u001b[0m\u001b[0;34m:\u001b[0m\u001b[0mlongcad2\u001b[0m\u001b[0;34m-\u001b[0m\u001b[0;36m1\u001b[0m\u001b[0;34m]\u001b[0m\u001b[0;34m,\u001b[0m\u001b[0mdiccSolucions\u001b[0m\u001b[0;34m)\u001b[0m\u001b[0;34m\u001b[0m\u001b[0m\n\u001b[1;32m     52\u001b[0m             \u001b[0mdiccSolucions\u001b[0m\u001b[0;34m[\u001b[0m\u001b[0mcadena1\u001b[0m\u001b[0;34m+\u001b[0m\u001b[0;34m'|'\u001b[0m\u001b[0;34m+\u001b[0m\u001b[0mcadena2\u001b[0m\u001b[0;34m]\u001b[0m \u001b[0;34m=\u001b[0m \u001b[0mmax\u001b[0m\u001b[0;34m(\u001b[0m\u001b[0msolucio1\u001b[0m\u001b[0;34m,\u001b[0m \u001b[0msolucio2\u001b[0m\u001b[0;34m)\u001b[0m\u001b[0;34m\u001b[0m\u001b[0m\n",
      "\u001b[0;32m<ipython-input-1-afa273161121>\u001b[0m in \u001b[0;36msubSComuOpt\u001b[0;34m(cadena1, cadena2, diccSolucions)\u001b[0m\n\u001b[1;32m     48\u001b[0m             \u001b[0mdiccSolucions\u001b[0m\u001b[0;34m[\u001b[0m\u001b[0mcadena1\u001b[0m\u001b[0;34m+\u001b[0m\u001b[0;34m'|'\u001b[0m\u001b[0;34m+\u001b[0m\u001b[0mcadena2\u001b[0m\u001b[0;34m]\u001b[0m \u001b[0;34m=\u001b[0m                 \u001b[0msubSComuOpt\u001b[0m\u001b[0;34m(\u001b[0m\u001b[0mcadena1\u001b[0m\u001b[0;34m[\u001b[0m\u001b[0;36m0\u001b[0m\u001b[0;34m:\u001b[0m\u001b[0mlongcad1\u001b[0m\u001b[0;34m-\u001b[0m\u001b[0;36m1\u001b[0m\u001b[0;34m]\u001b[0m\u001b[0;34m,\u001b[0m \u001b[0mcadena2\u001b[0m\u001b[0;34m[\u001b[0m\u001b[0;36m0\u001b[0m\u001b[0;34m:\u001b[0m\u001b[0mlongcad2\u001b[0m\u001b[0;34m-\u001b[0m\u001b[0;36m1\u001b[0m\u001b[0;34m]\u001b[0m\u001b[0;34m,\u001b[0m\u001b[0mdiccSolucions\u001b[0m\u001b[0;34m)\u001b[0m\u001b[0;34m+\u001b[0m\u001b[0;36m1\u001b[0m\u001b[0;34m\u001b[0m\u001b[0m\n\u001b[1;32m     49\u001b[0m         \u001b[0;32melse\u001b[0m\u001b[0;34m:\u001b[0m\u001b[0;34m\u001b[0m\u001b[0m\n\u001b[0;32m---> 50\u001b[0;31m             \u001b[0msolucio1\u001b[0m \u001b[0;34m=\u001b[0m \u001b[0msubSComuOpt\u001b[0m\u001b[0;34m(\u001b[0m\u001b[0mcadena1\u001b[0m\u001b[0;34m[\u001b[0m\u001b[0;36m0\u001b[0m\u001b[0;34m:\u001b[0m\u001b[0mlongcad1\u001b[0m\u001b[0;34m-\u001b[0m\u001b[0;36m1\u001b[0m\u001b[0;34m]\u001b[0m\u001b[0;34m,\u001b[0m \u001b[0mcadena2\u001b[0m\u001b[0;34m,\u001b[0m\u001b[0mdiccSolucions\u001b[0m\u001b[0;34m)\u001b[0m\u001b[0;34m\u001b[0m\u001b[0m\n\u001b[0m\u001b[1;32m     51\u001b[0m             \u001b[0msolucio2\u001b[0m \u001b[0;34m=\u001b[0m \u001b[0msubSComuOpt\u001b[0m\u001b[0;34m(\u001b[0m\u001b[0mcadena1\u001b[0m\u001b[0;34m,\u001b[0m \u001b[0mcadena2\u001b[0m\u001b[0;34m[\u001b[0m\u001b[0;36m0\u001b[0m\u001b[0;34m:\u001b[0m\u001b[0mlongcad2\u001b[0m\u001b[0;34m-\u001b[0m\u001b[0;36m1\u001b[0m\u001b[0;34m]\u001b[0m\u001b[0;34m,\u001b[0m\u001b[0mdiccSolucions\u001b[0m\u001b[0;34m)\u001b[0m\u001b[0;34m\u001b[0m\u001b[0m\n\u001b[1;32m     52\u001b[0m             \u001b[0mdiccSolucions\u001b[0m\u001b[0;34m[\u001b[0m\u001b[0mcadena1\u001b[0m\u001b[0;34m+\u001b[0m\u001b[0;34m'|'\u001b[0m\u001b[0;34m+\u001b[0m\u001b[0mcadena2\u001b[0m\u001b[0;34m]\u001b[0m \u001b[0;34m=\u001b[0m \u001b[0mmax\u001b[0m\u001b[0;34m(\u001b[0m\u001b[0msolucio1\u001b[0m\u001b[0;34m,\u001b[0m \u001b[0msolucio2\u001b[0m\u001b[0;34m)\u001b[0m\u001b[0;34m\u001b[0m\u001b[0m\n",
      "\u001b[0;32m<ipython-input-1-afa273161121>\u001b[0m in \u001b[0;36msubSComuOpt\u001b[0;34m(cadena1, cadena2, diccSolucions)\u001b[0m\n\u001b[1;32m     49\u001b[0m         \u001b[0;32melse\u001b[0m\u001b[0;34m:\u001b[0m\u001b[0;34m\u001b[0m\u001b[0m\n\u001b[1;32m     50\u001b[0m             \u001b[0msolucio1\u001b[0m \u001b[0;34m=\u001b[0m \u001b[0msubSComuOpt\u001b[0m\u001b[0;34m(\u001b[0m\u001b[0mcadena1\u001b[0m\u001b[0;34m[\u001b[0m\u001b[0;36m0\u001b[0m\u001b[0;34m:\u001b[0m\u001b[0mlongcad1\u001b[0m\u001b[0;34m-\u001b[0m\u001b[0;36m1\u001b[0m\u001b[0;34m]\u001b[0m\u001b[0;34m,\u001b[0m \u001b[0mcadena2\u001b[0m\u001b[0;34m,\u001b[0m\u001b[0mdiccSolucions\u001b[0m\u001b[0;34m)\u001b[0m\u001b[0;34m\u001b[0m\u001b[0m\n\u001b[0;32m---> 51\u001b[0;31m             \u001b[0msolucio2\u001b[0m \u001b[0;34m=\u001b[0m \u001b[0msubSComuOpt\u001b[0m\u001b[0;34m(\u001b[0m\u001b[0mcadena1\u001b[0m\u001b[0;34m,\u001b[0m \u001b[0mcadena2\u001b[0m\u001b[0;34m[\u001b[0m\u001b[0;36m0\u001b[0m\u001b[0;34m:\u001b[0m\u001b[0mlongcad2\u001b[0m\u001b[0;34m-\u001b[0m\u001b[0;36m1\u001b[0m\u001b[0;34m]\u001b[0m\u001b[0;34m,\u001b[0m\u001b[0mdiccSolucions\u001b[0m\u001b[0;34m)\u001b[0m\u001b[0;34m\u001b[0m\u001b[0m\n\u001b[0m\u001b[1;32m     52\u001b[0m             \u001b[0mdiccSolucions\u001b[0m\u001b[0;34m[\u001b[0m\u001b[0mcadena1\u001b[0m\u001b[0;34m+\u001b[0m\u001b[0;34m'|'\u001b[0m\u001b[0;34m+\u001b[0m\u001b[0mcadena2\u001b[0m\u001b[0;34m]\u001b[0m \u001b[0;34m=\u001b[0m \u001b[0mmax\u001b[0m\u001b[0;34m(\u001b[0m\u001b[0msolucio1\u001b[0m\u001b[0;34m,\u001b[0m \u001b[0msolucio2\u001b[0m\u001b[0;34m)\u001b[0m\u001b[0;34m\u001b[0m\u001b[0m\n\u001b[1;32m     53\u001b[0m     \u001b[0;31m# print(diccSolucions) #xivato\u001b[0m\u001b[0;34m\u001b[0m\u001b[0;34m\u001b[0m\u001b[0m\n",
      "\u001b[0;32m<ipython-input-1-afa273161121>\u001b[0m in \u001b[0;36msubSComuOpt\u001b[0;34m(cadena1, cadena2, diccSolucions)\u001b[0m\n\u001b[1;32m     49\u001b[0m         \u001b[0;32melse\u001b[0m\u001b[0;34m:\u001b[0m\u001b[0;34m\u001b[0m\u001b[0m\n\u001b[1;32m     50\u001b[0m             \u001b[0msolucio1\u001b[0m \u001b[0;34m=\u001b[0m \u001b[0msubSComuOpt\u001b[0m\u001b[0;34m(\u001b[0m\u001b[0mcadena1\u001b[0m\u001b[0;34m[\u001b[0m\u001b[0;36m0\u001b[0m\u001b[0;34m:\u001b[0m\u001b[0mlongcad1\u001b[0m\u001b[0;34m-\u001b[0m\u001b[0;36m1\u001b[0m\u001b[0;34m]\u001b[0m\u001b[0;34m,\u001b[0m \u001b[0mcadena2\u001b[0m\u001b[0;34m,\u001b[0m\u001b[0mdiccSolucions\u001b[0m\u001b[0;34m)\u001b[0m\u001b[0;34m\u001b[0m\u001b[0m\n\u001b[0;32m---> 51\u001b[0;31m             \u001b[0msolucio2\u001b[0m \u001b[0;34m=\u001b[0m \u001b[0msubSComuOpt\u001b[0m\u001b[0;34m(\u001b[0m\u001b[0mcadena1\u001b[0m\u001b[0;34m,\u001b[0m \u001b[0mcadena2\u001b[0m\u001b[0;34m[\u001b[0m\u001b[0;36m0\u001b[0m\u001b[0;34m:\u001b[0m\u001b[0mlongcad2\u001b[0m\u001b[0;34m-\u001b[0m\u001b[0;36m1\u001b[0m\u001b[0;34m]\u001b[0m\u001b[0;34m,\u001b[0m\u001b[0mdiccSolucions\u001b[0m\u001b[0;34m)\u001b[0m\u001b[0;34m\u001b[0m\u001b[0m\n\u001b[0m\u001b[1;32m     52\u001b[0m             \u001b[0mdiccSolucions\u001b[0m\u001b[0;34m[\u001b[0m\u001b[0mcadena1\u001b[0m\u001b[0;34m+\u001b[0m\u001b[0;34m'|'\u001b[0m\u001b[0;34m+\u001b[0m\u001b[0mcadena2\u001b[0m\u001b[0;34m]\u001b[0m \u001b[0;34m=\u001b[0m \u001b[0mmax\u001b[0m\u001b[0;34m(\u001b[0m\u001b[0msolucio1\u001b[0m\u001b[0;34m,\u001b[0m \u001b[0msolucio2\u001b[0m\u001b[0;34m)\u001b[0m\u001b[0;34m\u001b[0m\u001b[0m\n\u001b[1;32m     53\u001b[0m     \u001b[0;31m# print(diccSolucions) #xivato\u001b[0m\u001b[0;34m\u001b[0m\u001b[0;34m\u001b[0m\u001b[0m\n",
      "\u001b[0;32m<ipython-input-1-afa273161121>\u001b[0m in \u001b[0;36msubSComuOpt\u001b[0;34m(cadena1, cadena2, diccSolucions)\u001b[0m\n\u001b[1;32m     49\u001b[0m         \u001b[0;32melse\u001b[0m\u001b[0;34m:\u001b[0m\u001b[0;34m\u001b[0m\u001b[0m\n\u001b[1;32m     50\u001b[0m             \u001b[0msolucio1\u001b[0m \u001b[0;34m=\u001b[0m \u001b[0msubSComuOpt\u001b[0m\u001b[0;34m(\u001b[0m\u001b[0mcadena1\u001b[0m\u001b[0;34m[\u001b[0m\u001b[0;36m0\u001b[0m\u001b[0;34m:\u001b[0m\u001b[0mlongcad1\u001b[0m\u001b[0;34m-\u001b[0m\u001b[0;36m1\u001b[0m\u001b[0;34m]\u001b[0m\u001b[0;34m,\u001b[0m \u001b[0mcadena2\u001b[0m\u001b[0;34m,\u001b[0m\u001b[0mdiccSolucions\u001b[0m\u001b[0;34m)\u001b[0m\u001b[0;34m\u001b[0m\u001b[0m\n\u001b[0;32m---> 51\u001b[0;31m             \u001b[0msolucio2\u001b[0m \u001b[0;34m=\u001b[0m \u001b[0msubSComuOpt\u001b[0m\u001b[0;34m(\u001b[0m\u001b[0mcadena1\u001b[0m\u001b[0;34m,\u001b[0m \u001b[0mcadena2\u001b[0m\u001b[0;34m[\u001b[0m\u001b[0;36m0\u001b[0m\u001b[0;34m:\u001b[0m\u001b[0mlongcad2\u001b[0m\u001b[0;34m-\u001b[0m\u001b[0;36m1\u001b[0m\u001b[0;34m]\u001b[0m\u001b[0;34m,\u001b[0m\u001b[0mdiccSolucions\u001b[0m\u001b[0;34m)\u001b[0m\u001b[0;34m\u001b[0m\u001b[0m\n\u001b[0m\u001b[1;32m     52\u001b[0m             \u001b[0mdiccSolucions\u001b[0m\u001b[0;34m[\u001b[0m\u001b[0mcadena1\u001b[0m\u001b[0;34m+\u001b[0m\u001b[0;34m'|'\u001b[0m\u001b[0;34m+\u001b[0m\u001b[0mcadena2\u001b[0m\u001b[0;34m]\u001b[0m \u001b[0;34m=\u001b[0m \u001b[0mmax\u001b[0m\u001b[0;34m(\u001b[0m\u001b[0msolucio1\u001b[0m\u001b[0;34m,\u001b[0m \u001b[0msolucio2\u001b[0m\u001b[0;34m)\u001b[0m\u001b[0;34m\u001b[0m\u001b[0m\n\u001b[1;32m     53\u001b[0m     \u001b[0;31m# print(diccSolucions) #xivato\u001b[0m\u001b[0;34m\u001b[0m\u001b[0;34m\u001b[0m\u001b[0m\n",
      "\u001b[0;32m<ipython-input-1-afa273161121>\u001b[0m in \u001b[0;36msubSComuOpt\u001b[0;34m(cadena1, cadena2, diccSolucions)\u001b[0m\n\u001b[1;32m     49\u001b[0m         \u001b[0;32melse\u001b[0m\u001b[0;34m:\u001b[0m\u001b[0;34m\u001b[0m\u001b[0m\n\u001b[1;32m     50\u001b[0m             \u001b[0msolucio1\u001b[0m \u001b[0;34m=\u001b[0m \u001b[0msubSComuOpt\u001b[0m\u001b[0;34m(\u001b[0m\u001b[0mcadena1\u001b[0m\u001b[0;34m[\u001b[0m\u001b[0;36m0\u001b[0m\u001b[0;34m:\u001b[0m\u001b[0mlongcad1\u001b[0m\u001b[0;34m-\u001b[0m\u001b[0;36m1\u001b[0m\u001b[0;34m]\u001b[0m\u001b[0;34m,\u001b[0m \u001b[0mcadena2\u001b[0m\u001b[0;34m,\u001b[0m\u001b[0mdiccSolucions\u001b[0m\u001b[0;34m)\u001b[0m\u001b[0;34m\u001b[0m\u001b[0m\n\u001b[0;32m---> 51\u001b[0;31m             \u001b[0msolucio2\u001b[0m \u001b[0;34m=\u001b[0m \u001b[0msubSComuOpt\u001b[0m\u001b[0;34m(\u001b[0m\u001b[0mcadena1\u001b[0m\u001b[0;34m,\u001b[0m \u001b[0mcadena2\u001b[0m\u001b[0;34m[\u001b[0m\u001b[0;36m0\u001b[0m\u001b[0;34m:\u001b[0m\u001b[0mlongcad2\u001b[0m\u001b[0;34m-\u001b[0m\u001b[0;36m1\u001b[0m\u001b[0;34m]\u001b[0m\u001b[0;34m,\u001b[0m\u001b[0mdiccSolucions\u001b[0m\u001b[0;34m)\u001b[0m\u001b[0;34m\u001b[0m\u001b[0m\n\u001b[0m\u001b[1;32m     52\u001b[0m             \u001b[0mdiccSolucions\u001b[0m\u001b[0;34m[\u001b[0m\u001b[0mcadena1\u001b[0m\u001b[0;34m+\u001b[0m\u001b[0;34m'|'\u001b[0m\u001b[0;34m+\u001b[0m\u001b[0mcadena2\u001b[0m\u001b[0;34m]\u001b[0m \u001b[0;34m=\u001b[0m \u001b[0mmax\u001b[0m\u001b[0;34m(\u001b[0m\u001b[0msolucio1\u001b[0m\u001b[0;34m,\u001b[0m \u001b[0msolucio2\u001b[0m\u001b[0;34m)\u001b[0m\u001b[0;34m\u001b[0m\u001b[0m\n\u001b[1;32m     53\u001b[0m     \u001b[0;31m# print(diccSolucions) #xivato\u001b[0m\u001b[0;34m\u001b[0m\u001b[0;34m\u001b[0m\u001b[0m\n",
      "\u001b[0;32m<ipython-input-1-afa273161121>\u001b[0m in \u001b[0;36msubSComuOpt\u001b[0;34m(cadena1, cadena2, diccSolucions)\u001b[0m\n\u001b[1;32m     50\u001b[0m             \u001b[0msolucio1\u001b[0m \u001b[0;34m=\u001b[0m \u001b[0msubSComuOpt\u001b[0m\u001b[0;34m(\u001b[0m\u001b[0mcadena1\u001b[0m\u001b[0;34m[\u001b[0m\u001b[0;36m0\u001b[0m\u001b[0;34m:\u001b[0m\u001b[0mlongcad1\u001b[0m\u001b[0;34m-\u001b[0m\u001b[0;36m1\u001b[0m\u001b[0;34m]\u001b[0m\u001b[0;34m,\u001b[0m \u001b[0mcadena2\u001b[0m\u001b[0;34m,\u001b[0m\u001b[0mdiccSolucions\u001b[0m\u001b[0;34m)\u001b[0m\u001b[0;34m\u001b[0m\u001b[0m\n\u001b[1;32m     51\u001b[0m             \u001b[0msolucio2\u001b[0m \u001b[0;34m=\u001b[0m \u001b[0msubSComuOpt\u001b[0m\u001b[0;34m(\u001b[0m\u001b[0mcadena1\u001b[0m\u001b[0;34m,\u001b[0m \u001b[0mcadena2\u001b[0m\u001b[0;34m[\u001b[0m\u001b[0;36m0\u001b[0m\u001b[0;34m:\u001b[0m\u001b[0mlongcad2\u001b[0m\u001b[0;34m-\u001b[0m\u001b[0;36m1\u001b[0m\u001b[0;34m]\u001b[0m\u001b[0;34m,\u001b[0m\u001b[0mdiccSolucions\u001b[0m\u001b[0;34m)\u001b[0m\u001b[0;34m\u001b[0m\u001b[0m\n\u001b[0;32m---> 52\u001b[0;31m             \u001b[0mdiccSolucions\u001b[0m\u001b[0;34m[\u001b[0m\u001b[0mcadena1\u001b[0m\u001b[0;34m+\u001b[0m\u001b[0;34m'|'\u001b[0m\u001b[0;34m+\u001b[0m\u001b[0mcadena2\u001b[0m\u001b[0;34m]\u001b[0m \u001b[0;34m=\u001b[0m \u001b[0mmax\u001b[0m\u001b[0;34m(\u001b[0m\u001b[0msolucio1\u001b[0m\u001b[0;34m,\u001b[0m \u001b[0msolucio2\u001b[0m\u001b[0;34m)\u001b[0m\u001b[0;34m\u001b[0m\u001b[0m\n\u001b[0m\u001b[1;32m     53\u001b[0m     \u001b[0;31m# print(diccSolucions) #xivato\u001b[0m\u001b[0;34m\u001b[0m\u001b[0;34m\u001b[0m\u001b[0m\n\u001b[1;32m     54\u001b[0m     \u001b[0mprint\u001b[0m\u001b[0;34m(\u001b[0m\u001b[0mdiccSolucions\u001b[0m\u001b[0;34m[\u001b[0m\u001b[0mcadena1\u001b[0m\u001b[0;34m+\u001b[0m\u001b[0;34m'|'\u001b[0m\u001b[0;34m+\u001b[0m\u001b[0mcadena2\u001b[0m\u001b[0;34m]\u001b[0m\u001b[0;34m)\u001b[0m\u001b[0;34m\u001b[0m\u001b[0m\n",
      "\u001b[0;31mTypeError\u001b[0m: '>' not supported between instances of 'NoneType' and 'NoneType'"
     ]
    }
   ],
   "source": [
    "subSComuOpt('XMJYAUZ','MZJAWU',{})"
   ]
  },
  {
   "cell_type": "code",
   "execution_count": null,
   "metadata": {},
   "outputs": [],
   "source": [
    "subSComuOpt('ACB','AB',{})"
   ]
  },
  {
   "cell_type": "markdown",
   "metadata": {},
   "source": [
    "També podem construir la solució amb una taula que va guardant els valors de la subseqüència comú més llarga:\n",
    "\n",
    "\n",
    "|   |   |   | 0 | 1 | 2 | 3 | 4 | 5 | 6 | 7 | 8 |\n",
    "|---|---|---|---|---|---|---|---|---|---|---|---|\n",
    "|---|---|---| S | U | B | C | A | D | E | N | A |\n",
    "|---|---| 0 | 0 | 0 | 0 | 0 | 0 | 0 | 0 | 0 | 0 |\n",
    "| 0 | A | 0 | 0 | 0 | 0 | 0 | 1 | 1 | 1 | 1 | 1 |\n",
    "| 1 | B | 0 | 0 | 0 | 1 | 1 | 1 | 1 | 1 | 1 | 1 |\n",
    "| 2 | E | 0 | 0 | 0 | 1 | 1 | 1 | 1 | 2 | 2 | 2 |\n",
    "| 3 | C | 0 | 0 | 0 | 1 | 2 | 2 | 2 | 2 | 2 | 2 |\n",
    "| 4 | E | 0 | 0 | 0 | 1 | 2 | 2 | 2 | 3 | 3 | 3 |\n",
    "| 5 | D | 0 | 0 | 0 | 1 | 2 | 2 | 3 | 3 | 3 | 3 |\n",
    "| 6 | A | 0 | 0 | 0 | 1 | 2 | 3 | 3 | 3 | 3 | 4 |\n",
    "| 7 | R | 0 | 0 | 0 | 1 | 2 | 3 | 3 | 3 | 3 | 4 |\n",
    "| 8 | I | 0 | 0 | 0 | 1 | 2 | 3 | 3 | 3 | 3 | 4 |\n",
    "\n",
    "\n",
    "La casella[i][j] guarda el valor de longitud de la subseqüència més llarga entre cadena1[0:j] i cadena2[0:i]\n",
    "\n",
    "Per ex. la casella[2][6] guarda la longitud de la subseqüència més llarga entre cadena1[0:6] i cadena2[0:2]. Efectivament 2 és la longitud de la subseqüència més llarga entre \"SUBCADE\" i \"ABE\", que es correspon a \"AE\"\n",
    "\n"
   ]
  },
  {
   "cell_type": "code",
   "execution_count": 1,
   "metadata": {},
   "outputs": [
    {
     "data": {
      "text/plain": [
       "4"
      ]
     },
     "execution_count": 1,
     "metadata": {},
     "output_type": "execute_result"
    }
   ],
   "source": [
    "# Escriu una nova solució que implementi aquest algorisme usant aquesta taula\n",
    "\"\"\"\n",
    "Donades dues cadenes de caràcters identificar la longitud de la subseqüència\n",
    "compartida més llarga. Una subseqüència és una seqüència de caràcters\n",
    "en el mateix ordre que a la cadena original però no necessàriament\n",
    "consecutius.\n",
    "En aquest algorisme s'optimitzen els càlculs amb una taula on es guarden\n",
    "les solucions parcials\n",
    ":param cadena1, cadena2 les dues cadenes en les que buscar la subseqüència\n",
    ":return la longitud de la subseqüència més llarga\n",
    "\"\"\"\n",
    "\n",
    "\n",
    "def subSComuTaula(cadena1, cadena2):\n",
    "    longcad1 = len(cadena1)\n",
    "    longcad2 = len(cadena2)\n",
    "    taulaSolucions=[]\n",
    "    for i in range(0,longcad2+1):\n",
    "        fila=[0]*(longcad1+1)            # he de definir fila dins el bucle perquè altrament totes les files són la mateixa\n",
    "        taulaSolucions.append(fila)\n",
    "    # print(taulaSolucions) \n",
    "    # la casella[i][j] guarda el valor de longitud de la\n",
    "    # subseqüència més llarga entre cadena1[0:j] i cadena2[0:i]\n",
    "    for j in range(1, longcad1+1):\n",
    "        for i in range(1, longcad2+1):\n",
    "            temp = max(taulaSolucions[i-1][j],  taulaSolucions[i][j-1])\n",
    "            if cadena1[j-1] == cadena2[i-1]:\n",
    "                taulaSolucions[i][j] = taulaSolucions[i-1][j-1]+1\n",
    "            else:\n",
    "                taulaSolucions[i][j] = temp\n",
    "    # print(taulaSolucions)  #xivato\n",
    "\n",
    "    return(taulaSolucions[longcad2][longcad1])\n",
    "\n",
    "subSComuTaula('XMJYAUZ','MZJAWU')"
   ]
  },
  {
   "cell_type": "markdown",
   "metadata": {},
   "source": [
    "Crea una nova versió on optimitzis l'espai ocupat per l'algorisme"
   ]
  },
  {
   "cell_type": "code",
   "execution_count": null,
   "metadata": {},
   "outputs": [],
   "source": [
    "# Inserir aquí el codi de la solució   (CAL REVISAR)\n",
    "def SubSComuTaulaOpt(cadena1, cadena2):\n",
    "    longcad1 = len(cadena1)\n",
    "    longcad2 = len(cadena2)\n",
    "    vectorSolucions = [0]*(longcad2+1)\n",
    "    prev = 0\n",
    "    for i in range(0, longcad1+1):\n",
    "        prev = vectorSolucions[0]\n",
    "        for j in range (0,longcad2+1):\n",
    "            backup = vectorSolucions[j]\n",
    "            if (i == 0 or j == 0):\n",
    "                vectorSolucions[j] = 0\n",
    "            else:\n",
    "                # print(backup,i,j,cadena1[i-1],cadena2[j-1],vectorSolucions,\"prev\",prev) #xivato\n",
    "                if cadena1[i-1] == cadena2[j-1]:\n",
    "                    vectorSolucions[j] = prev + 1\n",
    "                else:\n",
    "                    vectorSolucions[j] = max(vectorSolucions[j], vectorSolucions[j-1])\n",
    "            prev = backup\n",
    "            \n",
    "    return vectorSolucions[longcad2]"
   ]
  },
  {
   "cell_type": "code",
   "execution_count": null,
   "metadata": {},
   "outputs": [],
   "source": [
    "print(SubSComuTaulaOpt('XMJYAUZ','MZJAWU'))\n",
    "print(SubSComuTaulaOpt('MZJAWU','XMJYAUZtreleer'))"
   ]
  },
  {
   "cell_type": "markdown",
   "metadata": {},
   "source": [
    "<h2 style=\"padding:0.5em 0;font:Garamond;font-size:1.2em;color:#005;background-color:#FA0\">\n",
    "Pregunta 2: Explica sense entrar en detalls el guany que hem aconseguit amb cada una de les optimitzacions proposades.\n",
    "</h2>"
   ]
  },
  {
   "cell_type": "markdown",
   "metadata": {},
   "source": [
    "A la solució amb programació dinàmica ens estalviem molts càlculs ja que quan dues cadenes han estat avaluades, ja no es torna a buscar la subseqüència.\n",
    "A la solució amb la taula la complexitat és O(mn) i no ens cal el diccionari de solucions, només la taula amb els resultats parcials, per tant sobretot el guany és en espai. Per altra banda aquesta solució és iterativa i ens estalviem totes les estructures de les crides recursives."
   ]
  },
  {
   "cell_type": "markdown",
   "metadata": {},
   "source": [
    "<p style=\"text-align:right;font-size:0.9em\">\n",
    "&copy;Jordi Vitrià i Mireia Ribera\n",
    "</p>"
   ]
  }
 ],
 "metadata": {
  "kernelspec": {
   "display_name": "Python 3",
   "language": "python",
   "name": "python3"
  },
  "language_info": {
   "codemirror_mode": {
    "name": "ipython",
    "version": 3
   },
   "file_extension": ".py",
   "mimetype": "text/x-python",
   "name": "python",
   "nbconvert_exporter": "python",
   "pygments_lexer": "ipython3",
   "version": "3.6.5"
  }
 },
 "nbformat": 4,
 "nbformat_minor": 2
}
