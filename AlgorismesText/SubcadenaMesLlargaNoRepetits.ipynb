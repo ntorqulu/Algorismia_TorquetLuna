{
 "cells": [
  {
   "cell_type": "markdown",
   "metadata": {},
   "source": [
    "<p style=\"text-align:right;font-size:0.9em\">\n",
    "Grau d'Enginyeria Informàtica. Algorísmica\n",
    "</p>"
   ]
  },
  {
   "cell_type": "markdown",
   "metadata": {},
   "source": [
    "<h1 style=\"padding:0.5em 0;font:Garamond;font-size:1-5em;color:#F90;background-color:#005\">\n",
    "Problema: Subcadena més llarga sense cap caràcter repetit\n",
    "</h1>"
   ]
  },
  {
   "cell_type": "markdown",
   "metadata": {},
   "source": [
    "<p style=\"font-family:Arial;font-size:1em\">\n",
    "Donada una cadena de caràcters, identificar la subcadena més llarga sense cap caràcter repetit\n",
    "</p>"
   ]
  },
  {
   "cell_type": "markdown",
   "metadata": {},
   "source": [
    "<div style=\"font-style:italic\">\n",
    "Per exemple:\n",
    "<ul>\n",
    "<li>cadena=\"lacadenamesllarga\"</li>\n",
    "<li>Solució:\n",
    "   <ul>\n",
    "   <li>\"namesl\"</li>\n",
    "   </ul>\n",
    "</li>\n",
    "<li>cadena=\"mesllarga\"</li>\n",
    "<li>Solució:\n",
    "   <ul>\n",
    "   <li>\"mesl\"</li>\n",
    "   </ul>\n",
    "</li>\n",
    "<li>cadena=\"aaa\"</li>\n",
    "<li>Solució:\n",
    "   <ul>\n",
    "   <li>\"a\"</li>\n",
    "   </ul>\n",
    "</li>\n",
    "</ul>\n",
    "</div>"
   ]
  },
  {
   "cell_type": "code",
   "execution_count": 3,
   "metadata": {},
   "outputs": [
    {
     "ename": "IndentationError",
     "evalue": "expected an indented block (<ipython-input-3-c16a71cf6a0b>, line 2)",
     "output_type": "error",
     "traceback": [
      "\u001b[0;36m  File \u001b[0;32m\"<ipython-input-3-c16a71cf6a0b>\"\u001b[0;36m, line \u001b[0;32m2\u001b[0m\n\u001b[0;31m    2\u001b[0m\n\u001b[0m    ^\u001b[0m\n\u001b[0;31mIndentationError\u001b[0m\u001b[0;31m:\u001b[0m expected an indented block\n"
     ]
    }
   ],
   "source": [
    "\n"
   ]
  },
  {
   "cell_type": "code",
   "execution_count": 3,
   "metadata": {},
   "outputs": [
    {
     "data": {
      "text/plain": [
       "'esllarg'"
      ]
     },
     "execution_count": 3,
     "metadata": {},
     "output_type": "execute_result"
    }
   ],
   "source": [
    "def LS(s):\n",
    "    start, end = 0, 0\n",
    "    longest = ''\n",
    "    char_set = set()\n",
    "    \n",
    "    while end < len(s):\n",
    "        end += 1\n",
    "        cur_char = s[end - 1]\n",
    "        # si el char que evaluem no es troba en el set, l'incloem\n",
    "        if cur_char not in char_set:\n",
    "            char_set.add(cur_char)\n",
    "            # update la substring més llarga\n",
    "            if end - start > len(longest):\n",
    "                longest = s[start:end]\n",
    "            continue\n",
    "        while start < end - 1:\n",
    "            if s[start] != cur_char:\n",
    "                char_set.remove(s[start])\n",
    "                start += 1\n",
    "            else:\n",
    "                start+=1\n",
    "                break\n",
    "    return longest\n",
    "LS(\"mesllarga\")\n",
    "            "
   ]
  },
  {
   "cell_type": "markdown",
   "metadata": {},
   "source": [
    "<h2 style=\"padding:0.5em 0;font:Garamond;font-size:1.2em;color:#FA0;background-color:#005\">\n",
    "Pregunta 1: Aquest problema se soluciona amb una finestra que conté una cadena sense caràcters repetits. Quina/es col.lecció/col.leccions se t'acudeix que et pot ser útil? Raona la resposta.\n",
    "</h2>"
   ]
  },
  {
   "cell_type": "code",
   "execution_count": 2,
   "metadata": {
    "collapsed": true
   },
   "outputs": [],
   "source": [
    "set() => agafar string i guardar-ho com a set, així no es repeteixen caracters.\n"
   ]
  },
  {
   "cell_type": "markdown",
   "metadata": {},
   "source": [
    "<h2 style=\"padding:0.5em 0;font:Garamond;font-size:1.2em;color:#FA0;background-color:#005\">\n",
    "Pregunta 2: Quina és la complexitat d'aquest algorisme? Mostra els càlculs fets. (Nota: idealment hauries d'aconseguir un algorisme de complexitat O(n))\n",
    "</h2>"
   ]
  },
  {
   "cell_type": "code",
   "execution_count": 3,
   "metadata": {
    "collapsed": true
   },
   "outputs": [],
   "source": [
    "nomes pots fer un recorregut, tipus partition, movent index\n",
    "mirar tots els caracteres O(n)"
   ]
  },
  {
   "cell_type": "markdown",
   "metadata": {},
   "source": [
    "<h2 style=\"padding:0.5em 0;font:Garamond;font-size:1.2em;color:#FA0;background-color:#005\">\n",
    "Pregunta 3: Indica la resposta de SubcadenaMesLlarga per la paraula \"algorismica\" (sense accent)\n",
    "</h2>"
   ]
  },
  {
   "cell_type": "code",
   "execution_count": 2,
   "metadata": {},
   "outputs": [],
   "source": [
    "# Inserir aquí les respostes"
   ]
  },
  {
   "cell_type": "markdown",
   "metadata": {},
   "source": [
    "<p style=\"text-align:right;font-size:0.9em\">\n",
    "&copy;Jordi Vitrià i Mireia Ribera\n",
    "</p>"
   ]
  }
 ],
 "metadata": {
  "kernelspec": {
   "display_name": "Python 3",
   "language": "python",
   "name": "python3"
  },
  "language_info": {
   "codemirror_mode": {
    "name": "ipython",
    "version": 3
   },
   "file_extension": ".py",
   "mimetype": "text/x-python",
   "name": "python",
   "nbconvert_exporter": "python",
   "pygments_lexer": "ipython3",
   "version": "3.6.5"
  }
 },
 "nbformat": 4,
 "nbformat_minor": 2
}
