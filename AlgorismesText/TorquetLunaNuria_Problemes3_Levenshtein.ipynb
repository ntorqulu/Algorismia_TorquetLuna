{
 "cells": [
  {
   "cell_type": "markdown",
   "metadata": {},
   "source": [
    "<p style=\"text-align:right;font-size:0.9em\">\n",
    "Grau d'Enginyeria Informàtica. Algorísmica\n",
    "</p>"
   ]
  },
  {
   "cell_type": "markdown",
   "metadata": {},
   "source": [
    "<h1 style=\"padding:0.5em 0;font:Garamond;font-size:1-5em;color:#F90;background-color:#005\">\n",
    "Problema: Levenshtein\n",
    "</h1>"
   ]
  },
  {
   "cell_type": "markdown",
   "metadata": {},
   "source": [
    "## Introducció\n",
    "\n",
    "Una seqüència genètica és un string format per caràcters d’un alfabet de quatre lletres: ``A, T, G`` i ``C``, que corresponen a les macromolècules base de l’ADN. Un gen és una seqüència genètica que conté la informació necessària per construir una proteïna. La unió de tots els gens constitueixen el genoma. \n",
    "\n",
    "Cada cèl•lula produïda pel cos rep una còpia del genoma, però a vegades, aquesta còpia és lleugerament “defectuosa”. Els “defectes” van des de la substitució d’una base per una altra fins a la pèrdua d’un substring de la seqüència. \n",
    "\n",
    "+ Baixa't el fitxer HUMAN-DNA.txt al teu directori. \n",
    "\n",
    "Aquest fitxer conté una part del ADN del cromosoma 2 humà.\n",
    "\n",
    "## Pregunta 1\n",
    "\n",
    "+ Fes una funció, anomenada ``dna``, basada en l’algorisme de Levenshtein, que busqui dins de **cada una de les línies del fitxer anterior** les següents seqüències genètiques i digui a quina línia les ha trobat amb mínima distància i quina és aquesta distància (si està a varies línies, que indiqui la primera línia en la que apareix a distància mínima):\n",
    "\n",
    "        AGATACATTAGAACAATAGAGATGTGGTC\n",
    "        GTCAGTCTGGCACTTGCCATTGGTGCCACCA\n",
    "        TACCGAGAAGCATGGATTACAGCATGTACCATCAT\n",
    "        \n",
    "Al fer-ho, has de tenir en compte que a les aplicacions bioinformàtiques, els costos de les operacions d’edició són lleugerament diferents de les que hem vist fins ara:\n",
    "\n",
    "+ Per un salt/inserció (al patró o al text): 2; \n",
    "+ Per una substitució: 1; \n",
    "+ Quan hi ha correspondència: 0.\n",
    "\n",
    "Adapta la funció ``dna`` a aquests costos. La funció no ha de tenir cap tipus d’entrada de part de l’usuari, i la sortida ha d'indicar la línia i distància mínimes per cada patró, i el temps de càlcul en milisegons."
   ]
  },
  {
   "cell_type": "code",
   "execution_count": 7,
   "metadata": {},
   "outputs": [
    {
     "name": "stdout",
     "output_type": "stream",
     "text": [
      "[['AGATACATTAGACAATAGAGATGTGGTC', 32, 11], ['GTCAGTCTGGCCTTGCCATTGGTGCCACCA', 352, 11], ['GTCAGTCTGGCCTTGCCATTGGTGCCACCA', 352, 'GTCAGTCTGGCCTTGCCATTGGTGCCACCA', 352, 11], 2.6570986790011375]\n"
     ]
    }
   ],
   "source": [
    "import timeit\n",
    "\n",
    "# Funció que retorna les línies del text ADN com a strings\n",
    "def dnaList():\n",
    "    f = open(\"HUMAN-DNA.txt\",\"r\")\n",
    "    text = f.readlines()\n",
    "    newLine = []\n",
    "    for line in text:\n",
    "            newLine.append((line[:-1]))\n",
    "            \n",
    "    f.close()\n",
    "    return newLine\n",
    "\n",
    "\n",
    "# Funció que retorna la distància d'edició mínima de cada string i patró introduit\n",
    "def levenshteinLine(patro, string):\n",
    "    if len(patro) > len(string):\n",
    "        patro, string = string, patro \n",
    "    if len(string) == 0:\n",
    "        return len(patro)\n",
    "    first_length = len(patro) + 1\n",
    "    second_length = len(string) + 1\n",
    "    distance_matrix = [[0] * second_length for x in range(first_length)] \n",
    "    for i in range(first_length):\n",
    "        distance_matrix[i][0] = i\n",
    "    for j in range(second_length):\n",
    "        distance_matrix[0][j] = 0 \n",
    "    for i in range(1, first_length):\n",
    "        for j in range(1, second_length):\n",
    "            deletion = distance_matrix[i-1][j] + 2 \n",
    "            insertion = distance_matrix[i][j-1] + 2 \n",
    "            substitution = distance_matrix[i-1][j-1] \n",
    "            if patro[i-1] != string[j-1]:\n",
    "                    substitution += 1\n",
    "            distance_matrix[i][j] = min(insertion,deletion,substitution)\n",
    "             \n",
    "    \n",
    "    return (min(distance_matrix[first_length-1]))\n",
    "\n",
    "\n",
    "# Funció semblant a un main, crida a la funció dnaList i a la levenshteinLine per tal de calcular les distàncies\n",
    "# d'edició mínimes de cada línia del txt\n",
    "def totalLevenshtein():\n",
    "    start_time = timeit.default_timer()\n",
    "    listLinia = dnaList()\n",
    "    listReturn = []\n",
    "    listMinA = [10000]\n",
    "    listMinB = [10000]\n",
    "    listMinC = [10000]\n",
    "    for i in range(len(listLinia)):\n",
    "        a = levenshteinLine('AGATACATTAGACAATAGAGATGTGGTC', listLinia[i])\n",
    "        b = levenshteinLine('GTCAGTCTGGCCTTGCCATTGGTGCCACCA', listLinia[i])\n",
    "        c = levenshteinLine('TACCGAGAAGCTGGATTACAGCATGTACCATCAT', listLinia[i])\n",
    "        if a < listMinA[-1]:\n",
    "            listMinA.append(a)\n",
    "            auxA = i + 1\n",
    "        if b < listMinB[-1]:\n",
    "            listMinB.append(b)\n",
    "            auxB = i + 1\n",
    "        if c < listMinC[-1]:\n",
    "            listMinC.append(c)\n",
    "            auxC = i + 1\n",
    "    listMinA = [min(listMinA)]\n",
    "    listMinAFront = ['AGATACATTAGACAATAGAGATGTGGTC', auxA]\n",
    "    listMinB = [min(listMinB)]\n",
    "    listMinBFront = ['GTCAGTCTGGCCTTGCCATTGGTGCCACCA', auxB]\n",
    "    listMinC = [min(listMinC)]\n",
    "    listMinCFront = ['TACCGAGAAGCTGGATTACAGCATGTACCATCAT', auxC]\n",
    "    listMinA = listMinAFront + listMinA\n",
    "    listMinB = listMinBFront + listMinB\n",
    "    listMinC = listMinBFront + listMinB\n",
    "    listReturn.append(listMinA)\n",
    "    listReturn.append(listMinB)\n",
    "    listReturn.append(listMinC)\n",
    "    finalTime = timeit.default_timer() - start_time\n",
    "    listReturn.append(finalTime)\n",
    "    print(listReturn)\n",
    "   \n",
    "\n",
    "    \n",
    "   \n",
    "\n",
    "totalLevenshtein()"
   ]
  },
  {
   "cell_type": "code",
   "execution_count": null,
   "metadata": {},
   "outputs": [],
   "source": [
    "# La solució correcta és aquesta, tot i que el temps pot variar\n",
    "[['AGATACATTAGACAATAGAGATGTGGTC', 32, 11],\n",
    " ['GTCAGTCTGGCCTTGCCATTGGTGCCACCA', 352, 11],\n",
    " ['TACCGAGAAGCTGGATTACAGCATGTACCATCAT', 233, 13],\n",
    " 2.7117291091393665]"
   ]
  },
  {
   "cell_type": "markdown",
   "metadata": {},
   "source": [
    "*Recordatori de teoria*: El càlcul de de la distancia d’un patró al substring més semblant d’un text es pot fer amb l’algorisme de Levenshtein. L’única diferència és que s’ha d’inicialitzar la primera fila amb zeros (=considerar que podem inserir tants espais en blanc al davant del patró com sigui necessari)  i que la distancia d’edició serà el valor mínim de l’última fila de la matriu de costos. També heu de tenir en compte els costos en la inicialització de la primera columna."
   ]
  },
  {
   "cell_type": "markdown",
   "metadata": {},
   "source": [
    "<p style=\"text-align:right;font-size:0.9em\">\n",
    "&copy;Jordi Vitrià i Mireia Ribera\n",
    "</p>"
   ]
  }
 ],
 "metadata": {
  "kernelspec": {
   "display_name": "Python 3",
   "language": "python",
   "name": "python3"
  },
  "language_info": {
   "codemirror_mode": {
    "name": "ipython",
    "version": 3
   },
   "file_extension": ".py",
   "mimetype": "text/x-python",
   "name": "python",
   "nbconvert_exporter": "python",
   "pygments_lexer": "ipython3",
   "version": "3.6.5"
  }
 },
 "nbformat": 4,
 "nbformat_minor": 2
}
