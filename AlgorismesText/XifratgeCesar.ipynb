{
 "cells": [
  {
   "cell_type": "markdown",
   "metadata": {},
   "source": [
    "<p style=\"text-align:right;font-size:0.9em\">\n",
    "Grau d'Enginyeria Informàtica. Algorísmica\n",
    "</p>"
   ]
  },
  {
   "cell_type": "markdown",
   "metadata": {},
   "source": [
    "<h1 style=\"padding:0.5em 0;font:Garamond;font-size:1-5em;color:#F90;background-color:#005\">\n",
    "Problema: Xifratge César\n",
    "</h1>"
   ]
  },
  {
   "cell_type": "markdown",
   "metadata": {},
   "source": [
    "El xifratge del Cèsar és un xifratge simple de substitució de  lletres que consisteix en canviar cada lletra d’un missatge per la lletra que es troba un cert nombre $n$ de posicions més enllà a l’alfabet. Aquesta variable $n$ és la clau de xifratge. Per exemple, si  $n=3$, el substitut de la ``a`` és la ``d``. El missatge original es pot recuperar fent servir el codi al revés (a l’exemple, faríem servir  $n=-3$ per a desxifrar). \n",
    "\n",
    "+ Escriu una funció, ``cesar``, que demani una clau pel xifratge i una frase (formada per lletres i espais) per xifrar. La sortida ha de ser la frase xifrada."
   ]
  },
  {
   "cell_type": "code",
   "execution_count": null,
   "metadata": {
    "collapsed": true
   },
   "outputs": [],
   "source": [
    "# Substitueix la comanda pass per la teva solució\n",
    "def cesar():\n",
    "    pass"
   ]
  },
  {
   "cell_type": "markdown",
   "metadata": {},
   "source": [
    "## Pregunta 1\n",
    "\n",
    "Baixeu‐vos la lletra d’una cançó qualsevol (per exemple, de http://www.azlyrics.com/) i copieu-la a un fitxer anomenat lletra.txt. Donada la següent funció:"
   ]
  },
  {
   "cell_type": "code",
   "execution_count": null,
   "metadata": {},
   "outputs": [],
   "source": [
    "def lyrics():\n",
    "    f = open(\"lletra.txt\",\"r\")\n",
    "    text = f.readlines()\n",
    "    f.close()\n",
    "    for line in text:\n",
    "            print(line,end=\"\")\n",
    "    print\n",
    "\n",
    "lyrics()"
   ]
  },
  {
   "cell_type": "markdown",
   "metadata": {},
   "source": [
    "Executeu-la per veure què fa, i modifiqueu-la de manera que escrigui en un altre fitxer, lletra_cesar.txt (i no per pantalla) la cançó segons el xifratge del Cèsar amb  n=5 , fent que escrigui el nombre de línia al començament de cada línia."
   ]
  },
  {
   "cell_type": "code",
   "execution_count": null,
   "metadata": {},
   "outputs": [],
   "source": [
    "# Substitueix la comanda pass per la teva solució\n",
    "def cesar2():\n",
    "    pass"
   ]
  },
  {
   "cell_type": "markdown",
   "metadata": {},
   "source": [
    "<p style=\"text-align:right;font-size:0.9em\">\n",
    "&copy;Jordi Vitrià i Mireia Ribera\n",
    "</p>"
   ]
  }
 ],
 "metadata": {
  "kernelspec": {
   "display_name": "Python 3",
   "language": "python",
   "name": "python3"
  },
  "language_info": {
   "codemirror_mode": {
    "name": "ipython",
    "version": 3
   },
   "file_extension": ".py",
   "mimetype": "text/x-python",
   "name": "python",
   "nbconvert_exporter": "python",
   "pygments_lexer": "ipython3",
   "version": "3.6.5"
  }
 },
 "nbformat": 4,
 "nbformat_minor": 2
}
