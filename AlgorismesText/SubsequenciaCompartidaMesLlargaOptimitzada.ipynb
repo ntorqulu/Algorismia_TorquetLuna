{
 "cells": [
  {
   "cell_type": "markdown",
   "metadata": {},
   "source": [
    "<p style=\"text-align:right;font-size:0.9em\">\n",
    "Grau d'Enginyeria Informàtica. Algorísmica. Curs 2017-2018\n",
    "</p>"
   ]
  },
  {
   "cell_type": "markdown",
   "metadata": {},
   "source": [
    "<h1 style=\"padding:0.5em 0;font:Garamond;font-size:1-5em;color:#F90;background-color:#005\">\n",
    "Problema: La subseqüència capícua més llarga amb programació dinàmica\n",
    "</h1>"
   ]
  },
  {
   "cell_type": "markdown",
   "metadata": {},
   "source": [
    "<dl style=\"background-color:silver;border:1px solid;padding:5px\">\n",
    "<dt style=\"float:left\">Competències:<dt><dd>\n",
    "<a href=\"skills.ipynb#P3\">[Python3]</a>,\n",
    "<a href=\"skills.ipynb#SO\">[Solucions òptimes]</a> \n",
    "&nbsp;i&nbsp;\n",
    "<a href=\"skills.ipynb#CC\">[Càlcul complexitat]</a></dd>.\n",
    "<dt style=\"float:left\">Dificultat:</dt><dd>XXXX0</dd> \n",
    "<dt style=\"float:left\">Coneixements requerits:</dt><dd>\n",
    "<a href=\"booleans.ipynb\">booleans</a>,\n",
    "<a href=\"coleccions.ipynb\">col.leccions</a>,\n",
    "<a href=\"control.ipynb\">estructures de control</a>,\n",
    "<a href=\"param.ipynb\">gestió de paràmetres</a>\n",
    "&nbsp;i&nbsp;\n",
    "<a href=\"recursio.ipynb\">recursió</a>\n",
    "</dd></dl>"
   ]
  },
  {
   "cell_type": "markdown",
   "metadata": {},
   "source": [
    "Donada una cadena trobar la llargada de la subseqüència capícua més llarga de forma òptima. Per facilitar les coses, nosaltres et donem feta la solució de força bruta."
   ]
  },
  {
   "cell_type": "markdown",
   "metadata": {},
   "source": [
    "<div style=\"font-style:italic\">\n",
    "Per exemple:\n",
    "<ul>\n",
    "<li>cadena=\"APXPRABARXP\"</li>\n",
    "<li>Solució:\n",
    "   <ul>\n",
    "   <li>La subseqüència capícua més llarga és 9</li>\n",
    "   <li> (aquest resultat vé donat per PXRABARXP)</li>\n",
    "   </ul>\n",
    "</li>\n",
    "</ul>\n",
    "</div>"
   ]
  },
  {
   "cell_type": "code",
   "execution_count": 1,
   "metadata": {},
   "outputs": [
    {
     "data": {
      "text/plain": [
       "9"
      ]
     },
     "execution_count": 1,
     "metadata": {},
     "output_type": "execute_result"
    }
   ],
   "source": [
    "# Solució per força bruta, ja resolta\n",
    "def SubsCapicua(cadena):\n",
    "    #print (cadena) #xivato\n",
    "    i=0\n",
    "    j=len(cadena)-1\n",
    "    if j==0:\n",
    "        return 1\n",
    "    if cadena[i]==cadena[j]:\n",
    "        return SubsCapicua(cadena[1:-1])+2\n",
    "    else:\n",
    "        return max(SubsCapicua(cadena[1:]),SubsCapicua(cadena[:-1]))\n",
    "    \n",
    "SubsCapicua(\"APXPRABARXP\")"
   ]
  },
  {
   "cell_type": "markdown",
   "metadata": {},
   "source": [
    "<p style=\"font-family:Arial;font-size:1em\">\n",
    "Donada una cadena trobar la subseqüència capícua més llarga de manera òptima. Per facilitar les coses, nosaltres et donem feta la solució de força bruta.\n",
    "</p>"
   ]
  },
  {
   "cell_type": "code",
   "execution_count": null,
   "metadata": {
    "collapsed": true
   },
   "outputs": [],
   "source": [
    "# Inserir aquí el codi de la solució optmitzada\n"
   ]
  },
  {
   "cell_type": "markdown",
   "metadata": {},
   "source": [
    "<h2 style=\"padding:0.5em 0;font:Garamond;font-size:1.2em;color:#FA0;background-color:#005\">\n",
    "Pregunta 1: Treu el comentari del xivato i observa quines cadenes avalua el programa. Com pots veure, la solució de força bruta repeteix molt dels càlculs. Recordes el què varem fer a Fibonacci? Com es podria aplicar aquí?\n",
    "</h2>"
   ]
  },
  {
   "cell_type": "code",
   "execution_count": 3,
   "metadata": {},
   "outputs": [
    {
     "data": {
      "text/plain": [
       "9"
      ]
     },
     "execution_count": 3,
     "metadata": {},
     "output_type": "execute_result"
    }
   ],
   "source": [
    "def lps(seq, i, j): \n",
    "      \n",
    "    # Base Case 1: If there is  \n",
    "    # only 1 character  \n",
    "    if (i == j): \n",
    "        return 1\n",
    "  \n",
    "    # Base Case 2: If there are only 2  \n",
    "    # characters and both are same  \n",
    "    if (seq[i] == seq[j] and i + 1 == j): \n",
    "        return 2\n",
    "      \n",
    "    # If the first and last characters match  \n",
    "    if (seq[i] == seq[j]): \n",
    "        return lps(seq, i + 1, j - 1) + 2\n",
    "  \n",
    "    # If the first and last characters \n",
    "    # do not match  \n",
    "    return max(lps(seq, i, j - 1),  \n",
    "               lps(seq, i + 1, j)) \n",
    "\n",
    "lps(\"APXPRABARXP\", 0, len(\"APXPRABARXP\")-1)"
   ]
  },
  {
   "cell_type": "markdown",
   "metadata": {},
   "source": [
    "<h2 style=\"padding:0.5em 0;font:Garamond;font-size:1.2em;color:#FA0;background-color:#005\">\n",
    "Pregunta 2: Aquest problema és recursiu. Explica quin és el cas base, com es redueix el problema a cada iteració i calcula la complexitat de la solució de força bruta i de la solució optimitzada amb el teorema Màster.\n",
    "</h2>"
   ]
  },
  {
   "cell_type": "code",
   "execution_count": null,
   "metadata": {
    "collapsed": true
   },
   "outputs": [],
   "source": [
    "# Inserir aquí la resposta"
   ]
  },
  {
   "cell_type": "markdown",
   "metadata": {},
   "source": [
    "<p style=\"text-align:right;font-size:0.9em\">\n",
    "&copy;Jordi Vitrià i Mireia Ribera\n",
    "</p>"
   ]
  }
 ],
 "metadata": {
  "kernelspec": {
   "display_name": "Python 3",
   "language": "python",
   "name": "python3"
  },
  "language_info": {
   "codemirror_mode": {
    "name": "ipython",
    "version": 3
   },
   "file_extension": ".py",
   "mimetype": "text/x-python",
   "name": "python",
   "nbconvert_exporter": "python",
   "pygments_lexer": "ipython3",
   "version": "3.6.5"
  }
 },
 "nbformat": 4,
 "nbformat_minor": 2
}
