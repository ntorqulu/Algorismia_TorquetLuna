{
 "cells": [
  {
   "cell_type": "markdown",
   "metadata": {},
   "source": [
    "<p style=\"text-align:right;font-size:0.9em\">\n",
    "Grau d'Enginyeria Informàtica. Algorísmica\n",
    "</p>"
   ]
  },
  {
   "cell_type": "markdown",
   "metadata": {},
   "source": [
    "<h1 style=\"padding:0.5em 0;font:Garamond;font-size:1-5em;color:#F90;background-color:#005\">\n",
    "Problema: Traducció a l'alfabet fonètic\n",
    "</h1>"
   ]
  },
  {
   "cell_type": "markdown",
   "metadata": {},
   "source": [
    "Escriu una funció, ``fonetic``, que usant un diccionari converteixi un string a l’alfabet fonètic. L’alfabet fonètic és el següent:  \n",
    "\n",
    "\n",
    "A=Alpha\t, B=Bravo \t    , C=Charlie\t    , D=Delta\t\t, E=Echo\t\t, F=Foxtrot ,\n",
    "G=Golf\t, H=Hotel\t\t, I=India\t\t, J=Juliet\t\t, K=Kilo\t\t, L=Lima   ,\n",
    "M=Mike\t, N=November\t, O=Oscar\t\t, P=Papa\t\t, Q=Quebec\t    , R=Romeo  ,\n",
    "S=Sierra\t, T=Tango\t\t, U=Uniform\t    , V=Victor\t\t, W=Whiskey\t    , X=Xray   ,\n",
    "Y=Yankee\t, Z=Zulu      ,\n",
    "\n",
    "Per exemple, ``PYTHON = Papa Yankee Tango Hotel Oscar November``. "
   ]
  },
  {
   "cell_type": "code",
   "execution_count": 19,
   "metadata": {},
   "outputs": [],
   "source": [
    "# Substitueix la comanda pass per la teva solució\n",
    "\n",
    "def fonetic(paraula):\n",
    "    Dicc = {'A':\"Alpha\", 'B':\"Bravo\", 'C':\"Charlie\", 'D':\"Delta\", 'E':\"Echo\", 'F':\"Foxtrot\", 'G':\"Golf\", 'H':\"Hotel\",\n",
    "           'I':\"India\",  'J':\"Juliet\", 'K':\"Kilo\" , 'L':\"Lima\" , 'M':\"Mike\" , 'N':\"November\" , 'O':\"Oscar\" , 'P':\"Papa\" ,\n",
    "            'Q':\"Quebec\",  'S':\"Sierra\" , 'T':\"Tango\",'U':\"Uniform\" , 'V':\"Victor\" , 'W':\"Whiskey\" , 'X':\"Xray\", \n",
    "            'Y':\"Yankee\", 'Z':\"Zulu\"}\n",
    "    paraula = paraula.upper()\n",
    "    phon = [Dicc[w] for w in paraula]\n",
    "    return ' '.join(phon)\n"
   ]
  },
  {
   "cell_type": "code",
   "execution_count": 20,
   "metadata": {},
   "outputs": [
    {
     "data": {
      "text/plain": [
       "'Papa Yankee Tango Hotel Oscar November'"
      ]
     },
     "execution_count": 20,
     "metadata": {},
     "output_type": "execute_result"
    }
   ],
   "source": [
    "# Test de la funció\n",
    "\n",
    "fonetic(\"Python\")\n",
    "# aquest exemple hauria de retornar 'Papa Yankee Tango Hotel Oscar November'"
   ]
  },
  {
   "cell_type": "markdown",
   "metadata": {},
   "source": [
    "<p style=\"text-align:right;font-size:0.9em\">\n",
    "&copy;Jordi Vitrià i Mireia Ribera\n",
    "</p>"
   ]
  }
 ],
 "metadata": {
  "kernelspec": {
   "display_name": "Python 3",
   "language": "python",
   "name": "python3"
  },
  "language_info": {
   "codemirror_mode": {
    "name": "ipython",
    "version": 3
   },
   "file_extension": ".py",
   "mimetype": "text/x-python",
   "name": "python",
   "nbconvert_exporter": "python",
   "pygments_lexer": "ipython3",
   "version": "3.6.5"
  }
 },
 "nbformat": 4,
 "nbformat_minor": 2
}
