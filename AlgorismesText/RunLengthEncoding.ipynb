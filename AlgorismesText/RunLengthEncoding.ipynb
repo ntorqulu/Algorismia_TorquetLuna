{
 "cells": [
  {
   "cell_type": "markdown",
   "metadata": {},
   "source": [
    "<p style=\"text-align:right;font-size:0.9em\">\n",
    "Grau d'Enginyeria Informàtica. Algorísmica. Curs 2017-2018\n",
    "</p>"
   ]
  },
  {
   "cell_type": "markdown",
   "metadata": {},
   "source": [
    "<h1 style=\"padding:0.5em 0;font:Garamond;font-size:1-5em;color:#F90;background-color:#005\">\n",
    "Problema: Run Length Encoding\n",
    "</h1>"
   ]
  },
  {
   "cell_type": "markdown",
   "metadata": {},
   "source": [
    "<div style=\"font-family:Arial;font-size:1em\">\n",
    "<p>\n",
    "Compressió de dades Run Length Encoding (RLE): Escriu una funció que donat un text de lletres ASCII el codifiqui segons l’algorisme RLE.\n",
    "</p>\n",
    "<p>\n",
    "Run Length Encoding és un algorisme de compressió de dades sense pèrdua que es basa en codificar els valors repetits un sol cop juntament amb el seu recompte.\n",
    "</p>\n",
    "<p>\n",
    "Per exemple: Imaginem una pantalla amb text negre sobre blanc. Una línia d’aquesta pantalla podria ser:\n",
    "BBBBBBBNBBBBBBBBBBBBBNNNBBBBBBBBBBBBNBBBBBBBBB\n",
    "</p>\n",
    "<p>\n",
    "Aquesta línia es podria indicar de manera comprimida amb Run Length Encoding com a:\n",
    "B7N1B13N3B12N1B9\n",
    "</p>\n",
    "<p>\n",
    "De manera que es podria reinterpretar com 7 caràcters blancs, 1 de negre, 13 de blancs, 3 de negres, 12 de blancs, 1 de negre i 9 de blancs recuperant la línia original sense cap pèrdua.\n",
    "</p>\n",
    "</div>"
   ]
  },
  {
   "cell_type": "code",
   "execution_count": 5,
   "metadata": {},
   "outputs": [
    {
     "data": {
      "text/plain": [
       "[('B', 4), ('C', 4), ('R', 4), ('N', 3), ('A', 3), ('B', 3)]"
      ]
     },
     "execution_count": 5,
     "metadata": {},
     "output_type": "execute_result"
    }
   ],
   "source": [
    "def encode(input_string):\n",
    "    count = 1\n",
    "    prev = ''\n",
    "    lst = []\n",
    "    input_string += \"_\"\n",
    "    for character in input_string: # per cada char del txt\n",
    "        if character != prev: # si el char és dif de l'anterior\n",
    "            if prev: # si existeix previ\n",
    "                entry = (prev,count) # creem una entrada, tupla de la lletra anterior i el num\n",
    "                                    # de vegades que surt\n",
    "                lst.append(entry)\n",
    "            count = 1  # reiniciem comptador a 1\n",
    "            prev = character  # i assignem ara previ al que estavem evaluant\n",
    "        else:\n",
    "            count += 1 \n",
    "    \n",
    "    return lst\n",
    "            \n",
    "encode(\"BBBBCCCCRRRRNNNAAABBB\")"
   ]
  },
  {
   "cell_type": "markdown",
   "metadata": {},
   "source": [
    "<h2 style=\"padding:0.5em 0;font:Garamond;font-size:1.2em;color:#FA0;background-color:#005\">\n",
    "Pregunta 1: Quina solució hauria de donar per als següents valors:\n",
    "</h2>"
   ]
  },
  {
   "cell_type": "markdown",
   "metadata": {},
   "source": [
    "- Linia:ABBBBNNNEEEDDDZZAAAAA\n",
    "- Linia:BBBBBBBBBBBBBBBBBWWWWWWZAAA"
   ]
  },
  {
   "cell_type": "code",
   "execution_count": 13,
   "metadata": {},
   "outputs": [
    {
     "name": "stdout",
     "output_type": "stream",
     "text": [
      "[('A', 1), ('B', 4), ('N', 3), ('E', 3), ('D', 3), ('Z', 2)]\n",
      "[('B', 17), ('W', 6), ('Z', 1)]\n"
     ]
    }
   ],
   "source": [
    "print(encode(\"ABBBBNNNEEEDDDZZAAAAA\"))\n",
    "print(encode(\"BBBBBBBBBBBBBBBBBWWWWWWZAAA\"))"
   ]
  },
  {
   "cell_type": "markdown",
   "metadata": {},
   "source": [
    "<h2 style=\"padding:0.5em 0;font:Garamond;font-size:1.2em;color:#FA0;background-color:#005\">\n",
    "Pregunta 2: Quants caràcters s’escurça el text comprimit? Comenta el cas millor i el cas pitjor.\n",
    "</h2>"
   ]
  },
  {
   "cell_type": "code",
   "execution_count": 3,
   "metadata": {
    "collapsed": true
   },
   "outputs": [],
   "source": [
    "- CAS PITJOR: el text no s'escurça perquè no tenim cap char repetit ---> len(text) = len(text)\n",
    "- CAS MILLOR: el text està format per un únic char que es va repetint, per tant la longitud\n",
    "    del text ---> len(text) = 1"
   ]
  },
  {
   "cell_type": "markdown",
   "metadata": {},
   "source": [
    "<h2 style=\"padding:0.5em 0;font:Garamond;font-size:1.2em;color:#FA0;background-color:#005\">\n",
    "Pregunta 3: Si el text és de llargada N, quantes operacions bàsiques cal fer per comprimir-lo?\n",
    "</h2>"
   ]
  },
  {
   "cell_type": "code",
   "execution_count": 4,
   "metadata": {
    "collapsed": true
   },
   "outputs": [],
   "source": [
    "def encode(input_string):\n",
    "    count = 1                     --------------------> 1\n",
    "    prev = ''                     --------------------> 1\n",
    "    lst = []                      --------------------> 1\n",
    "    for character in input_string:--------------------> N, iterem per cada char en el txt\n",
    "        if character != prev:     --------------------> n, els check operators tenen complexitat n\n",
    "            if prev:              --------------------> n\n",
    "                entry = (prev,count)------------------> 1\n",
    "                                   \n",
    "                lst.append(entry) --------------------> 1\n",
    "            count = 1             --------------------> 1\n",
    "            prev = character      --------------------> 1\n",
    "        else:\n",
    "            count += 1            --------------------> 1\n",
    "    return lst                    --------------------> N\n",
    "\n",
    "Complexitat N * (n^2) = n^3\n",
    "\n"
   ]
  },
  {
   "cell_type": "markdown",
   "metadata": {},
   "source": [
    "<p style=\"text-align:right;font-size:0.9em\">\n",
    "&copy;Jordi Vitrià i Mireia Ribera\n",
    "</p>"
   ]
  }
 ],
 "metadata": {
  "kernelspec": {
   "display_name": "Python 3",
   "language": "python",
   "name": "python3"
  },
  "language_info": {
   "codemirror_mode": {
    "name": "ipython",
    "version": 3
   },
   "file_extension": ".py",
   "mimetype": "text/x-python",
   "name": "python",
   "nbconvert_exporter": "python",
   "pygments_lexer": "ipython3",
   "version": "3.6.5"
  }
 },
 "nbformat": 4,
 "nbformat_minor": 2
}
