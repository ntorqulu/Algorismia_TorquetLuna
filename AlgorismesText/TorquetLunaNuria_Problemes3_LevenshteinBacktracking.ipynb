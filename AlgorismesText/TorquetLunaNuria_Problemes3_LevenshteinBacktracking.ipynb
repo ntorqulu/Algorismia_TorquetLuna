{
 "cells": [
  {
   "cell_type": "markdown",
   "metadata": {},
   "source": [
    "<p style=\"text-align:right;font-size:0.9em\">\n",
    "Grau d'Enginyeria Informàtica. Algorísmica\n",
    "</p>"
   ]
  },
  {
   "cell_type": "markdown",
   "metadata": {},
   "source": [
    "<h1 style=\"padding:0.5em 0;font:Garamond;font-size:1-5em;color:#F90;background-color:#005\">\n",
    "Problema: Levenshtein amb backtracking\n",
    "</h1>"
   ]
  },
  {
   "cell_type": "markdown",
   "metadata": {},
   "source": [
    "Aquesta pràctica és una continuació del problemea de Levenshtein i fa servir les mateixes dades i el mateix algorisme\n",
    "\n",
    "+ Baixa't el fitxer HUMAN-DNA.txt al teu directori. \n",
    "\n",
    "Aquest fitxer conté una part del ADN del cromosoma 2 humà.\n",
    "\n",
    "## Pregunta 1\n",
    "\n",
    "Modifica el programa dna del Notebook anterior de manera que donat el patró *GGCCTTGCCATTGG*, per cada una de les 10 primeres línies del fitxer anterior indiqui:\n",
    "\n",
    "+ A quina distància d'edició està el substring més semblant d'aquella línia.\n",
    "+ El primer substring d'aquella línia que està a mínima distància d'edició.\n",
    "\n",
    "Per trobar el substring a mínima distància has de buscar els mínims de la darrera línia de la matriu, i recorrer el camí invers fins arribar a la primera fila o a la primera columna. Per exemple si la casella prové d'una substitució o d'una equivalència caldrà saltar a la casella en diagonal, si la casella prové d'una eliminació caldrà saltar a la casella directament superior i finalment si prové d'una inserció caldrà saltar a la casella esquerra. Un cop arribats al final el substring correspondrà a les lletres del text entre la columna inicial i la final.\n",
    "\n",
    "Es recomana fer proves amb textos senzills (no el fitxer) per poder fer el seguiment de la funció.\n",
    "\n",
    "La funció no ha de tenir cap tipus d’entrada de part de l’usuari, i la sortida per cada línia ha d'indicar la distància i el primer substring a distància mínima."
   ]
  },
  {
   "cell_type": "code",
   "execution_count": 3,
   "metadata": {},
   "outputs": [
    {
     "data": {
      "text/plain": [
       "([(6, 'GGACTTGCCTCAC'),\n",
       "  (8, 'GGCTCTCCACACA'),\n",
       "  (6, 'GGAATTTCACTGG'),\n",
       "  (7, 'GGAAATTCAATTTA'),\n",
       "  (8, 'TGCTAAACAGTAG'),\n",
       "  (8, 'AGCTTTATTTGG'),\n",
       "  (7, 'GGTCATTCTAATAA'),\n",
       "  (7, 'ATCCATGTTTTTAG'),\n",
       "  (7, 'CGAGTTTCAAATGC'),\n",
       "  (8, 'TTCAATATAATTGC')],\n",
       " 0.00902732900067349)"
      ]
     },
     "execution_count": 3,
     "metadata": {},
     "output_type": "execute_result"
    }
   ],
   "source": [
    "import timeit\n",
    "\n",
    "# funció que retorna les deu primeres línies del text com a strings\n",
    "def dnaList():\n",
    "    f = open(\"HUMAN-DNA.txt\",\"r\")\n",
    "    text = f.readlines()\n",
    "    newLine = []\n",
    "    line = 0\n",
    "    while line < 10:\n",
    "            newLine.append((text[line][:-1]))\n",
    "            line += 1\n",
    "            \n",
    "    f.close()\n",
    "    return newLine\n",
    "\n",
    "\n",
    "# funció que crea una matriu amb la distància mínima d'edició i també crea una nova matriu on hi ha guardat a cada\n",
    "# casella la operació de la que ve.\n",
    "def levenshteinLine(patro, string):\n",
    "    if len(patro) > len(string):\n",
    "        patro, string = string, patro \n",
    "    if len(string) == 0:\n",
    "        return len(patro)\n",
    "    first_length = len(patro) + 1\n",
    "    second_length = len(string) + 1\n",
    "    distance_matrix = [[0] * second_length for x in range(first_length)]\n",
    "    for i in range(first_length):\n",
    "        distance_matrix[i][0] = i \n",
    "    for j in range(second_length):\n",
    "        distance_matrix[0][j] = 0 \n",
    "    for i in range(1, first_length):\n",
    "        for j in range(1, second_length):\n",
    "            deletion = distance_matrix[i-1][j] + 2 \n",
    "            insertion = distance_matrix[i][j-1] + 2 \n",
    "            substitution = distance_matrix[i-1][j-1] \n",
    "            if patro[i-1] != string[j-1]:\n",
    "                    substitution += 1\n",
    "            distance_matrix[i][j] = min(deletion, insertion, substitution)\n",
    "    # recorrem la última fila per veure quina és la posició de la distància d'edició mínima\n",
    "    a = min(distance_matrix[first_length-1])\n",
    "    # busquem la posició en la última fila de l'edició distància mínima\n",
    "    aux = distance_matrix[first_length -1].index(a)      \n",
    "    # retorna la matriu edició distancia, la mínima edició distància i la j amb valor mínim d'edició dist.\n",
    "    return distance_matrix, min(distance_matrix[first_length-1]), aux         \n",
    "                \n",
    "def levenshteinInverse():\n",
    "    start_time = timeit.default_timer()\n",
    "    patro = 'GGCCTTGCCATTGG'\n",
    "    text = dnaList()\n",
    "    DistAndSubst = []\n",
    "    # per cada string de la llista dna, calculem el camí invers fins que j o i siguin 0, llavors ens aturem\n",
    "    for string in text:\n",
    "        distance_matrix, editDist, aux = levenshteinLine(patro, string)\n",
    "        i = len(distance_matrix)-1\n",
    "        j = aux\n",
    "        # mentres que files i columnes siguin major que 0\n",
    "        while i > 0 and j > 0:\n",
    "            # posició on ens trobem de la matriu\n",
    "            scoreCurrent = distance_matrix[i][j]\n",
    "            # valor que tindria casella si haguèsism vingut d'una deletion\n",
    "            deletion = distance_matrix[i-1][j] + 2 \n",
    "            # valor que tindria casella si haguèsism vingut d'una insertion\n",
    "            insertion = distance_matrix[i][j-1] + 2 \n",
    "            # valor que tindria casella si haguèsism vingut d'una substitution amb dif caracters\n",
    "            substitution = distance_matrix[i-1][j-1] + 1 \n",
    "            # si la posició on estem equival a haver realitzat a la casella anterior una deletion, retrocedim amb la i\n",
    "            if scoreCurrent == deletion:\n",
    "                i -= 1\n",
    "            # si la posició on estem equival a haver realitzat a la casella anterior una insertion, retrocedim amb la i\n",
    "            if scoreCurrent == insertion:\n",
    "                j -= 1\n",
    "            # si la posició on estem equival a haver realitzat a la casella anterior una substitution, \n",
    "            # retrocedim amb la i\n",
    "            if scoreCurrent == substitution or scoreCurrent == substitution - 1:\n",
    "                j -= 1\n",
    "                i -= 1\n",
    "        tupla = (editDist, string[j:aux])\n",
    "        DistAndSubst.append(tupla)\n",
    "            \n",
    "       \n",
    "            \n",
    "    finalTime = timeit.default_timer() - start_time                    \n",
    "    return DistAndSubst, finalTime\n",
    "             \n",
    "levenshteinInverse()\n",
    "    "
   ]
  },
  {
   "cell_type": "markdown",
   "metadata": {},
   "source": [
    "<p style=\"text-align:right;font-size:0.9em\">\n",
    "&copy;Jordi Vitrià i Mireia Ribera\n",
    "</p>"
   ]
  }
 ],
 "metadata": {
  "kernelspec": {
   "display_name": "Python 3",
   "language": "python",
   "name": "python3"
  },
  "language_info": {
   "codemirror_mode": {
    "name": "ipython",
    "version": 3
   },
   "file_extension": ".py",
   "mimetype": "text/x-python",
   "name": "python",
   "nbconvert_exporter": "python",
   "pygments_lexer": "ipython3",
   "version": "3.6.5"
  }
 },
 "nbformat": 4,
 "nbformat_minor": 2
}
