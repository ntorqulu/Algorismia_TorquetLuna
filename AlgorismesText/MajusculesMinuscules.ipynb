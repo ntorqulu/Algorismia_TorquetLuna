{
 "cells": [
  {
   "cell_type": "markdown",
   "metadata": {},
   "source": [
    "<p style=\"text-align:right;font-size:0.9em\">\n",
    "Grau d'Enginyeria Informàtica. Algorísmica. Curs 2017-2018\n",
    "</p>"
   ]
  },
  {
   "cell_type": "markdown",
   "metadata": {},
   "source": [
    "<h1 style=\"padding:0.5em 0;font:Garamond;font-size:1-5em;color:#F90;background-color:#005\">\n",
    "Problema: Majúscules i minúscules\n",
    "</h1>"
   ]
  },
  {
   "cell_type": "markdown",
   "metadata": {},
   "source": [
    "<dl style=\"background-color:silver;border:1px solid;padding:5px\">\n",
    "<dt style=\"float:left\">Competències:<dt><dd>\n",
    "<a href=\"skills.ipynb#P3\">[Python3]</a>&nbsp;i&nbsp;<a href=\"skills.ipynb#SE\">[Solucions estàndards]</a></dd>.\n",
    "<dt style=\"float:left\">Dificultat:</dt><dd>XX000</dd> \n",
    "<dt style=\"float:left\">Coneixements requerits:</dt><dd>\n",
    "<a href=\"booleans.ipynb\">booleans</a>\n",
    "&nbsp;i&nbsp;\n",
    "<a href=\"llistes.ipynb\">cadenes i llistes</a>\n",
    "</dd></dl>"
   ]
  },
  {
   "cell_type": "markdown",
   "metadata": {},
   "source": [
    "A l’ordinador cada lletra es representa per un codi. El codi més estès és el codi ASCII que cobreix només les lletres A-Z sense accents ni caràcters especials (ç, ñ...). \n",
    "\n",
    "|  Binari | Dec   |Hex   |Representació   |\n",
    "|---|---|---|---|\n",
    "    |  00100000 | 32  | 20 |  Espai en blanc |\n",
    "    |  01000001 | 65  | 41 | A |\n",
    "    |  01000010 | 66  | 42 | B |\n",
    "    |  01000011 | 67  | 43 | C | \n",
    "    |  01000100 | 68  | 44 | D |\n",
    "    |  01000101 | 69  | 45 | E |\n",
    "    |  01000110 | 70  | 46 | F |\n",
    "    |  01000111 | 71  | 47 | G |\n",
    "    |  01001000 | 72  | 48 | H |\n",
    "    |  01001001 | 73  | 49 | I |\n",
    "    |  01001010 | 74  | 4A | J |\n",
    "    |  01001011 | 75  | 4B | K |\n",
    "    |  01001100 | 76  | 4C | L |\n",
    "    |  01001101 | 77  | 4D | M |\n",
    "    |  01001110 | 78  | 4E | N |\n",
    "    |  01001111 | 79  | 4F | O |\n",
    "    |  01010000 | 80  | 50 | P |\n",
    "    |  01010001 | 81  | 51 | Q |\n",
    "    |  01010010 | 82  | 52 | R |\n",
    "    |  01010011 | 83  | 53 | S |\n",
    "    |  01010100 | 84  | 54 | T |\n",
    "    |  01010101 | 85  | 55 | U |\n",
    "    |  01010110 | 86  | 56 | V |\n",
    "    |  01010111 | 87  | 57 | W |\n",
    "    |  01011000 | 88  | 58 | X |\n",
    "    |  01011001 | 89  | 59 | Y |\n",
    "    |  01011010 | 90  | 5A | Z |\n",
    "    \n",
    "    \n",
    "    \n",
    "|  Binari | Dec   |Hex   |Representació   |\n",
    "|---|---|---|---|\n",
    "    |  01011111 | 95  | 5F | - |\n",
    "    |  01100001 | 97  | 61 | a |\n",
    "    |  01100010 | 98  | 62 | b |\n",
    "    |  01100011 | 99  | 63 | c |\n",
    "    |  01100100 | 100 | 64 | d | \n",
    "    |  01100101 | 101 | 65 | e |\n",
    "    |  01100110 | 102 | 66 | f |\n",
    "    |  01100111 | 103 | 67 | g |\n",
    "    |  01101000 | 104 | 68 | h |\n",
    "    |  01101001 | 105 | 69 | i |\n",
    "    |  01101010 | 106 | 6A | j |\n",
    "    |  01101011 | 107 | 6B | k |\n",
    "    |  01101100 | 108 | 6C | l |\n",
    "    |  01101101 | 109 | 6D | m |\n",
    "    |  01101110 | 110 | 6E | n |\n",
    "    |  01111111 | 111 | 6F | o |\n",
    "    |  01110000 | 112 | 70 | p |\n",
    "    |  01110001 | 113 | 71 | q |\n",
    "    |  01110010 | 114 | 72 | r |\n",
    "    |  01110011 | 115 | 73 | s |\n",
    "    |  01110100 | 116 | 74 | t |\n",
    "    |  01110101 | 117 | 75 | u |\n",
    "    |  01110110 | 118 | 76 | v |\n",
    "    |  01110111 | 119 | 77 | w |\n",
    "    |  01111000 | 120 | 78 | x |\n",
    "    |  01111001 | 121 | 79 | y |\n",
    "    |  01111010 | 122 | 7A | z |\n",
    "   "
   ]
  },
  {
   "cell_type": "markdown",
   "metadata": {},
   "source": [
    "<p style=\"font-family:Arial;font-size:1em\">\n",
    "Un altre codi, molt més complet i que cada cop es fa servir més és el codi UNICODE i UTF8 que cobreixen totes les lletres de totes les llengües escrites del món. \n",
    "</p>"
   ]
  },
  {
   "cell_type": "markdown",
   "metadata": {},
   "source": [
    "<div>\n",
    "Versió 1. Amb les operacions Python ord i chr:\n",
    "<ol>\n",
    "<li>Convertir una lletra majúscula en la seva equivalent minúscula</li>\n",
    "<li>Convertir una lletra minúscula en la seva equivalent majúscula</li>\n",
    "<li>Si una lletra està en majúscula convertir-la a minúscula, si està en minúscula convertir-la a majúscula</li>\n",
    "<li>Determinar la posició que ocupa una lletra a l’alfabet anglès</li>\n",
    "</ol>\n",
    "</div>\n",
    "\n"
   ]
  },
  {
   "cell_type": "code",
   "execution_count": 14,
   "metadata": {},
   "outputs": [
    {
     "name": "stdout",
     "output_type": "stream",
     "text": [
      "Introdueix una lletra en majúsculaE\n",
      "E  --- >  e\n",
      "Introdueix una lletra en minúsculae\n",
      "e  --- >  E\n",
      "Introdueix una lletraE\n",
      "E  --- >  e\n",
      "Introdueix una lletrae\n",
      "5\n"
     ]
    }
   ],
   "source": [
    "lletraMaj = input(\"Introdueix una lletra en majúscula\")\n",
    "print( lletraMaj, \" --- > \", chr(ord(lletraMaj)+ 32))\n",
    "\n",
    "lletraMin = input(\"Introdueix una lletra en minúscula\")\n",
    "print(lletraMin, \" --- > \", chr(ord(lletraMin)- 32))\n",
    "\n",
    "lletra = input(\"Introdueix una lletra\")\n",
    "if ((ord(lletra)<= 90)):\n",
    "    print(lletra, \" --- > \", chr(ord(lletra)+ 32))\n",
    "else:\n",
    "    print(lletra, \" --- > \", chr(ord(lletra)- 32))\n",
    "    \n",
    "pos = input(\"Introdueix una lletra\")\n",
    "if (ord(pos) <= 90):\n",
    "    print(ord(pos) - 64)\n",
    "else:\n",
    "    print(ord(pos)- 96)\n",
    "        "
   ]
  },
  {
   "cell_type": "markdown",
   "metadata": {},
   "source": [
    "<div>\n",
    "Versió 2. Amb una funció Python específica\n",
    "<ol>\n",
    "<li>Convertir una lletra majúscula en la seva equivalent minúscula</li>\n",
    "<li>Convertir una lletra minúscula en la seva equivalent majúscula</li>\n",
    "<li>Si una lletra està en majúscula convertir-la a minúscula, si està en minúscula convertir-la a majúscula</li>\n",
    "</ol>\n",
    "</div>\n",
    "\n"
   ]
  },
  {
   "cell_type": "code",
   "execution_count": 17,
   "metadata": {},
   "outputs": [
    {
     "name": "stdout",
     "output_type": "stream",
     "text": [
      "Introdueix una lletra en majúsculaE\n",
      "e\n",
      "Introdueix una lletra en minúsculae\n",
      "E\n",
      "Introdueix una lletrae\n",
      "E\n"
     ]
    }
   ],
   "source": [
    "lletraMaj = input(\"Introdueix una lletra en majúscula\")\n",
    "print(lletraMaj.lower())\n",
    "lletraMin = input(\"Introdueix una lletra en minúscula\")\n",
    "print(lletraMaj.upper())\n",
    "lletra = input(\"Introdueix una lletra\")\n",
    "if (lletra == lletra.upper()):\n",
    "    print(lletra.lower())\n",
    "else:\n",
    "    print(lletra.upper())"
   ]
  },
  {
   "cell_type": "markdown",
   "metadata": {},
   "source": [
    "<div>\n",
    "Versió 3. Fixant-te en els codis ASCII de les lletres i sabent com funcionen els operadors booleans OR, AND i XOR, busca possibles operacions booleanes per:\n",
    "<ol>\n",
    "<li>Convertir una lletra majúscula en la seva equivalent minúscula</li>\n",
    "<li>Convertir una lletra minúscula en la seva equivalent majúscula</li>\n",
    "<li>Si una lletra està en majúscula convertir-la a minúscula, si està en minúscula convertir-la a majúscula</li>\n",
    "</ol>\n",
    "</div>\n",
    "\n"
   ]
  },
  {
   "cell_type": "code",
   "execution_count": 96,
   "metadata": {},
   "outputs": [
    {
     "name": "stdout",
     "output_type": "stream",
     "text": [
      "Introdueix una lletra en majúsculaA\n",
      "a\n",
      "Introdueix una lletra en minúsculaa\n",
      "A\n",
      "Introdueix una lletraS\n",
      "S\n"
     ]
    }
   ],
   "source": [
    "lletraMaj = int(ord(input(\"Introdueix una lletra en majúscula\")))\n",
    "print(chr(lletraMaj | int(ord(\" \"))))\n",
    "\n",
    "lletraMin = int(ord(input(\"Introdueix una lletra en minúscula\")))\n",
    "print(chr((lletraMin) & int(ord(\"_\"))))\n",
    "\n",
    "lletra = (int(ord(input(\"Introdueix una lletra\"))))\n",
    "llt = [x for x in bin(lletra)]\n",
    "if llt[3] == '1':\n",
    "    print(chr((lletra) & int(ord(\"_\"))))\n",
    "else:\n",
    "    print(chr((lletra)|int(ord(\" \")))) \n"
   ]
  },
  {
   "cell_type": "code",
   "execution_count": 4,
   "metadata": {},
   "outputs": [
    {
     "name": "stdout",
     "output_type": "stream",
     "text": [
      "0b1100001\n"
     ]
    }
   ],
   "source": [
    "print(bin(int(ord(\"a\"))))"
   ]
  },
  {
   "cell_type": "markdown",
   "metadata": {},
   "source": [
    "<h2 style=\"padding:0.5em 0;font:Garamond;font-size:1.2em;color:#FA0;background-color:#005\">\n",
    "Pregunta 1: Quin és el codi UTF8 per a, à i â ? Quin és el codi UTF8 per ç? Funcionaran les funcions anteriors amb aquestes lletres?\n",
    "</h2>"
   ]
  },
  {
   "cell_type": "code",
   "execution_count": 99,
   "metadata": {},
   "outputs": [
    {
     "ename": "SyntaxError",
     "evalue": "invalid syntax (<ipython-input-99-4cdc5eebad82>, line 1)",
     "output_type": "error",
     "traceback": [
      "\u001b[0;36m  File \u001b[0;32m\"<ipython-input-99-4cdc5eebad82>\"\u001b[0;36m, line \u001b[0;32m1\u001b[0m\n\u001b[0;31m    a ---> 61\u001b[0m\n\u001b[0m         ^\u001b[0m\n\u001b[0;31mSyntaxError\u001b[0m\u001b[0;31m:\u001b[0m invalid syntax\n"
     ]
    }
   ],
   "source": [
    "a ---> 61\n",
    "à ---> c3 a0\n",
    "â ---> c3 a2\n",
    "ç ---> c3 87\n",
    "\n",
    "No, no tenen conversió binària"
   ]
  },
  {
   "cell_type": "markdown",
   "metadata": {},
   "source": [
    "<h2 style=\"padding:0.5em 0;font:Garamond;font-size:1.2em;color:#FA0;background-color:#005\">\n",
    "Pregunta 2: Fes un programa que donat un text en ASCII el converteixi tot en majúscules\n",
    "</h2>"
   ]
  },
  {
   "cell_type": "code",
   "execution_count": 106,
   "metadata": {},
   "outputs": [
    {
     "name": "stdout",
     "output_type": "stream",
     "text": [
      "HOLA, EM DIC NURIA\n"
     ]
    }
   ],
   "source": [
    "def toUpper(text):\n",
    "    print(text.upper())\n",
    "toUpper(\"Hola, em dic Nuria\")"
   ]
  },
  {
   "cell_type": "markdown",
   "metadata": {},
   "source": [
    "<p style=\"text-align:right;font-size:0.9em\">\n",
    "&copy;Jordi Vitrià i Mireia Ribera\n",
    "</p>"
   ]
  }
 ],
 "metadata": {
  "kernelspec": {
   "display_name": "Python 3",
   "language": "python",
   "name": "python3"
  },
  "language_info": {
   "codemirror_mode": {
    "name": "ipython",
    "version": 3
   },
   "file_extension": ".py",
   "mimetype": "text/x-python",
   "name": "python",
   "nbconvert_exporter": "python",
   "pygments_lexer": "ipython3",
   "version": "3.6.5"
  }
 },
 "nbformat": 4,
 "nbformat_minor": 2
}
