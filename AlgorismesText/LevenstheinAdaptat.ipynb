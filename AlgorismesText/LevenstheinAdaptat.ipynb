{
 "cells": [
  {
   "cell_type": "markdown",
   "metadata": {},
   "source": [
    "<p style=\"text-align:right;font-size:0.9em\">\n",
    "Grau d'Enginyeria Informàtica. Algorísmica. Curs 2017-2018\n",
    "</p>"
   ]
  },
  {
   "cell_type": "markdown",
   "metadata": {},
   "source": [
    "<h1 style=\"padding:0.5em 0;font:Garamond;font-size:1-5em;color:#F90;background-color:#005\">\n",
    "Problema: Levensthein adaptat\n",
    "</h1>"
   ]
  },
  {
   "cell_type": "markdown",
   "metadata": {},
   "source": [
    "Adapta l'algorisme de Levensthein pensant en el context de cerques per Google. Sovint les persones posen un caràcter per un altre per error i això els penalitzarà menys que altres canvis.\n",
    "\n",
    "Per tant el cost serà:\n",
    "\n",
    "- esborrat: 3 (a no ser que s'hagi esborrat una 'h')\n",
    "- esborrat d'una h: 2\n",
    "- inserció: 3\n",
    "- substitució: 2 (a no ser que sigui de parelles de lletres semblants)\n",
    "- substitució: 1 (parelles semblants)\n",
    "\n",
    "Es consideraran com a parelles semblants:\n",
    "\n",
    "s - c,   b - v,  g - j\n",
    "\n",
    "Troba les paraules a mínima distància de \"sugerir\", \"sujerir\", \"abía\", \"había\", \"ejercicio\" \"egersisio\"  en el text \"text.txt\" que us donem junt a l'examen.\n",
    "Per cadascuna d'elles mostra la paraula i la distància. "
   ]
  },
  {
   "cell_type": "code",
   "execution_count": 23,
   "metadata": {},
   "outputs": [
    {
     "name": "stdout",
     "output_type": "stream",
     "text": [
      "\n",
      "El patro sugerir es troba a la linia 0, del cromosoma 2 huma, i la seva distancia d'edicio es 7\n",
      "El temps de càlcul ha estat 383.329 ms\n",
      "\n",
      "El patro sujerir es troba a la linia 0, del cromosoma 2 huma, i la seva distancia d'edicio es 7\n",
      "El temps de càlcul ha estat 383.854 ms\n",
      "\n",
      "El patro abía es troba a la linia 0, del cromosoma 2 huma, i la seva distancia d'edicio es 4\n",
      "El temps de càlcul ha estat 211.298 ms\n",
      "\n",
      "El patro había es troba a la linia 0, del cromosoma 2 huma, i la seva distancia d'edicio es 5\n",
      "El temps de càlcul ha estat 273.117 ms\n",
      "\n",
      "El patro ejercicioegersisio es troba a la linia 0, del cromosoma 2 huma, i la seva distancia d'edicio es 18\n",
      "El temps de càlcul ha estat 979.449 ms\n"
     ]
    }
   ],
   "source": [
    "def levenshtein(text, pattern): # text, patró (Sempre en aquesta posició)\n",
    "    \n",
    "    cols = len(text) + 1 # Cada lletra del text marcarà una de les columnes. El text sencer quedarà en posició fila\n",
    "    rows =  len(pattern) + 1 # El patró marcarà quantes files hi ha i quedarà en posició columna\n",
    "    \n",
    "    # La matriu resultant serà rectangular horitzontalment allargada\n",
    "    \n",
    "    distance_matrix = [[0] * cols for i in range(rows)] # Inicialitzem la matriu omplint-la de zeros\n",
    "\n",
    "    for i in range(rows): # Forcem els valors de la primera columna (primera casella de cada fila) amb 0, 1, 2, 3, 4, 5,...n\n",
    "        distance_matrix[i][0] = i\n",
    "        \n",
    "    # Aqui m'he carregat el for que omplia de numeros la primera fila (1,2,3,4,5,...n), ja que volem que tingui zeros\n",
    "    # i considerar que podem inserir tants espais en blanc al davant del patró com sigui necessari\n",
    "\n",
    "    for row in range(1, rows):\n",
    "        for col in range (1, cols):\n",
    "            # Cost eliminació\n",
    "            if pattern[row -1] == 'h':\n",
    "                deletion = distance_matrix[row][col-1] + 2\n",
    "            if pattern[row -1] != 'h':\n",
    "                deletion = distance_matrix[row][col-1] + 3\n",
    "             \n",
    "            insertion = distance_matrix[row-1][col] + 2 # Cost inserció\n",
    "            \n",
    "            substitution =  distance_matrix[row-1][col-1] # Cost substitució\n",
    "            if (pattern[row - 1] == 'c' and  text[col - 1] == 's') or (pattern[row - 1] == 's' and  text[col - 1] == 'c') or (pattern[row - 1] == 'b' and  text[col - 1] == 'v') or (pattern[row - 1] == 'v' and  text[col - 1] == 'b') or (pattern[row - 1] == 'g' and  text[col - 1] == 'j') or (pattern[row - 1] == 'j' and  text[col - 1] == 'g'):\n",
    "                substitution += 1\n",
    "            else:\n",
    "                substitution += 2\n",
    "\n",
    "            distance_matrix[row][col] = min(insertion, deletion, substitution) # Aqui es tria l'opció de minim cost\n",
    "\n",
    "    return distance_matrix # Volem que retorni la matriu sencera, no només la distància d'edició, ja que haurem de treballar amb les files i les columnes\n",
    "\n",
    "\n",
    "def dna(arr_patterns):\n",
    "    \n",
    "    file = open('HUMAN-DNA.txt', 'r')\n",
    "    text = file.readlines() # Llegim l'arxiu Human-Dna per linies\n",
    "\n",
    "    for pattern in arr_patterns: # Per cada patró a trobar (total 3 iteracions)\n",
    "        \n",
    "        t1  = time.clock()\n",
    "        \n",
    "        minCost = len(pattern) # El pitjor cost posible es el cas que s'hagin de canviar totes les lletres\n",
    "        inLine = 0 # Linia de l'arxiu on hem trobat el substring més semblant al patró\n",
    "        numLine = 1 # Contador de linies\n",
    "        \n",
    "        for line in text: # Iterem cada línia del text\n",
    "            \n",
    "            distance = levenshtein(line, pattern) # Cridem a la funció levenshtein i ens retorna la matriu sencera que forma el patró amb la linia del text\n",
    "            newMinCost = min(distance[-1]) # Menor cost en aquesta linia del text\n",
    "            \n",
    "            if newMinCost < minCost: # Comparem els costos del patró en cada linia del text, si n'hi ha un de millor ens el quedem\n",
    "\n",
    "                minCost = newMinCost # Assignem el nou cost a la variable que ens entregarà el cost minim\n",
    "                inLine = numLine # Assignem el valor del numero de linia en què estem a la linia en què es troba el patró amb menys distància d'edició               \n",
    "\n",
    "                if not minCost: break # Si trobem un substring amb distància d'edició 0 parem\n",
    "\n",
    "            numLine += 1\n",
    "            \n",
    "        t2 = time.clock()\n",
    "        \n",
    "        print (\"\\nEl patro \" + pattern + \" es troba a la linia \" + str(inLine) + \n",
    "               \", del cromosoma 2 huma, i la seva distancia d'edicio es \" + str(minCost))\n",
    "        print (\"El temps de càlcul ha estat %0.3f ms\" % ((t2-t1)*1000))\n",
    "\n",
    "#Test de la funció\n",
    "\n",
    "arr_patterns = [\"sugerir\", \"sujerir\", \"abía\", \"había\", \"ejercicio\" \"egersisio\" ] # Patrons a buscar\n",
    "\n",
    "dna(arr_patterns)"
   ]
  },
  {
   "cell_type": "markdown",
   "metadata": {},
   "source": [
    "<p style=\"text-align:right;font-size:0.9em\">\n",
    "&copy;Jordi Vitrià i Mireia Ribera\n",
    "</p>"
   ]
  },
  {
   "cell_type": "code",
   "execution_count": null,
   "metadata": {},
   "outputs": [],
   "source": []
  }
 ],
 "metadata": {
  "kernelspec": {
   "display_name": "Python 3",
   "language": "python",
   "name": "python3"
  },
  "language_info": {
   "codemirror_mode": {
    "name": "ipython",
    "version": 3
   },
   "file_extension": ".py",
   "mimetype": "text/x-python",
   "name": "python",
   "nbconvert_exporter": "python",
   "pygments_lexer": "ipython3",
   "version": "3.6.5"
  }
 },
 "nbformat": 4,
 "nbformat_minor": 2
}
