{
 "cells": [
  {
   "cell_type": "markdown",
   "metadata": {},
   "source": [
    "<p style=\"text-align:right;font-size:0.9em\">\n",
    "Grau d'Enginyeria Informàtica. Algorísmica. \n",
    "</p>"
   ]
  },
  {
   "cell_type": "markdown",
   "metadata": {},
   "source": [
    "<h1 style=\"padding:0.5em 0;font:Garamond;font-size:1-5em;color:#F90;background-color:#005\">\n",
    "Problema: Trobar la primera i darrera ocurrència d'un nombre donat en una llista ordenada\n",
    "</h1>"
   ]
  },
  {
   "cell_type": "markdown",
   "metadata": {},
   "source": [
    "<p style=\"font-family:Arial;font-size:1em\">\n",
    "Donada una llista d’enters i  un nombre, trobar la primera i darrera ocurrència d'aquest a la llista. Informar també si el nombre no s'ha trobat.\n",
    "</p>"
   ]
  },
  {
   "cell_type": "markdown",
   "metadata": {},
   "source": [
    "<div style=\"font-style:italic\">\n",
    "Per exemple:\n",
    "<ul>\n",
    "<li>Llista=[3,5,5,5,6,6,8,8,9,9,9], Nombre=3</li>\n",
    "<li>Solució:\n",
    "   <ul>\n",
    "   <li>La primera ocurrència del 3 és a l'índex 0, la darrera a l'índex 0</li>\n",
    "   </ul>\n",
    "</li>\n",
    "<li>Llista=[3,5,5,5,6,6,8,8,9,9,9], Nombre=9</li>\n",
    "<li>Solució:\n",
    "   <ul>\n",
    "   <li>La primera ocurrència del 9 és a l'índex 8, la darrera a l'índex 10</li>\n",
    "   </ul>\n",
    "</li>\n",
    "<li>Llista=[3,5,5,5,6,6,8,8,9,9,9], Nombre=4</li>\n",
    "<li>Solució:\n",
    "   <ul>\n",
    "   <li>El nombre 4 no es troba a la llista</li>\n",
    "   </ul>\n",
    "</li>\n",
    "</ul>\n",
    "</div>"
   ]
  },
  {
   "cell_type": "markdown",
   "metadata": {},
   "source": [
    "<h2 style=\"padding:0.5em 0;font:Garamond;font-size:1.2em;color:#FA0;background-color:#005\">\n",
    "Pregunta 1: Podem usar algun algorisme d'optimització per resoldre aquest problema? Què estem fent per identificar els índexs del nombre donat? \n",
    "</h2>\n",
    "Nota: recordeu que la llista és ordenada"
   ]
  },
  {
   "cell_type": "code",
   "execution_count": 11,
   "metadata": {},
   "outputs": [
    {
     "data": {
      "text/plain": [
       "(5, 0, 10)"
      ]
     },
     "execution_count": 11,
     "metadata": {},
     "output_type": "execute_result"
    }
   ],
   "source": [
    "def recbinsearch(nums,x, low, high):\n",
    "    if low>high:\n",
    "        return (-1, 0, 0)\n",
    "    mid = int((low + high) // 2)\n",
    "    if nums[mid] == x:\n",
    "        return (mid, low, high)\n",
    "    elif x < nums[mid]:\n",
    "        return recbinsearch(nums, x,low,mid-1)\n",
    "    else:\n",
    "        return recbinsearch(nums,x,mid+1,high)\n",
    "recbinsearch([3,5,5,5,6,6,8,8,9,9,9], 6, 0, len([3,5,5,5,6,6,8,8,9,9,9])-1)"
   ]
  },
  {
   "cell_type": "code",
   "execution_count": 13,
   "metadata": {},
   "outputs": [
    {
     "name": "stdout",
     "output_type": "stream",
     "text": [
      "4\n",
      "5\n"
     ]
    }
   ],
   "source": [
    "def lower_bound(array, element):\n",
    "    \"\"\"Returns the index of the first occurrence of element in array\"\"\"\n",
    "    index = -1\n",
    "    first_index, low, high = recbinsearch(array, element, 0, len(array)-1)\n",
    "    while first_index != -1:\n",
    "        index = first_index\n",
    "        first_index, low, high = recbinsearch(array, element, low, first_index-1)\n",
    "    return index\n",
    "\n",
    "\n",
    "def upper_bound(array, element):\n",
    "    index = -1\n",
    "    first_index, low, high = recbinsearch(array, element, 0, len(array)-1)\n",
    "    while first_index != -1:\n",
    "        index = first_index\n",
    "        first_index, low, high = recbinsearch(array, element, first_index+1, high)\n",
    "    return index\n",
    "\n",
    "print(lower_bound([3,5,5,5,6,6,8,8,9,9,9], 6))\n",
    "print(upper_bound([3,5,5,5,6,6,8,8,9,9,9], 6))"
   ]
  },
  {
   "cell_type": "markdown",
   "metadata": {},
   "source": [
    "<h2 style=\"padding:0.5em 0;font:Garamond;font-size:1.2em;color:#FA0;background-color:#005\">\n",
    "Pregunta 2: Si sabem que el nombre de repeticions sempre és inferior a 5, o per el contrari sabem que el nombre de repeticions pot ser amb probabilitat superior a 30, com podria variar la solució?\n",
    "</h2>"
   ]
  },
  {
   "cell_type": "code",
   "execution_count": null,
   "metadata": {},
   "outputs": [],
   "source": [
    "# Inserir aquí les respostes"
   ]
  },
  {
   "cell_type": "markdown",
   "metadata": {},
   "source": [
    "<p style=\"text-align:right;font-size:0.9em\">\n",
    "&copy;Jordi Vitrià i Mireia Ribera\n",
    "</p>"
   ]
  }
 ],
 "metadata": {
  "kernelspec": {
   "display_name": "Python 3",
   "language": "python",
   "name": "python3"
  },
  "language_info": {
   "codemirror_mode": {
    "name": "ipython",
    "version": 3
   },
   "file_extension": ".py",
   "mimetype": "text/x-python",
   "name": "python",
   "nbconvert_exporter": "python",
   "pygments_lexer": "ipython3",
   "version": "3.6.5"
  }
 },
 "nbformat": 4,
 "nbformat_minor": 2
}
