{
 "cells": [
  {
   "cell_type": "markdown",
   "metadata": {},
   "source": [
    "<p style=\"text-align:right;font-size:0.9em\">\n",
    "Grau d'Enginyeria Informàtica. Algorísmica\n",
    "</p>"
   ]
  },
  {
   "cell_type": "markdown",
   "metadata": {},
   "source": [
    "<h1 style=\"padding:0.5em 0;font:Garamond;font-size:1-5em;color:#F90;background-color:#005\">\n",
    "Problema: Menor i major relatius\n",
    "</h1>"
   ]
  },
  {
   "cell_type": "markdown",
   "metadata": {},
   "source": [
    "Fes un algorisme per trobar el major i menor relatiu a un nombre en una llista ordenada de nombres naturals.\n",
    "\n",
    "El major i menor relatiu són el nombre previ més petit o igual a ell, i el nombre següent més gran o igual a ell, o -1 si no n'hi ha.\n",
    "\n",
    "Per ex:\n",
    "\n",
    "llista=[1,4,6,8,9]\n",
    "\n",
    "+ minMax(3) => menor és 1, major és 4\n",
    "+ minMax(4) => menor és 4, major és 4\n",
    "+ minMax(5) => menor és 4, major és 6\n",
    "+ minMax(10) => menor és 9, major és -1\n",
    "\n",
    "Troba una solució d'ordre O(log n) i demostreu que té aquest ordre."
   ]
  },
  {
   "cell_type": "code",
   "execution_count": null,
   "metadata": {
    "collapsed": true
   },
   "outputs": [],
   "source": [
    "# Substitueix pass pel teu codi\n",
    "\n",
    "def minMax(k,nums):\n",
    "    pass"
   ]
  },
  {
   "cell_type": "code",
   "execution_count": null,
   "metadata": {},
   "outputs": [],
   "source": [
    "# test de la solució\n",
    "\n",
    "llista=[1,4,6,8,9]\n",
    "minMax(10,llista)"
   ]
  },
  {
   "cell_type": "code",
   "execution_count": 16,
   "metadata": {},
   "outputs": [
    {
     "data": {
      "text/plain": [
       "(-1, 9)"
      ]
     },
     "execution_count": 16,
     "metadata": {},
     "output_type": "execute_result"
    }
   ],
   "source": [
    "def recbinsearch(x, nums, low, high):\n",
    "    if low>high:\n",
    "        if low > len(nums)-1:\n",
    "            return -1, nums[high]\n",
    "        if high < 0:\n",
    "            return nums[low], -1\n",
    "        return nums[low], nums[high]\n",
    "    mid = (low + high) // 2;\n",
    "#Si el num es troba a la llista\n",
    "    if nums[mid] == x:\n",
    "        if (mid +1 > len(nums) -1):\n",
    "            return nums[mid-1], -1\n",
    "        elif (mid - 1) < 0:\n",
    "            return -1, nums[mid + 1]\n",
    "        else:\n",
    "            return nums[mid-1], nums[mid+1]\n",
    "    \n",
    "    elif x < nums[mid]:\n",
    "        return recbinsearch(x,nums,low,mid-1)\n",
    "    else:\n",
    "        return recbinsearch(x,nums,mid+1,high)\n",
    "    \n",
    "(recbinsearch(10, [2,4,6,8,9], 0, len([1,4,6,8,9])-1))\n",
    "# suposem que la llista té com a mínim dos elements"
   ]
  },
  {
   "cell_type": "code",
   "execution_count": null,
   "metadata": {},
   "outputs": [],
   "source": []
  },
  {
   "cell_type": "markdown",
   "metadata": {},
   "source": [
    "Explica aquí la complexitat"
   ]
  },
  {
   "cell_type": "markdown",
   "metadata": {},
   "source": [
    "<p style=\"text-align:right;font-size:0.9em\">\n",
    "&copy;Jordi Vitrià i Mireia Ribera\n",
    "</p>"
   ]
  }
 ],
 "metadata": {
  "kernelspec": {
   "display_name": "Python 3",
   "language": "python",
   "name": "python3"
  },
  "language_info": {
   "codemirror_mode": {
    "name": "ipython",
    "version": 3
   },
   "file_extension": ".py",
   "mimetype": "text/x-python",
   "name": "python",
   "nbconvert_exporter": "python",
   "pygments_lexer": "ipython3",
   "version": "3.6.5"
  }
 },
 "nbformat": 4,
 "nbformat_minor": 2
}
