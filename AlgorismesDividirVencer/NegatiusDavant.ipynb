{
 "cells": [
  {
   "cell_type": "markdown",
   "metadata": {},
   "source": [
    "<p style=\"text-align:right;font-size:0.9em\">\n",
    "Grau d'Enginyeria Informàtica. Algorísmica\n",
    "</p>"
   ]
  },
  {
   "cell_type": "markdown",
   "metadata": {},
   "source": [
    "<h1 style=\"padding:0.5em 0;font:Garamond;font-size:1-5em;color:#F90;background-color:#005\">\n",
    "Problema: Negatius\n",
    "</h1>"
   ]
  },
  {
   "cell_type": "markdown",
   "metadata": {},
   "source": [
    "Escriu una funció no recursiva  anomenada ``negatius`` tal que donada una llista de nombres enters (possiblement desordenats) la funció retorni la mateixa llista amb els nombres negatius al capdavant i els positius al darrera (només ha de moure els que no siguin al seu lloc). Resol el problema inspirant-te en la versió lineal de l'algorisme **quicksort**."
   ]
  },
  {
   "cell_type": "code",
   "execution_count": 3,
   "metadata": {},
   "outputs": [
    {
     "name": "stdout",
     "output_type": "stream",
     "text": [
      "Resultat:\n",
      "La mateixa llista amb els nombres negatius al capdavant i els positius al darrera (sense importar l’ordre entre ells)\n",
      "\n",
      " [-4, -2, -3, -1, 3, 5, 6]\n"
     ]
    }
   ],
   "source": [
    "# Substituïu la comanda pass per la vostra solució\n",
    "\n",
    "# Adaptació del 'partition' del quicksort a les necessitats de l'exercici\n",
    "\n",
    "def negatius(A):\n",
    "    \n",
    "    pivot, i = 0, 0\n",
    "    j = len(a) - 1 \n",
    "    \n",
    "    while True:\n",
    "        \n",
    "        while i <= j and A[i] < pivot: \n",
    "            i += 1\n",
    "        while j >= i and A[j] > pivot: \n",
    "            j -= 1\n",
    "        if i >= j: \n",
    "            break\n",
    "        else:\n",
    "            A[i], A[j] = A[j], A[i]\n",
    "    \n",
    "    A[j], A[pivot] = A[pivot], A[j]\n",
    "    \n",
    "    return A\n",
    "\n",
    "# Test de la funció\n",
    "\n",
    "a=[-1,-2,3,-4,-3,5,6]\n",
    "\n",
    "print (\"Resultat:\\nLa mateixa llista amb els nombres negatius al capdavant i els positius al darrera (sense importar l’ordre entre ells)\")\n",
    "print (\"\\n\", negatius(a))"
   ]
  },
  {
   "cell_type": "code",
   "execution_count": 2,
   "metadata": {},
   "outputs": [
    {
     "data": {
      "text/plain": [
       "[-4, -2, -3, 3, 1, 5, 6]"
      ]
     },
     "execution_count": 2,
     "metadata": {},
     "output_type": "execute_result"
    }
   ],
   "source": [
    "# Test de la funció\n",
    "a=[1,-2,3,-4,-3,5,6]\n",
    "negatius(a)\n",
    "# hauria de retornar  [-3, -2, -4, 3, 1, 5, 6] o similar"
   ]
  },
  {
   "cell_type": "markdown",
   "metadata": {},
   "source": [
    "<p style=\"text-align:right;font-size:0.9em\">\n",
    "&copy;Jordi Vitrià i Mireia Ribera\n",
    "</p>"
   ]
  }
 ],
 "metadata": {
  "kernelspec": {
   "display_name": "Python 3",
   "language": "python",
   "name": "python3"
  },
  "language_info": {
   "codemirror_mode": {
    "name": "ipython",
    "version": 3
   },
   "file_extension": ".py",
   "mimetype": "text/x-python",
   "name": "python",
   "nbconvert_exporter": "python",
   "pygments_lexer": "ipython3",
   "version": "3.6.5"
  }
 },
 "nbformat": 4,
 "nbformat_minor": 2
}
