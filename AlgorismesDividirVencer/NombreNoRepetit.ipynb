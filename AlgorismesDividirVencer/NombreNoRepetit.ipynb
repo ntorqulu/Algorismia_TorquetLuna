{
 "cells": [
  {
   "cell_type": "markdown",
   "metadata": {},
   "source": [
    "<p style=\"text-align:right;font-size:0.9em\">\n",
    "Grau d'Enginyeria Informàtica. Algorísmica\n",
    "</p>"
   ]
  },
  {
   "cell_type": "markdown",
   "metadata": {},
   "source": [
    "<h1 style=\"padding:0.5em 0;font:Garamond;font-size:1-5em;color:#F90;background-color:#005\">\n",
    "Problema: Nombre no repetit\n",
    "</h1>"
   ]
  },
  {
   "cell_type": "markdown",
   "metadata": {},
   "source": [
    "<p style=\"font-family:Arial;font-size:1em\">\n",
    "Donada una llista de nombres en la que cada nombre apareix dues vegades (una darrera l'altra) i només hi ha un element que surt una vegada, trobar aquest element amb un algorisme  de complexitat O(logn) .\n",
    "</p>"
   ]
  },
  {
   "cell_type": "code",
   "execution_count": 1,
   "metadata": {},
   "outputs": [
    {
     "data": {
      "text/plain": [
       "6"
      ]
     },
     "execution_count": 1,
     "metadata": {},
     "output_type": "execute_result"
    }
   ],
   "source": [
    "# CERCA BINÀRIA\n",
    "def binSearch(llista, low, high):\n",
    "    if low > high:\n",
    "        return None\n",
    "    elif low == high:\n",
    "        return llista[low]\n",
    "    mid = (low + high)//2\n",
    "    # separarem casos on mid es parell o senar\n",
    "    if mid%2 == 0:\n",
    "        if llista[mid] == llista[mid+1]:\n",
    "            # quan els elements coincideixen és perquè el num desaparellat\n",
    "            # es troba al final de la llista perquè l'ordre es conserva\n",
    "            # saltem dues posicions perquè ja hem comprovat el mid \n",
    "            # i el mid+1\n",
    "            return binSearch(llista, mid+2, high)\n",
    "        \n",
    "        else:\n",
    "            return binSearch(llista, low, mid)\n",
    "    else:\n",
    "        # si el mid és senar i coincideixen\n",
    "        if llista[mid] == llista[mid-1]:\n",
    "            # si coincideixen és el cas contrari d'abans\n",
    "            return binSearch(llista, mid+1, high)\n",
    "        else:\n",
    "            return binSearch(llista, low, mid-1)\n",
    "    \n",
    "\n",
    "# Test \n",
    "llista = [ 1, 1, 2,2, 4, 4, 5, 5, 6 ]\n",
    "binSearch(llista, 0, len(llista)-1) # hauria de retornar 2"
   ]
  },
  {
   "cell_type": "code",
   "execution_count": null,
   "metadata": {},
   "outputs": [],
   "source": [
    "TIME COMPLEXITY:\n",
    "En cada crida recursiva separem la llista en dues mitats, p.t. a= 2. Cada mitat té una mida\n",
    "aprox. de n/2 p.t. b= 2 i el cost de reconstruir la solució és simplement sumar els resultats\n",
    "de cada crida O(n), p.t. d = 1.\n",
    "Segons el Teorema Màster, com que logb_a = 1 = d = 1, el cost de l'algorisme és O(log_n)"
   ]
  },
  {
   "cell_type": "markdown",
   "metadata": {},
   "source": [
    "<p style=\"text-align:right;font-size:0.9em\">\n",
    "&copy;Jordi Vitrià i Mireia Ribera\n",
    "</p>"
   ]
  }
 ],
 "metadata": {
  "kernelspec": {
   "display_name": "Python 3",
   "language": "python",
   "name": "python3"
  },
  "language_info": {
   "codemirror_mode": {
    "name": "ipython",
    "version": 3
   },
   "file_extension": ".py",
   "mimetype": "text/x-python",
   "name": "python",
   "nbconvert_exporter": "python",
   "pygments_lexer": "ipython3",
   "version": "3.6.5"
  }
 },
 "nbformat": 4,
 "nbformat_minor": 2
}
