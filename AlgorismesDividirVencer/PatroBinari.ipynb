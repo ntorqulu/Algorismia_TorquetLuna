{
 "cells": [
  {
   "cell_type": "markdown",
   "metadata": {},
   "source": [
    "<p style=\"text-align:right;font-size:0.9em\">\n",
    "Grau d'Enginyeria Informàtica. Algorísmica\n",
    "</p>"
   ]
  },
  {
   "cell_type": "markdown",
   "metadata": {},
   "source": [
    "<h1 style=\"padding:0.5em 0;font:Garamond;font-size:1-5em;color:#F90;background-color:#005\">\n",
    "Problema: Patró binari\n",
    "</h1>"
   ]
  },
  {
   "cell_type": "markdown",
   "metadata": {},
   "source": [
    "<p style=\"font-family:Arial;font-size:1em\">\n",
    "Donat un patró binari amb alguns dígits com ?, trobeu totes les possibles combinacions de nombres binaris que es poden obtenir reemplaçant el ? amb 0 o 1.\n",
    "</p>"
   ]
  },
  {
   "cell_type": "markdown",
   "metadata": {},
   "source": [
    "<div style=\"font-style:italic\">\n",
    "Per exemple:\n",
    "<ul>\n",
    "<li>Patro=1?11?01?0?</li>\n",
    "<li>Solució:\n",
    "   <ul>\n",
    "   <li>1011001000</li>\n",
    "   <li>1011001001</li>\n",
    "   <li>1011001100</li>\n",
    "   <li>1011001101</li>\n",
    "   <li>1011101000</li>\n",
    "   <li>1011101001</li>\n",
    "   <li>1011101100</li>\n",
    "   <li>1011101101</li>\n",
    "   <li>1111001000</li>\n",
    "   <li>1111001001</li>\n",
    "   <li>1111001100</li>\n",
    "   <li>1111001101</li>\n",
    "   <li>1111101000</li>\n",
    "   <li>1111101001</li>\n",
    "   <li>1111101100</li>\n",
    "   <li>1111101101</li>\n",
    "   </ul>\n",
    "</li>\n",
    "</ul>\n",
    "</div>"
   ]
  },
  {
   "cell_type": "code",
   "execution_count": 2,
   "metadata": {},
   "outputs": [
    {
     "name": "stdout",
     "output_type": "stream",
     "text": [
      "1011001000\n",
      "1011001001\n",
      "1011001100\n",
      "1011001101\n",
      "1011101000\n",
      "1011101001\n",
      "1011101100\n",
      "1011101101\n",
      "1111001000\n",
      "1111001001\n",
      "1111001100\n",
      "1111001101\n",
      "1111101000\n",
      "1111101001\n",
      "1111101100\n",
      "1111101101\n"
     ]
    }
   ],
   "source": [
    "\n",
    "def process(pattern):\n",
    "    if \"?\" not in pattern:\n",
    "        print(pattern)\n",
    "    else:\n",
    "        process(pattern.replace(\"?\", \"0\", 1))\n",
    "        process(pattern.replace(\"?\", \"1\", 1))\n",
    "        \n",
    "process(\"1?11?01?0?\")\n",
    "        "
   ]
  },
  {
   "cell_type": "markdown",
   "metadata": {},
   "source": [
    "<h2 style=\"padding:0.5em 0;font:Garamond;font-size:1.2em;color:#FA0;background-color:#005\">\n",
    "Pregunta 1: Si el patró és un string podrem manipular els caràcters? Quin altre tipus de dades podem usar per entrar el patró?\n",
    "</h2>"
   ]
  },
  {
   "cell_type": "code",
   "execution_count": 2,
   "metadata": {
    "collapsed": true
   },
   "outputs": [],
   "source": [
    "si, utilitzant la funcio replace\n",
    "si no, també el podriem entrar com a integer"
   ]
  },
  {
   "cell_type": "markdown",
   "metadata": {},
   "source": [
    "<h2 style=\"padding:0.5em 0;font:Garamond;font-size:1.2em;color:#FA0;background-color:#005\">\n",
    "Pregunta 2: Tenint en compte que aquest problema es resol per recursivitat, indica quin és el cas base i  com avancem en la recursió?\n",
    "</h2>"
   ]
  },
  {
   "cell_type": "code",
   "execution_count": 3,
   "metadata": {
    "collapsed": true
   },
   "outputs": [],
   "source": [
    "Cas base :\n",
    "    quan el patro no té cap interrogant, retornem unicament l´string\n",
    "\n",
    "Avanç:\n",
    "    anem substituin cada interrogant per un zero i un u a la vegada cridant la funcio, fins que arribem al cas base\n",
    "    on no tenim ja cap interrogant"
   ]
  },
  {
   "cell_type": "markdown",
   "metadata": {},
   "source": [
    "<p style=\"text-align:right;font-size:0.9em\">\n",
    "&copy;Jordi Vitrià i Mireia Ribera\n",
    "</p>"
   ]
  }
 ],
 "metadata": {
  "kernelspec": {
   "display_name": "Python 3",
   "language": "python",
   "name": "python3"
  },
  "language_info": {
   "codemirror_mode": {
    "name": "ipython",
    "version": 3
   },
   "file_extension": ".py",
   "mimetype": "text/x-python",
   "name": "python",
   "nbconvert_exporter": "python",
   "pygments_lexer": "ipython3",
   "version": "3.6.5"
  }
 },
 "nbformat": 4,
 "nbformat_minor": 2
}
