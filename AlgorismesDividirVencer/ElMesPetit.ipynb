{
 "cells": [
  {
   "cell_type": "markdown",
   "metadata": {},
   "source": [
    "<p style=\"text-align:right;font-size:0.9em\">\n",
    "Grau d'Enginyeria Informàtica. Algorísmica\n",
    "</p>"
   ]
  },
  {
   "cell_type": "markdown",
   "metadata": {},
   "source": [
    "<h1 style=\"height:3em;padding:0.5em 0;font:Garamond;font-size:1-5em;color:#F90;background-color:#005\">\n",
    "Problema: El més petit que falta\n",
    "</h1>"
   ]
  },
  {
   "cell_type": "markdown",
   "metadata": {},
   "source": [
    "<p style=\"font-family:Arial;font-size:1em\">\n",
    "Donada una llista ordenada d’enters no-negatius, que comença per 0, trobar el valor més petit que hi falta.\n",
    "</p>"
   ]
  },
  {
   "cell_type": "markdown",
   "metadata": {},
   "source": [
    "<div style=\"font-style:italic\">\n",
    "Per exemple:\n",
    "<ul>\n",
    "<li>Llista=[0,1,2,3,4,7,12]</li>\n",
    "<li>Solució:\n",
    "   <ul>\n",
    "   <li>El més petit que falta és el 5</li>\n",
    "   </ul>\n",
    "</li>\n",
    "<li>Llista=[1,2,3,4,7,12]</li>\n",
    "<li>Solució:\n",
    "   <ul>\n",
    "   <li>El més petit que falta és el 0</li>\n",
    "   </ul>\n",
    "</li>\n",
    "</ul>\n",
    "</div>"
   ]
  },
  {
   "cell_type": "code",
   "execution_count": 8,
   "metadata": {},
   "outputs": [
    {
     "name": "stdout",
     "output_type": "stream",
     "text": [
      "5\n",
      "0\n"
     ]
    }
   ],
   "source": [
    "def recbinsearch(nums):\n",
    "    length = len(nums)\n",
    "    left = 0\n",
    "    right = length - 1\n",
    "    while left <= right:\n",
    "        mid = (left + right) // 2\n",
    "        if nums[mid] != mid:\n",
    "            if (mid == 0) or (nums[mid -1] == mid-1):\n",
    "                return mid\n",
    "            right = mid -1\n",
    "            \n",
    "        else:\n",
    "            left = mid + 1\n",
    "            \n",
    "    return -1   \n",
    "print(recbinsearch([0,1,2,3,4,7,12]))\n",
    "print(recbinsearch([1,2,3,4,7,12]))"
   ]
  },
  {
   "cell_type": "code",
   "execution_count": null,
   "metadata": {},
   "outputs": [],
   "source": [
    "# 5. El més Petit\n",
    "def recbinsearch(nums, low, high):\n",
    "    if low>high:\n",
    "        return -1\n",
    "    mid = (low + high) // 2;\n",
    "    if(nums[mid]!= mid) and(mid == 0 or nums[mid-1] == mid-1):\n",
    "        return mid\n",
    "    elif ((nums[mid]!= mid) and(nums[mid-1] != mid-1)):\n",
    "        return recbinsearch(nums,low,mid-1)\n",
    "    elif nums[mid]== mid:\n",
    "        return recbinsearch(nums,mid+1,high)\n",
    "                             \n",
    "recbinsearch([0,2,4,5,6,7,12], 0, len([0,1,2,3,4,7,12]))\n",
    "#recbinsearch([1,2,3,4,7,12], 0, len([1,2,3,4,7,12]))"
   ]
  },
  {
   "cell_type": "markdown",
   "metadata": {},
   "source": [
    "<h2 style=\"padding:0.5em 0;font:Garamond;font-size:1.2em;color:#FA0;background-color:#005\">\n",
    "Pregunta 1: Quins índexs ocupen els diferents enters a la llista d'exemple? </h2>\n",
    "\n",
    "- 0:0\n",
    "- 1:1 \n",
    "- 2:2\n",
    "- 3:3\n",
    "- 4:4\n",
    "- 7:5\n",
    "- 12:6\n",
    "\n",
    "Identifiques algun patró que et pugui ajudar a resoldre el problema?"
   ]
  },
  {
   "cell_type": "code",
   "execution_count": null,
   "metadata": {},
   "outputs": [],
   "source": [
    "# Inserir aquí les respostes"
   ]
  },
  {
   "cell_type": "markdown",
   "metadata": {},
   "source": [
    "<h2 style=\"height:2.5em;padding:0.5em 0;font:Garamond;font-size:1.2em;color:#FA0;background-color:#005\">\n",
    "Pregunta 2: Per paral.lelisme amb l'algorisme de dividir i vèncer, quin ordre de complexitat té aquest algorisme? i la solució de força bruta?\n",
    "</h2>"
   ]
  },
  {
   "cell_type": "code",
   "execution_count": null,
   "metadata": {},
   "outputs": [],
   "source": [
    "# Inserir aquí les respostes"
   ]
  },
  {
   "cell_type": "markdown",
   "metadata": {},
   "source": [
    "<p style=\"text-align:right;font-size:0.9em\">\n",
    "&copy;Jordi Vitrià i Mireia Ribera\n",
    "</p>"
   ]
  }
 ],
 "metadata": {
  "kernelspec": {
   "display_name": "Python 3",
   "language": "python",
   "name": "python3"
  },
  "language_info": {
   "codemirror_mode": {
    "name": "ipython",
    "version": 3
   },
   "file_extension": ".py",
   "mimetype": "text/x-python",
   "name": "python",
   "nbconvert_exporter": "python",
   "pygments_lexer": "ipython3",
   "version": "3.6.5"
  }
 },
 "nbformat": 4,
 "nbformat_minor": 2
}
