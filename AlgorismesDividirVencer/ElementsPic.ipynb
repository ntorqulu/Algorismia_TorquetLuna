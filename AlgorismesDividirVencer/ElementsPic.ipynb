{
 "cells": [
  {
   "cell_type": "markdown",
   "metadata": {},
   "source": [
    "<p style=\"text-align:right;font-size:0.9em\">\n",
    "Grau d'Enginyeria Informàtica. Algorísmica. \n",
    "</p>"
   ]
  },
  {
   "cell_type": "markdown",
   "metadata": {},
   "source": [
    "<h1 style=\"padding:0.5em 0;font:Garamond;font-size:1-5em;color:#F90;background-color:#005\">\n",
    "Problema: Elements pic\n",
    "</h1>"
   ]
  },
  {
   "cell_type": "markdown",
   "metadata": {},
   "source": [
    "<p style=\"font-family:Arial;font-size:1em\">\n",
    "Donada una llista d’enters, trobar **un** dels elements pic. Un enter serà un element pic si els seus veïns immediats són menors que ell. \n",
    "</p>"
   ]
  },
  {
   "cell_type": "markdown",
   "metadata": {},
   "source": [
    "<div style=\"font-style:italic\">\n",
    "Per exemple:\n",
    "<ul>\n",
    "<li>Llista=[3,1,5,2,7,8]</li>\n",
    "<li>Solució:\n",
    "   <ul>\n",
    "   <li>Un dels elements pic és el 3</li>\n",
    "   <li>En aquesta llista en realitat hi ha diversos elements pic: el 3, el 5 i el 8.</li>\n",
    "   </ul>\n",
    "</li>\n",
    "<li>Llista=[9,5,2]</li>\n",
    "<li>Solució:\n",
    "   <ul>\n",
    "   <li>Un dels elements pic és el 9</li>\n",
    "   <li>En una llista ordenada en ordre descendent, l'element pic sempre serà el primer enter.</li>\n",
    "   </ul>\n",
    "</li>\n",
    "<li>Llista=[1,2,7,8]</li>\n",
    "<li>Solució:\n",
    "   <ul>\n",
    "   <li>Un dels elements pic és el 8</li>\n",
    "   <li>En una llista ordenada en ordre ascendent, l'element pic sempre serà el darrer enter.</li>\n",
    "   </ul>\n",
    "</li>\n",
    "</ul>\n",
    "</div>"
   ]
  },
  {
   "cell_type": "code",
   "execution_count": 4,
   "metadata": {},
   "outputs": [
    {
     "name": "stdout",
     "output_type": "stream",
     "text": [
      "Index of a peak point is 2\n"
     ]
    }
   ],
   "source": [
    "# A python 3 program to find a peak  \n",
    "# element element using divide and conquer \n",
    "  \n",
    "# A binary search based function  \n",
    "# that returns index of a peak element \n",
    "def findPeakUtil(arr, low, high, n): \n",
    "      \n",
    "     # Find index of middle element \n",
    "     # (low + high)/2  \n",
    "    mid = low + (high - low)/2 \n",
    "    mid = int(mid) \n",
    "      \n",
    "    # Compare middle element with its  \n",
    "    # neighbours (if neighbours exist) \n",
    "    if ((mid == 0 or arr[mid - 1] <= arr[mid]) and \n",
    "       (mid == n - 1 or arr[mid + 1] <= arr[mid])): \n",
    "        return mid \n",
    "  \n",
    "  \n",
    "    # If middle element is not peak and  \n",
    "    # its left neighbour is greater  \n",
    "    # than it, then left half must  \n",
    "    # have a peak element \n",
    "    elif (mid > 0 and arr[mid - 1] > arr[mid]): \n",
    "        return findPeakUtil(arr, low, (mid - 1), n) \n",
    "  \n",
    "    # If middle element is not peak and \n",
    "    # its right neighbour is greater \n",
    "    # than it, then right half must  \n",
    "    # have a peak element \n",
    "    else: \n",
    "        return findPeakUtil(arr, (mid + 1), high, n) \n",
    "  \n",
    "  \n",
    "# A wrapper over recursive  \n",
    "# function findPeakUtil() \n",
    "def findPeak(arr, n): \n",
    "  \n",
    "    return findPeakUtil(arr, 0, n - 1, n) \n",
    "  \n",
    "  \n",
    "# Driver code \n",
    "arr = [3,1,5,2,7,8]\n",
    "n = len(arr) \n",
    "print(\"Index of a peak point is\", findPeak(arr, n)) \n",
    "      "
   ]
  },
  {
   "cell_type": "markdown",
   "metadata": {},
   "source": [
    "<h2 style=\"padding:0.5em 0;font:Garamond;font-size:1.2em;color:#FA0;background-color:#005\">\n",
    "Pregunta 1: Si plantegem el problema com un algorisme recursiu. Quins són els casos base? Observeu les següents llistes:\n",
    "</h2>"
   ]
  },
  {
   "cell_type": "markdown",
   "metadata": {},
   "source": [
    "- llista1 = [8,9,10,2,5,6]\n",
    "- llista2 = [8,9,10,12,15]\n",
    "- llista3 = [10,8,6,5,3,2]\n",
    "                \n",
    "        "
   ]
  },
  {
   "cell_type": "code",
   "execution_count": null,
   "metadata": {
    "collapsed": true
   },
   "outputs": [],
   "source": [
    "# Inserir aquí les respostes"
   ]
  },
  {
   "cell_type": "markdown",
   "metadata": {},
   "source": [
    "<h2 style=\"padding:0.5em 0;font:Garamond;font-size:1.2em;color:#FA0;background-color:#005\">\n",
    "Pregunta 2: Calcula la complexitat de l'algorisme amb el teorema del màster\n",
    "</h2>"
   ]
  },
  {
   "cell_type": "code",
   "execution_count": null,
   "metadata": {
    "collapsed": true
   },
   "outputs": [],
   "source": [
    "# Inserir aquí les respostes"
   ]
  },
  {
   "cell_type": "markdown",
   "metadata": {},
   "source": [
    "<p style=\"text-align:right;font-size:0.9em\">\n",
    "&copy;Jordi Vitrià i Mireia Ribera\n",
    "</p>"
   ]
  }
 ],
 "metadata": {
  "kernelspec": {
   "display_name": "Python 3",
   "language": "python",
   "name": "python3"
  },
  "language_info": {
   "codemirror_mode": {
    "name": "ipython",
    "version": 3
   },
   "file_extension": ".py",
   "mimetype": "text/x-python",
   "name": "python",
   "nbconvert_exporter": "python",
   "pygments_lexer": "ipython3",
   "version": "3.6.5"
  }
 },
 "nbformat": 4,
 "nbformat_minor": 2
}
