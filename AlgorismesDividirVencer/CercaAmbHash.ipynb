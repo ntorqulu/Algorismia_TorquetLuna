{
 "cells": [
  {
   "cell_type": "markdown",
   "metadata": {},
   "source": [
    "<p style=\"text-align:right;font-size:0.9em\">\n",
    "Grau d'Enginyeria Informàtica. Algorísmica.\n",
    "</p>"
   ]
  },
  {
   "cell_type": "markdown",
   "metadata": {},
   "source": [
    "<h1 style=\"padding:0.5em 0;font:Garamond;font-size:1-5em;color:#F90;background-color:#005\">\n",
    "Problema: Hash universal\n",
    "</h1>"
   ]
  },
  {
   "cell_type": "markdown",
   "metadata": {},
   "source": [
    "- Veure que cerca hash és més ràpida que binària\n",
    "- sempre nombre primer una mica major que el que tenim(evitar possibles col·lisions, calcular el nombre primer més proper del doble)\n",
    "- sempre hash en funcionde les dades, obviar aquells que es repeteixen, co per ex. niub18\n",
    "- hash universal :\n",
    "separar dades entrada en troços i triar tres coeficients modul 101"
   ]
  },
  {
   "cell_type": "markdown",
   "metadata": {},
   "source": [
    "En aquest darrer problema us mostrem una possible construcció d'una funció hash universal pensada per emmagatzemar informació dels estudiants.\n",
    "\n",
    "Partim d'una classe amb 99 alumnes, i farem una taula de 101 posicions(101 és un nombre primer). Representarem cada alumne com una tupla de tres enters mòdul 101 (els primers dos dígits quasi sempre són '18' i els descartem)\n",
    "\n",
    "Per ex:\n",
    "- niub 18518012 => (51,80,12)\n",
    "\n",
    "I definirem 3 coeficients mòdul 101\n",
    "\n",
    "a => (6,47, 100)"
   ]
  },
  {
   "cell_type": "code",
   "execution_count": 1,
   "metadata": {
    "collapsed": true
   },
   "outputs": [],
   "source": [
    "#fem la llista i un duplicat\n",
    "\n",
    "llistaniubs=['niub18518012', 'niub18589763', 'niub18589776', 'niub16973034', 'niub19125491', 'niub18518486', \n",
    "             'niub18518330', 'niub18518500', 'niub16347854', 'niub18588533', 'niub18566891', 'niub16888180', \n",
    "             'niub18519741', 'niub18596201', 'niub18518114', 'niub18588572', 'niub16625902', 'niub14730841', \n",
    "             'niub16584633', 'niub18519702', 'niub18518511', 'niub18518450', 'niub18589754', 'niub18588522', \n",
    "             'niub18518425', 'niub16440881', 'niub18518051', 'niub16043701', 'niub18588114', 'niub16805093', \n",
    "             'niub18519763', 'niub16687712', 'niub18589710', 'niub14763863', 'niub18596304', 'niub18598894', \n",
    "             'niub18518006', 'niub18518442', 'niub18518091', 'niub16828450', 'niub18588511', 'niub18588232', \n",
    "             'niub16831426', 'niub18518346', 'niub11236310', 'niub18588120', 'niub18567770', 'niub10196663', \n",
    "             'niub19121165', 'niub16815441', 'niub18589726', 'niub18589794', 'niub18569595', 'niub16609841', \n",
    "             'niub18599174', 'niub18519794', 'niub18518136', 'niub16803506', 'niub18569091', 'niub10308215', \n",
    "             'niub16120940', 'niub16313033', 'niub16843842', 'niub18581933', 'niub18588595', 'niub18597724', \n",
    "             'niub18595521', 'niub16759784', 'niub18518383', 'niub18518464', 'niub16421613', 'niub16839025', \n",
    "             'niub18518324', 'niub16766465', 'niub16271220', 'niub16699055', 'niub18588184', 'niub16619210', \n",
    "             'niub18588544', 'niub18519780', 'niub18588170', 'niub18518065', 'niub18588162', 'niub18519735', \n",
    "             'niub18518040', 'niub18593112', 'niub18518305', 'niub18593525', 'niub18588581', 'niub18567304', \n",
    "             'niub18588136', 'niub18518490', 'niub19125804', 'niub18589735', 'niub18588566', 'niub16806162', \n",
    "             'niub18518475', 'niub16638516', 'niub16633574',  'niub18581006', 'niub16884296', 'niub18588215', \n",
    "             'niub18588500', 'niub18518566']\n",
    "\n",
    "llistaniubs2=llistaniubs[:]"
   ]
  },
  {
   "cell_type": "code",
   "execution_count": 2,
   "metadata": {
    "collapsed": true
   },
   "outputs": [],
   "source": [
    "# definim la funció hash:\n",
    "\n",
    "def hash(niub):\n",
    "    \n",
    "    # modul 101 per no sortir de la taula\n",
    "    return (int(niub[6:8])*6+int(niub[8:10])*47+int(niub[10:12])*100)%101"
   ]
  },
  {
   "cell_type": "code",
   "execution_count": 3,
   "metadata": {},
   "outputs": [
    {
     "name": "stdout",
     "output_type": "stream",
     "text": [
      "4 103\n"
     ]
    }
   ],
   "source": [
    "# Creem una taula amb 101 posicions i guardem els niubs a la posició que els toca a la taula:\n",
    "# precreem taula amb un valor det.\n",
    "taulahash=[-1]*101\n",
    "for niub in llistaniubs:\n",
    "    # assignem l'index requerit\n",
    "    index=hash(niub)\n",
    "   # si la posicio que em obtingut esta buida, guardem el niub\n",
    "    if taulahash[index]==-1:\n",
    "        taulahash[index]=[niub]\n",
    "    else:\n",
    "        # si no, el guardem al costat de l'element que ja existia, com una subllista\n",
    "        taulahash[index].append(niub)\n",
    "maxim=0  #el nombre d'elements a la llista més llarga\n",
    "colisions=0  #el nombre total de col.lisions\n",
    "for i in range(0,100):\n",
    "    if taulahash[i]==-1:\n",
    "        valors=0\n",
    "    else:\n",
    "        valors=len(taulahash[i])\n",
    "    # calcula el maxim entre la longitud de la llista més llarga que ja tenia guardada i el resultat de la posicio i\n",
    "    maxim=max(maxim,valors)\n",
    "    # anem sumant el nombre de vegades que guardem valors a la mateixa posicio\n",
    "    colisions=colisions+valors\n",
    "print(maxim,colisions)"
   ]
  },
  {
   "cell_type": "code",
   "execution_count": 4,
   "metadata": {},
   "outputs": [
    {
     "name": "stdout",
     "output_type": "stream",
     "text": [
      "[['niub18588114', 'niub18588500'], -1, -1, -1, ['niub18581006'], ['niub18589754'], ['niub18588595'], ['niub18566891'], -1, -1, ['niub16805093', 'niub18597724'], -1, ['niub16625902', 'niub18599174'], ['niub16888180'], ['niub18518012', 'niub16638516'], ['niub18519702'], -1, -1, -1, ['niub16831426', 'niub19121165'], ['niub18518006', 'niub18518346', 'niub18588581'], -1, ['niub10196663'], ['niub18518490'], ['niub18519794', 'niub18589735'], -1, ['niub16843842', 'niub18567304'], ['niub18518486'], -1, ['niub18588572', 'niub18588232'], ['niub16633574'], ['niub18569091', 'niub18588184'], -1, ['niub18589726'], ['niub16619210'], ['niub18596201', 'niub18588566'], ['niub18518330', 'niub18518091'], ['niub18518136'], ['niub18519780', 'niub18518475'], ['niub16973034'], -1, -1, ['niub18518324'], -1, ['niub16699055'], ['niub16043701', 'niub18588170'], ['niub18588215'], ['niub16828450', 'niub18567770'], ['niub18518511', 'niub16313033'], ['niub18589710', 'niub18518464'], -1, ['niub16120940'], -1, ['niub16584633', 'niub18598894', 'niub18588162', 'niub16806162'], ['niub16440881', 'niub16815441'], ['niub18519763', 'niub18593525'], -1, ['niub16839025', 'niub18588544'], ['niub14763863'], ['niub18518500', 'niub18518114', 'niub11236310'], ['niub18569595'], ['niub18518305'], ['niub18518065'], ['niub18518450'], -1, -1, ['niub14730841', 'niub18589794', 'niub16766465'], ['niub19125804'], ['niub18588533'], -1, -1, ['niub18518442'], -1, -1, -1, -1, ['niub18518051', 'niub16687712'], ['niub18519741', 'niub16609841', 'niub16759784'], -1, ['niub16347854', 'niub18588522', 'niub18596304', 'niub18588136'], ['niub10308215'], -1, ['niub16421613', 'niub18593112'], ['niub18519735', 'niub16884296'], ['niub18589776', 'niub18518383'], -1, -1, ['niub18518040'], ['niub18518425'], -1, ['niub18588511', 'niub18595521'], -1, -1, -1, ['niub18518566'], ['niub19125491', 'niub18588120'], -1, ['niub18589763', 'niub18581933'], -1, ['niub16803506'], ['niub16271220']]\n"
     ]
    }
   ],
   "source": [
    "# Mirem com ha quedat la taula\n",
    "print(taulahash)"
   ]
  },
  {
   "cell_type": "code",
   "execution_count": 5,
   "metadata": {
    "collapsed": true
   },
   "outputs": [],
   "source": [
    "# Finalment agafarem 1000 niubs a l'atzar comptarem el temps de cerca amb hash i amb cerca binària. \n",
    "# Usarem alguns dels algorismes que coneixem per cercar o per ordenar\n",
    "\n",
    "import random\n",
    "import timeit\n",
    "\n",
    "def recBinSearch(x, nums, low, high):\n",
    "    \"\"\"\n",
    "    Algorisme bàsic de cerca binària recursiva\n",
    "    :param x el nombre a trobar\n",
    "    :param nums la llista de nums a trobar\n",
    "    :param low l'índex més baix de la subllista on estem cercant ara\n",
    "    :param high l'índex més alt de la subllista on estem cercant ara\n",
    "    :return posició de x a nums o -1 si no s'ha trobar\n",
    "    \"\"\"\n",
    "    if low > high:\n",
    "        return -1\n",
    "    mid = (low + high) // 2\n",
    "    items = nums[mid]\n",
    "    if items == x:\n",
    "        return mid\n",
    "    elif x < items:\n",
    "        return recBinSearch(x, nums, low, mid-1)\n",
    "    else:\n",
    "        return recBinSearch(x, nums, mid+1, high)\n",
    "\n",
    "def partition(A, first, last):\n",
    "    \"\"\"\n",
    "    Aquesta funció tria el valor mig entre l'element inicial, final i mig \n",
    "    d'una llista i l'ubica al lloc que li correspondrà quan la llista està \n",
    "    ordenada, alhora deixa a la seva esquerra valors menors i a la dreta\n",
    "    valors majors. Per tant altera A\n",
    "    A més retorna la posició de la partició\n",
    "    \"\"\"\n",
    "    mid = (first + last)//2  #ordenem A[first],A[mid],A[last]\n",
    "    if A[first] > A [mid]: A[first], A[mid] = A[mid], A[first]\n",
    "    if A[first] > A [last]: A[first], A[last] = A[last], A[first]\n",
    "    if A[mid] > A[last]:   A[mid], A[last] = A[last], A[mid]  \n",
    "    A[mid], A[first] = A[first], A[mid] #valor mig a l’inici\n",
    "    pivot = first\n",
    "    i = first + 1\n",
    "    j = last\n",
    "  \n",
    "    while True:\n",
    "        while i <= last and A[i] <= A[pivot]: i += 1\n",
    "        while j >= first and A[j] > A[pivot]: j -= 1\n",
    "        if i >= j: break\n",
    "        else:\n",
    "            A[i], A[j] = A[j], A[i] #intercanviem, fem avançar i j\n",
    "    A[j], A[pivot] = A[pivot], A[j] #vector partit, pivot=j\n",
    "    return j\n",
    "\n",
    "def quick_sort(A):\n",
    "    quick_sort_r(A, 0, len(A) - 1)\n",
    "\n",
    "def quick_sort_r(A , first, last):\n",
    "    if last > first:\n",
    "        pivot = partition(A, first, last)\n",
    "        quick_sort_r(A, first, pivot - 1)\n",
    "        quick_sort_r(A, pivot + 1, last)\n",
    "    \n",
    "def cercaAmbHash():\n",
    "    for i in range(0,1000):\n",
    "        x=random.randint(0,98)\n",
    "        abuscar=llistaniubs[x]\n",
    "        h=hash(abuscar)\n",
    "        index=0\n",
    "        # anem recorrent els elements de la llista que es trobin a aquesta posicio de manera linial\n",
    "        while abuscar!=taulahash[h][index]:\n",
    "            index+=1\n",
    "\n",
    "def cercaBinaria():\n",
    "    sol=True\n",
    "    quick_sort(llistaniubs2)\n",
    "    for i in range(0,1000):\n",
    "        x=random.randint(0,98)\n",
    "        abuscar=llistaniubs[x]\n",
    "        index=recBinSearch(abuscar,llistaniubs2,0,98)"
   ]
  },
  {
   "cell_type": "code",
   "execution_count": 6,
   "metadata": {},
   "outputs": [
    {
     "name": "stdout",
     "output_type": "stream",
     "text": [
      "100 loops, best of 3: 3.26 ms per loop\n"
     ]
    }
   ],
   "source": [
    "%timeit cercaAmbHash()"
   ]
  },
  {
   "cell_type": "code",
   "execution_count": 7,
   "metadata": {},
   "outputs": [
    {
     "name": "stdout",
     "output_type": "stream",
     "text": [
      "100 loops, best of 3: 3.84 ms per loop\n"
     ]
    }
   ],
   "source": [
    "%timeit cercaBinaria()"
   ]
  },
  {
   "cell_type": "markdown",
   "metadata": {},
   "source": [
    "<p style=\"text-align:right;font-size:0.9em\">\n",
    "&copy;Jordi Vitrià i Mireia Ribera\n",
    "</p>"
   ]
  }
 ],
 "metadata": {
  "kernelspec": {
   "display_name": "Python 3",
   "language": "python",
   "name": "python3"
  },
  "language_info": {
   "codemirror_mode": {
    "name": "ipython",
    "version": 3
   },
   "file_extension": ".py",
   "mimetype": "text/x-python",
   "name": "python",
   "nbconvert_exporter": "python",
   "pygments_lexer": "ipython3",
   "version": "3.6.5"
  }
 },
 "nbformat": 4,
 "nbformat_minor": 2
}
