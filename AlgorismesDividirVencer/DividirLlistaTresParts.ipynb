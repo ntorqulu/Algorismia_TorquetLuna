{
 "cells": [
  {
   "cell_type": "markdown",
   "metadata": {},
   "source": [
    "<p style=\"text-align:right;font-size:0.9em\">\n",
    "Grau d'Enginyeria Informàtica. Algorísmica\n",
    "</p>"
   ]
  },
  {
   "cell_type": "markdown",
   "metadata": {},
   "source": [
    "<h1 style=\"padding:0.5em 0;font:Garamond;font-size:1-5em;color:#F90;background-color:#005\">\n",
    "Problema: Dividir llista en tres parts segons *v*\n",
    "</h1>"
   ]
  },
  {
   "cell_type": "markdown",
   "metadata": {},
   "source": [
    "Escriu un algorisme que a partir d'una llista A i un valor v retorni tres llistes (poden estar buides): una amb els elements més petits que v, una amb els elements iguals que v, i la darrera amb els elemens més grans que v. Pots basar-te en els algorismes d'ordenació. **Calcula'n la complexitat**"
   ]
  },
  {
   "cell_type": "code",
   "execution_count": 2,
   "metadata": {},
   "outputs": [
    {
     "data": {
      "text/plain": [
       "([6, 2, 9, 8, 7, 4, 3, 7, 1, 9, 7, 1], [], [])"
      ]
     },
     "execution_count": 2,
     "metadata": {},
     "output_type": "execute_result"
    }
   ],
   "source": [
    "def sort(array, pivot):\n",
    "    less = []\n",
    "    equal = []\n",
    "    greater = []\n",
    "\n",
    "    if len(array) > 1:\n",
    "        \n",
    "        for x in array:\n",
    "            if x < pivot:\n",
    "                less.append(x)\n",
    "            if x == pivot:\n",
    "                equal.append(x)\n",
    "            if x > pivot:\n",
    "                greater.append(x)\n",
    "        # Don't forget to return something!\n",
    "        return less, equal, greater  # Just use the + operator to join lists\n",
    "    # Note that you want equal ^^^^^ not pivot\n",
    "    else:  # You need to hande the part at the end of the recursion - when you only have one element in your array, just return the array.\n",
    "        return array\n",
    "sort([6,2,9,8,7,4,3,7,1,9,7,1], 10)"
   ]
  },
  {
   "cell_type": "code",
   "execution_count": 3,
   "metadata": {},
   "outputs": [
    {
     "data": {
      "text/plain": [
       "([6, 2, 9, 8, 7, 4, 3, 7, 1, 9, 7, 1], [], [])"
      ]
     },
     "execution_count": 3,
     "metadata": {},
     "output_type": "execute_result"
    }
   ],
   "source": [
    "def sort(A, pivot):    \n",
    "    i = 0\n",
    "    j = len(A)-1\n",
    "    left = []\n",
    "    right = []\n",
    "    equal = []\n",
    "    while True:\n",
    "        while i <= j and A[i] <= pivot: \n",
    "            left.append(A[i])\n",
    "            i += 1\n",
    "        while i <= j and A[i] == pivot: \n",
    "            equal.append(A[i])\n",
    "            i += 1\n",
    "        while j >= i and A[j] > pivot: \n",
    "            right.append(A[j])\n",
    "            j -= 1\n",
    "        while i <= j and A[i] == pivot: \n",
    "            equal.append(A[i])\n",
    "            j -= 1\n",
    "        if i >= j: \n",
    "            break\n",
    "        else:\n",
    "            A[i], A[j] = A[j], A[i]\n",
    "    return left, right, equal\n",
    "sort([6,2,9,8,7,4,3,7,1,9,7,1], 10)"
   ]
  },
  {
   "cell_type": "code",
   "execution_count": null,
   "metadata": {},
   "outputs": [],
   "source": [
    "# Test de la funció\n",
    "A= [6,2,9,8,7,4,3,7,1,9,7,1]\n",
    "splitllista(A,7)\n",
    "\n",
    "#Aquest exemple ha de retornar (o en algun altre ordre)\n",
    "#   [6, 2, 1, 1, 3, 4] [7, 7, 7] [9, 8, 9] "
   ]
  },
  {
   "cell_type": "markdown",
   "metadata": {},
   "source": [
    "<p style=\"text-align:right;font-size:0.9em\">\n",
    "&copy;Jordi Vitrià i Mireia Ribera\n",
    "</p>"
   ]
  }
 ],
 "metadata": {
  "kernelspec": {
   "display_name": "Python 3",
   "language": "python",
   "name": "python3"
  },
  "language_info": {
   "codemirror_mode": {
    "name": "ipython",
    "version": 3
   },
   "file_extension": ".py",
   "mimetype": "text/x-python",
   "name": "python",
   "nbconvert_exporter": "python",
   "pygments_lexer": "ipython3",
   "version": "3.6.5"
  }
 },
 "nbformat": 4,
 "nbformat_minor": 2
}
