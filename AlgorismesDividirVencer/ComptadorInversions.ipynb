{
 "cells": [
  {
   "cell_type": "markdown",
   "metadata": {},
   "source": [
    "<p style=\"text-align:right;font-size:0.9em\">\n",
    "Grau d'Enginyeria Informàtica. Algorísmica\n",
    "</p>"
   ]
  },
  {
   "cell_type": "markdown",
   "metadata": {},
   "source": [
    "<h1 style=\"padding:0.5em 0;font:Garamond;font-size:1-5em;color:#F90;background-color:#005\">\n",
    "Problema: Comptador d'inversions en una llista\n",
    "</h1>"
   ]
  },
  {
   "cell_type": "markdown",
   "metadata": {},
   "source": [
    "<p style=\"font-family:Arial;font-size:1em\">\n",
    "Donada una llista d’enters comptar quantes inversions s'han fet. Si i < j diem que s'ha fet una inversió a la parella (i, j) quan A[i] > A [j] .\n",
    "</p>"
   ]
  },
  {
   "cell_type": "markdown",
   "metadata": {},
   "source": [
    "<div style=\"font-style:italic\">\n",
    "Per exemple:\n",
    "<ul>\n",
    "<li>Llista=[3,1,5,2,7,8,4]</li>\n",
    "<li>Solució:\n",
    "   <ul>\n",
    "   <li>S'han fet 5 inversions a la llista</li>\n",
    "   <li>Les inversions són: (3,1),(5,2),(5,4),(7,4),(8,4)</li>\n",
    "   </ul>\n",
    "</li>\n",
    "</ul>\n",
    "</div>"
   ]
  },
  {
   "cell_type": "markdown",
   "metadata": {},
   "source": [
    "mes petits que 3 => 1 i 2\n",
    "3, 1\n",
    "3, 2\n",
    "mes petits que 5 => 2, 4\n",
    "5, 2\n",
    "5, 4\n",
    "\n",
    "num de inversions\n",
    "\n",
    "utilitzar merge\n",
    "comptar el nombre d'inversions amb un comptador\n",
    "\n",
    "4321\n",
    "43 21\n",
    "4 3 2 1\n",
    "\n",
    "comença merge\n",
    "\n",
    "4 > 3 => inversio\n",
    "3, 4\n",
    "\n",
    "2 > 1 => inversio\n",
    "1, 2\n",
    "\n",
    "34 12 => compta com a dues inversions\n",
    "\n",
    "134 2 = dues inversions\n",
    "\n",
    "1234 = dues inversions\n"
   ]
  },
  {
   "cell_type": "code",
   "execution_count": 38,
   "metadata": {},
   "outputs": [
    {
     "name": "stdout",
     "output_type": "stream",
     "text": [
      "([1, 2, 3, 4, 5, 7, 8], 6, [(5, 2), (3, 2), (5, 4), (3, 1), (7, 4), (8, 4)])\n"
     ]
    }
   ],
   "source": [
    "def mergesort(lst):\n",
    "    if len(lst) < 2:\n",
    "        return lst, 0, []\n",
    "    else:\n",
    "        middle = len(lst) // 2\n",
    "        left, a, inva = mergesort(lst[:middle])\n",
    "        right, b, invb = mergesort(lst[middle:])\n",
    "        result, c, inversion = merge(left, right)\n",
    "        return result, (a+b+c), inversion+inva+invb\n",
    "    \n",
    "def merge(left, right):\n",
    "    result = [ ]\n",
    "    count = 0\n",
    "    i ,j = 0, 0\n",
    "    inversion = []\n",
    "    while(i < len(left) and j < len(right)):\n",
    "        if (left[i] <= right[j]):\n",
    "            result.append(left[i])\n",
    "            i = i + 1\n",
    "        else:\n",
    "            result.append(right[j])\n",
    "            count += len(left) - i\n",
    "            for k in range(len(left) - i):\n",
    "                inversion.append((left[-k -1], right[j]))\n",
    "            j = j + 1\n",
    "    result += left[i:]\n",
    "    result += right[j:]\n",
    "    \n",
    "    return result, count, inversion\n",
    "\n",
    "print(mergesort([3,1,5,2,7,8,4]))"
   ]
  },
  {
   "cell_type": "markdown",
   "metadata": {},
   "source": [
    "<h2 style=\"height:2.5em;padding:0.5em 0;font:Garamond;font-size:1.2em;color:#FA0;background-color:#005\">\n",
    "Pregunta 1: Quina solució hauria de donar per als següents valors:\n",
    "</h2>"
   ]
  },
  {
   "cell_type": "markdown",
   "metadata": {},
   "source": [
    "- Llista:[1,8,6,4,5]\n",
    "- Llista:[4,6,1,3,9,4]\n",
    "- Llista3:[1,2] "
   ]
  },
  {
   "cell_type": "code",
   "execution_count": 33,
   "metadata": {},
   "outputs": [
    {
     "name": "stdout",
     "output_type": "stream",
     "text": [
      "([1, 4, 5, 6, 8], 5, [(8, 4), (8, 5), (8, 6), (6, 4), (6, 5)])\n",
      "([1, 3, 4, 4, 6, 9], 6, [(6, 3), (4, 3), (6, 4), (4, 1), (6, 1), (9, 4)])\n",
      "([1, 2], 0, [])\n"
     ]
    }
   ],
   "source": [
    "print(mergesort([1,8,6,4,5]))\n",
    "print(mergesort([4,6,1,3,9,4]))\n",
    "print(mergesort([1,2]))"
   ]
  },
  {
   "cell_type": "markdown",
   "metadata": {},
   "source": [
    "<h2 style=\"height:2.5em;padding:0.5em 0;font:Garamond;font-size:1.2em;color:#FA0;background-color:#005\">\n",
    "Pregunta 2: Aquest problema et recorda algun dels algorismes que hem vist de dividir i vèncer? quin? com caldria adaptar-lo?\n",
    "</h2>"
   ]
  },
  {
   "cell_type": "markdown",
   "metadata": {},
   "source": [
    "Afegint un retorn del nombre d'inversions de cada llista dins el merge i sumant tots els retorn per saber el nombre\n",
    "total d'inversions. La línia de codi que compta el número d'inversions l'afegim en la condició quan l'element de la segona\n",
    "llista(right) és major que tots els que encara no s'han evaluat de la primnera."
   ]
  },
  {
   "cell_type": "code",
   "execution_count": null,
   "metadata": {},
   "outputs": [],
   "source": [
    "TIME COMPLEXITY:\n",
    "    La complexitat de l'algorisme és O(log_n)\n",
    "    Segons el teorema Màster tenim una llista de longitud n que dividim en dues parts(a = 2)\n",
    "    de mida n/2 (b=2) i el cost de reconstruir la solució és simplement sumar els resultats,\n",
    "    p.t. c = 1\n",
    "    El teorema Màster diu:\n",
    "        T(n)= aT(n/b) + O(n^d)\n",
    "    p.t.\n",
    "        T(n) = 2T(n/2) + O(1)\n",
    "    Com que log2_2 = 1 = c llavors la complexitat de l'algorisme és O(log_n^1)= O(log_n)"
   ]
  },
  {
   "cell_type": "markdown",
   "metadata": {},
   "source": [
    "<p style=\"text-align:right;font-size:0.9em\">\n",
    "&copy;Jordi Vitrià i Mireia Ribera\n",
    "</p>"
   ]
  }
 ],
 "metadata": {
  "kernelspec": {
   "display_name": "Python 3",
   "language": "python",
   "name": "python3"
  },
  "language_info": {
   "codemirror_mode": {
    "name": "ipython",
    "version": 3
   },
   "file_extension": ".py",
   "mimetype": "text/x-python",
   "name": "python",
   "nbconvert_exporter": "python",
   "pygments_lexer": "ipython3",
   "version": "3.6.5"
  }
 },
 "nbformat": 4,
 "nbformat_minor": 2
}
