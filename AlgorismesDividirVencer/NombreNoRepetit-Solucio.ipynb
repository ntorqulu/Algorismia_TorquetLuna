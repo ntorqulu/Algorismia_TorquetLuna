{
 "cells": [
  {
   "cell_type": "markdown",
   "metadata": {},
   "source": [
    "<p style=\"text-align:right;font-size:0.9em\">\n",
    "Grau d'Enginyeria Informàtica. Algorísmica\n",
    "</p>"
   ]
  },
  {
   "cell_type": "markdown",
   "metadata": {},
   "source": [
    "<h1 style=\"padding:0.5em 0;font:Garamond;font-size:1-5em;color:#F90;background-color:#005\">\n",
    "Solució al problema: Nombre no repetit\n",
    "</h1>"
   ]
  },
  {
   "cell_type": "markdown",
   "metadata": {},
   "source": [
    "<p style=\"font-family:Arial;font-size:1em\">\n",
    "Donada una llista de nombres en la que cada nombre apareix dues vegades (una darrera l'altra) i només hi ha un element que surt una vegada, trobar aquest element amb un algorisme  O(logn). Si no hi ha cap nombre que compleixi la condició l'algorisme retornarà -999\n",
    "</p>"
   ]
  },
  {
   "cell_type": "code",
   "execution_count": 32,
   "metadata": {},
   "outputs": [
    {
     "name": "stdout",
     "output_type": "stream",
     "text": [
      "4\n"
     ]
    }
   ],
   "source": [
    "def search(llista):\n",
    "    return searchrec(llista,0,len(llista)-1)\n",
    "\n",
    "\n",
    "def searchrec(llista, low, high):\n",
    "    if low > high:\n",
    "        return -999\n",
    "    if (low == high):\n",
    "        return llista[low]\n",
    "    mid = (high - low)//2 + low\n",
    "    # print(llista[low:high+1],mid) # xivato\n",
    "    if mid%2 == 0:\n",
    "        if llista[mid] == llista[mid+1]:               # fins aquest punt tots els nombres tenen parelles 0,1  2,3  4,5 ...\n",
    "            # print(\"parell1\",llista[mid+2:high+1],mid+2,high) # xivato\n",
    "            return searchrec(llista,mid+2,high)      # el desaparellat apareixerà després\n",
    "        else:\n",
    "            # print(\"parell2\",llista[low:mid+1],low,mid)            #si mid i mid+1 no són iguals i mid és parell és que ja hi ha hagut \n",
    "            return searchrec(llista,low,mid)         # un desaparellament\n",
    "                                                       \n",
    "    else:\n",
    "        if llista[mid] == llista[mid-1]:               # la mateixa lògica però per a mid senar\n",
    "            # print(\"senar1\",llista[mid+1:high+1],mid+1,high) # xivato\n",
    "            return searchrec(llista, mid+1, high)\n",
    "        else:\n",
    "            # print(\"senar2\",llista[low:mid],low,mid-1) # xivato\n",
    "            return searchrec(llista, low, mid-1)\n",
    "        \n",
    "# Test \n",
    "llista = [ 1, 1, 3, 3, 4, 5, 5, 6, 6 ]\n",
    "print(search(llista))\n"
   ]
  },
  {
   "cell_type": "code",
   "execution_count": 33,
   "metadata": {},
   "outputs": [
    {
     "name": "stdout",
     "output_type": "stream",
     "text": [
      "4\n"
     ]
    }
   ],
   "source": [
    "llista = [ 3, 3, 4, 5, 5, 6, 6 ]\n",
    "print(search(llista))\n"
   ]
  },
  {
   "cell_type": "code",
   "execution_count": 34,
   "metadata": {},
   "outputs": [
    {
     "name": "stdout",
     "output_type": "stream",
     "text": [
      "4\n"
     ]
    }
   ],
   "source": [
    "llista = [ 1, 1, 3, 3, 4, 5, 5]\n",
    "print(search(llista))"
   ]
  },
  {
   "cell_type": "code",
   "execution_count": 35,
   "metadata": {},
   "outputs": [
    {
     "name": "stdout",
     "output_type": "stream",
     "text": [
      "4\n"
     ]
    }
   ],
   "source": [
    "llista=[4,1,1,2,2,3,3]\n",
    "print(search(llista))"
   ]
  },
  {
   "cell_type": "code",
   "execution_count": 36,
   "metadata": {},
   "outputs": [
    {
     "name": "stdout",
     "output_type": "stream",
     "text": [
      "4\n"
     ]
    }
   ],
   "source": [
    "llista=[4,1,1,2,2]\n",
    "print(search(llista))"
   ]
  },
  {
   "cell_type": "code",
   "execution_count": 37,
   "metadata": {},
   "outputs": [
    {
     "name": "stdout",
     "output_type": "stream",
     "text": [
      "4\n"
     ]
    }
   ],
   "source": [
    "llista=[4,1,1]\n",
    "print(search(llista))"
   ]
  },
  {
   "cell_type": "code",
   "execution_count": 38,
   "metadata": {},
   "outputs": [
    {
     "name": "stdout",
     "output_type": "stream",
     "text": [
      "5\n"
     ]
    }
   ],
   "source": [
    "llista=[3,3,5]\n",
    "print(search(llista))"
   ]
  },
  {
   "cell_type": "code",
   "execution_count": null,
   "metadata": {},
   "outputs": [],
   "source": [
    "Complexitat: O(logn) és una adaptació de la cerca binària"
   ]
  },
  {
   "cell_type": "markdown",
   "metadata": {},
   "source": [
    "<p style=\"text-align:right;font-size:0.9em\">\n",
    "&copy;Jordi Vitrià i Mireia Ribera\n",
    "</p>"
   ]
  }
 ],
 "metadata": {
  "kernelspec": {
   "display_name": "Python 3",
   "language": "python",
   "name": "python3"
  },
  "language_info": {
   "codemirror_mode": {
    "name": "ipython",
    "version": 3
   },
   "file_extension": ".py",
   "mimetype": "text/x-python",
   "name": "python",
   "nbconvert_exporter": "python",
   "pygments_lexer": "ipython3",
   "version": "3.6.5"
  }
 },
 "nbformat": 4,
 "nbformat_minor": 2
}
