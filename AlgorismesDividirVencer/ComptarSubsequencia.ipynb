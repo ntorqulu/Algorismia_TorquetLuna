{
 "cells": [
  {
   "cell_type": "markdown",
   "metadata": {},
   "source": [
    "<p style=\"text-align:right;font-size:0.9em\">\n",
    "Grau d'Enginyeria Informàtica. Algorísmica\n",
    "</p>"
   ]
  },
  {
   "cell_type": "markdown",
   "metadata": {},
   "source": [
    "<h1 style=\"padding:0.5em 0;font:Garamond;font-size:1-5em;color:#F90;background-color:#005\">\n",
    "Problema: Comptar quantes vegades apareix una cadena com a subseqüència\n",
    "</h1>"
   ]
  },
  {
   "cell_type": "markdown",
   "metadata": {},
   "source": [
    "<p style=\"font-family:Arial;font-size:1em\">\n",
    "Donada una paraula i una cadena de caràcters, comptar quantes vegades apareix la cadena com a subseqüència de la paraula\n",
    "</p>"
   ]
  },
  {
   "cell_type": "markdown",
   "metadata": {},
   "source": [
    "<div style=\"font-style:italic\">\n",
    "Per exemple:\n",
    "<ul>\n",
    "<li>paraula=\"subsequencia\", cadena=\"sue\"</li>\n",
    "<li>Solució:\n",
    "   <ul>\n",
    "   <li>4</li>\n",
    "   <li>La cadena sue apareix a: <b>su</b>bs<b>e</b>quencia, <b>su</b>bsequ<b>e</b>ncia, <b>s</b>ubseq<b>ue</b>ncia, sub<b>s</b>eq<b>ue</b>ncia</li>\n",
    "   </ul>\n",
    "</li>\n",
    "</ul>\n",
    "</div>"
   ]
  },
  {
   "cell_type": "code",
   "execution_count": 10,
   "metadata": {},
   "outputs": [
    {
     "data": {
      "text/plain": [
       "4"
      ]
     },
     "execution_count": 10,
     "metadata": {},
     "output_type": "execute_result"
    }
   ],
   "source": [
    "def cadena(s1, s2):\n",
    "    m = len(s1)\n",
    "    n = len(s2)\n",
    "    lookUp =[[0]* (n + 1) for x in range(m+1)]\n",
    "    for i in range(n+1):\n",
    "        lookUp[0][i] = 0\n",
    "    for j in range(m+1):\n",
    "        lookUp[j][0] = 1\n",
    "    for i in range(1,m+1):\n",
    "        for j in range(1, n+1):\n",
    "            if s1[i-1] ==s2[j-1]:\n",
    "                lookUp[i][j] = lookUp[i - 1][j - 1] + lookUp[i - 1][j]\n",
    "            else:\n",
    "                lookUp[i][j] = lookUp[i - 1][j]\n",
    "    return lookUp[m][n]\n",
    "                \n",
    "cadena(\"subsequencia\", \"sue\")"
   ]
  },
  {
   "cell_type": "markdown",
   "metadata": {},
   "source": [
    "<h2 style=\"padding:0.5em 0;font:Garamond;font-size:1.2em;color:#FA0;background-color:#005\">\n",
    "Pregunta 1: Proposa parelles de paraules i cadenes i digues què hauria de donar l'algorisme\n",
    "</h2>"
   ]
  },
  {
   "cell_type": "code",
   "execution_count": null,
   "metadata": {
    "collapsed": true
   },
   "outputs": [],
   "source": []
  },
  {
   "cell_type": "markdown",
   "metadata": {},
   "source": [
    "<h2 style=\"padding:0.5em 0;font:Garamond;font-size:1.2em;color:#FA0;background-color:#005\">\n",
    "Pregunta 2: Podries aproximar la mida màxima del diccionari amb les solucions?\n",
    "</h2>"
   ]
  },
  {
   "cell_type": "code",
   "execution_count": null,
   "metadata": {
    "collapsed": true
   },
   "outputs": [],
   "source": [
    "# Inserir aquí les respostes"
   ]
  },
  {
   "cell_type": "markdown",
   "metadata": {},
   "source": [
    "<p style=\"text-align:right;font-size:0.9em\">\n",
    "&copy;Jordi Vitrià i Mireia Ribera\n",
    "</p>"
   ]
  }
 ],
 "metadata": {
  "kernelspec": {
   "display_name": "Python 3",
   "language": "python",
   "name": "python3"
  },
  "language_info": {
   "codemirror_mode": {
    "name": "ipython",
    "version": 3
   },
   "file_extension": ".py",
   "mimetype": "text/x-python",
   "name": "python",
   "nbconvert_exporter": "python",
   "pygments_lexer": "ipython3",
   "version": "3.6.5"
  }
 },
 "nbformat": 4,
 "nbformat_minor": 2
}
