{
 "cells": [
  {
   "cell_type": "markdown",
   "metadata": {},
   "source": [
    "<p style=\"text-align:right;font-size:0.9em\">\n",
    "Grau d'Enginyeria Informàtica. Algorísmica\n",
    "</p>"
   ]
  },
  {
   "cell_type": "markdown",
   "metadata": {},
   "source": [
    "<h1 style=\"padding:0.5em 0;font:Garamond;font-size:1-5em;color:#F90;background-color:#005\">\n",
    "Problema: Nombres estrictament creixents</h1>"
   ]
  },
  {
   "cell_type": "markdown",
   "metadata": {},
   "source": [
    "<p style=\"font-family:Arial;font-size:1em\">\n",
    "Donat un enter N entre 1 i 9, trobar tots els nombres amb N dígits, dels quals el valor és estrictament creixent.\n",
    "</p>"
   ]
  },
  {
   "cell_type": "markdown",
   "metadata": {},
   "source": [
    "<div style=\"font-style:italic\">\n",
    "Per exemple:\n",
    "<ul>\n",
    "<li>N=8</li>\n",
    "<li>Solució:\n",
    "   <ul>\n",
    "   <li>12345678, 12345679, 12345689, 12346789, 12356789, 12456789, 13456789, 23456789 </li>\n",
    "   </ul>\n",
    "</li>\n",
    "</ul>\n",
    "</div>"
   ]
  },
  {
   "cell_type": "code",
   "execution_count": 1,
   "metadata": {},
   "outputs": [
    {
     "name": "stdout",
     "output_type": "stream",
     "text": [
      "012 \n",
      "013 \n",
      "014 \n",
      "015 \n",
      "016 \n",
      "017 \n",
      "018 \n",
      "019 \n",
      "023 \n",
      "024 \n",
      "025 \n",
      "026 \n",
      "027 \n",
      "028 \n",
      "029 \n",
      "034 \n",
      "035 \n",
      "036 \n",
      "037 \n",
      "038 \n",
      "039 \n",
      "045 \n",
      "046 \n",
      "047 \n",
      "048 \n",
      "049 \n",
      "056 \n",
      "057 \n",
      "058 \n",
      "059 \n",
      "067 \n",
      "068 \n",
      "069 \n",
      "078 \n",
      "079 \n",
      "089 \n",
      "123 \n",
      "124 \n",
      "125 \n",
      "126 \n",
      "127 \n",
      "128 \n",
      "129 \n",
      "134 \n",
      "135 \n",
      "136 \n",
      "137 \n",
      "138 \n",
      "139 \n",
      "145 \n",
      "146 \n",
      "147 \n",
      "148 \n",
      "149 \n",
      "156 \n",
      "157 \n",
      "158 \n",
      "159 \n",
      "167 \n",
      "168 \n",
      "169 \n",
      "178 \n",
      "179 \n",
      "189 \n",
      "234 \n",
      "235 \n",
      "236 \n",
      "237 \n",
      "238 \n",
      "239 \n",
      "245 \n",
      "246 \n",
      "247 \n",
      "248 \n",
      "249 \n",
      "256 \n",
      "257 \n",
      "258 \n",
      "259 \n",
      "267 \n",
      "268 \n",
      "269 \n",
      "278 \n",
      "279 \n",
      "289 \n",
      "345 \n",
      "346 \n",
      "347 \n",
      "348 \n",
      "349 \n",
      "356 \n",
      "357 \n",
      "358 \n",
      "359 \n",
      "367 \n",
      "368 \n",
      "369 \n",
      "378 \n",
      "379 \n",
      "389 \n",
      "456 \n",
      "457 \n",
      "458 \n",
      "459 \n",
      "467 \n",
      "468 \n",
      "469 \n",
      "478 \n",
      "479 \n",
      "489 \n",
      "567 \n",
      "568 \n",
      "569 \n",
      "578 \n",
      "579 \n",
      "589 \n",
      "678 \n",
      "679 \n",
      "689 \n",
      "789 \n"
     ]
    }
   ],
   "source": [
    "'''\n",
    "%param:\n",
    "- out = guarda el numero que estem construint com un string\n",
    "- start = el digit que estem. considerant afegir al num\n",
    "'''\n",
    "\n",
    "def increasingOrder(start, out, n):\n",
    "    \n",
    "    if (n== 0): #cas base, si ja no ens quedem més posicions per evaluar\n",
    "        print(out + \" \") # imprimim el numero que estavem construint\n",
    "        return\n",
    "    for i in range(start, 10): # evaluem tots els possibles valors que poden prendre les xif\n",
    "        string = out + (str(i))\n",
    "        increasingOrder(i+1, string, n-1)  \n",
    "increasingOrder(0, \"\", 3)"
   ]
  },
  {
   "cell_type": "code",
   "execution_count": null,
   "metadata": {},
   "outputs": [],
   "source": [
    "// Function to print all n-digit numbers whose digits \n",
    "    // are strictly increasing from left to right. \n",
    "    // out   --> Stores current output number as string \n",
    "    // start --> Current starting digit to be considered \n",
    "    void findStrictlyIncreasingNum(int start, String out, int n) \n",
    "    { \n",
    "        // If number becomes N-digit, print it \n",
    "        if (n == 0) \n",
    "        { \n",
    "            System.out.print(out + \" \"); \n",
    "            return; \n",
    "        } \n",
    "   \n",
    "        // start from (prev digit + 1) till 9 \n",
    "        for (int i = start; i <= 9; i++) \n",
    "        { \n",
    "            // append current digit to number \n",
    "            String str = out + Integer.toString(i); \n",
    "   \n",
    "            // recurse for next digit \n",
    "            findStrictlyIncreasingNum(i + 1, str, n - 1); \n",
    "        } \n",
    "    } \n",
    "  "
   ]
  },
  {
   "cell_type": "markdown",
   "metadata": {},
   "source": [
    "<h2 style=\"padding:0.5em 0;font:Garamond;font-size:1.2em;color:#FA0;background-color:#005\">\n",
    "Pregunta 1: Quina solució hauria de donar per als següents valors:\n",
    "</h2>"
   ]
  },
  {
   "cell_type": "markdown",
   "metadata": {
    "collapsed": true
   },
   "source": [
    "- N=9\n",
    "- N=2"
   ]
  },
  {
   "cell_type": "markdown",
   "metadata": {},
   "source": [
    "<h2 style=\"padding:0.5em 0;font:Garamond;font-size:1.2em;color:#FA0;background-color:#005\">\n",
    "Pregunta 2: Imaginem que volem construir un número de 7 dígits (N=7) i que ja tenim escrit el nombre fins al dígit 5è (12345). Quantes crides recursives ha de fer el programa encara?\n",
    "</h2>"
   ]
  },
  {
   "cell_type": "code",
   "execution_count": null,
   "metadata": {},
   "outputs": [],
   "source": [
    "# Inserir aquí la resposta"
   ]
  },
  {
   "cell_type": "markdown",
   "metadata": {},
   "source": [
    "<h2 style=\"padding:0.5em 0;font:Garamond;font-size:1.2em;color:#FA0;background-color:#005\">\n",
    "Pregunta 3: Totes les crides recursives generaran cadenes correctes? se t'acudeix alguna millora?\n",
    "</h2>"
   ]
  },
  {
   "cell_type": "code",
   "execution_count": null,
   "metadata": {},
   "outputs": [],
   "source": [
    "# Inserir aquí la resposta"
   ]
  },
  {
   "cell_type": "markdown",
   "metadata": {},
   "source": [
    "<p style=\"text-align:right;font-size:0.9em\">\n",
    "&copy;Jordi Vitrià i Mireia Ribera\n",
    "</p>"
   ]
  }
 ],
 "metadata": {
  "kernelspec": {
   "display_name": "Python 3",
   "language": "python",
   "name": "python3"
  },
  "language_info": {
   "codemirror_mode": {
    "name": "ipython",
    "version": 3
   },
   "file_extension": ".py",
   "mimetype": "text/x-python",
   "name": "python",
   "nbconvert_exporter": "python",
   "pygments_lexer": "ipython3",
   "version": "3.6.5"
  }
 },
 "nbformat": 4,
 "nbformat_minor": 2
}
