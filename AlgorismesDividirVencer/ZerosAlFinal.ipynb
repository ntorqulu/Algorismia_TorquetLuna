{
 "cells": [
  {
   "cell_type": "markdown",
   "metadata": {},
   "source": [
    "<p style=\"text-align:right;font-size:0.9em\">\n",
    "Grau d'Enginyeria Informàtica. Algorísmica. \n",
    "</p>"
   ]
  },
  {
   "cell_type": "markdown",
   "metadata": {},
   "source": [
    "<h1 style=\"padding:0.5em 0;font:Garamond;font-size:1-5em;color:#F90;background-color:#005\">\n",
    "Problema: Zeros al final\n",
    "</h1>"
   ]
  },
  {
   "cell_type": "markdown",
   "metadata": {},
   "source": [
    "<p style=\"font-family:Arial;font-size:1em\">\n",
    "Donada una llista d’enters, moure tots els zeros que contingui al final de la llista, sense alterar l'ordre relatiu de la resta d'elements.\n",
    "</p>"
   ]
  },
  {
   "cell_type": "markdown",
   "metadata": {},
   "source": [
    "<div style=\"font-style:italic\">\n",
    "Per exemple:\n",
    "<ul>\n",
    "<li>Llista=[3,1,0,5,0,0,2,7,8]</li>\n",
    "<li>Solució:\n",
    "   <ul>\n",
    "   <li>[3,1,5,2,7,8,0,0,0]</li>\n",
    "   </ul>\n",
    "</li>\n",
    "</ul>\n",
    "</div>"
   ]
  },
  {
   "cell_type": "markdown",
   "metadata": {
    "collapsed": true
   },
   "source": [
    "- CAS BASE:\n",
    "      tots els zeros ja es troben al final, es a dir low[i] == 0 i high[-1] == 0\n",
    "- CAS INDUCTIU:\n",
    "      si low[i] != 0, moure low[i] a llista[-1] i sumar u a low[i]\n"
   ]
  },
  {
   "cell_type": "markdown",
   "metadata": {},
   "source": [
    "QUICKSORT, escollir pivot i separar llista, més petit que pivot o més gran que pivot.\n",
    "- esq. tot el que no és zero\n",
    "- dret. tot el que és zero\n",
    "complex. O(nlogn)\n"
   ]
  },
  {
   "cell_type": "code",
   "execution_count": 3,
   "metadata": {},
   "outputs": [
    {
     "name": "stdout",
     "output_type": "stream",
     "text": [
      "[3, 1, 8, 5, 7, 2, 0, 0, 0]\n",
      "[0, 0, 0, 0, 0, 0, 0, 0, 0]\n",
      "[5, 0, 0, 0, 0, 0, 0, 0, 0]\n"
     ]
    }
   ],
   "source": [
    "def zerosFinal(llista):\n",
    "    low = 0\n",
    "    high = len(llista) - 1\n",
    "    passaIndex = False\n",
    "    if(len(llista)== 0):\n",
    "        return None\n",
    "    elif(len(llista)== 1):\n",
    "        return llista\n",
    "    else:\n",
    "        mid = (high + low)//2\n",
    "        i = 0\n",
    "        j = len(llista) -1\n",
    "    \n",
    "        while not (passaIndex):\n",
    "            while i <= high and llista[i] != 0:\n",
    "                i+= 1\n",
    "            while j >= low and llista[j] == 0:\n",
    "                j -= 1\n",
    "            if i >= j:\n",
    "                passaIndex = True\n",
    "            else:\n",
    "                llista[i], llista[j] = llista[j], llista[i]\n",
    "    return llista\n",
    "\n",
    "print(zerosFinal([3,1,0,5,0,0,2,7,8]))\n",
    "print(zerosFinal([0,0,0,0,0,0,0,0,0]))\n",
    "print(zerosFinal([0,0,0,0,0,0,0,0,5]))      "
   ]
  },
  {
   "cell_type": "markdown",
   "metadata": {},
   "source": [
    "<h2 style=\"padding:0.5em 0;font:Garamond;font-size:1.2em;color:#FA0;background-color:#005\">\n",
    "Pregunta 1: El problema et recorda algun dels algorismes de dividir i vèncer? quin? com el pots usar?\n",
    "</h2>"
   ]
  },
  {
   "cell_type": "markdown",
   "metadata": {
    "collapsed": true
   },
   "source": [
    "A l'algorisme PARTITION del quicksort"
   ]
  },
  {
   "cell_type": "markdown",
   "metadata": {},
   "source": [
    "<h2 style=\"padding:0.5em 0;font:Garamond;font-size:1.2em;color:#FA0;background-color:#005\">\n",
    "Pregunta 2: Modifica l'algorisme per moure tot els zeros al principi\n",
    "</h2>"
   ]
  },
  {
   "cell_type": "code",
   "execution_count": 4,
   "metadata": {},
   "outputs": [
    {
     "name": "stdout",
     "output_type": "stream",
     "text": [
      "[0, 0, 0, 5, 1, 3, 2, 7, 8]\n",
      "[0, 0, 0, 0, 0, 0, 0, 0, 0]\n",
      "[0, 0, 0, 0, 0, 0, 0, 0, 5]\n"
     ]
    }
   ],
   "source": [
    "def zerosFinal(llista):\n",
    "    low = 0\n",
    "    high = len(llista) - 1\n",
    "    passaIndex = False\n",
    "    if(len(llista)== 0):\n",
    "        return None\n",
    "    elif(len(llista)== 1):\n",
    "        return llista\n",
    "    else:\n",
    "        mid = (high + low)//2\n",
    "        i = 0\n",
    "        j = len(llista) -1\n",
    "    \n",
    "        while not(passaIndex):\n",
    "           \n",
    "            while i <= high and llista[i] == 0:\n",
    "                i+= 1\n",
    "            while j >= low and llista[j] != 0:\n",
    "                j -= 1\n",
    "            if i >= j:\n",
    "                passaIndex = True\n",
    "            else:\n",
    "                llista[i], llista[j] = llista[j], llista[i]\n",
    "    return llista\n",
    "\n",
    "print(zerosFinal([3,1,0,5,0,0,2,7,8]))\n",
    "print(zerosFinal([0,0,0,0,0,0,0,0,0]))\n",
    "print(zerosFinal([0,0,0,0,0,0,0,0,5]))\n",
    "            \n",
    "                \n",
    "        \n",
    "     "
   ]
  },
  {
   "cell_type": "markdown",
   "metadata": {},
   "source": [
    "<p style=\"text-align:right;font-size:0.9em\">\n",
    "&copy;Jordi Vitrià i Mireia Ribera\n",
    "</p>"
   ]
  },
  {
   "cell_type": "code",
   "execution_count": null,
   "metadata": {},
   "outputs": [],
   "source": [
    "TIME COMPLEXITY:\n",
    "    La complexitat en aquest cas no és pot calcular amb el teorema Màster perquè no estem\n",
    "    realitzant cap crida recursiva. Dit això, la complexitat de l'algorisme en ambdós casos\n",
    "    és O(n).\n",
    "    Com que tenim tres condicionals, evaluem el pitjor cas, el tercer. Com que el major cost\n",
    "    dins el tercer condicional té complexitat O(n), aquesta serà la complexitat total de\n",
    "    l'algorisme."
   ]
  }
 ],
 "metadata": {
  "kernelspec": {
   "display_name": "Python 3",
   "language": "python",
   "name": "python3"
  },
  "language_info": {
   "codemirror_mode": {
    "name": "ipython",
    "version": 3
   },
   "file_extension": ".py",
   "mimetype": "text/x-python",
   "name": "python",
   "nbconvert_exporter": "python",
   "pygments_lexer": "ipython3",
   "version": "3.6.5"
  }
 },
 "nbformat": 4,
 "nbformat_minor": 2
}
