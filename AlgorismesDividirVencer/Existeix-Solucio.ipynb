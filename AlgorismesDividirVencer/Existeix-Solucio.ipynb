{
 "cells": [
  {
   "cell_type": "markdown",
   "metadata": {},
   "source": [
    "<p style=\"text-align:right;font-size:0.9em\">\n",
    "Grau d'Enginyeria Informàtica. Algorísmica\n",
    "</p>"
   ]
  },
  {
   "cell_type": "markdown",
   "metadata": {},
   "source": [
    "<h1 style=\"padding:0.5em 0;font:Garamond;font-size:1-5em;color:#F90;background-color:#005\">\n",
    "Solució al problema: Existeix\n",
    "</h1>"
   ]
  },
  {
   "cell_type": "markdown",
   "metadata": {},
   "source": [
    "Donada una llista de $n$ nombres naturals ordenats $[x_1, x_2, ..., x_n]$ crea una funció, ``existeix``,  de dividir i conquerir que digui si existeix algun element tal que la llista[i]=i **amb complexitat O(logn)**. "
   ]
  },
  {
   "cell_type": "code",
   "execution_count": 14,
   "metadata": {},
   "outputs": [],
   "source": [
    "def existeix(llista):\n",
    "    return existeix_rec(llista,0,len(llista)-1)\n",
    "\n",
    "def existeix_rec(llista,i,j):  \n",
    "    if i==j:\n",
    "        return llista[i]==i\n",
    "    mid=(j+i)//2\n",
    "    if llista[mid]==mid:\n",
    "        return True\n",
    "    elif llista[mid]>mid:\n",
    "        return existeix_rec(llista,mid + 1,j)\n",
    "    else:\n",
    "        return existeix_rec(llista,i,mid)"
   ]
  },
  {
   "cell_type": "code",
   "execution_count": 15,
   "metadata": {},
   "outputs": [
    {
     "data": {
      "text/plain": [
       "False"
      ]
     },
     "execution_count": 15,
     "metadata": {},
     "output_type": "execute_result"
    }
   ],
   "source": [
    "# Test de la funció\n",
    "A= [1,4,5,5,7]\n",
    "existeix(A)\n",
    "\n",
    "#Aquest exemple ha de retornar: False"
   ]
  },
  {
   "cell_type": "code",
   "execution_count": 16,
   "metadata": {},
   "outputs": [
    {
     "data": {
      "text/plain": [
       "True"
      ]
     },
     "execution_count": 16,
     "metadata": {},
     "output_type": "execute_result"
    }
   ],
   "source": [
    "B=[1,1,2,7]\n",
    "existeix(B)\n",
    "#Aquest exemple ha de retornar: True"
   ]
  },
  {
   "cell_type": "code",
   "execution_count": 4,
   "metadata": {},
   "outputs": [],
   "source": [
    "#Execució amb xivatos\n",
    "\n",
    "def existeixx(llista):\n",
    "    return existeix_recx(llista,0,len(llista)-1)\n",
    "\n",
    "def existeix_recx(llista,i,j):  \n",
    "    if i==j:\n",
    "        print(\"xivato1: i\",i,\",j\",j)\n",
    "        return llista[i]==i\n",
    "    mid=(j-i)//2 + i\n",
    "    print(\"xivato2:llista\",llista,\",i\",i,\",j\",j,\"mid\",mid,\"llista[mid]\",llista[mid])\n",
    "    if llista[mid]==mid:\n",
    "        return True\n",
    "    elif llista[mid]>mid:\n",
    "        return existeix_recx(llista,mid+1,j)\n",
    "    else:\n",
    "        return existeix_recx(llista,i,mid)"
   ]
  },
  {
   "cell_type": "code",
   "execution_count": 5,
   "metadata": {},
   "outputs": [
    {
     "name": "stdout",
     "output_type": "stream",
     "text": [
      "xivato2:llista [1, 4, 5, 5, 7] ,i 0 ,j 4 mid 2 llista[mid] 5\n",
      "xivato2:llista [1, 4, 5, 5, 7] ,i 3 ,j 4 mid 3 llista[mid] 5\n",
      "xivato1: i 4 ,j 4\n"
     ]
    },
    {
     "data": {
      "text/plain": [
       "False"
      ]
     },
     "execution_count": 5,
     "metadata": {},
     "output_type": "execute_result"
    }
   ],
   "source": [
    "A= [1,4,5,5,7]\n",
    "existeixx(A)"
   ]
  },
  {
   "cell_type": "code",
   "execution_count": 6,
   "metadata": {},
   "outputs": [
    {
     "name": "stdout",
     "output_type": "stream",
     "text": [
      "xivato2:llista [1, 1, 2, 7] ,i 0 ,j 3 mid 1 llista[mid] 1\n"
     ]
    },
    {
     "data": {
      "text/plain": [
       "True"
      ]
     },
     "execution_count": 6,
     "metadata": {},
     "output_type": "execute_result"
    }
   ],
   "source": [
    "B=[1,1,2,7]\n",
    "existeixx(B)\n",
    "#Aquest exemple ha de retornar: True"
   ]
  },
  {
   "cell_type": "code",
   "execution_count": 7,
   "metadata": {},
   "outputs": [
    {
     "name": "stdout",
     "output_type": "stream",
     "text": [
      "xivato2:llista [2, 2, 2] ,i 0 ,j 2 mid 1 llista[mid] 2\n",
      "xivato1: i 2 ,j 2\n"
     ]
    },
    {
     "data": {
      "text/plain": [
       "True"
      ]
     },
     "execution_count": 7,
     "metadata": {},
     "output_type": "execute_result"
    }
   ],
   "source": [
    "B=[2,2,2]\n",
    "existeixx(B)\n",
    "#Aquest exemple ha de retornar: True"
   ]
  },
  {
   "cell_type": "code",
   "execution_count": null,
   "metadata": {},
   "outputs": [],
   "source": [
    "def recbinsearch(nums, low, high):\n",
    "    if low == high:\n",
    "        return nums[low] == low\n",
    "    mid = (low + high) // 2;\n",
    "    if nums[mid] == mid:\n",
    "        return True\n",
    "    elif nums[mid] < mid:\n",
    "        return recbinsearch(nums,low,mid-1)\n",
    "    else:\n",
    "        return recbinsearch(nums,mid+1,high)\n",
    "    \n",
    "recbinsearch([2,2,2], 0, len([2,2,2])-1)"
   ]
  },
  {
   "cell_type": "markdown",
   "metadata": {},
   "source": [
    "<p style=\"text-align:right;font-size:0.9em\">\n",
    "&copy;Jordi Vitrià i Mireia Ribera\n",
    "</p>"
   ]
  }
 ],
 "metadata": {
  "kernelspec": {
   "display_name": "Python 3",
   "language": "python",
   "name": "python3"
  },
  "language_info": {
   "codemirror_mode": {
    "name": "ipython",
    "version": 3
   },
   "file_extension": ".py",
   "mimetype": "text/x-python",
   "name": "python",
   "nbconvert_exporter": "python",
   "pygments_lexer": "ipython3",
   "version": "3.6.5"
  }
 },
 "nbformat": 4,
 "nbformat_minor": 2
}
