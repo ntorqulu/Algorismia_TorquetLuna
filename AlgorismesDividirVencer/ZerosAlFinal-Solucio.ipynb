{
 "cells": [
  {
   "cell_type": "markdown",
   "metadata": {},
   "source": [
    "<p style=\"text-align:right;font-size:0.9em\">\n",
    "Grau d'Enginyeria Informàtica. Algorísmica. Curs 2017-2018\n",
    "</p>"
   ]
  },
  {
   "cell_type": "markdown",
   "metadata": {},
   "source": [
    "<h1 style=\"padding:0.5em 0;font:Garamond;font-size:1-5em;color:#005;background-color:#F90\">Solució problema: Zeros al final\n",
    "</h1>"
   ]
  },
  {
   "cell_type": "markdown",
   "metadata": {},
   "source": [
    "<p style=\"font-family:Arial;font-size:1em\">\n",
    "Donada una llista d’enters, moure tots els zeros que contingui al final de la llista, sense alterar l'ordre relatiu de la resta d'elements.\n",
    "</p>"
   ]
  },
  {
   "cell_type": "code",
   "execution_count": 1,
   "metadata": {},
   "outputs": [
    {
     "data": {
      "text/plain": [
       "[3, 1, 5, 2, 7, 8, 0, 0, 0, 0, 0]"
      ]
     },
     "execution_count": 1,
     "metadata": {},
     "output_type": "execute_result"
    }
   ],
   "source": [
    "# Inserir aquí el codi de la solució\n",
    "\"\"\"\n",
    "Aquesta funció mou tots els zeros de la llista donada al final\n",
    "la funció és una variació del quicksort en que fem swap dels elements\n",
    "de la llista usant com a pivot el 0\n",
    ":param llista, la llista d'enters\n",
    ":return la llista amb els zeros al final\n",
    "\"\"\"\n",
    "\n",
    "\n",
    "def moureZerosFinal(llista):\n",
    "    j = 0\n",
    "    for i in range(0, len(llista)):\n",
    "        if llista[i] != 0:\n",
    "            llista[i], llista[j] = llista[j], llista[i]\n",
    "            j += 1\n",
    "    return llista\n",
    "\n",
    "assert moureZerosFinal([0,3,0,1,0,5,0,0,2,7,8]) == [3,1,5,2,7,8,0,0,0,0,0]\n",
    "moureZerosFinal([0,3,0,1,0,5,0,0,2,7,8])"
   ]
  },
  {
   "cell_type": "code",
   "execution_count": 3,
   "metadata": {},
   "outputs": [
    {
     "data": {
      "text/plain": [
       "[3, 1, 5, 2, 7, 8, 0, 0]"
      ]
     },
     "execution_count": 3,
     "metadata": {},
     "output_type": "execute_result"
    }
   ],
   "source": [
    "moureZerosFinal([3,1,5,0,0,2,7,8])"
   ]
  },
  {
   "cell_type": "markdown",
   "metadata": {},
   "source": [
    "<h2 style=\"padding:0.5em 0;font:Garamond;font-size:1.2em;color:#005;background-color:#FA0\">\n",
    "Pregunta 1: El problema et recorda algun dels algorismes de dividir i vèncer? quin? com el pots usar?\n",
    "</h2>"
   ]
  },
  {
   "cell_type": "markdown",
   "metadata": {},
   "source": [
    "El problema sembla la partició del quicksort, i en aquest cas tenim el pivot predeterminat a valor 0. Hem de dividir la llista posant a l'esquerra els valors diferents a 0, i a la dreta els valors iguals a 0."
   ]
  },
  {
   "cell_type": "markdown",
   "metadata": {},
   "source": [
    "<h2 style=\"padding:0.5em 0;font:Garamond;font-size:1.2em;color:#005;background-color:#FA0\">\n",
    "Pregunta 2: Modifica l'algorisme per moure tot els zeros al principi\n",
    "</h2>"
   ]
  },
  {
   "cell_type": "code",
   "execution_count": 4,
   "metadata": {
    "collapsed": true
   },
   "outputs": [],
   "source": [
    "# Inserir aquí les respostes\n",
    "\"\"\"\n",
    "Aquesta funció mou tots els zeros de la llista donada a l'inici\n",
    "la funció és una variació del quicksort en que fem swap dels elements\n",
    "de la llista usant com a pivot el 0\n",
    ":param llista, la llista d'enters\n",
    ":return la llista amb els zeros al final\n",
    "\"\"\"\n",
    "\n",
    "\n",
    "def moureZerosInici(llista):\n",
    "    j = len(llista) - 1\n",
    "    for i in range(len(llista)-1, -1, -1):\n",
    "        if llista[i] != 0:\n",
    "            llista[i], llista[j] = llista[j], llista[i]\n",
    "            j -= 1\n",
    "    return llista"
   ]
  },
  {
   "cell_type": "code",
   "execution_count": null,
   "metadata": {},
   "outputs": [],
   "source": [
    "Complexitat: O(n) com el partition"
   ]
  },
  {
   "cell_type": "markdown",
   "metadata": {},
   "source": [
    "<p style=\"text-align:right;font-size:0.9em\">\n",
    "&copy;Jordi Vitrià i Mireia Ribera\n",
    "</p>"
   ]
  }
 ],
 "metadata": {
  "kernelspec": {
   "display_name": "Python 3",
   "language": "python",
   "name": "python3"
  },
  "language_info": {
   "codemirror_mode": {
    "name": "ipython",
    "version": 3
   },
   "file_extension": ".py",
   "mimetype": "text/x-python",
   "name": "python",
   "nbconvert_exporter": "python",
   "pygments_lexer": "ipython3",
   "version": "3.6.5"
  }
 },
 "nbformat": 4,
 "nbformat_minor": 2
}
