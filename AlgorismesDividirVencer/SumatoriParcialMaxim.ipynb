{
 "cells": [
  {
   "cell_type": "markdown",
   "metadata": {},
   "source": [
    "<p style=\"text-align:right;font-size:0.9em\">\n",
    "Grau d'Enginyeria Informàtica. Algorísmica. \n",
    "</p>"
   ]
  },
  {
   "cell_type": "markdown",
   "metadata": {},
   "source": [
    "<h1 style=\"padding:0.5em 0;font:Garamond;font-size:1-5em;color:#F90;background-color:#005\">\n",
    "Problema: Sumatori parcial màxim\n",
    "</h1>"
   ]
  },
  {
   "cell_type": "markdown",
   "metadata": {},
   "source": [
    "Donada una llista d’enters, trobar el sumatori parcial (d'enters consecutius a la llista) de valor màxim. Si el valor màxim és negatiu, el sumatori parcial màxim donarà 0\n",
    "\n",
    "<div style=\"font-style:italic\">\n",
    "Per exemple:\n",
    "<ul>\n",
    "<li>Llista=[-3,1,-5,2,7,8]</li>\n",
    "<li>Solució:\n",
    "   <ul>\n",
    "   <li>El sumatori parcial màxim és 17</li>\n",
    "   <li>Aquest sumatori s'obté dels enters ressaltats: [-3, 1, -5, <b>2, 7, 8</b>]</li>\n",
    "   </ul>\n",
    "</li>\n",
    "</ul>\n",
    "</div>\n",
    "\n",
    "Indicacions:\n",
    "+ Aquest algorisme es pot implementar de tres maneres. \n",
    "    + Força bruta $(O(n*n))$\n",
    "    + Divide & conquer $(O(n log n))$\n",
    "    + Kadane's algorithm $(O(n))$"
   ]
  },
  {
   "cell_type": "code",
   "execution_count": 20,
   "metadata": {},
   "outputs": [
    {
     "data": {
      "text/plain": [
       "17"
      ]
     },
     "execution_count": 20,
     "metadata": {},
     "output_type": "execute_result"
    }
   ],
   "source": [
    "def bruteForce(array):\n",
    "    maxim = 0\n",
    "    for i in range(len(array)):\n",
    "        for j in range(1, len(array)+1):\n",
    "            if sum(array[i:j]) > maxim:\n",
    "                maxim = sum(array[i:j])\n",
    "    return maxim\n",
    "    \n",
    "\n",
    "bruteForce([-3,1,-5,2,7,8])"
   ]
  },
  {
   "cell_type": "markdown",
   "metadata": {},
   "source": [
    "<h2 style=\"padding:0.5em 0;font:Garamond;font-size:1.2em;color:#FA0;background-color:#005\">\n",
    "Pregunta 1: Proposa diverses llistes i dóna el resultat\n",
    "</h2>"
   ]
  },
  {
   "cell_type": "code",
   "execution_count": null,
   "metadata": {},
   "outputs": [],
   "source": [
    "1) Divide the given array in two halves\n",
    "2) Return the maximum of following three\n",
    "….a) Maximum subarray sum in left half (Make a recursive call)\n",
    "….b) Maximum subarray sum in right half (Make a recursive call)\n",
    "….c) Maximum subarray sum such that the subarray crosses the midpoint\n",
    "\n",
    "The lines 2.a and 2.b are simple recursive calls. How to find maximum subarray \n",
    "sum such that the subarray crosses the midpoint? We can easily find the crossing \n",
    "sum in linear time. The idea is simple, find the maximum sum starting from mid point \n",
    "and ending at some point on left of mid, then find the maximum sum starting from mid + 1 \n",
    "and ending with sum point on right of mid + 1. Finally, combine the two and return."
   ]
  },
  {
   "cell_type": "code",
   "execution_count": 10,
   "metadata": {},
   "outputs": [
    {
     "name": "stdout",
     "output_type": "stream",
     "text": [
      "Maximum contiguous sum is  17\n"
     ]
    }
   ],
   "source": [
    "\n",
    "\n",
    "\n",
    "\n",
    "\n",
    "# A Divide and Conquer based program \n",
    "# for maximum subarray sum problem \n",
    "\n",
    "# Find the maximum possible sum in \n",
    "# arr[] auch that arr[m] is part of it \n",
    "def maxCrossingSum(arr, l, m, h) : \n",
    "\n",
    "    # Include elements on left of mid. \n",
    "    sm = 0; \n",
    "    left_sum = -10000\n",
    "\n",
    "    for i in range(m, l-1, -1) : \n",
    "        sm = sm + arr[i] \n",
    "\n",
    "    if (sm > left_sum) : \n",
    "        left_sum = sm \n",
    "\n",
    "\t# Include elements on right of mid \n",
    "    sm = 0\n",
    "    right_sum = -1000\n",
    "    for i in range(m + 1, h + 1) : \n",
    "        sm = sm + arr[i] \n",
    "\n",
    "    if (sm > right_sum) : \n",
    "        right_sum = sm \n",
    "\n",
    "\n",
    "\t# Return sum of elements on left and right of mid \n",
    "    return left_sum + right_sum; \n",
    "\n",
    "\n",
    "# Returns sum of maxium sum subarray in aa[l..h] \n",
    "def maxSubArraySum(arr, l, h) : \n",
    "\n",
    "    # Base Case: Only one element \n",
    "    if (l == h): \n",
    "        return arr[l] \n",
    "\n",
    "\t# Find middle point \n",
    "    m = (l + h) // 2\n",
    "\n",
    "\t# Return maximum of following three possible cases \n",
    "\t# a) Maximum subarray sum in left half \n",
    "\t# b) Maximum subarray sum in right half \n",
    "\t# c) Maximum subarray sum such that the \n",
    "\t#\t subarray crosses the midpoint \n",
    "    return max(maxSubArraySum(arr, l, m), \n",
    "    maxSubArraySum(arr, m+1, h), \n",
    "    maxCrossingSum(arr, l, m, h)) \n",
    "\n",
    "\n",
    "# Driver Code \n",
    "arr = [-3,1,-5,2,7,8]\n",
    "n = len(arr) \n",
    "\n",
    "max_sum = maxSubArraySum(arr, 0, n-1) \n",
    "print(\"Maximum contiguous sum is \", max_sum) \n",
    "\n",
    "# This code is contrib"
   ]
  },
  {
   "cell_type": "markdown",
   "metadata": {},
   "source": [
    "<h2 style=\"padding:0.5em 0;font:Garamond;font-size:1.2em;color:#FA0;background-color:#005\">\n",
    "Pregunta 2: Si volem fer una estratègia de dividir i vèncer, en quines parts podriem dividir la llista? On es pot trobar la solució?\n",
    "</h2> "
   ]
  },
  {
   "cell_type": "code",
   "execution_count": null,
   "metadata": {
    "collapsed": true
   },
   "outputs": [],
   "source": [
    "# Inserir aquí les respostes"
   ]
  },
  {
   "cell_type": "code",
   "execution_count": 1,
   "metadata": {},
   "outputs": [],
   "source": [
    "# Inserir aquí el codi de la solució de dividir i vèncer"
   ]
  },
  {
   "cell_type": "markdown",
   "metadata": {},
   "source": [
    "## Pregunta 2: L'Algorisme Kadane consisteix en fer un únic recorregut per la llista, i anar acumulant el valor de la suma, amb la particularitat que si el que portem acumulat és negatiu, ho descartem.\n",
    "\n",
    "Per exemple, a la llista [-1,0,3,4,-2,5]  aniriem acumulant -1 => és negatiu, descartem; 0, 3, 7, 5, 10\n",
    "\n",
    "per no perdre màxims locals hem de mantenir dos valors: el valor acumulat fins a un punt i el valor màxim. A l'exemple:\n",
    "\n",
    "acum:-1=>0, maxim:0;  acum=0, màxim:0; acum:3, màxim:3; acum:7, màxim:7; acum:5, màxim:7; acum:10, màxim:10"
   ]
  },
  {
   "cell_type": "code",
   "execution_count": 15,
   "metadata": {},
   "outputs": [
    {
     "data": {
      "text/plain": [
       "17"
      ]
     },
     "execution_count": 15,
     "metadata": {},
     "output_type": "execute_result"
    }
   ],
   "source": [
    "# Python program to find maximum contiguous subarray \n",
    "   \n",
    "# Function to find the maximum contiguous subarray \n",
    "\n",
    "def maxSumSubArr(arr):\n",
    "    cur_sum = arr[0]\n",
    "    best_sum = arr[0]\n",
    "    for i in range(1, len(arr)):\n",
    "        cur_sum = max(arr[i], cur_sum+arr[i])\n",
    "        best_sum = max(best_sum, cur_sum)\n",
    "    return best_sum\n",
    "maxSumSubArr([-3,1,-5,2,7,8])\n"
   ]
  },
  {
   "cell_type": "code",
   "execution_count": null,
   "metadata": {},
   "outputs": [],
   "source": [
    "https://www.geeksforgeeks.org/largest-sum-contiguous-subarray/"
   ]
  },
  {
   "cell_type": "markdown",
   "metadata": {},
   "source": [
    "<p style=\"text-align:right;font-size:0.9em\">\n",
    "&copy;Jordi Vitrià i Mireia Ribera\n",
    "</p>"
   ]
  }
 ],
 "metadata": {
  "kernelspec": {
   "display_name": "Python 3",
   "language": "python",
   "name": "python3"
  },
  "language_info": {
   "codemirror_mode": {
    "name": "ipython",
    "version": 3
   },
   "file_extension": ".py",
   "mimetype": "text/x-python",
   "name": "python",
   "nbconvert_exporter": "python",
   "pygments_lexer": "ipython3",
   "version": "3.6.5"
  }
 },
 "nbformat": 4,
 "nbformat_minor": 2
}
