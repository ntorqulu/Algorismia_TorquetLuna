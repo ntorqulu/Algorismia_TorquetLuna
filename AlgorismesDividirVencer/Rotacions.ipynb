{
 "cells": [
  {
   "cell_type": "markdown",
   "metadata": {},
   "source": [
    "<p style=\"text-align:right;font-size:0.9em\">\n",
    "Grau d'Enginyeria Informàtica. Algorísmica\n",
    "</p>"
   ]
  },
  {
   "cell_type": "markdown",
   "metadata": {},
   "source": [
    "<h1 style=\"padding:0.5em 0;font:Garamond;font-size:1-5em;color:#F90;background-color:#005\">\n",
    "Problema: Rotacions\n",
    "</h1>"
   ]
  },
  {
   "cell_type": "markdown",
   "metadata": {},
   "source": [
    "<p style=\"font-family:Arial;font-size:1em\">\n",
    "Donada una llista d’enters ordenada circularment, trobar quantes rotacions s'han fet a la llista. Podeu assumir que no hi ha elements duplicats i que les rotacions són en el sentit de les agulles del rellotge.\n",
    "</p>"
   ]
  },
  {
   "cell_type": "markdown",
   "metadata": {},
   "source": [
    "<div style=\"font-style:italic\">\n",
    "Per exemple:\n",
    "<ul>\n",
    "<li>Llista=[9,10,2,5,6,8]</li>\n",
    "<li>Solució:\n",
    "   <ul>\n",
    "   <li>S'han fet 2 rotacions a la llista</li>\n",
    "   </ul>\n",
    "</li>\n",
    "</ul>\n",
    "</div>"
   ]
  },
  {
   "cell_type": "markdown",
   "metadata": {},
   "source": [
    "<h2 style=\"padding:0.5em 0;font:Garamond;font-size:1.2em;color:#FA0;background-color:#005\">\n",
    "Pregunta 1: Proposa alguns valors de llistes amb rotacions i indica quantes rotacions s'hi han fet\n",
    "</h2>"
   ]
  },
  {
   "cell_type": "code",
   "execution_count": 2,
   "metadata": {},
   "outputs": [
    {
     "name": "stdout",
     "output_type": "stream",
     "text": [
      "2\n"
     ]
    }
   ],
   "source": [
    "# Binary Search based Python3 \n",
    "# program to find number of \n",
    "# rotations in a sorted and \n",
    "# rotated array. \n",
    "\n",
    "# Returns count of rotations for \n",
    "# an array which is first sorted \n",
    "# in ascending order, then rotated \n",
    "def countRotations(array, low, high):\n",
    "    \"\"\"Binary search that returns (index, low, high) of the final search step\"\"\"\n",
    "    # This condition is needed to \n",
    "\t# handle the case when array \n",
    "\t# is not rotated at all \n",
    "    if (high < low): \n",
    "        return 0 \n",
    "    # If there is only one \n",
    "\t# element left \n",
    "    if (high == low): \n",
    "        return low \n",
    "    \n",
    "    mid = (low + high) // 2\n",
    "        \t# Check if element (mid+1) is \n",
    "\t# minimum element. Consider \n",
    "\t# the cases like {3, 4, 5, 1, 2} \n",
    "    if mid < high and array[mid+1] < array[mid]:\n",
    "        return (mid+1) \n",
    "        # Check if mid itself is \n",
    "\t# minimum element \n",
    "    if (mid > low and arr[mid] < arr[mid - 1]):\n",
    "        return mid \n",
    "        # Decide whether we need to go \n",
    "\t# to left half or right half \n",
    "    if (arr[high] > arr[mid]): \n",
    "        return countRotations(arr, low, mid-1);\n",
    "    return countRotations(arr, mid+1, high) \n",
    "\n",
    "arr = [9,10,2,5,6,8]\n",
    "n = len(arr) \n",
    "print(countRotations(arr, 0, n-1))"
   ]
  },
  {
   "cell_type": "code",
   "execution_count": 1,
   "metadata": {},
   "outputs": [
    {
     "ename": "IndentationError",
     "evalue": "unindent does not match any outer indentation level (<ipython-input-1-33eaf974d841>, line 13)",
     "output_type": "error",
     "traceback": [
      "\u001b[0;36m  File \u001b[0;32m\"<ipython-input-1-33eaf974d841>\"\u001b[0;36m, line \u001b[0;32m13\u001b[0m\n\u001b[0;31m    return countRotations(arr, mid+1, high)\u001b[0m\n\u001b[0m                                           ^\u001b[0m\n\u001b[0;31mIndentationError\u001b[0m\u001b[0;31m:\u001b[0m unindent does not match any outer indentation level\n"
     ]
    }
   ],
   "source": [
    "def recbinsearch(x, nums, low, high):\n",
    "    if low>high:\n",
    "        return -1\n",
    "    if (high == low): \n",
    "        return low \n",
    "    mid = (low + high) // 2;\n",
    "    if mid < high and array[mid+1] < array[mid]:\n",
    "        return (mid+1) \n",
    "    if (mid > low and arr[mid] < arr[mid - 1]):\n",
    "        return mid \n",
    "    elif (arr[high] > arr[mid]): \n",
    "            return countRotations(arr, low, mid-1);\n",
    "        return countRotations(arr, mid+1, high)\n",
    "    \n",
    "arr = [9,10,2,5,6,8]\n",
    "n = len(arr) \n",
    "print(countRotations(arr, 0, n-1))"
   ]
  },
  {
   "cell_type": "code",
   "execution_count": null,
   "metadata": {
    "collapsed": true
   },
   "outputs": [],
   "source": [
    "3, 4, 5, 6, 8, 10\n",
    "6,8, 10, 3, 4, 5"
   ]
  },
  {
   "cell_type": "markdown",
   "metadata": {},
   "source": [
    "<h2 style=\"padding:0.5em 0;font:Garamond;font-size:1.2em;color:#FA0;background-color:#005\">\n",
    "Pregunta 2: En els casos anteriors, pots identificar ràpidament l'inici de la llista sense rotacions? Quants enters hi ha abans d'aquest element? Quantes rotacions s'han fet?\n",
    "\n",
    "Planteja l'algorisme com a la cerca d'aquest element (pots basar-te en la solució del problema 25: element pic)\n",
    "</h2>"
   ]
  },
  {
   "cell_type": "code",
   "execution_count": null,
   "metadata": {
    "collapsed": true
   },
   "outputs": [],
   "source": [
    "# Inserir aquí les respostes"
   ]
  },
  {
   "cell_type": "markdown",
   "metadata": {},
   "source": [
    "<h2 style=\"padding:0.5em 0;font:Garamond;font-size:1.2em;color:#FA0;background-color:#005\">\n",
    "Pregunta 3: Calcula la complexitat de l'algorisme\n",
    "</h2>   "
   ]
  },
  {
   "cell_type": "code",
   "execution_count": null,
   "metadata": {
    "collapsed": true
   },
   "outputs": [],
   "source": [
    "# Inserir aquí les respostes"
   ]
  },
  {
   "cell_type": "markdown",
   "metadata": {},
   "source": [
    "<p style=\"text-align:right;font-size:0.9em\">\n",
    "&copy;Jordi Vitrià i Mireia Ribera\n",
    "</p>"
   ]
  }
 ],
 "metadata": {
  "kernelspec": {
   "display_name": "Python 3",
   "language": "python",
   "name": "python3"
  },
  "language_info": {
   "codemirror_mode": {
    "name": "ipython",
    "version": 3
   },
   "file_extension": ".py",
   "mimetype": "text/x-python",
   "name": "python",
   "nbconvert_exporter": "python",
   "pygments_lexer": "ipython3",
   "version": "3.6.5"
  }
 },
 "nbformat": 4,
 "nbformat_minor": 2
}
