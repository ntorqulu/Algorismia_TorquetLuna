{
 "cells": [
  {
   "cell_type": "markdown",
   "metadata": {},
   "source": [
    "<p style=\"text-align:right;font-size:0.9em\">\n",
    "Grau d'Enginyeria Informàtica. Algorísmica\n",
    "</p>"
   ]
  },
  {
   "cell_type": "markdown",
   "metadata": {},
   "source": [
    "<h1 style=\"padding:0.5em 0;font:Garamond;font-size:1-5em;color:#F90;background-color:#005\">\n",
    "Problema: Cerca en llista quasi-ordenada\n",
    "</h1>"
   ]
  },
  {
   "cell_type": "markdown",
   "metadata": {},
   "source": [
    "<p style=\"font-family:Arial;font-size:1em\">\n",
    "Donada una llista d’enters quasi-ordenada, en la que un element pot estar posicionat un índex per sota o per sobre de la seva posició correcta, i un valor, trobar la posició d'aquest valor.\n",
    "</p>"
   ]
  },
  {
   "cell_type": "markdown",
   "metadata": {},
   "source": [
    "<div style=\"font-style:italic\">\n",
    "Per exemple:\n",
    "<ul>\n",
    "<li>Llista=[2,1,3,5,4,7,6,8,9], x=5</li>\n",
    "<li>Solució:\n",
    "   <ul>\n",
    "   <li>El 5 es troba a la posició 3</li>\n",
    "   </ul>\n",
    "</li>\n",
    "</ul>\n",
    "</div>"
   ]
  },
  {
   "cell_type": "code",
   "execution_count": 23,
   "metadata": {},
   "outputs": [
    {
     "data": {
      "text/plain": [
       "0"
      ]
     },
     "execution_count": 23,
     "metadata": {},
     "output_type": "execute_result"
    }
   ],
   "source": [
    "def recbinsearch(x, nums, low, high):\n",
    "    if low>high:\n",
    "        return -1\n",
    "    mid = (low + high) // 2;\n",
    "    if x == nums[0]:\n",
    "        return 0\n",
    "    if nums[mid] == x:\n",
    "        return mid\n",
    "    elif x < nums[mid] and x < nums[mid + 1]:\n",
    "        return recbinsearch(x,nums,low,mid-1)\n",
    "    elif x > nums[mid] and x > nums[mid - 1]:\n",
    "        return recbinsearch(x,nums,mid+1,high)\n",
    "\n",
    "recbinsearch(2, [2,1,3,5,4,6,8,9], 0, len([2,1,3,5,4,6,8,9]) - 1)"
   ]
  },
  {
   "cell_type": "markdown",
   "metadata": {},
   "source": [
    "<h2 style=\"padding:0.5em 0;font:Garamond;font-size:1.2em;color:#FA0;background-color:#005\">\n",
    "Pregunta 1: El problema et recorda algun dels algorismes estudiats de dividir i vèncer? quin? en què es diferencia?\n",
    "</h2>"
   ]
  },
  {
   "cell_type": "code",
   "execution_count": null,
   "metadata": {
    "collapsed": true
   },
   "outputs": [],
   "source": [
    "# Inserir aquí les respostes"
   ]
  },
  {
   "cell_type": "markdown",
   "metadata": {},
   "source": [
    "<h2 style=\"padding:0.5em 0;font:Garamond;font-size:1.2em;color:#FA0;background-color:#005\">\n",
    "Pregunta 2: Quantes comparacions es fan en el cas pitjor?\n",
    "</h2>"
   ]
  },
  {
   "cell_type": "code",
   "execution_count": null,
   "metadata": {
    "collapsed": true
   },
   "outputs": [],
   "source": [
    "# Inserir aquí les respostes"
   ]
  },
  {
   "cell_type": "markdown",
   "metadata": {},
   "source": [
    "<p style=\"text-align:right;font-size:0.9em\">\n",
    "&copy;Jordi Vitrià i Mireia Ribera\n",
    "</p>"
   ]
  }
 ],
 "metadata": {
  "kernelspec": {
   "display_name": "Python 3",
   "language": "python",
   "name": "python3"
  },
  "language_info": {
   "codemirror_mode": {
    "name": "ipython",
    "version": 3
   },
   "file_extension": ".py",
   "mimetype": "text/x-python",
   "name": "python",
   "nbconvert_exporter": "python",
   "pygments_lexer": "ipython3",
   "version": "3.6.5"
  }
 },
 "nbformat": 4,
 "nbformat_minor": 2
}
