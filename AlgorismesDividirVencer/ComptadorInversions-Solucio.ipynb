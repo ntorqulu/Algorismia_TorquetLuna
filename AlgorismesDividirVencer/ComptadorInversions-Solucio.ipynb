{
 "cells": [
  {
   "cell_type": "markdown",
   "metadata": {},
   "source": [
    "<p style=\"text-align:right;font-size:0.9em\">\n",
    "Grau d'Enginyeria Informàtica. Algorísmica. Curs 2017-2018\n",
    "</p>"
   ]
  },
  {
   "cell_type": "markdown",
   "metadata": {},
   "source": [
    "<h1 style=\"padding:0.5em 0;font:Garamond;font-size:1-5em;color:#005;background-color:#F90\">Solució problema: Comptador d'inversions en una llista\n",
    "</h1>"
   ]
  },
  {
   "cell_type": "markdown",
   "metadata": {},
   "source": [
    "<p style=\"font-family:Arial;font-size:1em\">\n",
    "Donada una llista d’enters comptar quantes inversions s'han fet. Si i < j diem que s'ha fet una inversió a la parella (i, j) quan A[i] > A [j] .\n",
    "</p>"
   ]
  },
  {
   "cell_type": "code",
   "execution_count": 2,
   "metadata": {},
   "outputs": [
    {
     "data": {
      "text/plain": [
       "([1, 2, 3, 4, 5, 7, 8], 6)"
      ]
     },
     "execution_count": 2,
     "metadata": {},
     "output_type": "execute_result"
    }
   ],
   "source": [
    "# Inserir aquí el codi de la solució\n",
    "\n",
    "\"\"\"\n",
    "Donada una llista d’enters comptar quantes inversions s'han fet.\n",
    "Si i < j diem que s'ha fet una inversió a la parella (i, j)\n",
    "quan A[i] > A [j] .\n",
    "L'algorisme en realitat és un mergesort modificat.\n",
    "Si la llista només té un element no hi ha cap inversió,\n",
    "si la llista té més d'un element la parteix i suma les\n",
    "inversions de l'esquerra i de la dreta\n",
    "param: list la llista amb els enters\n",
    "return: list, inversions la llista ordenada i el nombre d'inversions\"\"\"\n",
    "\n",
    "\n",
    "def mergesortInv(list):\n",
    "    if len(list) < 2:\n",
    "        return list, 0\n",
    "    else:\n",
    "        mid = len(list) // 2\n",
    "        left, invl = mergesortInv(list[:mid])\n",
    "        right, invd = mergesortInv(list[mid:])\n",
    "        return mergeInv(left, right, invl+invd)\n",
    "\n",
    "\n",
    "\"\"\"\n",
    "Aquest algorisme és una modificació de l'algorisme de merge que\n",
    "a banda d'ordenar i fusionar dues subllistes també té un comptador de\n",
    "les inversions que s'han anat fent\n",
    ":param left la semillista esquerra\n",
    ":param right la semillista dreta\n",
    ":inversions les inversions fetes fins aquell moment\n",
    ":return les llistes fusionades i ordenades i el recompte d'inversions.\n",
    "\"\"\"\n",
    "\n",
    "\n",
    "def mergeInv(left, right, inversions):\n",
    "    result = []\n",
    "    i, j = 0, 0\n",
    "    while(i < len(left) and j < len(right)):\n",
    "        if (left[i] <= right[j]):\n",
    "            result.append(left[i])\n",
    "            i = i + 1\n",
    "        else:  # en aquest cas s'ha fet una inversió a la parella i,j\n",
    "            result.append(right[j])\n",
    "            inversions += len(left[i:])\n",
    "            j = j + 1\n",
    "    result += left[i:]\n",
    "    result += right[j:]\n",
    "    return result, inversions\n",
    "\n",
    "Llista=[3,1,5,2,7,8,4]\n",
    "assert mergesortInv(Llista) == ([1, 2, 3, 4, 5, 7, 8], 6)\n",
    "\n",
    "mergesortInv(Llista)"
   ]
  },
  {
   "cell_type": "code",
   "execution_count": 3,
   "metadata": {},
   "outputs": [
    {
     "data": {
      "text/plain": [
       "([1, 2, 3, 4, 5, 7, 8], 6)"
      ]
     },
     "execution_count": 3,
     "metadata": {},
     "output_type": "execute_result"
    }
   ],
   "source": [
    "mergesortInv([3,1,5,2,7,8,4])"
   ]
  },
  {
   "cell_type": "markdown",
   "metadata": {},
   "source": [
    "<h2 style=\"padding:0.5em 0;font:Garamond;font-size:1.2em;color:#005;background-color:#FA0\">\n",
    "Pregunta 1: Quina solució hauria de donar per als següents valors:\n",
    "</h2>"
   ]
  },
  {
   "cell_type": "markdown",
   "metadata": {},
   "source": [
    "- Llista:[1,8,6,4,5]\n",
    "- Llista:[4,6,1,3,9,4]\n",
    "- Llista3:[1,2] "
   ]
  },
  {
   "cell_type": "markdown",
   "metadata": {},
   "source": [
    "- 5, corresponents a les inversions: (8,6)(8,4)(8,5)(6,4)(6,5)\n",
    "- 6, corresponents a les inversions: (4,1)(4,3)(6,1)(6,3)(6,4)(9,4)\n",
    "- 0, ja que no hi ha cap inversió"
   ]
  },
  {
   "cell_type": "markdown",
   "metadata": {},
   "source": [
    "<h2 style=\"padding:0.5em 0;font:Garamond;font-size:1.2em;color:#005;background-color:#FA0\">\n",
    "Pregunta 2: Aquest problema et recorda algun dels algorismes que hem vist de dividir i vèncer? quin? com caldria adaptar-lo?\n",
    "</h2>"
   ]
  },
  {
   "cell_type": "markdown",
   "metadata": {},
   "source": [
    "A mergesort es van fent inversions per ordenar la llista, es podria implementar un comptador per anar-les comptabilitzant i resoldre aquest problema."
   ]
  },
  {
   "cell_type": "code",
   "execution_count": null,
   "metadata": {},
   "outputs": [],
   "source": [
    "Complexitat: O(n log n) com el mergesort"
   ]
  },
  {
   "cell_type": "markdown",
   "metadata": {},
   "source": [
    "<p style=\"text-align:right;font-size:0.9em\">\n",
    "&copy;Jordi Vitrià i Mireia Ribera\n",
    "</p>"
   ]
  }
 ],
 "metadata": {
  "kernelspec": {
   "display_name": "Python 3",
   "language": "python",
   "name": "python3"
  },
  "language_info": {
   "codemirror_mode": {
    "name": "ipython",
    "version": 3
   },
   "file_extension": ".py",
   "mimetype": "text/x-python",
   "name": "python",
   "nbconvert_exporter": "python",
   "pygments_lexer": "ipython3",
   "version": "3.6.5"
  }
 },
 "nbformat": 4,
 "nbformat_minor": 2
}
